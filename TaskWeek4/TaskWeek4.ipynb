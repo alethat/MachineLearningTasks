{
  "cells": [
    {
      "cell_type": "markdown",
      "metadata": {
        "id": "view-in-github",
        "colab_type": "text"
      },
      "source": [
        "<a href=\"https://colab.research.google.com/github/alethat/MachineLearningTasks/blob/main/TaskWeek4/TaskWeek4.ipynb\" target=\"_parent\"><img src=\"https://colab.research.google.com/assets/colab-badge.svg\" alt=\"Open In Colab\"/></a>"
      ]
    },
    {
      "cell_type": "markdown",
      "metadata": {
        "id": "gD3m-eOJS6wN"
      },
      "source": [
        "Nama: Aletha Tanisha\n",
        "\n",
        "NPM: 2106722770"
      ]
    },
    {
      "cell_type": "markdown",
      "metadata": {
        "id": "egQD-nMUT9jZ"
      },
      "source": [
        "# **Import Libraries**"
      ]
    },
    {
      "cell_type": "code",
      "execution_count": 1,
      "metadata": {
        "id": "ew0Ri27iUGT3"
      },
      "outputs": [],
      "source": [
        "# !pip install d2l\n",
        "%matplotlib inline\n",
        "import torch\n",
        "from torch import nn\n",
        "from d2l import torch as d2l\n",
        "from torch.nn import functional as F\n",
        "import tensorflow as tf\n",
        "from tensorflow.keras import layers, models\n",
        "from tensorflow.keras.datasets import fashion_mnist\n",
        "import time\n",
        "import numpy as np\n",
        "import torchvision\n",
        "from torchvision import datasets\n",
        "from torchvision import transforms\n",
        "import torch.optim as optim\n",
        "import torchvision.models as models\n",
        "from torchsummary import summary\n",
        "import psutil\n",
        "import os\n",
        "import pandas as pd\n",
        "from sklearn.model_selection import train_test_split\n",
        "from sklearn.preprocessing import StandardScaler\n",
        "from sklearn.metrics import mean_squared_error\n",
        "from torch.utils.data import DataLoader, TensorDataset"
      ]
    },
    {
      "cell_type": "markdown",
      "metadata": {
        "id": "5UqltslyTgSV"
      },
      "source": [
        "# **Deep Convolutional Neural Networks (AlexNet)**"
      ]
    },
    {
      "cell_type": "markdown",
      "metadata": {
        "id": "p34UsqJyUWdg"
      },
      "source": [
        "## **Capacity Control and Preprocessing**"
      ]
    },
    {
      "cell_type": "code",
      "execution_count": null,
      "metadata": {
        "id": "CGmM0HO6S0Yz"
      },
      "outputs": [],
      "source": [
        "class AlexNet(d2l.Classifier):\n",
        "    def __init__(self, lr=0.1, num_classes=10):\n",
        "        super().__init__()\n",
        "        self.save_hyperparameters()\n",
        "        self.net = nn.Sequential(\n",
        "            nn.LazyConv2d(96, kernel_size=11, stride=4, padding=1),\n",
        "            nn.ReLU(), nn.MaxPool2d(kernel_size=3, stride=2),\n",
        "            nn.LazyConv2d(256, kernel_size=5, padding=2), nn.ReLU(),\n",
        "            nn.MaxPool2d(kernel_size=3, stride=2),\n",
        "            nn.LazyConv2d(384, kernel_size=3, padding=1), nn.ReLU(),\n",
        "            nn.LazyConv2d(384, kernel_size=3, padding=1), nn.ReLU(),\n",
        "            nn.LazyConv2d(256, kernel_size=3, padding=1), nn.ReLU(),\n",
        "            nn.MaxPool2d(kernel_size=3, stride=2), nn.Flatten(),\n",
        "            nn.LazyLinear(4096), nn.ReLU(), nn.Dropout(p=0.5),\n",
        "            nn.LazyLinear(4096), nn.ReLU(),nn.Dropout(p=0.5),\n",
        "            nn.LazyLinear(num_classes))\n",
        "        self.net.apply(d2l.init_cnn)"
      ]
    },
    {
      "cell_type": "code",
      "execution_count": null,
      "metadata": {
        "colab": {
          "base_uri": "https://localhost:8080/"
        },
        "id": "t1B5OgYoV6vN",
        "outputId": "6c79343e-b6c9-41a4-ab43-d5765a27c440"
      },
      "outputs": [
        {
          "name": "stdout",
          "output_type": "stream",
          "text": [
            "Conv2d output shape:\t torch.Size([1, 96, 54, 54])\n",
            "ReLU output shape:\t torch.Size([1, 96, 54, 54])\n",
            "MaxPool2d output shape:\t torch.Size([1, 96, 26, 26])\n",
            "Conv2d output shape:\t torch.Size([1, 256, 26, 26])\n",
            "ReLU output shape:\t torch.Size([1, 256, 26, 26])\n",
            "MaxPool2d output shape:\t torch.Size([1, 256, 12, 12])\n",
            "Conv2d output shape:\t torch.Size([1, 384, 12, 12])\n",
            "ReLU output shape:\t torch.Size([1, 384, 12, 12])\n",
            "Conv2d output shape:\t torch.Size([1, 384, 12, 12])\n",
            "ReLU output shape:\t torch.Size([1, 384, 12, 12])\n",
            "Conv2d output shape:\t torch.Size([1, 256, 12, 12])\n",
            "ReLU output shape:\t torch.Size([1, 256, 12, 12])\n",
            "MaxPool2d output shape:\t torch.Size([1, 256, 5, 5])\n",
            "Flatten output shape:\t torch.Size([1, 6400])\n",
            "Linear output shape:\t torch.Size([1, 4096])\n",
            "ReLU output shape:\t torch.Size([1, 4096])\n",
            "Dropout output shape:\t torch.Size([1, 4096])\n",
            "Linear output shape:\t torch.Size([1, 4096])\n",
            "ReLU output shape:\t torch.Size([1, 4096])\n",
            "Dropout output shape:\t torch.Size([1, 4096])\n",
            "Linear output shape:\t torch.Size([1, 10])\n"
          ]
        }
      ],
      "source": [
        "AlexNet().layer_summary((1, 1, 224, 224))"
      ]
    },
    {
      "cell_type": "markdown",
      "metadata": {
        "id": "mVQoMDnaWDmI"
      },
      "source": [
        "## **Training**"
      ]
    },
    {
      "cell_type": "code",
      "execution_count": null,
      "metadata": {
        "colab": {
          "base_uri": "https://localhost:8080/",
          "height": 265
        },
        "id": "iZqTz-o1WBvT",
        "outputId": "72b7a96d-21f8-46b2-9371-6964e735784a"
      },
      "outputs": [
        {
          "data": {
            "image/svg+xml": "<?xml version=\"1.0\" encoding=\"utf-8\" standalone=\"no\"?>\n<!DOCTYPE svg PUBLIC \"-//W3C//DTD SVG 1.1//EN\"\n  \"http://www.w3.org/Graphics/SVG/1.1/DTD/svg11.dtd\">\n<svg xmlns:xlink=\"http://www.w3.org/1999/xlink\" width=\"238.965625pt\" height=\"183.35625pt\" viewBox=\"0 0 238.965625 183.35625\" xmlns=\"http://www.w3.org/2000/svg\" version=\"1.1\">\n <metadata>\n  <rdf:RDF xmlns:dc=\"http://purl.org/dc/elements/1.1/\" xmlns:cc=\"http://creativecommons.org/ns#\" xmlns:rdf=\"http://www.w3.org/1999/02/22-rdf-syntax-ns#\">\n   <cc:Work>\n    <dc:type rdf:resource=\"http://purl.org/dc/dcmitype/StillImage\"/>\n    <dc:date>2024-10-05T05:21:03.875094</dc:date>\n    <dc:format>image/svg+xml</dc:format>\n    <dc:creator>\n     <cc:Agent>\n      <dc:title>Matplotlib v3.7.2, https://matplotlib.org/</dc:title>\n     </cc:Agent>\n    </dc:creator>\n   </cc:Work>\n  </rdf:RDF>\n </metadata>\n <defs>\n  <style type=\"text/css\">*{stroke-linejoin: round; stroke-linecap: butt}</style>\n </defs>\n <g id=\"figure_1\">\n  <g id=\"patch_1\">\n   <path d=\"M 0 183.35625 \nL 238.965625 183.35625 \nL 238.965625 0 \nL 0 0 \nz\n\" style=\"fill: #ffffff\"/>\n  </g>\n  <g id=\"axes_1\">\n   <g id=\"patch_2\">\n    <path d=\"M 30.103125 145.8 \nL 225.403125 145.8 \nL 225.403125 7.2 \nL 30.103125 7.2 \nz\n\" style=\"fill: #ffffff\"/>\n   </g>\n   <g id=\"matplotlib.axis_1\">\n    <g id=\"xtick_1\">\n     <g id=\"line2d_1\">\n      <defs>\n       <path id=\"me5a337ae8e\" d=\"M 0 0 \nL 0 3.5 \n\" style=\"stroke: #000000; stroke-width: 0.8\"/>\n      </defs>\n      <g>\n       <use xlink:href=\"#me5a337ae8e\" x=\"30.103125\" y=\"145.8\" style=\"stroke: #000000; stroke-width: 0.8\"/>\n      </g>\n     </g>\n     <g id=\"text_1\">\n      <!-- 0 -->\n      <g transform=\"translate(26.921875 160.398438) scale(0.1 -0.1)\">\n       <defs>\n        <path id=\"DejaVuSans-30\" d=\"M 2034 4250 \nQ 1547 4250 1301 3770 \nQ 1056 3291 1056 2328 \nQ 1056 1369 1301 889 \nQ 1547 409 2034 409 \nQ 2525 409 2770 889 \nQ 3016 1369 3016 2328 \nQ 3016 3291 2770 3770 \nQ 2525 4250 2034 4250 \nz\nM 2034 4750 \nQ 2819 4750 3233 4129 \nQ 3647 3509 3647 2328 \nQ 3647 1150 3233 529 \nQ 2819 -91 2034 -91 \nQ 1250 -91 836 529 \nQ 422 1150 422 2328 \nQ 422 3509 836 4129 \nQ 1250 4750 2034 4750 \nz\n\" transform=\"scale(0.015625)\"/>\n       </defs>\n       <use xlink:href=\"#DejaVuSans-30\"/>\n      </g>\n     </g>\n    </g>\n    <g id=\"xtick_2\">\n     <g id=\"line2d_2\">\n      <g>\n       <use xlink:href=\"#me5a337ae8e\" x=\"69.163125\" y=\"145.8\" style=\"stroke: #000000; stroke-width: 0.8\"/>\n      </g>\n     </g>\n     <g id=\"text_2\">\n      <!-- 2 -->\n      <g transform=\"translate(65.981875 160.398438) scale(0.1 -0.1)\">\n       <defs>\n        <path id=\"DejaVuSans-32\" d=\"M 1228 531 \nL 3431 531 \nL 3431 0 \nL 469 0 \nL 469 531 \nQ 828 903 1448 1529 \nQ 2069 2156 2228 2338 \nQ 2531 2678 2651 2914 \nQ 2772 3150 2772 3378 \nQ 2772 3750 2511 3984 \nQ 2250 4219 1831 4219 \nQ 1534 4219 1204 4116 \nQ 875 4013 500 3803 \nL 500 4441 \nQ 881 4594 1212 4672 \nQ 1544 4750 1819 4750 \nQ 2544 4750 2975 4387 \nQ 3406 4025 3406 3419 \nQ 3406 3131 3298 2873 \nQ 3191 2616 2906 2266 \nQ 2828 2175 2409 1742 \nQ 1991 1309 1228 531 \nz\n\" transform=\"scale(0.015625)\"/>\n       </defs>\n       <use xlink:href=\"#DejaVuSans-32\"/>\n      </g>\n     </g>\n    </g>\n    <g id=\"xtick_3\">\n     <g id=\"line2d_3\">\n      <g>\n       <use xlink:href=\"#me5a337ae8e\" x=\"108.223125\" y=\"145.8\" style=\"stroke: #000000; stroke-width: 0.8\"/>\n      </g>\n     </g>\n     <g id=\"text_3\">\n      <!-- 4 -->\n      <g transform=\"translate(105.041875 160.398438) scale(0.1 -0.1)\">\n       <defs>\n        <path id=\"DejaVuSans-34\" d=\"M 2419 4116 \nL 825 1625 \nL 2419 1625 \nL 2419 4116 \nz\nM 2253 4666 \nL 3047 4666 \nL 3047 1625 \nL 3713 1625 \nL 3713 1100 \nL 3047 1100 \nL 3047 0 \nL 2419 0 \nL 2419 1100 \nL 313 1100 \nL 313 1709 \nL 2253 4666 \nz\n\" transform=\"scale(0.015625)\"/>\n       </defs>\n       <use xlink:href=\"#DejaVuSans-34\"/>\n      </g>\n     </g>\n    </g>\n    <g id=\"xtick_4\">\n     <g id=\"line2d_4\">\n      <g>\n       <use xlink:href=\"#me5a337ae8e\" x=\"147.283125\" y=\"145.8\" style=\"stroke: #000000; stroke-width: 0.8\"/>\n      </g>\n     </g>\n     <g id=\"text_4\">\n      <!-- 6 -->\n      <g transform=\"translate(144.101875 160.398438) scale(0.1 -0.1)\">\n       <defs>\n        <path id=\"DejaVuSans-36\" d=\"M 2113 2584 \nQ 1688 2584 1439 2293 \nQ 1191 2003 1191 1497 \nQ 1191 994 1439 701 \nQ 1688 409 2113 409 \nQ 2538 409 2786 701 \nQ 3034 994 3034 1497 \nQ 3034 2003 2786 2293 \nQ 2538 2584 2113 2584 \nz\nM 3366 4563 \nL 3366 3988 \nQ 3128 4100 2886 4159 \nQ 2644 4219 2406 4219 \nQ 1781 4219 1451 3797 \nQ 1122 3375 1075 2522 \nQ 1259 2794 1537 2939 \nQ 1816 3084 2150 3084 \nQ 2853 3084 3261 2657 \nQ 3669 2231 3669 1497 \nQ 3669 778 3244 343 \nQ 2819 -91 2113 -91 \nQ 1303 -91 875 529 \nQ 447 1150 447 2328 \nQ 447 3434 972 4092 \nQ 1497 4750 2381 4750 \nQ 2619 4750 2861 4703 \nQ 3103 4656 3366 4563 \nz\n\" transform=\"scale(0.015625)\"/>\n       </defs>\n       <use xlink:href=\"#DejaVuSans-36\"/>\n      </g>\n     </g>\n    </g>\n    <g id=\"xtick_5\">\n     <g id=\"line2d_5\">\n      <g>\n       <use xlink:href=\"#me5a337ae8e\" x=\"186.343125\" y=\"145.8\" style=\"stroke: #000000; stroke-width: 0.8\"/>\n      </g>\n     </g>\n     <g id=\"text_5\">\n      <!-- 8 -->\n      <g transform=\"translate(183.161875 160.398438) scale(0.1 -0.1)\">\n       <defs>\n        <path id=\"DejaVuSans-38\" d=\"M 2034 2216 \nQ 1584 2216 1326 1975 \nQ 1069 1734 1069 1313 \nQ 1069 891 1326 650 \nQ 1584 409 2034 409 \nQ 2484 409 2743 651 \nQ 3003 894 3003 1313 \nQ 3003 1734 2745 1975 \nQ 2488 2216 2034 2216 \nz\nM 1403 2484 \nQ 997 2584 770 2862 \nQ 544 3141 544 3541 \nQ 544 4100 942 4425 \nQ 1341 4750 2034 4750 \nQ 2731 4750 3128 4425 \nQ 3525 4100 3525 3541 \nQ 3525 3141 3298 2862 \nQ 3072 2584 2669 2484 \nQ 3125 2378 3379 2068 \nQ 3634 1759 3634 1313 \nQ 3634 634 3220 271 \nQ 2806 -91 2034 -91 \nQ 1263 -91 848 271 \nQ 434 634 434 1313 \nQ 434 1759 690 2068 \nQ 947 2378 1403 2484 \nz\nM 1172 3481 \nQ 1172 3119 1398 2916 \nQ 1625 2713 2034 2713 \nQ 2441 2713 2670 2916 \nQ 2900 3119 2900 3481 \nQ 2900 3844 2670 4047 \nQ 2441 4250 2034 4250 \nQ 1625 4250 1398 4047 \nQ 1172 3844 1172 3481 \nz\n\" transform=\"scale(0.015625)\"/>\n       </defs>\n       <use xlink:href=\"#DejaVuSans-38\"/>\n      </g>\n     </g>\n    </g>\n    <g id=\"xtick_6\">\n     <g id=\"line2d_6\">\n      <g>\n       <use xlink:href=\"#me5a337ae8e\" x=\"225.403125\" y=\"145.8\" style=\"stroke: #000000; stroke-width: 0.8\"/>\n      </g>\n     </g>\n     <g id=\"text_6\">\n      <!-- 10 -->\n      <g transform=\"translate(219.040625 160.398438) scale(0.1 -0.1)\">\n       <defs>\n        <path id=\"DejaVuSans-31\" d=\"M 794 531 \nL 1825 531 \nL 1825 4091 \nL 703 3866 \nL 703 4441 \nL 1819 4666 \nL 2450 4666 \nL 2450 531 \nL 3481 531 \nL 3481 0 \nL 794 0 \nL 794 531 \nz\n\" transform=\"scale(0.015625)\"/>\n       </defs>\n       <use xlink:href=\"#DejaVuSans-31\"/>\n       <use xlink:href=\"#DejaVuSans-30\" x=\"63.623047\"/>\n      </g>\n     </g>\n    </g>\n    <g id=\"text_7\">\n     <!-- epoch -->\n     <g transform=\"translate(112.525 174.076563) scale(0.1 -0.1)\">\n      <defs>\n       <path id=\"DejaVuSans-65\" d=\"M 3597 1894 \nL 3597 1613 \nL 953 1613 \nQ 991 1019 1311 708 \nQ 1631 397 2203 397 \nQ 2534 397 2845 478 \nQ 3156 559 3463 722 \nL 3463 178 \nQ 3153 47 2828 -22 \nQ 2503 -91 2169 -91 \nQ 1331 -91 842 396 \nQ 353 884 353 1716 \nQ 353 2575 817 3079 \nQ 1281 3584 2069 3584 \nQ 2775 3584 3186 3129 \nQ 3597 2675 3597 1894 \nz\nM 3022 2063 \nQ 3016 2534 2758 2815 \nQ 2500 3097 2075 3097 \nQ 1594 3097 1305 2825 \nQ 1016 2553 972 2059 \nL 3022 2063 \nz\n\" transform=\"scale(0.015625)\"/>\n       <path id=\"DejaVuSans-70\" d=\"M 1159 525 \nL 1159 -1331 \nL 581 -1331 \nL 581 3500 \nL 1159 3500 \nL 1159 2969 \nQ 1341 3281 1617 3432 \nQ 1894 3584 2278 3584 \nQ 2916 3584 3314 3078 \nQ 3713 2572 3713 1747 \nQ 3713 922 3314 415 \nQ 2916 -91 2278 -91 \nQ 1894 -91 1617 61 \nQ 1341 213 1159 525 \nz\nM 3116 1747 \nQ 3116 2381 2855 2742 \nQ 2594 3103 2138 3103 \nQ 1681 3103 1420 2742 \nQ 1159 2381 1159 1747 \nQ 1159 1113 1420 752 \nQ 1681 391 2138 391 \nQ 2594 391 2855 752 \nQ 3116 1113 3116 1747 \nz\n\" transform=\"scale(0.015625)\"/>\n       <path id=\"DejaVuSans-6f\" d=\"M 1959 3097 \nQ 1497 3097 1228 2736 \nQ 959 2375 959 1747 \nQ 959 1119 1226 758 \nQ 1494 397 1959 397 \nQ 2419 397 2687 759 \nQ 2956 1122 2956 1747 \nQ 2956 2369 2687 2733 \nQ 2419 3097 1959 3097 \nz\nM 1959 3584 \nQ 2709 3584 3137 3096 \nQ 3566 2609 3566 1747 \nQ 3566 888 3137 398 \nQ 2709 -91 1959 -91 \nQ 1206 -91 779 398 \nQ 353 888 353 1747 \nQ 353 2609 779 3096 \nQ 1206 3584 1959 3584 \nz\n\" transform=\"scale(0.015625)\"/>\n       <path id=\"DejaVuSans-63\" d=\"M 3122 3366 \nL 3122 2828 \nQ 2878 2963 2633 3030 \nQ 2388 3097 2138 3097 \nQ 1578 3097 1268 2742 \nQ 959 2388 959 1747 \nQ 959 1106 1268 751 \nQ 1578 397 2138 397 \nQ 2388 397 2633 464 \nQ 2878 531 3122 666 \nL 3122 134 \nQ 2881 22 2623 -34 \nQ 2366 -91 2075 -91 \nQ 1284 -91 818 406 \nQ 353 903 353 1747 \nQ 353 2603 823 3093 \nQ 1294 3584 2113 3584 \nQ 2378 3584 2631 3529 \nQ 2884 3475 3122 3366 \nz\n\" transform=\"scale(0.015625)\"/>\n       <path id=\"DejaVuSans-68\" d=\"M 3513 2113 \nL 3513 0 \nL 2938 0 \nL 2938 2094 \nQ 2938 2591 2744 2837 \nQ 2550 3084 2163 3084 \nQ 1697 3084 1428 2787 \nQ 1159 2491 1159 1978 \nL 1159 0 \nL 581 0 \nL 581 4863 \nL 1159 4863 \nL 1159 2956 \nQ 1366 3272 1645 3428 \nQ 1925 3584 2291 3584 \nQ 2894 3584 3203 3211 \nQ 3513 2838 3513 2113 \nz\n\" transform=\"scale(0.015625)\"/>\n      </defs>\n      <use xlink:href=\"#DejaVuSans-65\"/>\n      <use xlink:href=\"#DejaVuSans-70\" x=\"61.523438\"/>\n      <use xlink:href=\"#DejaVuSans-6f\" x=\"125\"/>\n      <use xlink:href=\"#DejaVuSans-63\" x=\"186.181641\"/>\n      <use xlink:href=\"#DejaVuSans-68\" x=\"241.162109\"/>\n     </g>\n    </g>\n   </g>\n   <g id=\"matplotlib.axis_2\">\n    <g id=\"ytick_1\">\n     <g id=\"line2d_7\">\n      <defs>\n       <path id=\"m113022c067\" d=\"M 0 0 \nL -3.5 0 \n\" style=\"stroke: #000000; stroke-width: 0.8\"/>\n      </defs>\n      <g>\n       <use xlink:href=\"#m113022c067\" x=\"30.103125\" y=\"120.436416\" style=\"stroke: #000000; stroke-width: 0.8\"/>\n      </g>\n     </g>\n     <g id=\"text_8\">\n      <!-- 0.5 -->\n      <g transform=\"translate(7.2 124.235635) scale(0.1 -0.1)\">\n       <defs>\n        <path id=\"DejaVuSans-2e\" d=\"M 684 794 \nL 1344 794 \nL 1344 0 \nL 684 0 \nL 684 794 \nz\n\" transform=\"scale(0.015625)\"/>\n        <path id=\"DejaVuSans-35\" d=\"M 691 4666 \nL 3169 4666 \nL 3169 4134 \nL 1269 4134 \nL 1269 2991 \nQ 1406 3038 1543 3061 \nQ 1681 3084 1819 3084 \nQ 2600 3084 3056 2656 \nQ 3513 2228 3513 1497 \nQ 3513 744 3044 326 \nQ 2575 -91 1722 -91 \nQ 1428 -91 1123 -41 \nQ 819 9 494 109 \nL 494 744 \nQ 775 591 1075 516 \nQ 1375 441 1709 441 \nQ 2250 441 2565 725 \nQ 2881 1009 2881 1497 \nQ 2881 1984 2565 2268 \nQ 2250 2553 1709 2553 \nQ 1456 2553 1204 2497 \nQ 953 2441 691 2322 \nL 691 4666 \nz\n\" transform=\"scale(0.015625)\"/>\n       </defs>\n       <use xlink:href=\"#DejaVuSans-30\"/>\n       <use xlink:href=\"#DejaVuSans-2e\" x=\"63.623047\"/>\n       <use xlink:href=\"#DejaVuSans-35\" x=\"95.410156\"/>\n      </g>\n     </g>\n    </g>\n    <g id=\"ytick_2\">\n     <g id=\"line2d_8\">\n      <g>\n       <use xlink:href=\"#m113022c067\" x=\"30.103125\" y=\"90.770218\" style=\"stroke: #000000; stroke-width: 0.8\"/>\n      </g>\n     </g>\n     <g id=\"text_9\">\n      <!-- 1.0 -->\n      <g transform=\"translate(7.2 94.569436) scale(0.1 -0.1)\">\n       <use xlink:href=\"#DejaVuSans-31\"/>\n       <use xlink:href=\"#DejaVuSans-2e\" x=\"63.623047\"/>\n       <use xlink:href=\"#DejaVuSans-30\" x=\"95.410156\"/>\n      </g>\n     </g>\n    </g>\n    <g id=\"ytick_3\">\n     <g id=\"line2d_9\">\n      <g>\n       <use xlink:href=\"#m113022c067\" x=\"30.103125\" y=\"61.104019\" style=\"stroke: #000000; stroke-width: 0.8\"/>\n      </g>\n     </g>\n     <g id=\"text_10\">\n      <!-- 1.5 -->\n      <g transform=\"translate(7.2 64.903238) scale(0.1 -0.1)\">\n       <use xlink:href=\"#DejaVuSans-31\"/>\n       <use xlink:href=\"#DejaVuSans-2e\" x=\"63.623047\"/>\n       <use xlink:href=\"#DejaVuSans-35\" x=\"95.410156\"/>\n      </g>\n     </g>\n    </g>\n    <g id=\"ytick_4\">\n     <g id=\"line2d_10\">\n      <g>\n       <use xlink:href=\"#m113022c067\" x=\"30.103125\" y=\"31.43782\" style=\"stroke: #000000; stroke-width: 0.8\"/>\n      </g>\n     </g>\n     <g id=\"text_11\">\n      <!-- 2.0 -->\n      <g transform=\"translate(7.2 35.237039) scale(0.1 -0.1)\">\n       <use xlink:href=\"#DejaVuSans-32\"/>\n       <use xlink:href=\"#DejaVuSans-2e\" x=\"63.623047\"/>\n       <use xlink:href=\"#DejaVuSans-30\" x=\"95.410156\"/>\n      </g>\n     </g>\n    </g>\n   </g>\n   <g id=\"line2d_11\">\n    <path d=\"M 34.954394 13.5 \n\" clip-path=\"url(#paa0a6f05f4)\" style=\"fill: none; stroke: #1f77b4; stroke-width: 1.5; stroke-linecap: square\"/>\n   </g>\n   <g id=\"line2d_12\">\n    <path d=\"M 34.954394 13.5 \nL 44.698573 13.534534 \n\" clip-path=\"url(#paa0a6f05f4)\" style=\"fill: none; stroke: #1f77b4; stroke-width: 1.5; stroke-linecap: square\"/>\n   </g>\n   <g id=\"line2d_13\">\n    <path d=\"M 34.954394 13.5 \nL 44.698573 13.534534 \n\" clip-path=\"url(#paa0a6f05f4)\" style=\"fill: none; stroke: #1f77b4; stroke-width: 1.5; stroke-linecap: square\"/>\n   </g>\n   <g id=\"line2d_14\">\n    <path d=\"M 49.633125 13.575247 \n\" clip-path=\"url(#paa0a6f05f4)\" style=\"fill: none; stroke-dasharray: 5.55,2.4; stroke-dashoffset: 0; stroke: #ff7f0e; stroke-width: 1.5\"/>\n   </g>\n   <g id=\"line2d_15\"/>\n   <g id=\"line2d_16\">\n    <path d=\"M 34.954394 13.5 \nL 44.698573 13.534534 \n\" clip-path=\"url(#paa0a6f05f4)\" style=\"fill: none; stroke: #1f77b4; stroke-width: 1.5; stroke-linecap: square\"/>\n   </g>\n   <g id=\"line2d_17\">\n    <path d=\"M 49.633125 13.575247 \n\" clip-path=\"url(#paa0a6f05f4)\" style=\"fill: none; stroke-dasharray: 5.55,2.4; stroke-dashoffset: 0; stroke: #ff7f0e; stroke-width: 1.5\"/>\n   </g>\n   <g id=\"line2d_18\">\n    <path d=\"M 49.633125 136.096836 \n\" clip-path=\"url(#paa0a6f05f4)\" style=\"fill: none; stroke-dasharray: 9.6,2.4,1.5,2.4; stroke-dashoffset: 0; stroke: #2ca02c; stroke-width: 1.5\"/>\n   </g>\n   <g id=\"line2d_19\">\n    <path d=\"M 34.954394 13.5 \nL 44.698573 13.534534 \nL 54.442752 13.610696 \n\" clip-path=\"url(#paa0a6f05f4)\" style=\"fill: none; stroke: #1f77b4; stroke-width: 1.5; stroke-linecap: square\"/>\n   </g>\n   <g id=\"line2d_20\">\n    <path d=\"M 49.633125 13.575247 \n\" clip-path=\"url(#paa0a6f05f4)\" style=\"fill: none; stroke-dasharray: 5.55,2.4; stroke-dashoffset: 0; stroke: #ff7f0e; stroke-width: 1.5\"/>\n   </g>\n   <g id=\"line2d_21\">\n    <path d=\"M 49.633125 136.096836 \n\" clip-path=\"url(#paa0a6f05f4)\" style=\"fill: none; stroke-dasharray: 9.6,2.4,1.5,2.4; stroke-dashoffset: 0; stroke: #2ca02c; stroke-width: 1.5\"/>\n   </g>\n   <g id=\"line2d_22\">\n    <path d=\"M 34.954394 13.5 \nL 44.698573 13.534534 \nL 54.442752 13.610696 \nL 64.186931 13.79855 \n\" clip-path=\"url(#paa0a6f05f4)\" style=\"fill: none; stroke: #1f77b4; stroke-width: 1.5; stroke-linecap: square\"/>\n   </g>\n   <g id=\"line2d_23\">\n    <path d=\"M 49.633125 13.575247 \n\" clip-path=\"url(#paa0a6f05f4)\" style=\"fill: none; stroke-dasharray: 5.55,2.4; stroke-dashoffset: 0; stroke: #ff7f0e; stroke-width: 1.5\"/>\n   </g>\n   <g id=\"line2d_24\">\n    <path d=\"M 49.633125 136.096836 \n\" clip-path=\"url(#paa0a6f05f4)\" style=\"fill: none; stroke-dasharray: 9.6,2.4,1.5,2.4; stroke-dashoffset: 0; stroke: #2ca02c; stroke-width: 1.5\"/>\n   </g>\n   <g id=\"line2d_25\">\n    <path d=\"M 34.954394 13.5 \nL 44.698573 13.534534 \nL 54.442752 13.610696 \nL 64.186931 13.79855 \n\" clip-path=\"url(#paa0a6f05f4)\" style=\"fill: none; stroke: #1f77b4; stroke-width: 1.5; stroke-linecap: square\"/>\n   </g>\n   <g id=\"line2d_26\">\n    <path d=\"M 49.633125 13.575247 \nL 69.163125 14.112857 \n\" clip-path=\"url(#paa0a6f05f4)\" style=\"fill: none; stroke-dasharray: 5.55,2.4; stroke-dashoffset: 0; stroke: #ff7f0e; stroke-width: 1.5\"/>\n   </g>\n   <g id=\"line2d_27\">\n    <path d=\"M 49.633125 136.096836 \n\" clip-path=\"url(#paa0a6f05f4)\" style=\"fill: none; stroke-dasharray: 9.6,2.4,1.5,2.4; stroke-dashoffset: 0; stroke: #2ca02c; stroke-width: 1.5\"/>\n   </g>\n   <g id=\"line2d_28\">\n    <path d=\"M 34.954394 13.5 \nL 44.698573 13.534534 \nL 54.442752 13.610696 \nL 64.186931 13.79855 \n\" clip-path=\"url(#paa0a6f05f4)\" style=\"fill: none; stroke: #1f77b4; stroke-width: 1.5; stroke-linecap: square\"/>\n   </g>\n   <g id=\"line2d_29\">\n    <path d=\"M 49.633125 13.575247 \nL 69.163125 14.112857 \n\" clip-path=\"url(#paa0a6f05f4)\" style=\"fill: none; stroke-dasharray: 5.55,2.4; stroke-dashoffset: 0; stroke: #ff7f0e; stroke-width: 1.5\"/>\n   </g>\n   <g id=\"line2d_30\">\n    <path d=\"M 49.633125 136.096836 \nL 69.163125 139.5 \n\" clip-path=\"url(#paa0a6f05f4)\" style=\"fill: none; stroke-dasharray: 9.6,2.4,1.5,2.4; stroke-dashoffset: 0; stroke: #2ca02c; stroke-width: 1.5\"/>\n   </g>\n   <g id=\"line2d_31\">\n    <path d=\"M 34.954394 13.5 \nL 44.698573 13.534534 \nL 54.442752 13.610696 \nL 64.186931 13.79855 \nL 73.93111 23.278292 \n\" clip-path=\"url(#paa0a6f05f4)\" style=\"fill: none; stroke: #1f77b4; stroke-width: 1.5; stroke-linecap: square\"/>\n   </g>\n   <g id=\"line2d_32\">\n    <path d=\"M 49.633125 13.575247 \nL 69.163125 14.112857 \n\" clip-path=\"url(#paa0a6f05f4)\" style=\"fill: none; stroke-dasharray: 5.55,2.4; stroke-dashoffset: 0; stroke: #ff7f0e; stroke-width: 1.5\"/>\n   </g>\n   <g id=\"line2d_33\">\n    <path d=\"M 49.633125 136.096836 \nL 69.163125 139.5 \n\" clip-path=\"url(#paa0a6f05f4)\" style=\"fill: none; stroke-dasharray: 9.6,2.4,1.5,2.4; stroke-dashoffset: 0; stroke: #2ca02c; stroke-width: 1.5\"/>\n   </g>\n   <g id=\"line2d_34\">\n    <path d=\"M 34.954394 13.5 \nL 44.698573 13.534534 \nL 54.442752 13.610696 \nL 64.186931 13.79855 \nL 73.93111 23.278292 \nL 83.675289 80.889695 \n\" clip-path=\"url(#paa0a6f05f4)\" style=\"fill: none; stroke: #1f77b4; stroke-width: 1.5; stroke-linecap: square\"/>\n   </g>\n   <g id=\"line2d_35\">\n    <path d=\"M 49.633125 13.575247 \nL 69.163125 14.112857 \n\" clip-path=\"url(#paa0a6f05f4)\" style=\"fill: none; stroke-dasharray: 5.55,2.4; stroke-dashoffset: 0; stroke: #ff7f0e; stroke-width: 1.5\"/>\n   </g>\n   <g id=\"line2d_36\">\n    <path d=\"M 49.633125 136.096836 \nL 69.163125 139.5 \n\" clip-path=\"url(#paa0a6f05f4)\" style=\"fill: none; stroke-dasharray: 9.6,2.4,1.5,2.4; stroke-dashoffset: 0; stroke: #2ca02c; stroke-width: 1.5\"/>\n   </g>\n   <g id=\"line2d_37\">\n    <path d=\"M 34.954394 13.5 \nL 44.698573 13.534534 \nL 54.442752 13.610696 \nL 64.186931 13.79855 \nL 73.93111 23.278292 \nL 83.675289 80.889695 \n\" clip-path=\"url(#paa0a6f05f4)\" style=\"fill: none; stroke: #1f77b4; stroke-width: 1.5; stroke-linecap: square\"/>\n   </g>\n   <g id=\"line2d_38\">\n    <path d=\"M 49.633125 13.575247 \nL 69.163125 14.112857 \nL 88.693125 93.874178 \n\" clip-path=\"url(#paa0a6f05f4)\" style=\"fill: none; stroke-dasharray: 5.55,2.4; stroke-dashoffset: 0; stroke: #ff7f0e; stroke-width: 1.5\"/>\n   </g>\n   <g id=\"line2d_39\">\n    <path d=\"M 49.633125 136.096836 \nL 69.163125 139.5 \n\" clip-path=\"url(#paa0a6f05f4)\" style=\"fill: none; stroke-dasharray: 9.6,2.4,1.5,2.4; stroke-dashoffset: 0; stroke: #2ca02c; stroke-width: 1.5\"/>\n   </g>\n   <g id=\"line2d_40\">\n    <path d=\"M 34.954394 13.5 \nL 44.698573 13.534534 \nL 54.442752 13.610696 \nL 64.186931 13.79855 \nL 73.93111 23.278292 \nL 83.675289 80.889695 \n\" clip-path=\"url(#paa0a6f05f4)\" style=\"fill: none; stroke: #1f77b4; stroke-width: 1.5; stroke-linecap: square\"/>\n   </g>\n   <g id=\"line2d_41\">\n    <path d=\"M 49.633125 13.575247 \nL 69.163125 14.112857 \nL 88.693125 93.874178 \n\" clip-path=\"url(#paa0a6f05f4)\" style=\"fill: none; stroke-dasharray: 5.55,2.4; stroke-dashoffset: 0; stroke: #ff7f0e; stroke-width: 1.5\"/>\n   </g>\n   <g id=\"line2d_42\">\n    <path d=\"M 49.633125 136.096836 \nL 69.163125 139.5 \nL 88.693125 113.231097 \n\" clip-path=\"url(#paa0a6f05f4)\" style=\"fill: none; stroke-dasharray: 9.6,2.4,1.5,2.4; stroke-dashoffset: 0; stroke: #2ca02c; stroke-width: 1.5\"/>\n   </g>\n   <g id=\"line2d_43\">\n    <path d=\"M 34.954394 13.5 \nL 44.698573 13.534534 \nL 54.442752 13.610696 \nL 64.186931 13.79855 \nL 73.93111 23.278292 \nL 83.675289 80.889695 \nL 93.419468 93.049523 \n\" clip-path=\"url(#paa0a6f05f4)\" style=\"fill: none; stroke: #1f77b4; stroke-width: 1.5; stroke-linecap: square\"/>\n   </g>\n   <g id=\"line2d_44\">\n    <path d=\"M 49.633125 13.575247 \nL 69.163125 14.112857 \nL 88.693125 93.874178 \n\" clip-path=\"url(#paa0a6f05f4)\" style=\"fill: none; stroke-dasharray: 5.55,2.4; stroke-dashoffset: 0; stroke: #ff7f0e; stroke-width: 1.5\"/>\n   </g>\n   <g id=\"line2d_45\">\n    <path d=\"M 49.633125 136.096836 \nL 69.163125 139.5 \nL 88.693125 113.231097 \n\" clip-path=\"url(#paa0a6f05f4)\" style=\"fill: none; stroke-dasharray: 9.6,2.4,1.5,2.4; stroke-dashoffset: 0; stroke: #2ca02c; stroke-width: 1.5\"/>\n   </g>\n   <g id=\"line2d_46\">\n    <path d=\"M 34.954394 13.5 \nL 44.698573 13.534534 \nL 54.442752 13.610696 \nL 64.186931 13.79855 \nL 73.93111 23.278292 \nL 83.675289 80.889695 \nL 93.419468 93.049523 \nL 103.163647 98.794379 \n\" clip-path=\"url(#paa0a6f05f4)\" style=\"fill: none; stroke: #1f77b4; stroke-width: 1.5; stroke-linecap: square\"/>\n   </g>\n   <g id=\"line2d_47\">\n    <path d=\"M 49.633125 13.575247 \nL 69.163125 14.112857 \nL 88.693125 93.874178 \n\" clip-path=\"url(#paa0a6f05f4)\" style=\"fill: none; stroke-dasharray: 5.55,2.4; stroke-dashoffset: 0; stroke: #ff7f0e; stroke-width: 1.5\"/>\n   </g>\n   <g id=\"line2d_48\">\n    <path d=\"M 49.633125 136.096836 \nL 69.163125 139.5 \nL 88.693125 113.231097 \n\" clip-path=\"url(#paa0a6f05f4)\" style=\"fill: none; stroke-dasharray: 9.6,2.4,1.5,2.4; stroke-dashoffset: 0; stroke: #2ca02c; stroke-width: 1.5\"/>\n   </g>\n   <g id=\"line2d_49\">\n    <path d=\"M 34.954394 13.5 \nL 44.698573 13.534534 \nL 54.442752 13.610696 \nL 64.186931 13.79855 \nL 73.93111 23.278292 \nL 83.675289 80.889695 \nL 93.419468 93.049523 \nL 103.163647 98.794379 \n\" clip-path=\"url(#paa0a6f05f4)\" style=\"fill: none; stroke: #1f77b4; stroke-width: 1.5; stroke-linecap: square\"/>\n   </g>\n   <g id=\"line2d_50\">\n    <path d=\"M 49.633125 13.575247 \nL 69.163125 14.112857 \nL 88.693125 93.874178 \nL 108.223125 102.377784 \n\" clip-path=\"url(#paa0a6f05f4)\" style=\"fill: none; stroke-dasharray: 5.55,2.4; stroke-dashoffset: 0; stroke: #ff7f0e; stroke-width: 1.5\"/>\n   </g>\n   <g id=\"line2d_51\">\n    <path d=\"M 49.633125 136.096836 \nL 69.163125 139.5 \nL 88.693125 113.231097 \n\" clip-path=\"url(#paa0a6f05f4)\" style=\"fill: none; stroke-dasharray: 9.6,2.4,1.5,2.4; stroke-dashoffset: 0; stroke: #2ca02c; stroke-width: 1.5\"/>\n   </g>\n   <g id=\"line2d_52\">\n    <path d=\"M 34.954394 13.5 \nL 44.698573 13.534534 \nL 54.442752 13.610696 \nL 64.186931 13.79855 \nL 73.93111 23.278292 \nL 83.675289 80.889695 \nL 93.419468 93.049523 \nL 103.163647 98.794379 \n\" clip-path=\"url(#paa0a6f05f4)\" style=\"fill: none; stroke: #1f77b4; stroke-width: 1.5; stroke-linecap: square\"/>\n   </g>\n   <g id=\"line2d_53\">\n    <path d=\"M 49.633125 13.575247 \nL 69.163125 14.112857 \nL 88.693125 93.874178 \nL 108.223125 102.377784 \n\" clip-path=\"url(#paa0a6f05f4)\" style=\"fill: none; stroke-dasharray: 5.55,2.4; stroke-dashoffset: 0; stroke: #ff7f0e; stroke-width: 1.5\"/>\n   </g>\n   <g id=\"line2d_54\">\n    <path d=\"M 49.633125 136.096836 \nL 69.163125 139.5 \nL 88.693125 113.231097 \nL 108.223125 108.625091 \n\" clip-path=\"url(#paa0a6f05f4)\" style=\"fill: none; stroke-dasharray: 9.6,2.4,1.5,2.4; stroke-dashoffset: 0; stroke: #2ca02c; stroke-width: 1.5\"/>\n   </g>\n   <g id=\"line2d_55\">\n    <path d=\"M 34.954394 13.5 \nL 44.698573 13.534534 \nL 54.442752 13.610696 \nL 64.186931 13.79855 \nL 73.93111 23.278292 \nL 83.675289 80.889695 \nL 93.419468 93.049523 \nL 103.163647 98.794379 \nL 112.907826 102.243112 \n\" clip-path=\"url(#paa0a6f05f4)\" style=\"fill: none; stroke: #1f77b4; stroke-width: 1.5; stroke-linecap: square\"/>\n   </g>\n   <g id=\"line2d_56\">\n    <path d=\"M 49.633125 13.575247 \nL 69.163125 14.112857 \nL 88.693125 93.874178 \nL 108.223125 102.377784 \n\" clip-path=\"url(#paa0a6f05f4)\" style=\"fill: none; stroke-dasharray: 5.55,2.4; stroke-dashoffset: 0; stroke: #ff7f0e; stroke-width: 1.5\"/>\n   </g>\n   <g id=\"line2d_57\">\n    <path d=\"M 49.633125 136.096836 \nL 69.163125 139.5 \nL 88.693125 113.231097 \nL 108.223125 108.625091 \n\" clip-path=\"url(#paa0a6f05f4)\" style=\"fill: none; stroke-dasharray: 9.6,2.4,1.5,2.4; stroke-dashoffset: 0; stroke: #2ca02c; stroke-width: 1.5\"/>\n   </g>\n   <g id=\"line2d_58\">\n    <path d=\"M 34.954394 13.5 \nL 44.698573 13.534534 \nL 54.442752 13.610696 \nL 64.186931 13.79855 \nL 73.93111 23.278292 \nL 83.675289 80.889695 \nL 93.419468 93.049523 \nL 103.163647 98.794379 \nL 112.907826 102.243112 \nL 122.652006 106.035482 \n\" clip-path=\"url(#paa0a6f05f4)\" style=\"fill: none; stroke: #1f77b4; stroke-width: 1.5; stroke-linecap: square\"/>\n   </g>\n   <g id=\"line2d_59\">\n    <path d=\"M 49.633125 13.575247 \nL 69.163125 14.112857 \nL 88.693125 93.874178 \nL 108.223125 102.377784 \n\" clip-path=\"url(#paa0a6f05f4)\" style=\"fill: none; stroke-dasharray: 5.55,2.4; stroke-dashoffset: 0; stroke: #ff7f0e; stroke-width: 1.5\"/>\n   </g>\n   <g id=\"line2d_60\">\n    <path d=\"M 49.633125 136.096836 \nL 69.163125 139.5 \nL 88.693125 113.231097 \nL 108.223125 108.625091 \n\" clip-path=\"url(#paa0a6f05f4)\" style=\"fill: none; stroke-dasharray: 9.6,2.4,1.5,2.4; stroke-dashoffset: 0; stroke: #2ca02c; stroke-width: 1.5\"/>\n   </g>\n   <g id=\"line2d_61\">\n    <path d=\"M 34.954394 13.5 \nL 44.698573 13.534534 \nL 54.442752 13.610696 \nL 64.186931 13.79855 \nL 73.93111 23.278292 \nL 83.675289 80.889695 \nL 93.419468 93.049523 \nL 103.163647 98.794379 \nL 112.907826 102.243112 \nL 122.652006 106.035482 \n\" clip-path=\"url(#paa0a6f05f4)\" style=\"fill: none; stroke: #1f77b4; stroke-width: 1.5; stroke-linecap: square\"/>\n   </g>\n   <g id=\"line2d_62\">\n    <path d=\"M 49.633125 13.575247 \nL 69.163125 14.112857 \nL 88.693125 93.874178 \nL 108.223125 102.377784 \nL 127.753125 107.290189 \n\" clip-path=\"url(#paa0a6f05f4)\" style=\"fill: none; stroke-dasharray: 5.55,2.4; stroke-dashoffset: 0; stroke: #ff7f0e; stroke-width: 1.5\"/>\n   </g>\n   <g id=\"line2d_63\">\n    <path d=\"M 49.633125 136.096836 \nL 69.163125 139.5 \nL 88.693125 113.231097 \nL 108.223125 108.625091 \n\" clip-path=\"url(#paa0a6f05f4)\" style=\"fill: none; stroke-dasharray: 9.6,2.4,1.5,2.4; stroke-dashoffset: 0; stroke: #2ca02c; stroke-width: 1.5\"/>\n   </g>\n   <g id=\"line2d_64\">\n    <path d=\"M 34.954394 13.5 \nL 44.698573 13.534534 \nL 54.442752 13.610696 \nL 64.186931 13.79855 \nL 73.93111 23.278292 \nL 83.675289 80.889695 \nL 93.419468 93.049523 \nL 103.163647 98.794379 \nL 112.907826 102.243112 \nL 122.652006 106.035482 \n\" clip-path=\"url(#paa0a6f05f4)\" style=\"fill: none; stroke: #1f77b4; stroke-width: 1.5; stroke-linecap: square\"/>\n   </g>\n   <g id=\"line2d_65\">\n    <path d=\"M 49.633125 13.575247 \nL 69.163125 14.112857 \nL 88.693125 93.874178 \nL 108.223125 102.377784 \nL 127.753125 107.290189 \n\" clip-path=\"url(#paa0a6f05f4)\" style=\"fill: none; stroke-dasharray: 5.55,2.4; stroke-dashoffset: 0; stroke: #ff7f0e; stroke-width: 1.5\"/>\n   </g>\n   <g id=\"line2d_66\">\n    <path d=\"M 49.633125 136.096836 \nL 69.163125 139.5 \nL 88.693125 113.231097 \nL 108.223125 108.625091 \nL 127.753125 106.4013 \n\" clip-path=\"url(#paa0a6f05f4)\" style=\"fill: none; stroke-dasharray: 9.6,2.4,1.5,2.4; stroke-dashoffset: 0; stroke: #2ca02c; stroke-width: 1.5\"/>\n   </g>\n   <g id=\"line2d_67\">\n    <path d=\"M 34.954394 13.5 \nL 44.698573 13.534534 \nL 54.442752 13.610696 \nL 64.186931 13.79855 \nL 73.93111 23.278292 \nL 83.675289 80.889695 \nL 93.419468 93.049523 \nL 103.163647 98.794379 \nL 112.907826 102.243112 \nL 122.652006 106.035482 \nL 132.396185 109.274757 \n\" clip-path=\"url(#paa0a6f05f4)\" style=\"fill: none; stroke: #1f77b4; stroke-width: 1.5; stroke-linecap: square\"/>\n   </g>\n   <g id=\"line2d_68\">\n    <path d=\"M 49.633125 13.575247 \nL 69.163125 14.112857 \nL 88.693125 93.874178 \nL 108.223125 102.377784 \nL 127.753125 107.290189 \n\" clip-path=\"url(#paa0a6f05f4)\" style=\"fill: none; stroke-dasharray: 5.55,2.4; stroke-dashoffset: 0; stroke: #ff7f0e; stroke-width: 1.5\"/>\n   </g>\n   <g id=\"line2d_69\">\n    <path d=\"M 49.633125 136.096836 \nL 69.163125 139.5 \nL 88.693125 113.231097 \nL 108.223125 108.625091 \nL 127.753125 106.4013 \n\" clip-path=\"url(#paa0a6f05f4)\" style=\"fill: none; stroke-dasharray: 9.6,2.4,1.5,2.4; stroke-dashoffset: 0; stroke: #2ca02c; stroke-width: 1.5\"/>\n   </g>\n   <g id=\"line2d_70\">\n    <path d=\"M 34.954394 13.5 \nL 44.698573 13.534534 \nL 54.442752 13.610696 \nL 64.186931 13.79855 \nL 73.93111 23.278292 \nL 83.675289 80.889695 \nL 93.419468 93.049523 \nL 103.163647 98.794379 \nL 112.907826 102.243112 \nL 122.652006 106.035482 \nL 132.396185 109.274757 \nL 142.140364 111.450612 \n\" clip-path=\"url(#paa0a6f05f4)\" style=\"fill: none; stroke: #1f77b4; stroke-width: 1.5; stroke-linecap: square\"/>\n   </g>\n   <g id=\"line2d_71\">\n    <path d=\"M 49.633125 13.575247 \nL 69.163125 14.112857 \nL 88.693125 93.874178 \nL 108.223125 102.377784 \nL 127.753125 107.290189 \n\" clip-path=\"url(#paa0a6f05f4)\" style=\"fill: none; stroke-dasharray: 5.55,2.4; stroke-dashoffset: 0; stroke: #ff7f0e; stroke-width: 1.5\"/>\n   </g>\n   <g id=\"line2d_72\">\n    <path d=\"M 49.633125 136.096836 \nL 69.163125 139.5 \nL 88.693125 113.231097 \nL 108.223125 108.625091 \nL 127.753125 106.4013 \n\" clip-path=\"url(#paa0a6f05f4)\" style=\"fill: none; stroke-dasharray: 9.6,2.4,1.5,2.4; stroke-dashoffset: 0; stroke: #2ca02c; stroke-width: 1.5\"/>\n   </g>\n   <g id=\"line2d_73\">\n    <path d=\"M 34.954394 13.5 \nL 44.698573 13.534534 \nL 54.442752 13.610696 \nL 64.186931 13.79855 \nL 73.93111 23.278292 \nL 83.675289 80.889695 \nL 93.419468 93.049523 \nL 103.163647 98.794379 \nL 112.907826 102.243112 \nL 122.652006 106.035482 \nL 132.396185 109.274757 \nL 142.140364 111.450612 \n\" clip-path=\"url(#paa0a6f05f4)\" style=\"fill: none; stroke: #1f77b4; stroke-width: 1.5; stroke-linecap: square\"/>\n   </g>\n   <g id=\"line2d_74\">\n    <path d=\"M 49.633125 13.575247 \nL 69.163125 14.112857 \nL 88.693125 93.874178 \nL 108.223125 102.377784 \nL 127.753125 107.290189 \nL 147.283125 113.144391 \n\" clip-path=\"url(#paa0a6f05f4)\" style=\"fill: none; stroke-dasharray: 5.55,2.4; stroke-dashoffset: 0; stroke: #ff7f0e; stroke-width: 1.5\"/>\n   </g>\n   <g id=\"line2d_75\">\n    <path d=\"M 49.633125 136.096836 \nL 69.163125 139.5 \nL 88.693125 113.231097 \nL 108.223125 108.625091 \nL 127.753125 106.4013 \n\" clip-path=\"url(#paa0a6f05f4)\" style=\"fill: none; stroke-dasharray: 9.6,2.4,1.5,2.4; stroke-dashoffset: 0; stroke: #2ca02c; stroke-width: 1.5\"/>\n   </g>\n   <g id=\"line2d_76\">\n    <path d=\"M 34.954394 13.5 \nL 44.698573 13.534534 \nL 54.442752 13.610696 \nL 64.186931 13.79855 \nL 73.93111 23.278292 \nL 83.675289 80.889695 \nL 93.419468 93.049523 \nL 103.163647 98.794379 \nL 112.907826 102.243112 \nL 122.652006 106.035482 \nL 132.396185 109.274757 \nL 142.140364 111.450612 \n\" clip-path=\"url(#paa0a6f05f4)\" style=\"fill: none; stroke: #1f77b4; stroke-width: 1.5; stroke-linecap: square\"/>\n   </g>\n   <g id=\"line2d_77\">\n    <path d=\"M 49.633125 13.575247 \nL 69.163125 14.112857 \nL 88.693125 93.874178 \nL 108.223125 102.377784 \nL 127.753125 107.290189 \nL 147.283125 113.144391 \n\" clip-path=\"url(#paa0a6f05f4)\" style=\"fill: none; stroke-dasharray: 5.55,2.4; stroke-dashoffset: 0; stroke: #ff7f0e; stroke-width: 1.5\"/>\n   </g>\n   <g id=\"line2d_78\">\n    <path d=\"M 49.633125 136.096836 \nL 69.163125 139.5 \nL 88.693125 113.231097 \nL 108.223125 108.625091 \nL 127.753125 106.4013 \nL 147.283125 104.822936 \n\" clip-path=\"url(#paa0a6f05f4)\" style=\"fill: none; stroke-dasharray: 9.6,2.4,1.5,2.4; stroke-dashoffset: 0; stroke: #2ca02c; stroke-width: 1.5\"/>\n   </g>\n   <g id=\"line2d_79\">\n    <path d=\"M 34.954394 13.5 \nL 44.698573 13.534534 \nL 54.442752 13.610696 \nL 64.186931 13.79855 \nL 73.93111 23.278292 \nL 83.675289 80.889695 \nL 93.419468 93.049523 \nL 103.163647 98.794379 \nL 112.907826 102.243112 \nL 122.652006 106.035482 \nL 132.396185 109.274757 \nL 142.140364 111.450612 \nL 151.884543 114.023343 \n\" clip-path=\"url(#paa0a6f05f4)\" style=\"fill: none; stroke: #1f77b4; stroke-width: 1.5; stroke-linecap: square\"/>\n   </g>\n   <g id=\"line2d_80\">\n    <path d=\"M 49.633125 13.575247 \nL 69.163125 14.112857 \nL 88.693125 93.874178 \nL 108.223125 102.377784 \nL 127.753125 107.290189 \nL 147.283125 113.144391 \n\" clip-path=\"url(#paa0a6f05f4)\" style=\"fill: none; stroke-dasharray: 5.55,2.4; stroke-dashoffset: 0; stroke: #ff7f0e; stroke-width: 1.5\"/>\n   </g>\n   <g id=\"line2d_81\">\n    <path d=\"M 49.633125 136.096836 \nL 69.163125 139.5 \nL 88.693125 113.231097 \nL 108.223125 108.625091 \nL 127.753125 106.4013 \nL 147.283125 104.822936 \n\" clip-path=\"url(#paa0a6f05f4)\" style=\"fill: none; stroke-dasharray: 9.6,2.4,1.5,2.4; stroke-dashoffset: 0; stroke: #2ca02c; stroke-width: 1.5\"/>\n   </g>\n   <g id=\"line2d_82\">\n    <path d=\"M 34.954394 13.5 \nL 44.698573 13.534534 \nL 54.442752 13.610696 \nL 64.186931 13.79855 \nL 73.93111 23.278292 \nL 83.675289 80.889695 \nL 93.419468 93.049523 \nL 103.163647 98.794379 \nL 112.907826 102.243112 \nL 122.652006 106.035482 \nL 132.396185 109.274757 \nL 142.140364 111.450612 \nL 151.884543 114.023343 \nL 161.628722 116.244726 \n\" clip-path=\"url(#paa0a6f05f4)\" style=\"fill: none; stroke: #1f77b4; stroke-width: 1.5; stroke-linecap: square\"/>\n   </g>\n   <g id=\"line2d_83\">\n    <path d=\"M 49.633125 13.575247 \nL 69.163125 14.112857 \nL 88.693125 93.874178 \nL 108.223125 102.377784 \nL 127.753125 107.290189 \nL 147.283125 113.144391 \n\" clip-path=\"url(#paa0a6f05f4)\" style=\"fill: none; stroke-dasharray: 5.55,2.4; stroke-dashoffset: 0; stroke: #ff7f0e; stroke-width: 1.5\"/>\n   </g>\n   <g id=\"line2d_84\">\n    <path d=\"M 49.633125 136.096836 \nL 69.163125 139.5 \nL 88.693125 113.231097 \nL 108.223125 108.625091 \nL 127.753125 106.4013 \nL 147.283125 104.822936 \n\" clip-path=\"url(#paa0a6f05f4)\" style=\"fill: none; stroke-dasharray: 9.6,2.4,1.5,2.4; stroke-dashoffset: 0; stroke: #2ca02c; stroke-width: 1.5\"/>\n   </g>\n   <g id=\"line2d_85\">\n    <path d=\"M 34.954394 13.5 \nL 44.698573 13.534534 \nL 54.442752 13.610696 \nL 64.186931 13.79855 \nL 73.93111 23.278292 \nL 83.675289 80.889695 \nL 93.419468 93.049523 \nL 103.163647 98.794379 \nL 112.907826 102.243112 \nL 122.652006 106.035482 \nL 132.396185 109.274757 \nL 142.140364 111.450612 \nL 151.884543 114.023343 \nL 161.628722 116.244726 \n\" clip-path=\"url(#paa0a6f05f4)\" style=\"fill: none; stroke: #1f77b4; stroke-width: 1.5; stroke-linecap: square\"/>\n   </g>\n   <g id=\"line2d_86\">\n    <path d=\"M 49.633125 13.575247 \nL 69.163125 14.112857 \nL 88.693125 93.874178 \nL 108.223125 102.377784 \nL 127.753125 107.290189 \nL 147.283125 113.144391 \nL 166.813125 117.717114 \n\" clip-path=\"url(#paa0a6f05f4)\" style=\"fill: none; stroke-dasharray: 5.55,2.4; stroke-dashoffset: 0; stroke: #ff7f0e; stroke-width: 1.5\"/>\n   </g>\n   <g id=\"line2d_87\">\n    <path d=\"M 49.633125 136.096836 \nL 69.163125 139.5 \nL 88.693125 113.231097 \nL 108.223125 108.625091 \nL 127.753125 106.4013 \nL 147.283125 104.822936 \n\" clip-path=\"url(#paa0a6f05f4)\" style=\"fill: none; stroke-dasharray: 9.6,2.4,1.5,2.4; stroke-dashoffset: 0; stroke: #2ca02c; stroke-width: 1.5\"/>\n   </g>\n   <g id=\"line2d_88\">\n    <path d=\"M 34.954394 13.5 \nL 44.698573 13.534534 \nL 54.442752 13.610696 \nL 64.186931 13.79855 \nL 73.93111 23.278292 \nL 83.675289 80.889695 \nL 93.419468 93.049523 \nL 103.163647 98.794379 \nL 112.907826 102.243112 \nL 122.652006 106.035482 \nL 132.396185 109.274757 \nL 142.140364 111.450612 \nL 151.884543 114.023343 \nL 161.628722 116.244726 \n\" clip-path=\"url(#paa0a6f05f4)\" style=\"fill: none; stroke: #1f77b4; stroke-width: 1.5; stroke-linecap: square\"/>\n   </g>\n   <g id=\"line2d_89\">\n    <path d=\"M 49.633125 13.575247 \nL 69.163125 14.112857 \nL 88.693125 93.874178 \nL 108.223125 102.377784 \nL 127.753125 107.290189 \nL 147.283125 113.144391 \nL 166.813125 117.717114 \n\" clip-path=\"url(#paa0a6f05f4)\" style=\"fill: none; stroke-dasharray: 5.55,2.4; stroke-dashoffset: 0; stroke: #ff7f0e; stroke-width: 1.5\"/>\n   </g>\n   <g id=\"line2d_90\">\n    <path d=\"M 49.633125 136.096836 \nL 69.163125 139.5 \nL 88.693125 113.231097 \nL 108.223125 108.625091 \nL 127.753125 106.4013 \nL 147.283125 104.822936 \nL 166.813125 102.915991 \n\" clip-path=\"url(#paa0a6f05f4)\" style=\"fill: none; stroke-dasharray: 9.6,2.4,1.5,2.4; stroke-dashoffset: 0; stroke: #2ca02c; stroke-width: 1.5\"/>\n   </g>\n   <g id=\"line2d_91\">\n    <path d=\"M 34.954394 13.5 \nL 44.698573 13.534534 \nL 54.442752 13.610696 \nL 64.186931 13.79855 \nL 73.93111 23.278292 \nL 83.675289 80.889695 \nL 93.419468 93.049523 \nL 103.163647 98.794379 \nL 112.907826 102.243112 \nL 122.652006 106.035482 \nL 132.396185 109.274757 \nL 142.140364 111.450612 \nL 151.884543 114.023343 \nL 161.628722 116.244726 \nL 171.372901 117.474148 \n\" clip-path=\"url(#paa0a6f05f4)\" style=\"fill: none; stroke: #1f77b4; stroke-width: 1.5; stroke-linecap: square\"/>\n   </g>\n   <g id=\"line2d_92\">\n    <path d=\"M 49.633125 13.575247 \nL 69.163125 14.112857 \nL 88.693125 93.874178 \nL 108.223125 102.377784 \nL 127.753125 107.290189 \nL 147.283125 113.144391 \nL 166.813125 117.717114 \n\" clip-path=\"url(#paa0a6f05f4)\" style=\"fill: none; stroke-dasharray: 5.55,2.4; stroke-dashoffset: 0; stroke: #ff7f0e; stroke-width: 1.5\"/>\n   </g>\n   <g id=\"line2d_93\">\n    <path d=\"M 49.633125 136.096836 \nL 69.163125 139.5 \nL 88.693125 113.231097 \nL 108.223125 108.625091 \nL 127.753125 106.4013 \nL 147.283125 104.822936 \nL 166.813125 102.915991 \n\" clip-path=\"url(#paa0a6f05f4)\" style=\"fill: none; stroke-dasharray: 9.6,2.4,1.5,2.4; stroke-dashoffset: 0; stroke: #2ca02c; stroke-width: 1.5\"/>\n   </g>\n   <g id=\"line2d_94\">\n    <path d=\"M 34.954394 13.5 \nL 44.698573 13.534534 \nL 54.442752 13.610696 \nL 64.186931 13.79855 \nL 73.93111 23.278292 \nL 83.675289 80.889695 \nL 93.419468 93.049523 \nL 103.163647 98.794379 \nL 112.907826 102.243112 \nL 122.652006 106.035482 \nL 132.396185 109.274757 \nL 142.140364 111.450612 \nL 151.884543 114.023343 \nL 161.628722 116.244726 \nL 171.372901 117.474148 \nL 181.11708 118.613883 \n\" clip-path=\"url(#paa0a6f05f4)\" style=\"fill: none; stroke: #1f77b4; stroke-width: 1.5; stroke-linecap: square\"/>\n   </g>\n   <g id=\"line2d_95\">\n    <path d=\"M 49.633125 13.575247 \nL 69.163125 14.112857 \nL 88.693125 93.874178 \nL 108.223125 102.377784 \nL 127.753125 107.290189 \nL 147.283125 113.144391 \nL 166.813125 117.717114 \n\" clip-path=\"url(#paa0a6f05f4)\" style=\"fill: none; stroke-dasharray: 5.55,2.4; stroke-dashoffset: 0; stroke: #ff7f0e; stroke-width: 1.5\"/>\n   </g>\n   <g id=\"line2d_96\">\n    <path d=\"M 49.633125 136.096836 \nL 69.163125 139.5 \nL 88.693125 113.231097 \nL 108.223125 108.625091 \nL 127.753125 106.4013 \nL 147.283125 104.822936 \nL 166.813125 102.915991 \n\" clip-path=\"url(#paa0a6f05f4)\" style=\"fill: none; stroke-dasharray: 9.6,2.4,1.5,2.4; stroke-dashoffset: 0; stroke: #2ca02c; stroke-width: 1.5\"/>\n   </g>\n   <g id=\"line2d_97\">\n    <path d=\"M 34.954394 13.5 \nL 44.698573 13.534534 \nL 54.442752 13.610696 \nL 64.186931 13.79855 \nL 73.93111 23.278292 \nL 83.675289 80.889695 \nL 93.419468 93.049523 \nL 103.163647 98.794379 \nL 112.907826 102.243112 \nL 122.652006 106.035482 \nL 132.396185 109.274757 \nL 142.140364 111.450612 \nL 151.884543 114.023343 \nL 161.628722 116.244726 \nL 171.372901 117.474148 \nL 181.11708 118.613883 \n\" clip-path=\"url(#paa0a6f05f4)\" style=\"fill: none; stroke: #1f77b4; stroke-width: 1.5; stroke-linecap: square\"/>\n   </g>\n   <g id=\"line2d_98\">\n    <path d=\"M 49.633125 13.575247 \nL 69.163125 14.112857 \nL 88.693125 93.874178 \nL 108.223125 102.377784 \nL 127.753125 107.290189 \nL 147.283125 113.144391 \nL 166.813125 117.717114 \nL 186.343125 119.882156 \n\" clip-path=\"url(#paa0a6f05f4)\" style=\"fill: none; stroke-dasharray: 5.55,2.4; stroke-dashoffset: 0; stroke: #ff7f0e; stroke-width: 1.5\"/>\n   </g>\n   <g id=\"line2d_99\">\n    <path d=\"M 49.633125 136.096836 \nL 69.163125 139.5 \nL 88.693125 113.231097 \nL 108.223125 108.625091 \nL 127.753125 106.4013 \nL 147.283125 104.822936 \nL 166.813125 102.915991 \n\" clip-path=\"url(#paa0a6f05f4)\" style=\"fill: none; stroke-dasharray: 9.6,2.4,1.5,2.4; stroke-dashoffset: 0; stroke: #2ca02c; stroke-width: 1.5\"/>\n   </g>\n   <g id=\"line2d_100\">\n    <path d=\"M 34.954394 13.5 \nL 44.698573 13.534534 \nL 54.442752 13.610696 \nL 64.186931 13.79855 \nL 73.93111 23.278292 \nL 83.675289 80.889695 \nL 93.419468 93.049523 \nL 103.163647 98.794379 \nL 112.907826 102.243112 \nL 122.652006 106.035482 \nL 132.396185 109.274757 \nL 142.140364 111.450612 \nL 151.884543 114.023343 \nL 161.628722 116.244726 \nL 171.372901 117.474148 \nL 181.11708 118.613883 \n\" clip-path=\"url(#paa0a6f05f4)\" style=\"fill: none; stroke: #1f77b4; stroke-width: 1.5; stroke-linecap: square\"/>\n   </g>\n   <g id=\"line2d_101\">\n    <path d=\"M 49.633125 13.575247 \nL 69.163125 14.112857 \nL 88.693125 93.874178 \nL 108.223125 102.377784 \nL 127.753125 107.290189 \nL 147.283125 113.144391 \nL 166.813125 117.717114 \nL 186.343125 119.882156 \n\" clip-path=\"url(#paa0a6f05f4)\" style=\"fill: none; stroke-dasharray: 5.55,2.4; stroke-dashoffset: 0; stroke: #ff7f0e; stroke-width: 1.5\"/>\n   </g>\n   <g id=\"line2d_102\">\n    <path d=\"M 49.633125 136.096836 \nL 69.163125 139.5 \nL 88.693125 113.231097 \nL 108.223125 108.625091 \nL 127.753125 106.4013 \nL 147.283125 104.822936 \nL 166.813125 102.915991 \nL 186.343125 102.01826 \n\" clip-path=\"url(#paa0a6f05f4)\" style=\"fill: none; stroke-dasharray: 9.6,2.4,1.5,2.4; stroke-dashoffset: 0; stroke: #2ca02c; stroke-width: 1.5\"/>\n   </g>\n   <g id=\"line2d_103\">\n    <path d=\"M 34.954394 13.5 \nL 44.698573 13.534534 \nL 54.442752 13.610696 \nL 64.186931 13.79855 \nL 73.93111 23.278292 \nL 83.675289 80.889695 \nL 93.419468 93.049523 \nL 103.163647 98.794379 \nL 112.907826 102.243112 \nL 122.652006 106.035482 \nL 132.396185 109.274757 \nL 142.140364 111.450612 \nL 151.884543 114.023343 \nL 161.628722 116.244726 \nL 171.372901 117.474148 \nL 181.11708 118.613883 \nL 190.861259 120.003695 \n\" clip-path=\"url(#paa0a6f05f4)\" style=\"fill: none; stroke: #1f77b4; stroke-width: 1.5; stroke-linecap: square\"/>\n   </g>\n   <g id=\"line2d_104\">\n    <path d=\"M 49.633125 13.575247 \nL 69.163125 14.112857 \nL 88.693125 93.874178 \nL 108.223125 102.377784 \nL 127.753125 107.290189 \nL 147.283125 113.144391 \nL 166.813125 117.717114 \nL 186.343125 119.882156 \n\" clip-path=\"url(#paa0a6f05f4)\" style=\"fill: none; stroke-dasharray: 5.55,2.4; stroke-dashoffset: 0; stroke: #ff7f0e; stroke-width: 1.5\"/>\n   </g>\n   <g id=\"line2d_105\">\n    <path d=\"M 49.633125 136.096836 \nL 69.163125 139.5 \nL 88.693125 113.231097 \nL 108.223125 108.625091 \nL 127.753125 106.4013 \nL 147.283125 104.822936 \nL 166.813125 102.915991 \nL 186.343125 102.01826 \n\" clip-path=\"url(#paa0a6f05f4)\" style=\"fill: none; stroke-dasharray: 9.6,2.4,1.5,2.4; stroke-dashoffset: 0; stroke: #2ca02c; stroke-width: 1.5\"/>\n   </g>\n   <g id=\"line2d_106\">\n    <path d=\"M 34.954394 13.5 \nL 44.698573 13.534534 \nL 54.442752 13.610696 \nL 64.186931 13.79855 \nL 73.93111 23.278292 \nL 83.675289 80.889695 \nL 93.419468 93.049523 \nL 103.163647 98.794379 \nL 112.907826 102.243112 \nL 122.652006 106.035482 \nL 132.396185 109.274757 \nL 142.140364 111.450612 \nL 151.884543 114.023343 \nL 161.628722 116.244726 \nL 171.372901 117.474148 \nL 181.11708 118.613883 \nL 190.861259 120.003695 \nL 200.605438 120.507581 \n\" clip-path=\"url(#paa0a6f05f4)\" style=\"fill: none; stroke: #1f77b4; stroke-width: 1.5; stroke-linecap: square\"/>\n   </g>\n   <g id=\"line2d_107\">\n    <path d=\"M 49.633125 13.575247 \nL 69.163125 14.112857 \nL 88.693125 93.874178 \nL 108.223125 102.377784 \nL 127.753125 107.290189 \nL 147.283125 113.144391 \nL 166.813125 117.717114 \nL 186.343125 119.882156 \n\" clip-path=\"url(#paa0a6f05f4)\" style=\"fill: none; stroke-dasharray: 5.55,2.4; stroke-dashoffset: 0; stroke: #ff7f0e; stroke-width: 1.5\"/>\n   </g>\n   <g id=\"line2d_108\">\n    <path d=\"M 49.633125 136.096836 \nL 69.163125 139.5 \nL 88.693125 113.231097 \nL 108.223125 108.625091 \nL 127.753125 106.4013 \nL 147.283125 104.822936 \nL 166.813125 102.915991 \nL 186.343125 102.01826 \n\" clip-path=\"url(#paa0a6f05f4)\" style=\"fill: none; stroke-dasharray: 9.6,2.4,1.5,2.4; stroke-dashoffset: 0; stroke: #2ca02c; stroke-width: 1.5\"/>\n   </g>\n   <g id=\"line2d_109\">\n    <path d=\"M 34.954394 13.5 \nL 44.698573 13.534534 \nL 54.442752 13.610696 \nL 64.186931 13.79855 \nL 73.93111 23.278292 \nL 83.675289 80.889695 \nL 93.419468 93.049523 \nL 103.163647 98.794379 \nL 112.907826 102.243112 \nL 122.652006 106.035482 \nL 132.396185 109.274757 \nL 142.140364 111.450612 \nL 151.884543 114.023343 \nL 161.628722 116.244726 \nL 171.372901 117.474148 \nL 181.11708 118.613883 \nL 190.861259 120.003695 \nL 200.605438 120.507581 \n\" clip-path=\"url(#paa0a6f05f4)\" style=\"fill: none; stroke: #1f77b4; stroke-width: 1.5; stroke-linecap: square\"/>\n   </g>\n   <g id=\"line2d_110\">\n    <path d=\"M 49.633125 13.575247 \nL 69.163125 14.112857 \nL 88.693125 93.874178 \nL 108.223125 102.377784 \nL 127.753125 107.290189 \nL 147.283125 113.144391 \nL 166.813125 117.717114 \nL 186.343125 119.882156 \nL 205.873125 121.324305 \n\" clip-path=\"url(#paa0a6f05f4)\" style=\"fill: none; stroke-dasharray: 5.55,2.4; stroke-dashoffset: 0; stroke: #ff7f0e; stroke-width: 1.5\"/>\n   </g>\n   <g id=\"line2d_111\">\n    <path d=\"M 49.633125 136.096836 \nL 69.163125 139.5 \nL 88.693125 113.231097 \nL 108.223125 108.625091 \nL 127.753125 106.4013 \nL 147.283125 104.822936 \nL 166.813125 102.915991 \nL 186.343125 102.01826 \n\" clip-path=\"url(#paa0a6f05f4)\" style=\"fill: none; stroke-dasharray: 9.6,2.4,1.5,2.4; stroke-dashoffset: 0; stroke: #2ca02c; stroke-width: 1.5\"/>\n   </g>\n   <g id=\"line2d_112\">\n    <path d=\"M 34.954394 13.5 \nL 44.698573 13.534534 \nL 54.442752 13.610696 \nL 64.186931 13.79855 \nL 73.93111 23.278292 \nL 83.675289 80.889695 \nL 93.419468 93.049523 \nL 103.163647 98.794379 \nL 112.907826 102.243112 \nL 122.652006 106.035482 \nL 132.396185 109.274757 \nL 142.140364 111.450612 \nL 151.884543 114.023343 \nL 161.628722 116.244726 \nL 171.372901 117.474148 \nL 181.11708 118.613883 \nL 190.861259 120.003695 \nL 200.605438 120.507581 \n\" clip-path=\"url(#paa0a6f05f4)\" style=\"fill: none; stroke: #1f77b4; stroke-width: 1.5; stroke-linecap: square\"/>\n   </g>\n   <g id=\"line2d_113\">\n    <path d=\"M 49.633125 13.575247 \nL 69.163125 14.112857 \nL 88.693125 93.874178 \nL 108.223125 102.377784 \nL 127.753125 107.290189 \nL 147.283125 113.144391 \nL 166.813125 117.717114 \nL 186.343125 119.882156 \nL 205.873125 121.324305 \n\" clip-path=\"url(#paa0a6f05f4)\" style=\"fill: none; stroke-dasharray: 5.55,2.4; stroke-dashoffset: 0; stroke: #ff7f0e; stroke-width: 1.5\"/>\n   </g>\n   <g id=\"line2d_114\">\n    <path d=\"M 49.633125 136.096836 \nL 69.163125 139.5 \nL 88.693125 113.231097 \nL 108.223125 108.625091 \nL 127.753125 106.4013 \nL 147.283125 104.822936 \nL 166.813125 102.915991 \nL 186.343125 102.01826 \nL 205.873125 101.642739 \n\" clip-path=\"url(#paa0a6f05f4)\" style=\"fill: none; stroke-dasharray: 9.6,2.4,1.5,2.4; stroke-dashoffset: 0; stroke: #2ca02c; stroke-width: 1.5\"/>\n   </g>\n   <g id=\"line2d_115\">\n    <path d=\"M 34.954394 13.5 \nL 44.698573 13.534534 \nL 54.442752 13.610696 \nL 64.186931 13.79855 \nL 73.93111 23.278292 \nL 83.675289 80.889695 \nL 93.419468 93.049523 \nL 103.163647 98.794379 \nL 112.907826 102.243112 \nL 122.652006 106.035482 \nL 132.396185 109.274757 \nL 142.140364 111.450612 \nL 151.884543 114.023343 \nL 161.628722 116.244726 \nL 171.372901 117.474148 \nL 181.11708 118.613883 \nL 190.861259 120.003695 \nL 200.605438 120.507581 \nL 210.349618 121.717694 \n\" clip-path=\"url(#paa0a6f05f4)\" style=\"fill: none; stroke: #1f77b4; stroke-width: 1.5; stroke-linecap: square\"/>\n   </g>\n   <g id=\"line2d_116\">\n    <path d=\"M 49.633125 13.575247 \nL 69.163125 14.112857 \nL 88.693125 93.874178 \nL 108.223125 102.377784 \nL 127.753125 107.290189 \nL 147.283125 113.144391 \nL 166.813125 117.717114 \nL 186.343125 119.882156 \nL 205.873125 121.324305 \n\" clip-path=\"url(#paa0a6f05f4)\" style=\"fill: none; stroke-dasharray: 5.55,2.4; stroke-dashoffset: 0; stroke: #ff7f0e; stroke-width: 1.5\"/>\n   </g>\n   <g id=\"line2d_117\">\n    <path d=\"M 49.633125 136.096836 \nL 69.163125 139.5 \nL 88.693125 113.231097 \nL 108.223125 108.625091 \nL 127.753125 106.4013 \nL 147.283125 104.822936 \nL 166.813125 102.915991 \nL 186.343125 102.01826 \nL 205.873125 101.642739 \n\" clip-path=\"url(#paa0a6f05f4)\" style=\"fill: none; stroke-dasharray: 9.6,2.4,1.5,2.4; stroke-dashoffset: 0; stroke: #2ca02c; stroke-width: 1.5\"/>\n   </g>\n   <g id=\"line2d_118\">\n    <path d=\"M 34.954394 13.5 \nL 44.698573 13.534534 \nL 54.442752 13.610696 \nL 64.186931 13.79855 \nL 73.93111 23.278292 \nL 83.675289 80.889695 \nL 93.419468 93.049523 \nL 103.163647 98.794379 \nL 112.907826 102.243112 \nL 122.652006 106.035482 \nL 132.396185 109.274757 \nL 142.140364 111.450612 \nL 151.884543 114.023343 \nL 161.628722 116.244726 \nL 171.372901 117.474148 \nL 181.11708 118.613883 \nL 190.861259 120.003695 \nL 200.605438 120.507581 \nL 210.349618 121.717694 \nL 220.093797 122.301185 \n\" clip-path=\"url(#paa0a6f05f4)\" style=\"fill: none; stroke: #1f77b4; stroke-width: 1.5; stroke-linecap: square\"/>\n   </g>\n   <g id=\"line2d_119\">\n    <path d=\"M 49.633125 13.575247 \nL 69.163125 14.112857 \nL 88.693125 93.874178 \nL 108.223125 102.377784 \nL 127.753125 107.290189 \nL 147.283125 113.144391 \nL 166.813125 117.717114 \nL 186.343125 119.882156 \nL 205.873125 121.324305 \n\" clip-path=\"url(#paa0a6f05f4)\" style=\"fill: none; stroke-dasharray: 5.55,2.4; stroke-dashoffset: 0; stroke: #ff7f0e; stroke-width: 1.5\"/>\n   </g>\n   <g id=\"line2d_120\">\n    <path d=\"M 49.633125 136.096836 \nL 69.163125 139.5 \nL 88.693125 113.231097 \nL 108.223125 108.625091 \nL 127.753125 106.4013 \nL 147.283125 104.822936 \nL 166.813125 102.915991 \nL 186.343125 102.01826 \nL 205.873125 101.642739 \n\" clip-path=\"url(#paa0a6f05f4)\" style=\"fill: none; stroke-dasharray: 9.6,2.4,1.5,2.4; stroke-dashoffset: 0; stroke: #2ca02c; stroke-width: 1.5\"/>\n   </g>\n   <g id=\"line2d_121\">\n    <path d=\"M 34.954394 13.5 \nL 44.698573 13.534534 \nL 54.442752 13.610696 \nL 64.186931 13.79855 \nL 73.93111 23.278292 \nL 83.675289 80.889695 \nL 93.419468 93.049523 \nL 103.163647 98.794379 \nL 112.907826 102.243112 \nL 122.652006 106.035482 \nL 132.396185 109.274757 \nL 142.140364 111.450612 \nL 151.884543 114.023343 \nL 161.628722 116.244726 \nL 171.372901 117.474148 \nL 181.11708 118.613883 \nL 190.861259 120.003695 \nL 200.605438 120.507581 \nL 210.349618 121.717694 \nL 220.093797 122.301185 \n\" clip-path=\"url(#paa0a6f05f4)\" style=\"fill: none; stroke: #1f77b4; stroke-width: 1.5; stroke-linecap: square\"/>\n   </g>\n   <g id=\"line2d_122\">\n    <path d=\"M 49.633125 13.575247 \nL 69.163125 14.112857 \nL 88.693125 93.874178 \nL 108.223125 102.377784 \nL 127.753125 107.290189 \nL 147.283125 113.144391 \nL 166.813125 117.717114 \nL 186.343125 119.882156 \nL 205.873125 121.324305 \nL 225.403125 121.712163 \n\" clip-path=\"url(#paa0a6f05f4)\" style=\"fill: none; stroke-dasharray: 5.55,2.4; stroke-dashoffset: 0; stroke: #ff7f0e; stroke-width: 1.5\"/>\n   </g>\n   <g id=\"line2d_123\">\n    <path d=\"M 49.633125 136.096836 \nL 69.163125 139.5 \nL 88.693125 113.231097 \nL 108.223125 108.625091 \nL 127.753125 106.4013 \nL 147.283125 104.822936 \nL 166.813125 102.915991 \nL 186.343125 102.01826 \nL 205.873125 101.642739 \n\" clip-path=\"url(#paa0a6f05f4)\" style=\"fill: none; stroke-dasharray: 9.6,2.4,1.5,2.4; stroke-dashoffset: 0; stroke: #2ca02c; stroke-width: 1.5\"/>\n   </g>\n   <g id=\"line2d_124\">\n    <path d=\"M 34.954394 13.5 \nL 44.698573 13.534534 \nL 54.442752 13.610696 \nL 64.186931 13.79855 \nL 73.93111 23.278292 \nL 83.675289 80.889695 \nL 93.419468 93.049523 \nL 103.163647 98.794379 \nL 112.907826 102.243112 \nL 122.652006 106.035482 \nL 132.396185 109.274757 \nL 142.140364 111.450612 \nL 151.884543 114.023343 \nL 161.628722 116.244726 \nL 171.372901 117.474148 \nL 181.11708 118.613883 \nL 190.861259 120.003695 \nL 200.605438 120.507581 \nL 210.349618 121.717694 \nL 220.093797 122.301185 \n\" clip-path=\"url(#paa0a6f05f4)\" style=\"fill: none; stroke: #1f77b4; stroke-width: 1.5; stroke-linecap: square\"/>\n   </g>\n   <g id=\"line2d_125\">\n    <path d=\"M 49.633125 13.575247 \nL 69.163125 14.112857 \nL 88.693125 93.874178 \nL 108.223125 102.377784 \nL 127.753125 107.290189 \nL 147.283125 113.144391 \nL 166.813125 117.717114 \nL 186.343125 119.882156 \nL 205.873125 121.324305 \nL 225.403125 121.712163 \n\" clip-path=\"url(#paa0a6f05f4)\" style=\"fill: none; stroke-dasharray: 5.55,2.4; stroke-dashoffset: 0; stroke: #ff7f0e; stroke-width: 1.5\"/>\n   </g>\n   <g id=\"line2d_126\">\n    <path d=\"M 49.633125 136.096836 \nL 69.163125 139.5 \nL 88.693125 113.231097 \nL 108.223125 108.625091 \nL 127.753125 106.4013 \nL 147.283125 104.822936 \nL 166.813125 102.915991 \nL 186.343125 102.01826 \nL 205.873125 101.642739 \nL 225.403125 101.619268 \n\" clip-path=\"url(#paa0a6f05f4)\" style=\"fill: none; stroke-dasharray: 9.6,2.4,1.5,2.4; stroke-dashoffset: 0; stroke: #2ca02c; stroke-width: 1.5\"/>\n   </g>\n   <g id=\"patch_3\">\n    <path d=\"M 30.103125 145.8 \nL 30.103125 7.2 \n\" style=\"fill: none; stroke: #000000; stroke-width: 0.8; stroke-linejoin: miter; stroke-linecap: square\"/>\n   </g>\n   <g id=\"patch_4\">\n    <path d=\"M 225.403125 145.8 \nL 225.403125 7.2 \n\" style=\"fill: none; stroke: #000000; stroke-width: 0.8; stroke-linejoin: miter; stroke-linecap: square\"/>\n   </g>\n   <g id=\"patch_5\">\n    <path d=\"M 30.103125 145.8 \nL 225.403125 145.8 \n\" style=\"fill: none; stroke: #000000; stroke-width: 0.8; stroke-linejoin: miter; stroke-linecap: square\"/>\n   </g>\n   <g id=\"patch_6\">\n    <path d=\"M 30.103125 7.2 \nL 225.403125 7.2 \n\" style=\"fill: none; stroke: #000000; stroke-width: 0.8; stroke-linejoin: miter; stroke-linecap: square\"/>\n   </g>\n   <g id=\"legend_1\">\n    <g id=\"patch_7\">\n     <path d=\"M 138.8125 60.06875 \nL 218.403125 60.06875 \nQ 220.403125 60.06875 220.403125 58.06875 \nL 220.403125 14.2 \nQ 220.403125 12.2 218.403125 12.2 \nL 138.8125 12.2 \nQ 136.8125 12.2 136.8125 14.2 \nL 136.8125 58.06875 \nQ 136.8125 60.06875 138.8125 60.06875 \nz\n\" style=\"fill: #ffffff; opacity: 0.8; stroke: #cccccc; stroke-linejoin: miter\"/>\n    </g>\n    <g id=\"line2d_127\">\n     <path d=\"M 140.8125 20.298438 \nL 150.8125 20.298438 \nL 160.8125 20.298438 \n\" style=\"fill: none; stroke: #1f77b4; stroke-width: 1.5; stroke-linecap: square\"/>\n    </g>\n    <g id=\"text_12\">\n     <!-- train_loss -->\n     <g transform=\"translate(168.8125 23.798438) scale(0.1 -0.1)\">\n      <defs>\n       <path id=\"DejaVuSans-74\" d=\"M 1172 4494 \nL 1172 3500 \nL 2356 3500 \nL 2356 3053 \nL 1172 3053 \nL 1172 1153 \nQ 1172 725 1289 603 \nQ 1406 481 1766 481 \nL 2356 481 \nL 2356 0 \nL 1766 0 \nQ 1100 0 847 248 \nQ 594 497 594 1153 \nL 594 3053 \nL 172 3053 \nL 172 3500 \nL 594 3500 \nL 594 4494 \nL 1172 4494 \nz\n\" transform=\"scale(0.015625)\"/>\n       <path id=\"DejaVuSans-72\" d=\"M 2631 2963 \nQ 2534 3019 2420 3045 \nQ 2306 3072 2169 3072 \nQ 1681 3072 1420 2755 \nQ 1159 2438 1159 1844 \nL 1159 0 \nL 581 0 \nL 581 3500 \nL 1159 3500 \nL 1159 2956 \nQ 1341 3275 1631 3429 \nQ 1922 3584 2338 3584 \nQ 2397 3584 2469 3576 \nQ 2541 3569 2628 3553 \nL 2631 2963 \nz\n\" transform=\"scale(0.015625)\"/>\n       <path id=\"DejaVuSans-61\" d=\"M 2194 1759 \nQ 1497 1759 1228 1600 \nQ 959 1441 959 1056 \nQ 959 750 1161 570 \nQ 1363 391 1709 391 \nQ 2188 391 2477 730 \nQ 2766 1069 2766 1631 \nL 2766 1759 \nL 2194 1759 \nz\nM 3341 1997 \nL 3341 0 \nL 2766 0 \nL 2766 531 \nQ 2569 213 2275 61 \nQ 1981 -91 1556 -91 \nQ 1019 -91 701 211 \nQ 384 513 384 1019 \nQ 384 1609 779 1909 \nQ 1175 2209 1959 2209 \nL 2766 2209 \nL 2766 2266 \nQ 2766 2663 2505 2880 \nQ 2244 3097 1772 3097 \nQ 1472 3097 1187 3025 \nQ 903 2953 641 2809 \nL 641 3341 \nQ 956 3463 1253 3523 \nQ 1550 3584 1831 3584 \nQ 2591 3584 2966 3190 \nQ 3341 2797 3341 1997 \nz\n\" transform=\"scale(0.015625)\"/>\n       <path id=\"DejaVuSans-69\" d=\"M 603 3500 \nL 1178 3500 \nL 1178 0 \nL 603 0 \nL 603 3500 \nz\nM 603 4863 \nL 1178 4863 \nL 1178 4134 \nL 603 4134 \nL 603 4863 \nz\n\" transform=\"scale(0.015625)\"/>\n       <path id=\"DejaVuSans-6e\" d=\"M 3513 2113 \nL 3513 0 \nL 2938 0 \nL 2938 2094 \nQ 2938 2591 2744 2837 \nQ 2550 3084 2163 3084 \nQ 1697 3084 1428 2787 \nQ 1159 2491 1159 1978 \nL 1159 0 \nL 581 0 \nL 581 3500 \nL 1159 3500 \nL 1159 2956 \nQ 1366 3272 1645 3428 \nQ 1925 3584 2291 3584 \nQ 2894 3584 3203 3211 \nQ 3513 2838 3513 2113 \nz\n\" transform=\"scale(0.015625)\"/>\n       <path id=\"DejaVuSans-5f\" d=\"M 3263 -1063 \nL 3263 -1509 \nL -63 -1509 \nL -63 -1063 \nL 3263 -1063 \nz\n\" transform=\"scale(0.015625)\"/>\n       <path id=\"DejaVuSans-6c\" d=\"M 603 4863 \nL 1178 4863 \nL 1178 0 \nL 603 0 \nL 603 4863 \nz\n\" transform=\"scale(0.015625)\"/>\n       <path id=\"DejaVuSans-73\" d=\"M 2834 3397 \nL 2834 2853 \nQ 2591 2978 2328 3040 \nQ 2066 3103 1784 3103 \nQ 1356 3103 1142 2972 \nQ 928 2841 928 2578 \nQ 928 2378 1081 2264 \nQ 1234 2150 1697 2047 \nL 1894 2003 \nQ 2506 1872 2764 1633 \nQ 3022 1394 3022 966 \nQ 3022 478 2636 193 \nQ 2250 -91 1575 -91 \nQ 1294 -91 989 -36 \nQ 684 19 347 128 \nL 347 722 \nQ 666 556 975 473 \nQ 1284 391 1588 391 \nQ 1994 391 2212 530 \nQ 2431 669 2431 922 \nQ 2431 1156 2273 1281 \nQ 2116 1406 1581 1522 \nL 1381 1569 \nQ 847 1681 609 1914 \nQ 372 2147 372 2553 \nQ 372 3047 722 3315 \nQ 1072 3584 1716 3584 \nQ 2034 3584 2315 3537 \nQ 2597 3491 2834 3397 \nz\n\" transform=\"scale(0.015625)\"/>\n      </defs>\n      <use xlink:href=\"#DejaVuSans-74\"/>\n      <use xlink:href=\"#DejaVuSans-72\" x=\"39.208984\"/>\n      <use xlink:href=\"#DejaVuSans-61\" x=\"80.322266\"/>\n      <use xlink:href=\"#DejaVuSans-69\" x=\"141.601562\"/>\n      <use xlink:href=\"#DejaVuSans-6e\" x=\"169.384766\"/>\n      <use xlink:href=\"#DejaVuSans-5f\" x=\"232.763672\"/>\n      <use xlink:href=\"#DejaVuSans-6c\" x=\"282.763672\"/>\n      <use xlink:href=\"#DejaVuSans-6f\" x=\"310.546875\"/>\n      <use xlink:href=\"#DejaVuSans-73\" x=\"371.728516\"/>\n      <use xlink:href=\"#DejaVuSans-73\" x=\"423.828125\"/>\n     </g>\n    </g>\n    <g id=\"line2d_128\">\n     <path d=\"M 140.8125 35.254688 \nL 150.8125 35.254688 \nL 160.8125 35.254688 \n\" style=\"fill: none; stroke-dasharray: 5.55,2.4; stroke-dashoffset: 0; stroke: #ff7f0e; stroke-width: 1.5\"/>\n    </g>\n    <g id=\"text_13\">\n     <!-- val_loss -->\n     <g transform=\"translate(168.8125 38.754688) scale(0.1 -0.1)\">\n      <defs>\n       <path id=\"DejaVuSans-76\" d=\"M 191 3500 \nL 800 3500 \nL 1894 563 \nL 2988 3500 \nL 3597 3500 \nL 2284 0 \nL 1503 0 \nL 191 3500 \nz\n\" transform=\"scale(0.015625)\"/>\n      </defs>\n      <use xlink:href=\"#DejaVuSans-76\"/>\n      <use xlink:href=\"#DejaVuSans-61\" x=\"59.179688\"/>\n      <use xlink:href=\"#DejaVuSans-6c\" x=\"120.458984\"/>\n      <use xlink:href=\"#DejaVuSans-5f\" x=\"148.242188\"/>\n      <use xlink:href=\"#DejaVuSans-6c\" x=\"198.242188\"/>\n      <use xlink:href=\"#DejaVuSans-6f\" x=\"226.025391\"/>\n      <use xlink:href=\"#DejaVuSans-73\" x=\"287.207031\"/>\n      <use xlink:href=\"#DejaVuSans-73\" x=\"339.306641\"/>\n     </g>\n    </g>\n    <g id=\"line2d_129\">\n     <path d=\"M 140.8125 50.210938 \nL 150.8125 50.210938 \nL 160.8125 50.210938 \n\" style=\"fill: none; stroke-dasharray: 9.6,2.4,1.5,2.4; stroke-dashoffset: 0; stroke: #2ca02c; stroke-width: 1.5\"/>\n    </g>\n    <g id=\"text_14\">\n     <!-- val_acc -->\n     <g transform=\"translate(168.8125 53.710938) scale(0.1 -0.1)\">\n      <use xlink:href=\"#DejaVuSans-76\"/>\n      <use xlink:href=\"#DejaVuSans-61\" x=\"59.179688\"/>\n      <use xlink:href=\"#DejaVuSans-6c\" x=\"120.458984\"/>\n      <use xlink:href=\"#DejaVuSans-5f\" x=\"148.242188\"/>\n      <use xlink:href=\"#DejaVuSans-61\" x=\"198.242188\"/>\n      <use xlink:href=\"#DejaVuSans-63\" x=\"259.521484\"/>\n      <use xlink:href=\"#DejaVuSans-63\" x=\"314.501953\"/>\n     </g>\n    </g>\n   </g>\n  </g>\n </g>\n <defs>\n  <clipPath id=\"paa0a6f05f4\">\n   <rect x=\"30.103125\" y=\"7.2\" width=\"195.3\" height=\"138.6\"/>\n  </clipPath>\n </defs>\n</svg>\n",
            "text/plain": [
              "<Figure size 350x250 with 1 Axes>"
            ]
          },
          "metadata": {},
          "output_type": "display_data"
        }
      ],
      "source": [
        "model = AlexNet(lr=0.01)\n",
        "data = d2l.FashionMNIST(batch_size=128, resize=(224, 224))\n",
        "trainer = d2l.Trainer(max_epochs=10, num_gpus=1)\n",
        "trainer.fit(model, data)"
      ]
    },
    {
      "cell_type": "markdown",
      "metadata": {
        "id": "U9zR10YCWHgK"
      },
      "source": [
        "## **Exercises**\n",
        "\n",
        "1. Following up on the discussion above, analyze the computational properties of AlexNet.\n",
        "    1. Compute the memory footprint for convolutions and fully connected layers, respectively. Which one dominates?\n",
        "    1. Calculate the computational cost for the convolutions and the fully connected layers.\n",
        "    1. How does the memory (read and write bandwidth, latency, size) affect computation? Is there any difference in its effects for training and inference?\n",
        "1. You are a chip designer and need to trade off computation and memory bandwidth. For example, a faster chip requires more power and possibly a larger chip area. More memory bandwidth requires more pins and control logic, thus also more area. How do you optimize?\n",
        "1. Why do engineers no longer report performance benchmarks on AlexNet?\n",
        "1. Try increasing the number of epochs when training AlexNet. Compared with LeNet, how do the results differ? Why?\n",
        "1. AlexNet may be too complex for the Fashion-MNIST dataset, in particular due to the low resolution of the initial images.\n",
        "    1. Try simplifying the model to make the training faster, while ensuring that the accuracy does not drop significantly.\n",
        "    1. Design a better model that works directly on 28x28 images.\n",
        "1. Modify the batch size, and observe the changes in throughput (images/s), accuracy, and GPU memory.\n",
        "1. Apply dropout and ReLU to LeNet-5. Does it improve? Can you improve things further by preprocessing to take advantage of the invariances inherent in the images?\n",
        "1. Can you make AlexNet overfit? Which feature do you need to remove or change to break training?\n"
      ]
    },
    {
      "cell_type": "markdown",
      "metadata": {
        "id": "WGr2q1fTAWhz"
      },
      "source": [
        "## **Exercises Solution**"
      ]
    },
    {
      "cell_type": "markdown",
      "metadata": {
        "id": "jSLHfqV8rmRt"
      },
      "source": [
        "1.1"
      ]
    },
    {
      "cell_type": "code",
      "execution_count": null,
      "metadata": {
        "colab": {
          "base_uri": "https://localhost:8080/"
        },
        "id": "QmtR5i1Kq3Fu",
        "outputId": "ae614727-eb4a-4eb0-98ef-3ea47f202e79"
      },
      "outputs": [
        {
          "name": "stdout",
          "output_type": "stream",
          "text": [
            "Number of parameters for convolutional layers: 3745824\n",
            "Number of parameters for fully connected layers: 54566912\n",
            "Memory footprint for convolutional layers: 14983296 bytes\n",
            "Memory footprint for fully connected layers: 218267648 bytes\n"
          ]
        }
      ],
      "source": [
        "# Convolutional layer parameters\n",
        "num_params_conv = 96 * 3 * 11 * 11 + 256 * 96 * 5 * 5 + 384 * 256 * 3 * 3 + 384 * 384 * 3 * 3 + 256 * 384 * 3 * 3\n",
        "print(f\"Number of parameters for convolutional layers: {num_params_conv}\")\n",
        "\n",
        "# Fully connected layer parameters\n",
        "num_params_fc = 9216 * 4096 + 4096 * 4096 + 4096 * 10\n",
        "print(f\"Number of parameters for fully connected layers: {num_params_fc}\")\n",
        "\n",
        "# Compute memory footprint for convolutional layers\n",
        "memory_footprint_conv = num_params_conv * np.float32(0).nbytes\n",
        "print(f\"Memory footprint for convolutional layers: {memory_footprint_conv} bytes\")\n",
        "\n",
        "# Compute memory footprint for fully connected layers\n",
        "memory_footprint_fc = num_params_fc * np.float32(0).nbytes\n",
        "print(f\"Memory footprint for fully connected layers: {memory_footprint_fc} bytes\")"
      ]
    },
    {
      "cell_type": "markdown",
      "metadata": {
        "id": "eBSXnx7KriZf"
      },
      "source": [
        "The fully connected layers dominate the memory footprint in this case.\n",
        "\n",
        "\n"
      ]
    },
    {
      "cell_type": "markdown",
      "metadata": {
        "id": "K4_EUJLYtRrS"
      },
      "source": [
        "1.2"
      ]
    },
    {
      "cell_type": "code",
      "execution_count": null,
      "metadata": {
        "colab": {
          "base_uri": "https://localhost:8080/"
        },
        "id": "8OvUdLlAtMmy",
        "outputId": "bfb35dc5-a63f-4d43-d139-fcd1e0567339"
      },
      "outputs": [
        {
          "name": "stdout",
          "output_type": "stream",
          "text": [
            "Conv layer 11: 1748533248 operations\n",
            "Conv layer 5: 447897600 operations\n",
            "Conv layer 3: 149520384 operations\n",
            "Conv layer 3: 224280576 operations\n",
            "Conv layer 3: 149520384 operations\n",
            "Total conv cost: 2719752192 operations\n",
            "FC layer 43264 -> 4096: 177209344 operations\n",
            "FC layer 4096 -> 4096: 16777216 operations\n",
            "FC layer 4096 -> 1000: 4096000 operations\n",
            "Total FC cost: 198082560 operations\n",
            "Total AlexNet cost: 2917834752 operations\n"
          ]
        }
      ],
      "source": [
        "def calculate_conv_cost(kernel_size, input_shape, output_shape, num_channels):\n",
        "    return input_shape[0] * input_shape[1] * kernel_size * kernel_size * num_channels * output_shape[2]\n",
        "\n",
        "def calculate_fc_cost(input_shape, output_shape):\n",
        "    return input_shape * output_shape\n",
        "\n",
        "# Convolutional layers\n",
        "conv_layers = [\n",
        "    {\"kernel_size\": 11, \"input_shape\": (224, 224, 3), \"output_shape\": (55, 55, 96)},\n",
        "    {\"kernel_size\": 5, \"input_shape\": (27, 27, 96), \"output_shape\": (27, 27, 256)},\n",
        "    {\"kernel_size\": 3, \"input_shape\": (13, 13, 256), \"output_shape\": (13, 13, 384)},\n",
        "    {\"kernel_size\": 3, \"input_shape\": (13, 13, 384), \"output_shape\": (13, 13, 384)},\n",
        "    {\"kernel_size\": 3, \"input_shape\": (13, 13, 384), \"output_shape\": (13, 13, 256)},\n",
        "]\n",
        "\n",
        "conv_cost = 0\n",
        "for layer in conv_layers:\n",
        "    cost = calculate_conv_cost(layer[\"kernel_size\"], layer[\"input_shape\"], layer[\"output_shape\"], layer[\"input_shape\"][2])\n",
        "    conv_cost += cost\n",
        "    print(f\"Conv layer {layer['kernel_size']}: {cost} operations\")\n",
        "\n",
        "print(f\"Total conv cost: {conv_cost} operations\")\n",
        "\n",
        "# Fully connected layers\n",
        "fc_layers = [\n",
        "    {\"input_shape\": 13*13*256, \"output_shape\": 4096},\n",
        "    {\"input_shape\": 4096, \"output_shape\": 4096},\n",
        "    {\"input_shape\": 4096, \"output_shape\": 1000},  # assuming num_classes = 1000\n",
        "]\n",
        "\n",
        "fc_cost = 0\n",
        "for layer in fc_layers:\n",
        "    cost = calculate_fc_cost(layer[\"input_shape\"], layer[\"output_shape\"])\n",
        "    fc_cost += cost\n",
        "    print(f\"FC layer {layer['input_shape']} -> {layer['output_shape']}: {cost} operations\")\n",
        "\n",
        "print(f\"Total FC cost: {fc_cost} operations\")\n",
        "\n",
        "print(f\"Total AlexNet cost: {conv_cost + fc_cost} operations\")"
      ]
    },
    {
      "cell_type": "markdown",
      "metadata": {
        "id": "iLlu1S5AvZhe"
      },
      "source": [
        "1.3\n",
        "\n",
        "Memory bandwidth refers to the rate at which data can be transferred between the memory and the processing unit. In the context of deep learning, memory bandwidth is critical for feeding the massive amounts of data required for training and inference.\n",
        "\n",
        "- Training: During training, the model needs to access and process large amounts of data, including the input images, weights, and intermediate results. A higher memory bandwidth allows for faster data transfer, reducing the time spent on data loading and increasing the overall training speed.\n",
        "- Inference: Inference typically involves processing a single input image or a batch of images. While memory bandwidth is still important, the impact is less significant compared to training, as the amount of data being transferred is smaller.\n",
        "\n",
        "Memory latency refers to the time it takes for the processing unit to access data from memory. In deep learning, memory latency can significantly impact performance, especially when dealing with large models and datasets.\n",
        "\n",
        "- Training: High memory latency can slow down training by increasing the time spent on data loading and weight updates. This can lead to longer training times and reduced model convergence rates.\n",
        "\n",
        "- Inference: Inference is more sensitive to memory latency, as it typically involves processing a single input image or a batch of images. High memory latency can result in slower inference times, which can be critical in real-time applications.\n",
        "\n",
        "Memory size refers to the amount of memory available for storing data and model weights. In deep learning, memory size is critical for accommodating large models and datasets.\n",
        "\n",
        "- Training: Large models require significant amounts of memory to store weights, biases, and intermediate results. Insufficient memory can lead to out-of-memory errors, forcing the model to be split across multiple devices or reducing the batch size, which can impact training speed and convergence.\n",
        "- Inference: Inference typically requires less memory compared to training, as only the model weights and input data need to be stored. However, large models can still require significant amounts of memory, and insufficient memory can lead to out-of-memory errors or reduced performance."
      ]
    },
    {
      "cell_type": "markdown",
      "metadata": {
        "id": "VgzMQjauAIji"
      },
      "source": [
        "2. Memory bandwidth and latency can significantly affect the performance of AlexNet. During training, the model needs to access the weights and activations of each layer, which can lead to a high memory bandwidth requirement. Inference also requires accessing the weights and activations, but the memory bandwidth requirement is lower since the model only needs to access the weights once.\n",
        "\n",
        "  To optimize the memory bandwidth and latency, we can use techniques such as:\n",
        "\n",
        "  - Data parallelism: Split the data across multiple GPUs to reduce the memory bandwidth requirement.\n",
        "  - Model parallelism: Split the model across multiple GPUs to reduce the memory bandwidth requirement.\n",
        "  - Weight sharing: Share the weights across multiple layers to reduce the memory bandwidth requirement.\n",
        "  - Activation compression: Compress the activations to reduce the memory bandwidth requirement.\n",
        "\n",
        "  To optimize the computation and memory bandwidth, we can use techniques such as:\n",
        " - Quantization: Reduce the precision of the weights and activations to reduce the memory bandwidth requirement.\n",
        " - Pruning: Remove unnecessary weights and connections to reduce the computational cost.\n",
        " - Knowledge distillation: Train a smaller model to mimic the behavior of a larger model to reduce the computational cost."
      ]
    },
    {
      "cell_type": "markdown",
      "metadata": {
        "id": "DLnyDL75AZqR"
      },
      "source": [
        "3. Engineers no longer report performance benchmarks on AlexNet because it is an outdated model. Modern models such as ResNet and DenseNet have better performance and are more widely used."
      ]
    },
    {
      "cell_type": "markdown",
      "metadata": {
        "id": "fRK3g9f3A5py"
      },
      "source": [
        "4. Increasing the number of epochs will generally allow the model to learn more complex features from the training data, which should improve accuracy up to a point. However, because of its deeper architecture and higher capacity, AlexNet might benefit more from additional epochs compared to LeNet. In contrast, LeNet may saturate faster because of its smaller capacity and simpler structure."
      ]
    },
    {
      "cell_type": "markdown",
      "metadata": {
        "id": "myMN9DjnA9-s"
      },
      "source": [
        "5."
      ]
    },
    {
      "cell_type": "code",
      "execution_count": null,
      "metadata": {
        "colab": {
          "base_uri": "https://localhost:8080/"
        },
        "id": "GTYy_6nl7IN0",
        "outputId": "a132929e-fc9a-4d12-fa77-386c154ddfac"
      },
      "outputs": [
        {
          "name": "stdout",
          "output_type": "stream",
          "text": [
            "Downloading http://fashion-mnist.s3-website.eu-central-1.amazonaws.com/train-images-idx3-ubyte.gz\n",
            "Downloading http://fashion-mnist.s3-website.eu-central-1.amazonaws.com/train-images-idx3-ubyte.gz to /root/.pytorch/F_MNIST_data/FashionMNIST/raw/train-images-idx3-ubyte.gz\n"
          ]
        },
        {
          "name": "stderr",
          "output_type": "stream",
          "text": [
            "100%|██████████| 26421880/26421880 [00:07<00:00, 3699354.28it/s]\n"
          ]
        },
        {
          "name": "stdout",
          "output_type": "stream",
          "text": [
            "Extracting /root/.pytorch/F_MNIST_data/FashionMNIST/raw/train-images-idx3-ubyte.gz to /root/.pytorch/F_MNIST_data/FashionMNIST/raw\n",
            "\n",
            "Downloading http://fashion-mnist.s3-website.eu-central-1.amazonaws.com/train-labels-idx1-ubyte.gz\n",
            "Downloading http://fashion-mnist.s3-website.eu-central-1.amazonaws.com/train-labels-idx1-ubyte.gz to /root/.pytorch/F_MNIST_data/FashionMNIST/raw/train-labels-idx1-ubyte.gz\n"
          ]
        },
        {
          "name": "stderr",
          "output_type": "stream",
          "text": [
            "100%|██████████| 29515/29515 [00:00<00:00, 211651.36it/s]\n"
          ]
        },
        {
          "name": "stdout",
          "output_type": "stream",
          "text": [
            "Extracting /root/.pytorch/F_MNIST_data/FashionMNIST/raw/train-labels-idx1-ubyte.gz to /root/.pytorch/F_MNIST_data/FashionMNIST/raw\n",
            "\n",
            "Downloading http://fashion-mnist.s3-website.eu-central-1.amazonaws.com/t10k-images-idx3-ubyte.gz\n",
            "Downloading http://fashion-mnist.s3-website.eu-central-1.amazonaws.com/t10k-images-idx3-ubyte.gz to /root/.pytorch/F_MNIST_data/FashionMNIST/raw/t10k-images-idx3-ubyte.gz\n"
          ]
        },
        {
          "name": "stderr",
          "output_type": "stream",
          "text": [
            "100%|██████████| 4422102/4422102 [00:05<00:00, 873457.04it/s] \n"
          ]
        },
        {
          "name": "stdout",
          "output_type": "stream",
          "text": [
            "Extracting /root/.pytorch/F_MNIST_data/FashionMNIST/raw/t10k-images-idx3-ubyte.gz to /root/.pytorch/F_MNIST_data/FashionMNIST/raw\n",
            "\n",
            "Downloading http://fashion-mnist.s3-website.eu-central-1.amazonaws.com/t10k-labels-idx1-ubyte.gz\n",
            "Downloading http://fashion-mnist.s3-website.eu-central-1.amazonaws.com/t10k-labels-idx1-ubyte.gz to /root/.pytorch/F_MNIST_data/FashionMNIST/raw/t10k-labels-idx1-ubyte.gz\n"
          ]
        },
        {
          "name": "stderr",
          "output_type": "stream",
          "text": [
            "100%|██████████| 5148/5148 [00:00<00:00, 5745683.07it/s]\n"
          ]
        },
        {
          "name": "stdout",
          "output_type": "stream",
          "text": [
            "Extracting /root/.pytorch/F_MNIST_data/FashionMNIST/raw/t10k-labels-idx1-ubyte.gz to /root/.pytorch/F_MNIST_data/FashionMNIST/raw\n",
            "\n",
            "Epoch 1, Loss: 1.17440701255412\n",
            "Epoch 2, Loss: 0.604540493315471\n",
            "Epoch 3, Loss: 0.522608035091144\n",
            "Epoch 4, Loss: 0.46822029587302383\n",
            "Epoch 5, Loss: 0.4329422755377379\n",
            "Epoch 6, Loss: 0.40637398102898586\n",
            "Epoch 7, Loss: 0.38739367266263025\n",
            "Epoch 8, Loss: 0.3705151272512702\n",
            "Epoch 9, Loss: 0.35714250982506696\n",
            "Epoch 10, Loss: 0.3453766390014051\n",
            "Test Loss: 0.38272792005994516\n",
            "Test Accuracy: 0.86%\n"
          ]
        }
      ],
      "source": [
        "import torch\n",
        "import torch.nn as nn\n",
        "import torch.optim as optim\n",
        "from torchvision import datasets, transforms\n",
        "\n",
        "# Define the simplified model\n",
        "class SimplifiedCNN(nn.Module):\n",
        "    def __init__(self):\n",
        "        super(SimplifiedCNN, self).__init__()\n",
        "        # Use fewer filters and smaller layers\n",
        "        self.conv1 = nn.Conv2d(1, 32, kernel_size=3, padding=1)  # 1 input channel (grayscale), 32 filters\n",
        "        self.conv2 = nn.Conv2d(32, 64, kernel_size=3, padding=1) # 64 filters in second layer\n",
        "        self.fc1 = nn.Linear(64*7*7, 128)  # Reduced fully connected layer\n",
        "        self.fc2 = nn.Linear(128, 10)      # Output layer for 10 classes\n",
        "\n",
        "    def forward(self, x):\n",
        "        x = torch.relu(torch.max_pool2d(self.conv1(x), 2))  # Max pool reduces to 14x14\n",
        "        x = torch.relu(torch.max_pool2d(self.conv2(x), 2))  # Max pool reduces to 7x7\n",
        "        x = x.view(x.size(0), -1)  # Flatten the tensor\n",
        "        x = torch.relu(self.fc1(x))\n",
        "        x = self.fc2(x)\n",
        "        return x\n",
        "\n",
        "# Load Fashion-MNIST dataset\n",
        "transform = transforms.Compose([transforms.ToTensor()])\n",
        "trainset = datasets.FashionMNIST('~/.pytorch/F_MNIST_data/', download=True, train=True, transform=transform)\n",
        "trainloader = torch.utils.data.DataLoader(trainset, batch_size=64, shuffle=True)\n",
        "\n",
        "testset = datasets.FashionMNIST('~/.pytorch/F_MNIST_data/', download=True, train=False, transform=transform)\n",
        "testloader = torch.utils.data.DataLoader(testset, batch_size=64, shuffle=False)\n",
        "\n",
        "# Initialize the model, loss function, and optimizer\n",
        "model = SimplifiedCNN()\n",
        "criterion = nn.CrossEntropyLoss()\n",
        "optimizer = optim.SGD(model.parameters(), lr=0.01)\n",
        "\n",
        "# Train the model for 10 epochs\n",
        "num_epochs = 10\n",
        "for epoch in range(num_epochs):\n",
        "    running_loss = 0.0\n",
        "    for i, data in enumerate(trainloader, 0):\n",
        "        inputs, labels = data\n",
        "        optimizer.zero_grad()\n",
        "        outputs = model(inputs)\n",
        "        loss = criterion(outputs, labels)\n",
        "        loss.backward()\n",
        "        optimizer.step()\n",
        "        running_loss += loss.item()\n",
        "    print(f'Epoch {epoch+1}, Loss: {running_loss/len(trainloader)}')\n",
        "\n",
        "# Evaluate the model on the test set\n",
        "model.eval()\n",
        "test_loss = 0\n",
        "correct = 0\n",
        "with torch.no_grad():\n",
        "    for data in testloader:\n",
        "        images, labels = data\n",
        "        outputs = model(images)\n",
        "        loss = criterion(outputs, labels)\n",
        "        test_loss += loss.item()\n",
        "        _, predicted = torch.max(outputs, 1)\n",
        "        correct += (predicted == labels).sum().item()\n",
        "\n",
        "accuracy = correct / len(testloader.dataset)\n",
        "print(f'Test Loss: {test_loss / len(testloader)}')\n",
        "print(f'Test Accuracy: {accuracy:.2f}%')\n"
      ]
    },
    {
      "cell_type": "markdown",
      "metadata": {
        "id": "dT4in1_C9lRX"
      },
      "source": [
        "6."
      ]
    },
    {
      "cell_type": "code",
      "execution_count": null,
      "metadata": {
        "colab": {
          "base_uri": "https://localhost:8080/"
        },
        "id": "grSBQlO474Gr",
        "outputId": "d9b29f43-f1ea-4820-c00b-f0df8df0aa37"
      },
      "outputs": [
        {
          "name": "stdout",
          "output_type": "stream",
          "text": [
            "\n",
            "Batch Size: 32\n",
            "Throughput: 2772.19 images/sec\n",
            "Test Loss: 0.5261\n",
            "Test Accuracy: 0.81%\n",
            "GPU Memory Allocated: 377.70 MB\n",
            "GPU Memory Cached: 1464.00 MB\n",
            "\n",
            "Batch Size: 64\n",
            "Throughput: 3383.30 images/sec\n",
            "Test Loss: 0.6655\n",
            "Test Accuracy: 0.75%\n",
            "GPU Memory Allocated: 377.34 MB\n",
            "GPU Memory Cached: 1464.00 MB\n",
            "\n",
            "Batch Size: 128\n",
            "Throughput: 3663.99 images/sec\n",
            "Test Loss: 0.7494\n",
            "Test Accuracy: 0.70%\n",
            "GPU Memory Allocated: 377.60 MB\n",
            "GPU Memory Cached: 1464.00 MB\n",
            "\n",
            "Batch Size: 256\n",
            "Throughput: 3765.76 images/sec\n",
            "Test Loss: 0.7700\n",
            "Test Accuracy: 0.73%\n",
            "GPU Memory Allocated: 377.63 MB\n",
            "GPU Memory Cached: 1464.00 MB\n"
          ]
        }
      ],
      "source": [
        "# Function to test with different batch sizes\n",
        "def test_batch_sizes(batch_sizes, num_epochs=1, lr=0.01):\n",
        "    device = torch.device(\"cuda\" if torch.cuda.is_available() else \"cpu\")\n",
        "    for batch_size in batch_sizes:\n",
        "        trainloader = torch.utils.data.DataLoader(trainset, batch_size=batch_size, shuffle=True)\n",
        "        testloader = torch.utils.data.DataLoader(testset, batch_size=batch_size, shuffle=False)\n",
        "\n",
        "        # Initialize model, criterion, optimizer\n",
        "        model = SimplifiedCNN().to(device)\n",
        "        criterion = nn.CrossEntropyLoss()\n",
        "        optimizer = optim.SGD(model.parameters(), lr=lr)\n",
        "\n",
        "        # Track GPU memory and throughput\n",
        "        start_time = time.time()\n",
        "\n",
        "        # Training loop\n",
        "        model.train()\n",
        "        for epoch in range(num_epochs):\n",
        "            running_loss = 0.0\n",
        "            total_images = 0\n",
        "            for i, data in enumerate(trainloader, 0):\n",
        "                inputs, labels = data\n",
        "                inputs, labels = inputs.to(device), labels.to(device)\n",
        "\n",
        "                optimizer.zero_grad()\n",
        "                outputs = model(inputs)\n",
        "                loss = criterion(outputs, labels)\n",
        "                loss.backward()\n",
        "                optimizer.step()\n",
        "\n",
        "                running_loss += loss.item()\n",
        "                total_images += inputs.size(0)\n",
        "\n",
        "        end_time = time.time()\n",
        "        elapsed_time = end_time - start_time\n",
        "        throughput = total_images / elapsed_time\n",
        "\n",
        "        # Evaluate model on test set\n",
        "        model.eval()\n",
        "        test_loss = 0\n",
        "        correct = 0\n",
        "        with torch.no_grad():\n",
        "            for data in testloader:\n",
        "                images, labels = data\n",
        "                images, labels = images.to(device), labels.to(device)\n",
        "                outputs = model(images)\n",
        "                loss = criterion(outputs, labels)\n",
        "                test_loss += loss.item()\n",
        "                _, predicted = torch.max(outputs, 1)\n",
        "                correct += (predicted == labels).sum().item()\n",
        "\n",
        "        accuracy = correct / len(testloader.dataset)\n",
        "        avg_loss = test_loss / len(testloader)\n",
        "\n",
        "        # Print results\n",
        "        print(f\"\\nBatch Size: {batch_size}\")\n",
        "        print(f\"Throughput: {throughput:.2f} images/sec\")\n",
        "        print(f\"Test Loss: {avg_loss:.4f}\")\n",
        "        print(f\"Test Accuracy: {accuracy:.2f}%\")\n",
        "\n",
        "        # GPU memory usage (if using CUDA)\n",
        "        if torch.cuda.is_available():\n",
        "            print(f\"GPU Memory Allocated: {torch.cuda.memory_allocated() / (1024 ** 2):.2f} MB\")\n",
        "            print(f\"GPU Memory Cached: {torch.cuda.memory_reserved() / (1024 ** 2):.2f} MB\")\n",
        "\n",
        "# Test different batch sizes\n",
        "batch_sizes = [32, 64, 128, 256]\n",
        "test_batch_sizes(batch_sizes, num_epochs=2)"
      ]
    },
    {
      "cell_type": "markdown",
      "metadata": {
        "id": "ujLyU1dJBWGb"
      },
      "source": [
        "7. Applying dropout and ReLU can improve the performance of LeNet-5. Dropout can prevent overfitting by randomly dropping out neurons during training. ReLU can improve the performance by introducing non-linearity into the model.\n",
        "\n"
      ]
    },
    {
      "cell_type": "code",
      "execution_count": null,
      "metadata": {
        "colab": {
          "base_uri": "https://localhost:8080/"
        },
        "id": "mzUD_pMY8RAw",
        "outputId": "644d57cc-3aa5-41ad-fe49-f384ae4eb52e"
      },
      "outputs": [
        {
          "name": "stdout",
          "output_type": "stream",
          "text": [
            "Epoch 1, Loss: 2.230672042125832\n",
            "Epoch 2, Loss: 1.329217522637422\n",
            "Epoch 3, Loss: 0.9832039315309098\n",
            "Epoch 4, Loss: 0.8733045899791758\n",
            "Epoch 5, Loss: 0.8114903843415572\n",
            "Epoch 6, Loss: 0.768190414317127\n",
            "Epoch 7, Loss: 0.7327789619151972\n",
            "Epoch 8, Loss: 0.7064880552703637\n",
            "Epoch 9, Loss: 0.6857153453679481\n",
            "Epoch 10, Loss: 0.6678833478549396\n",
            "Test Loss: 0.5643140142131003\n",
            "Test Accuracy: 0.77%\n"
          ]
        }
      ],
      "source": [
        "import torch.optim as optim\n",
        "# Define LeNet-5 with Dropout and ReLU\n",
        "class LeNet5DropoutReLU(nn.Module):\n",
        "    def __init__(self):\n",
        "        super(LeNet5DropoutReLU, self).__init__()\n",
        "        self.conv1 = nn.Conv2d(1, 6, kernel_size=5)  # Grayscale input\n",
        "        self.conv2 = nn.Conv2d(6, 16, kernel_size=5)\n",
        "        self.fc1 = nn.Linear(16*4*4, 120)\n",
        "        self.fc2 = nn.Linear(120, 84)\n",
        "        self.fc3 = nn.Linear(84, 10)\n",
        "        self.dropout = nn.Dropout(0.5)  # Dropout with 50% probability\n",
        "\n",
        "    def forward(self, x):\n",
        "        x = torch.relu(torch.max_pool2d(self.conv1(x), 2))  # ReLU and Max-pooling\n",
        "        x = torch.relu(torch.max_pool2d(self.conv2(x), 2))  # ReLU and Max-pooling\n",
        "        x = x.view(x.size(0), -1)  # Flatten the tensor\n",
        "        x = torch.relu(self.fc1(x))\n",
        "        x = self.dropout(x)  # Apply dropout after first FC layer\n",
        "        x = torch.relu(self.fc2(x))\n",
        "        x = self.dropout(x)  # Apply dropout after second FC layer\n",
        "        x = self.fc3(x)\n",
        "        return x\n",
        "\n",
        "# Data preprocessing with augmentation (to exploit invariances)\n",
        "transform = transforms.Compose([\n",
        "    transforms.RandomHorizontalFlip(),  # Horizontal flip\n",
        "    transforms.RandomRotation(10),      # Random rotation by ±10 degrees\n",
        "    transforms.ToTensor(),\n",
        "])\n",
        "\n",
        "# Load Fashion-MNIST dataset with preprocessing\n",
        "trainset = datasets.FashionMNIST('~/.pytorch/F_MNIST_data/', download=True, train=True, transform=transform)\n",
        "trainloader = torch.utils.data.DataLoader(trainset, batch_size=64, shuffle=True)\n",
        "\n",
        "testset = datasets.FashionMNIST('~/.pytorch/F_MNIST_data/', download=True, train=False, transform=transforms.ToTensor())\n",
        "testloader = torch.utils.data.DataLoader(testset, batch_size=64, shuffle=False)\n",
        "\n",
        "# Initialize the model, loss function, and optimizer\n",
        "model = LeNet5DropoutReLU()\n",
        "criterion = nn.CrossEntropyLoss()\n",
        "optimizer = optim.SGD(model.parameters(), lr=0.01)\n",
        "\n",
        "# Training the model\n",
        "num_epochs = 10\n",
        "for epoch in range(num_epochs):\n",
        "    running_loss = 0.0\n",
        "    for i, data in enumerate(trainloader, 0):\n",
        "        inputs, labels = data\n",
        "        optimizer.zero_grad()\n",
        "        outputs = model(inputs)\n",
        "        loss = criterion(outputs, labels)\n",
        "        loss.backward()\n",
        "        optimizer.step()\n",
        "        running_loss += loss.item()\n",
        "    print(f'Epoch {epoch+1}, Loss: {running_loss/len(trainloader)}')\n",
        "\n",
        "# Evaluating the model\n",
        "model.eval()\n",
        "test_loss = 0\n",
        "correct = 0\n",
        "with torch.no_grad():\n",
        "    for data in testloader:\n",
        "        images, labels = data\n",
        "        outputs = model(images)\n",
        "        loss = criterion(outputs, labels)\n",
        "        test_loss += loss.item()\n",
        "        _, predicted = torch.max(outputs, 1)\n",
        "        correct += (predicted == labels).sum().item()\n",
        "\n",
        "accuracy = correct / len(testloader.dataset)\n",
        "print(f'Test Loss: {test_loss / len(testloader)}')\n",
        "print(f'Test Accuracy: {accuracy:.2f}%')"
      ]
    },
    {
      "cell_type": "markdown",
      "metadata": {
        "id": "1KjrdfrhBakZ"
      },
      "source": [
        "8."
      ]
    },
    {
      "cell_type": "code",
      "execution_count": null,
      "metadata": {
        "colab": {
          "base_uri": "https://localhost:8080/"
        },
        "id": "LXq3J7j6961G",
        "outputId": "aa0c73ca-3ffe-41ba-f450-d3bb7157c1ba"
      },
      "outputs": [
        {
          "name": "stdout",
          "output_type": "stream",
          "text": [
            "Epoch 1, Loss: 2.3006846234202385\n",
            "Epoch 2, Loss: 2.2934848740696907\n",
            "Epoch 3, Loss: 2.285925790667534\n",
            "Epoch 4, Loss: 2.277691274881363\n",
            "Epoch 5, Loss: 2.265421971678734\n",
            "Epoch 6, Loss: 2.248522900044918\n",
            "Epoch 7, Loss: 2.2218281626701355\n",
            "Epoch 8, Loss: 2.1783322393894196\n",
            "Epoch 9, Loss: 2.0935524329543114\n",
            "Epoch 10, Loss: 1.9208100885152817\n",
            "Epoch 11, Loss: 1.6397709138691425\n",
            "Epoch 12, Loss: 1.3951697573065758\n",
            "Epoch 13, Loss: 1.273392055183649\n",
            "Epoch 14, Loss: 1.1688975654542446\n",
            "Epoch 15, Loss: 1.1329743191599846\n",
            "Epoch 16, Loss: 1.068738516420126\n",
            "Epoch 17, Loss: 1.031604902818799\n",
            "Epoch 18, Loss: 0.9923871289938688\n",
            "Epoch 19, Loss: 0.9748083613812923\n",
            "Epoch 20, Loss: 0.9367751218378544\n",
            "Test Loss: 1.091561740008406\n",
            "Test Accuracy: 0.55%\n"
          ]
        }
      ],
      "source": [
        "# Define AlexNet (without dropout)\n",
        "class AlexNetOverfit(nn.Module):\n",
        "    def __init__(self):\n",
        "        super(AlexNetOverfit, self).__init__()\n",
        "        self.conv1 = nn.Conv2d(1, 96, kernel_size=3, padding=1)\n",
        "        self.conv2 = nn.Conv2d(96, 256, kernel_size=3, padding=1)\n",
        "        self.conv3 = nn.Conv2d(256, 384, kernel_size=3, padding=1)\n",
        "        self.fc1 = nn.Linear(384*3*3, 512)  # Reduced size to fit 28x28 images\n",
        "        self.fc2 = nn.Linear(512, 10)  # Output layer for 10 classes\n",
        "\n",
        "    def forward(self, x):\n",
        "        x = torch.relu(torch.max_pool2d(self.conv1(x), 2))\n",
        "        x = torch.relu(torch.max_pool2d(self.conv2(x), 2))\n",
        "        x = torch.relu(torch.max_pool2d(self.conv3(x), 2))\n",
        "        x = x.view(x.size(0), -1)  # Flatten the tensor\n",
        "        x = torch.relu(self.fc1(x))\n",
        "        x = self.fc2(x)\n",
        "        return x\n",
        "\n",
        "# Load Fashion-MNIST dataset with minimal preprocessing (no augmentation)\n",
        "transform = transforms.Compose([\n",
        "    transforms.ToTensor(),  # No augmentation, only convert to tensor\n",
        "])\n",
        "\n",
        "trainset = datasets.FashionMNIST('~/.pytorch/F_MNIST_data/', download=True, train=True, transform=transform)\n",
        "# Use only a small subset of data to induce overfitting\n",
        "small_trainset, _ = torch.utils.data.random_split(trainset, [1000, len(trainset) - 1000])\n",
        "\n",
        "trainloader = torch.utils.data.DataLoader(small_trainset, batch_size=32, shuffle=True)\n",
        "testset = datasets.FashionMNIST('~/.pytorch/F_MNIST_data/', download=True, train=False, transform=transforms.ToTensor())\n",
        "testloader = torch.utils.data.DataLoader(testset, batch_size=32, shuffle=False)\n",
        "\n",
        "# Initialize the model, loss function, and optimizer (no weight decay)\n",
        "model = AlexNetOverfit()\n",
        "criterion = nn.CrossEntropyLoss()\n",
        "optimizer = optim.SGD(model.parameters(), lr=0.01, weight_decay=0)  # Disable L2 regularization\n",
        "\n",
        "# Training loop\n",
        "num_epochs = 20\n",
        "for epoch in range(num_epochs):\n",
        "    model.train()\n",
        "    running_loss = 0.0\n",
        "    for i, data in enumerate(trainloader, 0):\n",
        "        inputs, labels = data\n",
        "        optimizer.zero_grad()\n",
        "        outputs = model(inputs)\n",
        "        loss = criterion(outputs, labels)\n",
        "        loss.backward()\n",
        "        optimizer.step()\n",
        "        running_loss += loss.item()\n",
        "    print(f'Epoch {epoch+1}, Loss: {running_loss/len(trainloader)}')\n",
        "\n",
        "# Evaluate the model\n",
        "model.eval()\n",
        "test_loss = 0\n",
        "correct = 0\n",
        "with torch.no_grad():\n",
        "    for data in testloader:\n",
        "        images, labels = data\n",
        "        outputs = model(images)\n",
        "        loss = criterion(outputs, labels)\n",
        "        test_loss += loss.item()\n",
        "        _, predicted = torch.max(outputs, 1)\n",
        "        correct += (predicted == labels).sum().item()\n",
        "\n",
        "accuracy = correct / len(testloader.dataset)\n",
        "print(f'Test Loss: {test_loss / len(testloader)}')\n",
        "print(f'Test Accuracy: {accuracy:.2f}%')\n"
      ]
    },
    {
      "cell_type": "markdown",
      "metadata": {
        "id": "q0ri2-NFH54o"
      },
      "source": [
        "# **Networks Using Blocks (VGG)**"
      ]
    },
    {
      "cell_type": "markdown",
      "metadata": {
        "id": "tb8y7Vg8IxAx"
      },
      "source": [
        "## **VGG Blocks**"
      ]
    },
    {
      "cell_type": "code",
      "execution_count": null,
      "metadata": {
        "id": "DC87YPQEHWM2"
      },
      "outputs": [],
      "source": [
        "def vgg_block(num_convs, out_channels):\n",
        "    layers = []\n",
        "    for _ in range(num_convs):\n",
        "        layers.append(nn.LazyConv2d(out_channels, kernel_size=3, padding=1))\n",
        "        layers.append(nn.ReLU())\n",
        "    layers.append(nn.MaxPool2d(kernel_size=2,stride=2))\n",
        "    return nn.Sequential(*layers)"
      ]
    },
    {
      "cell_type": "markdown",
      "metadata": {
        "id": "UdCFfO8qI2cE"
      },
      "source": [
        "## **VGG Network**"
      ]
    },
    {
      "cell_type": "code",
      "execution_count": null,
      "metadata": {
        "id": "uiYGCv0KIzTf"
      },
      "outputs": [],
      "source": [
        "class VGG(d2l.Classifier):\n",
        "    def __init__(self, arch, lr=0.1, num_classes=10):\n",
        "        super().__init__()\n",
        "        self.save_hyperparameters()\n",
        "        conv_blks = []\n",
        "        for (num_convs, out_channels) in arch:\n",
        "            conv_blks.append(vgg_block(num_convs, out_channels))\n",
        "        self.net = nn.Sequential(\n",
        "            *conv_blks, nn.Flatten(),\n",
        "            nn.LazyLinear(4096), nn.ReLU(), nn.Dropout(0.5),\n",
        "            nn.LazyLinear(4096), nn.ReLU(), nn.Dropout(0.5),\n",
        "            nn.LazyLinear(num_classes))\n",
        "        self.net.apply(d2l.init_cnn)"
      ]
    },
    {
      "cell_type": "code",
      "execution_count": null,
      "metadata": {
        "colab": {
          "base_uri": "https://localhost:8080/"
        },
        "id": "2FYCC05PI6pu",
        "outputId": "96fb0ad0-c28c-4895-e924-352a58e5f063"
      },
      "outputs": [
        {
          "name": "stdout",
          "output_type": "stream",
          "text": [
            "Sequential output shape:\t torch.Size([1, 64, 112, 112])\n",
            "Sequential output shape:\t torch.Size([1, 128, 56, 56])\n",
            "Sequential output shape:\t torch.Size([1, 256, 28, 28])\n",
            "Sequential output shape:\t torch.Size([1, 512, 14, 14])\n",
            "Sequential output shape:\t torch.Size([1, 512, 7, 7])\n",
            "Flatten output shape:\t torch.Size([1, 25088])\n",
            "Linear output shape:\t torch.Size([1, 4096])\n",
            "ReLU output shape:\t torch.Size([1, 4096])\n",
            "Dropout output shape:\t torch.Size([1, 4096])\n",
            "Linear output shape:\t torch.Size([1, 4096])\n",
            "ReLU output shape:\t torch.Size([1, 4096])\n",
            "Dropout output shape:\t torch.Size([1, 4096])\n",
            "Linear output shape:\t torch.Size([1, 10])\n"
          ]
        }
      ],
      "source": [
        "VGG(arch=((1, 64), (1, 128), (2, 256), (2, 512), (2, 512))).layer_summary(\n",
        "    (1, 1, 224, 224))"
      ]
    },
    {
      "cell_type": "markdown",
      "metadata": {
        "id": "7Ai6u9N2I-51"
      },
      "source": [
        "## **Training**"
      ]
    },
    {
      "cell_type": "code",
      "execution_count": null,
      "metadata": {
        "colab": {
          "base_uri": "https://localhost:8080/"
        },
        "id": "pPwHzRDgI9xp",
        "outputId": "114603a2-9fed-41fa-d846-27ea3ec15318"
      },
      "outputs": [
        {
          "data": {
            "image/svg+xml": "<?xml version=\"1.0\" encoding=\"utf-8\" standalone=\"no\"?>\n<!DOCTYPE svg PUBLIC \"-//W3C//DTD SVG 1.1//EN\"\n  \"http://www.w3.org/Graphics/SVG/1.1/DTD/svg11.dtd\">\n<svg xmlns:xlink=\"http://www.w3.org/1999/xlink\" width=\"238.965625pt\" height=\"183.35625pt\" viewBox=\"0 0 238.965625 183.35625\" xmlns=\"http://www.w3.org/2000/svg\" version=\"1.1\">\n <metadata>\n  <rdf:RDF xmlns:dc=\"http://purl.org/dc/elements/1.1/\" xmlns:cc=\"http://creativecommons.org/ns#\" xmlns:rdf=\"http://www.w3.org/1999/02/22-rdf-syntax-ns#\">\n   <cc:Work>\n    <dc:type rdf:resource=\"http://purl.org/dc/dcmitype/StillImage\"/>\n    <dc:date>2024-10-05T05:54:27.032323</dc:date>\n    <dc:format>image/svg+xml</dc:format>\n    <dc:creator>\n     <cc:Agent>\n      <dc:title>Matplotlib v3.7.2, https://matplotlib.org/</dc:title>\n     </cc:Agent>\n    </dc:creator>\n   </cc:Work>\n  </rdf:RDF>\n </metadata>\n <defs>\n  <style type=\"text/css\">*{stroke-linejoin: round; stroke-linecap: butt}</style>\n </defs>\n <g id=\"figure_1\">\n  <g id=\"patch_1\">\n   <path d=\"M 0 183.35625 \nL 238.965625 183.35625 \nL 238.965625 0 \nL 0 0 \nz\n\" style=\"fill: #ffffff\"/>\n  </g>\n  <g id=\"axes_1\">\n   <g id=\"patch_2\">\n    <path d=\"M 30.103125 145.8 \nL 225.403125 145.8 \nL 225.403125 7.2 \nL 30.103125 7.2 \nz\n\" style=\"fill: #ffffff\"/>\n   </g>\n   <g id=\"matplotlib.axis_1\">\n    <g id=\"xtick_1\">\n     <g id=\"line2d_1\">\n      <defs>\n       <path id=\"m81da2c596e\" d=\"M 0 0 \nL 0 3.5 \n\" style=\"stroke: #000000; stroke-width: 0.8\"/>\n      </defs>\n      <g>\n       <use xlink:href=\"#m81da2c596e\" x=\"30.103125\" y=\"145.8\" style=\"stroke: #000000; stroke-width: 0.8\"/>\n      </g>\n     </g>\n     <g id=\"text_1\">\n      <!-- 0 -->\n      <g transform=\"translate(26.921875 160.398438) scale(0.1 -0.1)\">\n       <defs>\n        <path id=\"DejaVuSans-30\" d=\"M 2034 4250 \nQ 1547 4250 1301 3770 \nQ 1056 3291 1056 2328 \nQ 1056 1369 1301 889 \nQ 1547 409 2034 409 \nQ 2525 409 2770 889 \nQ 3016 1369 3016 2328 \nQ 3016 3291 2770 3770 \nQ 2525 4250 2034 4250 \nz\nM 2034 4750 \nQ 2819 4750 3233 4129 \nQ 3647 3509 3647 2328 \nQ 3647 1150 3233 529 \nQ 2819 -91 2034 -91 \nQ 1250 -91 836 529 \nQ 422 1150 422 2328 \nQ 422 3509 836 4129 \nQ 1250 4750 2034 4750 \nz\n\" transform=\"scale(0.015625)\"/>\n       </defs>\n       <use xlink:href=\"#DejaVuSans-30\"/>\n      </g>\n     </g>\n    </g>\n    <g id=\"xtick_2\">\n     <g id=\"line2d_2\">\n      <g>\n       <use xlink:href=\"#m81da2c596e\" x=\"69.163125\" y=\"145.8\" style=\"stroke: #000000; stroke-width: 0.8\"/>\n      </g>\n     </g>\n     <g id=\"text_2\">\n      <!-- 2 -->\n      <g transform=\"translate(65.981875 160.398438) scale(0.1 -0.1)\">\n       <defs>\n        <path id=\"DejaVuSans-32\" d=\"M 1228 531 \nL 3431 531 \nL 3431 0 \nL 469 0 \nL 469 531 \nQ 828 903 1448 1529 \nQ 2069 2156 2228 2338 \nQ 2531 2678 2651 2914 \nQ 2772 3150 2772 3378 \nQ 2772 3750 2511 3984 \nQ 2250 4219 1831 4219 \nQ 1534 4219 1204 4116 \nQ 875 4013 500 3803 \nL 500 4441 \nQ 881 4594 1212 4672 \nQ 1544 4750 1819 4750 \nQ 2544 4750 2975 4387 \nQ 3406 4025 3406 3419 \nQ 3406 3131 3298 2873 \nQ 3191 2616 2906 2266 \nQ 2828 2175 2409 1742 \nQ 1991 1309 1228 531 \nz\n\" transform=\"scale(0.015625)\"/>\n       </defs>\n       <use xlink:href=\"#DejaVuSans-32\"/>\n      </g>\n     </g>\n    </g>\n    <g id=\"xtick_3\">\n     <g id=\"line2d_3\">\n      <g>\n       <use xlink:href=\"#m81da2c596e\" x=\"108.223125\" y=\"145.8\" style=\"stroke: #000000; stroke-width: 0.8\"/>\n      </g>\n     </g>\n     <g id=\"text_3\">\n      <!-- 4 -->\n      <g transform=\"translate(105.041875 160.398438) scale(0.1 -0.1)\">\n       <defs>\n        <path id=\"DejaVuSans-34\" d=\"M 2419 4116 \nL 825 1625 \nL 2419 1625 \nL 2419 4116 \nz\nM 2253 4666 \nL 3047 4666 \nL 3047 1625 \nL 3713 1625 \nL 3713 1100 \nL 3047 1100 \nL 3047 0 \nL 2419 0 \nL 2419 1100 \nL 313 1100 \nL 313 1709 \nL 2253 4666 \nz\n\" transform=\"scale(0.015625)\"/>\n       </defs>\n       <use xlink:href=\"#DejaVuSans-34\"/>\n      </g>\n     </g>\n    </g>\n    <g id=\"xtick_4\">\n     <g id=\"line2d_4\">\n      <g>\n       <use xlink:href=\"#m81da2c596e\" x=\"147.283125\" y=\"145.8\" style=\"stroke: #000000; stroke-width: 0.8\"/>\n      </g>\n     </g>\n     <g id=\"text_4\">\n      <!-- 6 -->\n      <g transform=\"translate(144.101875 160.398438) scale(0.1 -0.1)\">\n       <defs>\n        <path id=\"DejaVuSans-36\" d=\"M 2113 2584 \nQ 1688 2584 1439 2293 \nQ 1191 2003 1191 1497 \nQ 1191 994 1439 701 \nQ 1688 409 2113 409 \nQ 2538 409 2786 701 \nQ 3034 994 3034 1497 \nQ 3034 2003 2786 2293 \nQ 2538 2584 2113 2584 \nz\nM 3366 4563 \nL 3366 3988 \nQ 3128 4100 2886 4159 \nQ 2644 4219 2406 4219 \nQ 1781 4219 1451 3797 \nQ 1122 3375 1075 2522 \nQ 1259 2794 1537 2939 \nQ 1816 3084 2150 3084 \nQ 2853 3084 3261 2657 \nQ 3669 2231 3669 1497 \nQ 3669 778 3244 343 \nQ 2819 -91 2113 -91 \nQ 1303 -91 875 529 \nQ 447 1150 447 2328 \nQ 447 3434 972 4092 \nQ 1497 4750 2381 4750 \nQ 2619 4750 2861 4703 \nQ 3103 4656 3366 4563 \nz\n\" transform=\"scale(0.015625)\"/>\n       </defs>\n       <use xlink:href=\"#DejaVuSans-36\"/>\n      </g>\n     </g>\n    </g>\n    <g id=\"xtick_5\">\n     <g id=\"line2d_5\">\n      <g>\n       <use xlink:href=\"#m81da2c596e\" x=\"186.343125\" y=\"145.8\" style=\"stroke: #000000; stroke-width: 0.8\"/>\n      </g>\n     </g>\n     <g id=\"text_5\">\n      <!-- 8 -->\n      <g transform=\"translate(183.161875 160.398438) scale(0.1 -0.1)\">\n       <defs>\n        <path id=\"DejaVuSans-38\" d=\"M 2034 2216 \nQ 1584 2216 1326 1975 \nQ 1069 1734 1069 1313 \nQ 1069 891 1326 650 \nQ 1584 409 2034 409 \nQ 2484 409 2743 651 \nQ 3003 894 3003 1313 \nQ 3003 1734 2745 1975 \nQ 2488 2216 2034 2216 \nz\nM 1403 2484 \nQ 997 2584 770 2862 \nQ 544 3141 544 3541 \nQ 544 4100 942 4425 \nQ 1341 4750 2034 4750 \nQ 2731 4750 3128 4425 \nQ 3525 4100 3525 3541 \nQ 3525 3141 3298 2862 \nQ 3072 2584 2669 2484 \nQ 3125 2378 3379 2068 \nQ 3634 1759 3634 1313 \nQ 3634 634 3220 271 \nQ 2806 -91 2034 -91 \nQ 1263 -91 848 271 \nQ 434 634 434 1313 \nQ 434 1759 690 2068 \nQ 947 2378 1403 2484 \nz\nM 1172 3481 \nQ 1172 3119 1398 2916 \nQ 1625 2713 2034 2713 \nQ 2441 2713 2670 2916 \nQ 2900 3119 2900 3481 \nQ 2900 3844 2670 4047 \nQ 2441 4250 2034 4250 \nQ 1625 4250 1398 4047 \nQ 1172 3844 1172 3481 \nz\n\" transform=\"scale(0.015625)\"/>\n       </defs>\n       <use xlink:href=\"#DejaVuSans-38\"/>\n      </g>\n     </g>\n    </g>\n    <g id=\"xtick_6\">\n     <g id=\"line2d_6\">\n      <g>\n       <use xlink:href=\"#m81da2c596e\" x=\"225.403125\" y=\"145.8\" style=\"stroke: #000000; stroke-width: 0.8\"/>\n      </g>\n     </g>\n     <g id=\"text_6\">\n      <!-- 10 -->\n      <g transform=\"translate(219.040625 160.398438) scale(0.1 -0.1)\">\n       <defs>\n        <path id=\"DejaVuSans-31\" d=\"M 794 531 \nL 1825 531 \nL 1825 4091 \nL 703 3866 \nL 703 4441 \nL 1819 4666 \nL 2450 4666 \nL 2450 531 \nL 3481 531 \nL 3481 0 \nL 794 0 \nL 794 531 \nz\n\" transform=\"scale(0.015625)\"/>\n       </defs>\n       <use xlink:href=\"#DejaVuSans-31\"/>\n       <use xlink:href=\"#DejaVuSans-30\" x=\"63.623047\"/>\n      </g>\n     </g>\n    </g>\n    <g id=\"text_7\">\n     <!-- epoch -->\n     <g transform=\"translate(112.525 174.076563) scale(0.1 -0.1)\">\n      <defs>\n       <path id=\"DejaVuSans-65\" d=\"M 3597 1894 \nL 3597 1613 \nL 953 1613 \nQ 991 1019 1311 708 \nQ 1631 397 2203 397 \nQ 2534 397 2845 478 \nQ 3156 559 3463 722 \nL 3463 178 \nQ 3153 47 2828 -22 \nQ 2503 -91 2169 -91 \nQ 1331 -91 842 396 \nQ 353 884 353 1716 \nQ 353 2575 817 3079 \nQ 1281 3584 2069 3584 \nQ 2775 3584 3186 3129 \nQ 3597 2675 3597 1894 \nz\nM 3022 2063 \nQ 3016 2534 2758 2815 \nQ 2500 3097 2075 3097 \nQ 1594 3097 1305 2825 \nQ 1016 2553 972 2059 \nL 3022 2063 \nz\n\" transform=\"scale(0.015625)\"/>\n       <path id=\"DejaVuSans-70\" d=\"M 1159 525 \nL 1159 -1331 \nL 581 -1331 \nL 581 3500 \nL 1159 3500 \nL 1159 2969 \nQ 1341 3281 1617 3432 \nQ 1894 3584 2278 3584 \nQ 2916 3584 3314 3078 \nQ 3713 2572 3713 1747 \nQ 3713 922 3314 415 \nQ 2916 -91 2278 -91 \nQ 1894 -91 1617 61 \nQ 1341 213 1159 525 \nz\nM 3116 1747 \nQ 3116 2381 2855 2742 \nQ 2594 3103 2138 3103 \nQ 1681 3103 1420 2742 \nQ 1159 2381 1159 1747 \nQ 1159 1113 1420 752 \nQ 1681 391 2138 391 \nQ 2594 391 2855 752 \nQ 3116 1113 3116 1747 \nz\n\" transform=\"scale(0.015625)\"/>\n       <path id=\"DejaVuSans-6f\" d=\"M 1959 3097 \nQ 1497 3097 1228 2736 \nQ 959 2375 959 1747 \nQ 959 1119 1226 758 \nQ 1494 397 1959 397 \nQ 2419 397 2687 759 \nQ 2956 1122 2956 1747 \nQ 2956 2369 2687 2733 \nQ 2419 3097 1959 3097 \nz\nM 1959 3584 \nQ 2709 3584 3137 3096 \nQ 3566 2609 3566 1747 \nQ 3566 888 3137 398 \nQ 2709 -91 1959 -91 \nQ 1206 -91 779 398 \nQ 353 888 353 1747 \nQ 353 2609 779 3096 \nQ 1206 3584 1959 3584 \nz\n\" transform=\"scale(0.015625)\"/>\n       <path id=\"DejaVuSans-63\" d=\"M 3122 3366 \nL 3122 2828 \nQ 2878 2963 2633 3030 \nQ 2388 3097 2138 3097 \nQ 1578 3097 1268 2742 \nQ 959 2388 959 1747 \nQ 959 1106 1268 751 \nQ 1578 397 2138 397 \nQ 2388 397 2633 464 \nQ 2878 531 3122 666 \nL 3122 134 \nQ 2881 22 2623 -34 \nQ 2366 -91 2075 -91 \nQ 1284 -91 818 406 \nQ 353 903 353 1747 \nQ 353 2603 823 3093 \nQ 1294 3584 2113 3584 \nQ 2378 3584 2631 3529 \nQ 2884 3475 3122 3366 \nz\n\" transform=\"scale(0.015625)\"/>\n       <path id=\"DejaVuSans-68\" d=\"M 3513 2113 \nL 3513 0 \nL 2938 0 \nL 2938 2094 \nQ 2938 2591 2744 2837 \nQ 2550 3084 2163 3084 \nQ 1697 3084 1428 2787 \nQ 1159 2491 1159 1978 \nL 1159 0 \nL 581 0 \nL 581 4863 \nL 1159 4863 \nL 1159 2956 \nQ 1366 3272 1645 3428 \nQ 1925 3584 2291 3584 \nQ 2894 3584 3203 3211 \nQ 3513 2838 3513 2113 \nz\n\" transform=\"scale(0.015625)\"/>\n      </defs>\n      <use xlink:href=\"#DejaVuSans-65\"/>\n      <use xlink:href=\"#DejaVuSans-70\" x=\"61.523438\"/>\n      <use xlink:href=\"#DejaVuSans-6f\" x=\"125\"/>\n      <use xlink:href=\"#DejaVuSans-63\" x=\"186.181641\"/>\n      <use xlink:href=\"#DejaVuSans-68\" x=\"241.162109\"/>\n     </g>\n    </g>\n   </g>\n   <g id=\"matplotlib.axis_2\">\n    <g id=\"ytick_1\">\n     <g id=\"line2d_7\">\n      <defs>\n       <path id=\"m1bc25ab3ec\" d=\"M 0 0 \nL -3.5 0 \n\" style=\"stroke: #000000; stroke-width: 0.8\"/>\n      </defs>\n      <g>\n       <use xlink:href=\"#m1bc25ab3ec\" x=\"30.103125\" y=\"124.471462\" style=\"stroke: #000000; stroke-width: 0.8\"/>\n      </g>\n     </g>\n     <g id=\"text_8\">\n      <!-- 0.5 -->\n      <g transform=\"translate(7.2 128.270681) scale(0.1 -0.1)\">\n       <defs>\n        <path id=\"DejaVuSans-2e\" d=\"M 684 794 \nL 1344 794 \nL 1344 0 \nL 684 0 \nL 684 794 \nz\n\" transform=\"scale(0.015625)\"/>\n        <path id=\"DejaVuSans-35\" d=\"M 691 4666 \nL 3169 4666 \nL 3169 4134 \nL 1269 4134 \nL 1269 2991 \nQ 1406 3038 1543 3061 \nQ 1681 3084 1819 3084 \nQ 2600 3084 3056 2656 \nQ 3513 2228 3513 1497 \nQ 3513 744 3044 326 \nQ 2575 -91 1722 -91 \nQ 1428 -91 1123 -41 \nQ 819 9 494 109 \nL 494 744 \nQ 775 591 1075 516 \nQ 1375 441 1709 441 \nQ 2250 441 2565 725 \nQ 2881 1009 2881 1497 \nQ 2881 1984 2565 2268 \nQ 2250 2553 1709 2553 \nQ 1456 2553 1204 2497 \nQ 953 2441 691 2322 \nL 691 4666 \nz\n\" transform=\"scale(0.015625)\"/>\n       </defs>\n       <use xlink:href=\"#DejaVuSans-30\"/>\n       <use xlink:href=\"#DejaVuSans-2e\" x=\"63.623047\"/>\n       <use xlink:href=\"#DejaVuSans-35\" x=\"95.410156\"/>\n      </g>\n     </g>\n    </g>\n    <g id=\"ytick_2\">\n     <g id=\"line2d_8\">\n      <g>\n       <use xlink:href=\"#m1bc25ab3ec\" x=\"30.103125\" y=\"88.099547\" style=\"stroke: #000000; stroke-width: 0.8\"/>\n      </g>\n     </g>\n     <g id=\"text_9\">\n      <!-- 1.0 -->\n      <g transform=\"translate(7.2 91.898766) scale(0.1 -0.1)\">\n       <use xlink:href=\"#DejaVuSans-31\"/>\n       <use xlink:href=\"#DejaVuSans-2e\" x=\"63.623047\"/>\n       <use xlink:href=\"#DejaVuSans-30\" x=\"95.410156\"/>\n      </g>\n     </g>\n    </g>\n    <g id=\"ytick_3\">\n     <g id=\"line2d_9\">\n      <g>\n       <use xlink:href=\"#m1bc25ab3ec\" x=\"30.103125\" y=\"51.727632\" style=\"stroke: #000000; stroke-width: 0.8\"/>\n      </g>\n     </g>\n     <g id=\"text_10\">\n      <!-- 1.5 -->\n      <g transform=\"translate(7.2 55.526851) scale(0.1 -0.1)\">\n       <use xlink:href=\"#DejaVuSans-31\"/>\n       <use xlink:href=\"#DejaVuSans-2e\" x=\"63.623047\"/>\n       <use xlink:href=\"#DejaVuSans-35\" x=\"95.410156\"/>\n      </g>\n     </g>\n    </g>\n    <g id=\"ytick_4\">\n     <g id=\"line2d_10\">\n      <g>\n       <use xlink:href=\"#m1bc25ab3ec\" x=\"30.103125\" y=\"15.355717\" style=\"stroke: #000000; stroke-width: 0.8\"/>\n      </g>\n     </g>\n     <g id=\"text_11\">\n      <!-- 2.0 -->\n      <g transform=\"translate(7.2 19.154935) scale(0.1 -0.1)\">\n       <use xlink:href=\"#DejaVuSans-32\"/>\n       <use xlink:href=\"#DejaVuSans-2e\" x=\"63.623047\"/>\n       <use xlink:href=\"#DejaVuSans-30\" x=\"95.410156\"/>\n      </g>\n     </g>\n    </g>\n   </g>\n   <g id=\"line2d_11\">\n    <path d=\"M 34.954394 13.5 \n\" clip-path=\"url(#p6fa7908537)\" style=\"fill: none; stroke: #1f77b4; stroke-width: 1.5; stroke-linecap: square\"/>\n   </g>\n   <g id=\"line2d_12\">\n    <path d=\"M 34.954394 13.5 \nL 44.698573 99.742609 \n\" clip-path=\"url(#p6fa7908537)\" style=\"fill: none; stroke: #1f77b4; stroke-width: 1.5; stroke-linecap: square\"/>\n   </g>\n   <g id=\"line2d_13\">\n    <path d=\"M 34.954394 13.5 \nL 44.698573 99.742609 \n\" clip-path=\"url(#p6fa7908537)\" style=\"fill: none; stroke: #1f77b4; stroke-width: 1.5; stroke-linecap: square\"/>\n   </g>\n   <g id=\"line2d_14\">\n    <path d=\"M 49.633125 111.431692 \n\" clip-path=\"url(#p6fa7908537)\" style=\"fill: none; stroke-dasharray: 5.55,2.4; stroke-dashoffset: 0; stroke: #ff7f0e; stroke-width: 1.5\"/>\n   </g>\n   <g id=\"line2d_15\"/>\n   <g id=\"line2d_16\">\n    <path d=\"M 34.954394 13.5 \nL 44.698573 99.742609 \n\" clip-path=\"url(#p6fa7908537)\" style=\"fill: none; stroke: #1f77b4; stroke-width: 1.5; stroke-linecap: square\"/>\n   </g>\n   <g id=\"line2d_17\">\n    <path d=\"M 49.633125 111.431692 \n\" clip-path=\"url(#p6fa7908537)\" style=\"fill: none; stroke-dasharray: 5.55,2.4; stroke-dashoffset: 0; stroke: #ff7f0e; stroke-width: 1.5\"/>\n   </g>\n   <g id=\"line2d_18\">\n    <path d=\"M 49.633125 106.803459 \n\" clip-path=\"url(#p6fa7908537)\" style=\"fill: none; stroke-dasharray: 9.6,2.4,1.5,2.4; stroke-dashoffset: 0; stroke: #2ca02c; stroke-width: 1.5\"/>\n   </g>\n   <g id=\"line2d_19\">\n    <path d=\"M 34.954394 13.5 \nL 44.698573 99.742609 \nL 54.442752 114.069845 \n\" clip-path=\"url(#p6fa7908537)\" style=\"fill: none; stroke: #1f77b4; stroke-width: 1.5; stroke-linecap: square\"/>\n   </g>\n   <g id=\"line2d_20\">\n    <path d=\"M 49.633125 111.431692 \n\" clip-path=\"url(#p6fa7908537)\" style=\"fill: none; stroke-dasharray: 5.55,2.4; stroke-dashoffset: 0; stroke: #ff7f0e; stroke-width: 1.5\"/>\n   </g>\n   <g id=\"line2d_21\">\n    <path d=\"M 49.633125 106.803459 \n\" clip-path=\"url(#p6fa7908537)\" style=\"fill: none; stroke-dasharray: 9.6,2.4,1.5,2.4; stroke-dashoffset: 0; stroke: #2ca02c; stroke-width: 1.5\"/>\n   </g>\n   <g id=\"line2d_22\">\n    <path d=\"M 34.954394 13.5 \nL 44.698573 99.742609 \nL 54.442752 114.069845 \nL 64.186931 121.365035 \n\" clip-path=\"url(#p6fa7908537)\" style=\"fill: none; stroke: #1f77b4; stroke-width: 1.5; stroke-linecap: square\"/>\n   </g>\n   <g id=\"line2d_23\">\n    <path d=\"M 49.633125 111.431692 \n\" clip-path=\"url(#p6fa7908537)\" style=\"fill: none; stroke-dasharray: 5.55,2.4; stroke-dashoffset: 0; stroke: #ff7f0e; stroke-width: 1.5\"/>\n   </g>\n   <g id=\"line2d_24\">\n    <path d=\"M 49.633125 106.803459 \n\" clip-path=\"url(#p6fa7908537)\" style=\"fill: none; stroke-dasharray: 9.6,2.4,1.5,2.4; stroke-dashoffset: 0; stroke: #2ca02c; stroke-width: 1.5\"/>\n   </g>\n   <g id=\"line2d_25\">\n    <path d=\"M 34.954394 13.5 \nL 44.698573 99.742609 \nL 54.442752 114.069845 \nL 64.186931 121.365035 \n\" clip-path=\"url(#p6fa7908537)\" style=\"fill: none; stroke: #1f77b4; stroke-width: 1.5; stroke-linecap: square\"/>\n   </g>\n   <g id=\"line2d_26\">\n    <path d=\"M 49.633125 111.431692 \nL 69.163125 126.822482 \n\" clip-path=\"url(#p6fa7908537)\" style=\"fill: none; stroke-dasharray: 5.55,2.4; stroke-dashoffset: 0; stroke: #ff7f0e; stroke-width: 1.5\"/>\n   </g>\n   <g id=\"line2d_27\">\n    <path d=\"M 49.633125 106.803459 \n\" clip-path=\"url(#p6fa7908537)\" style=\"fill: none; stroke-dasharray: 9.6,2.4,1.5,2.4; stroke-dashoffset: 0; stroke: #2ca02c; stroke-width: 1.5\"/>\n   </g>\n   <g id=\"line2d_28\">\n    <path d=\"M 34.954394 13.5 \nL 44.698573 99.742609 \nL 54.442752 114.069845 \nL 64.186931 121.365035 \n\" clip-path=\"url(#p6fa7908537)\" style=\"fill: none; stroke: #1f77b4; stroke-width: 1.5; stroke-linecap: square\"/>\n   </g>\n   <g id=\"line2d_29\">\n    <path d=\"M 49.633125 111.431692 \nL 69.163125 126.822482 \n\" clip-path=\"url(#p6fa7908537)\" style=\"fill: none; stroke-dasharray: 5.55,2.4; stroke-dashoffset: 0; stroke: #ff7f0e; stroke-width: 1.5\"/>\n   </g>\n   <g id=\"line2d_30\">\n    <path d=\"M 49.633125 106.803459 \nL 69.163125 100.523261 \n\" clip-path=\"url(#p6fa7908537)\" style=\"fill: none; stroke-dasharray: 9.6,2.4,1.5,2.4; stroke-dashoffset: 0; stroke: #2ca02c; stroke-width: 1.5\"/>\n   </g>\n   <g id=\"line2d_31\">\n    <path d=\"M 34.954394 13.5 \nL 44.698573 99.742609 \nL 54.442752 114.069845 \nL 64.186931 121.365035 \nL 73.93111 125.224725 \n\" clip-path=\"url(#p6fa7908537)\" style=\"fill: none; stroke: #1f77b4; stroke-width: 1.5; stroke-linecap: square\"/>\n   </g>\n   <g id=\"line2d_32\">\n    <path d=\"M 49.633125 111.431692 \nL 69.163125 126.822482 \n\" clip-path=\"url(#p6fa7908537)\" style=\"fill: none; stroke-dasharray: 5.55,2.4; stroke-dashoffset: 0; stroke: #ff7f0e; stroke-width: 1.5\"/>\n   </g>\n   <g id=\"line2d_33\">\n    <path d=\"M 49.633125 106.803459 \nL 69.163125 100.523261 \n\" clip-path=\"url(#p6fa7908537)\" style=\"fill: none; stroke-dasharray: 9.6,2.4,1.5,2.4; stroke-dashoffset: 0; stroke: #2ca02c; stroke-width: 1.5\"/>\n   </g>\n   <g id=\"line2d_34\">\n    <path d=\"M 34.954394 13.5 \nL 44.698573 99.742609 \nL 54.442752 114.069845 \nL 64.186931 121.365035 \nL 73.93111 125.224725 \nL 83.675289 126.843978 \n\" clip-path=\"url(#p6fa7908537)\" style=\"fill: none; stroke: #1f77b4; stroke-width: 1.5; stroke-linecap: square\"/>\n   </g>\n   <g id=\"line2d_35\">\n    <path d=\"M 49.633125 111.431692 \nL 69.163125 126.822482 \n\" clip-path=\"url(#p6fa7908537)\" style=\"fill: none; stroke-dasharray: 5.55,2.4; stroke-dashoffset: 0; stroke: #ff7f0e; stroke-width: 1.5\"/>\n   </g>\n   <g id=\"line2d_36\">\n    <path d=\"M 49.633125 106.803459 \nL 69.163125 100.523261 \n\" clip-path=\"url(#p6fa7908537)\" style=\"fill: none; stroke-dasharray: 9.6,2.4,1.5,2.4; stroke-dashoffset: 0; stroke: #2ca02c; stroke-width: 1.5\"/>\n   </g>\n   <g id=\"line2d_37\">\n    <path d=\"M 34.954394 13.5 \nL 44.698573 99.742609 \nL 54.442752 114.069845 \nL 64.186931 121.365035 \nL 73.93111 125.224725 \nL 83.675289 126.843978 \n\" clip-path=\"url(#p6fa7908537)\" style=\"fill: none; stroke: #1f77b4; stroke-width: 1.5; stroke-linecap: square\"/>\n   </g>\n   <g id=\"line2d_38\">\n    <path d=\"M 49.633125 111.431692 \nL 69.163125 126.822482 \nL 88.693125 129.95382 \n\" clip-path=\"url(#p6fa7908537)\" style=\"fill: none; stroke-dasharray: 5.55,2.4; stroke-dashoffset: 0; stroke: #ff7f0e; stroke-width: 1.5\"/>\n   </g>\n   <g id=\"line2d_39\">\n    <path d=\"M 49.633125 106.803459 \nL 69.163125 100.523261 \n\" clip-path=\"url(#p6fa7908537)\" style=\"fill: none; stroke-dasharray: 9.6,2.4,1.5,2.4; stroke-dashoffset: 0; stroke: #2ca02c; stroke-width: 1.5\"/>\n   </g>\n   <g id=\"line2d_40\">\n    <path d=\"M 34.954394 13.5 \nL 44.698573 99.742609 \nL 54.442752 114.069845 \nL 64.186931 121.365035 \nL 73.93111 125.224725 \nL 83.675289 126.843978 \n\" clip-path=\"url(#p6fa7908537)\" style=\"fill: none; stroke: #1f77b4; stroke-width: 1.5; stroke-linecap: square\"/>\n   </g>\n   <g id=\"line2d_41\">\n    <path d=\"M 49.633125 111.431692 \nL 69.163125 126.822482 \nL 88.693125 129.95382 \n\" clip-path=\"url(#p6fa7908537)\" style=\"fill: none; stroke-dasharray: 5.55,2.4; stroke-dashoffset: 0; stroke: #ff7f0e; stroke-width: 1.5\"/>\n   </g>\n   <g id=\"line2d_42\">\n    <path d=\"M 49.633125 106.803459 \nL 69.163125 100.523261 \nL 88.693125 99.293119 \n\" clip-path=\"url(#p6fa7908537)\" style=\"fill: none; stroke-dasharray: 9.6,2.4,1.5,2.4; stroke-dashoffset: 0; stroke: #2ca02c; stroke-width: 1.5\"/>\n   </g>\n   <g id=\"line2d_43\">\n    <path d=\"M 34.954394 13.5 \nL 44.698573 99.742609 \nL 54.442752 114.069845 \nL 64.186931 121.365035 \nL 73.93111 125.224725 \nL 83.675289 126.843978 \nL 93.419468 129.615721 \n\" clip-path=\"url(#p6fa7908537)\" style=\"fill: none; stroke: #1f77b4; stroke-width: 1.5; stroke-linecap: square\"/>\n   </g>\n   <g id=\"line2d_44\">\n    <path d=\"M 49.633125 111.431692 \nL 69.163125 126.822482 \nL 88.693125 129.95382 \n\" clip-path=\"url(#p6fa7908537)\" style=\"fill: none; stroke-dasharray: 5.55,2.4; stroke-dashoffset: 0; stroke: #ff7f0e; stroke-width: 1.5\"/>\n   </g>\n   <g id=\"line2d_45\">\n    <path d=\"M 49.633125 106.803459 \nL 69.163125 100.523261 \nL 88.693125 99.293119 \n\" clip-path=\"url(#p6fa7908537)\" style=\"fill: none; stroke-dasharray: 9.6,2.4,1.5,2.4; stroke-dashoffset: 0; stroke: #2ca02c; stroke-width: 1.5\"/>\n   </g>\n   <g id=\"line2d_46\">\n    <path d=\"M 34.954394 13.5 \nL 44.698573 99.742609 \nL 54.442752 114.069845 \nL 64.186931 121.365035 \nL 73.93111 125.224725 \nL 83.675289 126.843978 \nL 93.419468 129.615721 \nL 103.163647 130.555503 \n\" clip-path=\"url(#p6fa7908537)\" style=\"fill: none; stroke: #1f77b4; stroke-width: 1.5; stroke-linecap: square\"/>\n   </g>\n   <g id=\"line2d_47\">\n    <path d=\"M 49.633125 111.431692 \nL 69.163125 126.822482 \nL 88.693125 129.95382 \n\" clip-path=\"url(#p6fa7908537)\" style=\"fill: none; stroke-dasharray: 5.55,2.4; stroke-dashoffset: 0; stroke: #ff7f0e; stroke-width: 1.5\"/>\n   </g>\n   <g id=\"line2d_48\">\n    <path d=\"M 49.633125 106.803459 \nL 69.163125 100.523261 \nL 88.693125 99.293119 \n\" clip-path=\"url(#p6fa7908537)\" style=\"fill: none; stroke-dasharray: 9.6,2.4,1.5,2.4; stroke-dashoffset: 0; stroke: #2ca02c; stroke-width: 1.5\"/>\n   </g>\n   <g id=\"line2d_49\">\n    <path d=\"M 34.954394 13.5 \nL 44.698573 99.742609 \nL 54.442752 114.069845 \nL 64.186931 121.365035 \nL 73.93111 125.224725 \nL 83.675289 126.843978 \nL 93.419468 129.615721 \nL 103.163647 130.555503 \n\" clip-path=\"url(#p6fa7908537)\" style=\"fill: none; stroke: #1f77b4; stroke-width: 1.5; stroke-linecap: square\"/>\n   </g>\n   <g id=\"line2d_50\">\n    <path d=\"M 49.633125 111.431692 \nL 69.163125 126.822482 \nL 88.693125 129.95382 \nL 108.223125 131.835406 \n\" clip-path=\"url(#p6fa7908537)\" style=\"fill: none; stroke-dasharray: 5.55,2.4; stroke-dashoffset: 0; stroke: #ff7f0e; stroke-width: 1.5\"/>\n   </g>\n   <g id=\"line2d_51\">\n    <path d=\"M 49.633125 106.803459 \nL 69.163125 100.523261 \nL 88.693125 99.293119 \n\" clip-path=\"url(#p6fa7908537)\" style=\"fill: none; stroke-dasharray: 9.6,2.4,1.5,2.4; stroke-dashoffset: 0; stroke: #2ca02c; stroke-width: 1.5\"/>\n   </g>\n   <g id=\"line2d_52\">\n    <path d=\"M 34.954394 13.5 \nL 44.698573 99.742609 \nL 54.442752 114.069845 \nL 64.186931 121.365035 \nL 73.93111 125.224725 \nL 83.675289 126.843978 \nL 93.419468 129.615721 \nL 103.163647 130.555503 \n\" clip-path=\"url(#p6fa7908537)\" style=\"fill: none; stroke: #1f77b4; stroke-width: 1.5; stroke-linecap: square\"/>\n   </g>\n   <g id=\"line2d_53\">\n    <path d=\"M 49.633125 111.431692 \nL 69.163125 126.822482 \nL 88.693125 129.95382 \nL 108.223125 131.835406 \n\" clip-path=\"url(#p6fa7908537)\" style=\"fill: none; stroke-dasharray: 5.55,2.4; stroke-dashoffset: 0; stroke: #ff7f0e; stroke-width: 1.5\"/>\n   </g>\n   <g id=\"line2d_54\">\n    <path d=\"M 49.633125 106.803459 \nL 69.163125 100.523261 \nL 88.693125 99.293119 \nL 108.223125 98.724808 \n\" clip-path=\"url(#p6fa7908537)\" style=\"fill: none; stroke-dasharray: 9.6,2.4,1.5,2.4; stroke-dashoffset: 0; stroke: #2ca02c; stroke-width: 1.5\"/>\n   </g>\n   <g id=\"line2d_55\">\n    <path d=\"M 34.954394 13.5 \nL 44.698573 99.742609 \nL 54.442752 114.069845 \nL 64.186931 121.365035 \nL 73.93111 125.224725 \nL 83.675289 126.843978 \nL 93.419468 129.615721 \nL 103.163647 130.555503 \nL 112.907826 131.869253 \n\" clip-path=\"url(#p6fa7908537)\" style=\"fill: none; stroke: #1f77b4; stroke-width: 1.5; stroke-linecap: square\"/>\n   </g>\n   <g id=\"line2d_56\">\n    <path d=\"M 49.633125 111.431692 \nL 69.163125 126.822482 \nL 88.693125 129.95382 \nL 108.223125 131.835406 \n\" clip-path=\"url(#p6fa7908537)\" style=\"fill: none; stroke-dasharray: 5.55,2.4; stroke-dashoffset: 0; stroke: #ff7f0e; stroke-width: 1.5\"/>\n   </g>\n   <g id=\"line2d_57\">\n    <path d=\"M 49.633125 106.803459 \nL 69.163125 100.523261 \nL 88.693125 99.293119 \nL 108.223125 98.724808 \n\" clip-path=\"url(#p6fa7908537)\" style=\"fill: none; stroke-dasharray: 9.6,2.4,1.5,2.4; stroke-dashoffset: 0; stroke: #2ca02c; stroke-width: 1.5\"/>\n   </g>\n   <g id=\"line2d_58\">\n    <path d=\"M 34.954394 13.5 \nL 44.698573 99.742609 \nL 54.442752 114.069845 \nL 64.186931 121.365035 \nL 73.93111 125.224725 \nL 83.675289 126.843978 \nL 93.419468 129.615721 \nL 103.163647 130.555503 \nL 112.907826 131.869253 \nL 122.652006 133.32826 \n\" clip-path=\"url(#p6fa7908537)\" style=\"fill: none; stroke: #1f77b4; stroke-width: 1.5; stroke-linecap: square\"/>\n   </g>\n   <g id=\"line2d_59\">\n    <path d=\"M 49.633125 111.431692 \nL 69.163125 126.822482 \nL 88.693125 129.95382 \nL 108.223125 131.835406 \n\" clip-path=\"url(#p6fa7908537)\" style=\"fill: none; stroke-dasharray: 5.55,2.4; stroke-dashoffset: 0; stroke: #ff7f0e; stroke-width: 1.5\"/>\n   </g>\n   <g id=\"line2d_60\">\n    <path d=\"M 49.633125 106.803459 \nL 69.163125 100.523261 \nL 88.693125 99.293119 \nL 108.223125 98.724808 \n\" clip-path=\"url(#p6fa7908537)\" style=\"fill: none; stroke-dasharray: 9.6,2.4,1.5,2.4; stroke-dashoffset: 0; stroke: #2ca02c; stroke-width: 1.5\"/>\n   </g>\n   <g id=\"line2d_61\">\n    <path d=\"M 34.954394 13.5 \nL 44.698573 99.742609 \nL 54.442752 114.069845 \nL 64.186931 121.365035 \nL 73.93111 125.224725 \nL 83.675289 126.843978 \nL 93.419468 129.615721 \nL 103.163647 130.555503 \nL 112.907826 131.869253 \nL 122.652006 133.32826 \n\" clip-path=\"url(#p6fa7908537)\" style=\"fill: none; stroke: #1f77b4; stroke-width: 1.5; stroke-linecap: square\"/>\n   </g>\n   <g id=\"line2d_62\">\n    <path d=\"M 49.633125 111.431692 \nL 69.163125 126.822482 \nL 88.693125 129.95382 \nL 108.223125 131.835406 \nL 127.753125 134.194065 \n\" clip-path=\"url(#p6fa7908537)\" style=\"fill: none; stroke-dasharray: 5.55,2.4; stroke-dashoffset: 0; stroke: #ff7f0e; stroke-width: 1.5\"/>\n   </g>\n   <g id=\"line2d_63\">\n    <path d=\"M 49.633125 106.803459 \nL 69.163125 100.523261 \nL 88.693125 99.293119 \nL 108.223125 98.724808 \n\" clip-path=\"url(#p6fa7908537)\" style=\"fill: none; stroke-dasharray: 9.6,2.4,1.5,2.4; stroke-dashoffset: 0; stroke: #2ca02c; stroke-width: 1.5\"/>\n   </g>\n   <g id=\"line2d_64\">\n    <path d=\"M 34.954394 13.5 \nL 44.698573 99.742609 \nL 54.442752 114.069845 \nL 64.186931 121.365035 \nL 73.93111 125.224725 \nL 83.675289 126.843978 \nL 93.419468 129.615721 \nL 103.163647 130.555503 \nL 112.907826 131.869253 \nL 122.652006 133.32826 \n\" clip-path=\"url(#p6fa7908537)\" style=\"fill: none; stroke: #1f77b4; stroke-width: 1.5; stroke-linecap: square\"/>\n   </g>\n   <g id=\"line2d_65\">\n    <path d=\"M 49.633125 111.431692 \nL 69.163125 126.822482 \nL 88.693125 129.95382 \nL 108.223125 131.835406 \nL 127.753125 134.194065 \n\" clip-path=\"url(#p6fa7908537)\" style=\"fill: none; stroke-dasharray: 5.55,2.4; stroke-dashoffset: 0; stroke: #ff7f0e; stroke-width: 1.5\"/>\n   </g>\n   <g id=\"line2d_66\">\n    <path d=\"M 49.633125 106.803459 \nL 69.163125 100.523261 \nL 88.693125 99.293119 \nL 108.223125 98.724808 \nL 127.753125 97.911907 \n\" clip-path=\"url(#p6fa7908537)\" style=\"fill: none; stroke-dasharray: 9.6,2.4,1.5,2.4; stroke-dashoffset: 0; stroke: #2ca02c; stroke-width: 1.5\"/>\n   </g>\n   <g id=\"line2d_67\">\n    <path d=\"M 34.954394 13.5 \nL 44.698573 99.742609 \nL 54.442752 114.069845 \nL 64.186931 121.365035 \nL 73.93111 125.224725 \nL 83.675289 126.843978 \nL 93.419468 129.615721 \nL 103.163647 130.555503 \nL 112.907826 131.869253 \nL 122.652006 133.32826 \nL 132.396185 133.802239 \n\" clip-path=\"url(#p6fa7908537)\" style=\"fill: none; stroke: #1f77b4; stroke-width: 1.5; stroke-linecap: square\"/>\n   </g>\n   <g id=\"line2d_68\">\n    <path d=\"M 49.633125 111.431692 \nL 69.163125 126.822482 \nL 88.693125 129.95382 \nL 108.223125 131.835406 \nL 127.753125 134.194065 \n\" clip-path=\"url(#p6fa7908537)\" style=\"fill: none; stroke-dasharray: 5.55,2.4; stroke-dashoffset: 0; stroke: #ff7f0e; stroke-width: 1.5\"/>\n   </g>\n   <g id=\"line2d_69\">\n    <path d=\"M 49.633125 106.803459 \nL 69.163125 100.523261 \nL 88.693125 99.293119 \nL 108.223125 98.724808 \nL 127.753125 97.911907 \n\" clip-path=\"url(#p6fa7908537)\" style=\"fill: none; stroke-dasharray: 9.6,2.4,1.5,2.4; stroke-dashoffset: 0; stroke: #2ca02c; stroke-width: 1.5\"/>\n   </g>\n   <g id=\"line2d_70\">\n    <path d=\"M 34.954394 13.5 \nL 44.698573 99.742609 \nL 54.442752 114.069845 \nL 64.186931 121.365035 \nL 73.93111 125.224725 \nL 83.675289 126.843978 \nL 93.419468 129.615721 \nL 103.163647 130.555503 \nL 112.907826 131.869253 \nL 122.652006 133.32826 \nL 132.396185 133.802239 \nL 142.140364 135.02824 \n\" clip-path=\"url(#p6fa7908537)\" style=\"fill: none; stroke: #1f77b4; stroke-width: 1.5; stroke-linecap: square\"/>\n   </g>\n   <g id=\"line2d_71\">\n    <path d=\"M 49.633125 111.431692 \nL 69.163125 126.822482 \nL 88.693125 129.95382 \nL 108.223125 131.835406 \nL 127.753125 134.194065 \n\" clip-path=\"url(#p6fa7908537)\" style=\"fill: none; stroke-dasharray: 5.55,2.4; stroke-dashoffset: 0; stroke: #ff7f0e; stroke-width: 1.5\"/>\n   </g>\n   <g id=\"line2d_72\">\n    <path d=\"M 49.633125 106.803459 \nL 69.163125 100.523261 \nL 88.693125 99.293119 \nL 108.223125 98.724808 \nL 127.753125 97.911907 \n\" clip-path=\"url(#p6fa7908537)\" style=\"fill: none; stroke-dasharray: 9.6,2.4,1.5,2.4; stroke-dashoffset: 0; stroke: #2ca02c; stroke-width: 1.5\"/>\n   </g>\n   <g id=\"line2d_73\">\n    <path d=\"M 34.954394 13.5 \nL 44.698573 99.742609 \nL 54.442752 114.069845 \nL 64.186931 121.365035 \nL 73.93111 125.224725 \nL 83.675289 126.843978 \nL 93.419468 129.615721 \nL 103.163647 130.555503 \nL 112.907826 131.869253 \nL 122.652006 133.32826 \nL 132.396185 133.802239 \nL 142.140364 135.02824 \n\" clip-path=\"url(#p6fa7908537)\" style=\"fill: none; stroke: #1f77b4; stroke-width: 1.5; stroke-linecap: square\"/>\n   </g>\n   <g id=\"line2d_74\">\n    <path d=\"M 49.633125 111.431692 \nL 69.163125 126.822482 \nL 88.693125 129.95382 \nL 108.223125 131.835406 \nL 127.753125 134.194065 \nL 147.283125 136.497127 \n\" clip-path=\"url(#p6fa7908537)\" style=\"fill: none; stroke-dasharray: 5.55,2.4; stroke-dashoffset: 0; stroke: #ff7f0e; stroke-width: 1.5\"/>\n   </g>\n   <g id=\"line2d_75\">\n    <path d=\"M 49.633125 106.803459 \nL 69.163125 100.523261 \nL 88.693125 99.293119 \nL 108.223125 98.724808 \nL 127.753125 97.911907 \n\" clip-path=\"url(#p6fa7908537)\" style=\"fill: none; stroke-dasharray: 9.6,2.4,1.5,2.4; stroke-dashoffset: 0; stroke: #2ca02c; stroke-width: 1.5\"/>\n   </g>\n   <g id=\"line2d_76\">\n    <path d=\"M 34.954394 13.5 \nL 44.698573 99.742609 \nL 54.442752 114.069845 \nL 64.186931 121.365035 \nL 73.93111 125.224725 \nL 83.675289 126.843978 \nL 93.419468 129.615721 \nL 103.163647 130.555503 \nL 112.907826 131.869253 \nL 122.652006 133.32826 \nL 132.396185 133.802239 \nL 142.140364 135.02824 \n\" clip-path=\"url(#p6fa7908537)\" style=\"fill: none; stroke: #1f77b4; stroke-width: 1.5; stroke-linecap: square\"/>\n   </g>\n   <g id=\"line2d_77\">\n    <path d=\"M 49.633125 111.431692 \nL 69.163125 126.822482 \nL 88.693125 129.95382 \nL 108.223125 131.835406 \nL 127.753125 134.194065 \nL 147.283125 136.497127 \n\" clip-path=\"url(#p6fa7908537)\" style=\"fill: none; stroke-dasharray: 5.55,2.4; stroke-dashoffset: 0; stroke: #ff7f0e; stroke-width: 1.5\"/>\n   </g>\n   <g id=\"line2d_78\">\n    <path d=\"M 49.633125 106.803459 \nL 69.163125 100.523261 \nL 88.693125 99.293119 \nL 108.223125 98.724808 \nL 127.753125 97.911907 \nL 147.283125 96.796866 \n\" clip-path=\"url(#p6fa7908537)\" style=\"fill: none; stroke-dasharray: 9.6,2.4,1.5,2.4; stroke-dashoffset: 0; stroke: #2ca02c; stroke-width: 1.5\"/>\n   </g>\n   <g id=\"line2d_79\">\n    <path d=\"M 34.954394 13.5 \nL 44.698573 99.742609 \nL 54.442752 114.069845 \nL 64.186931 121.365035 \nL 73.93111 125.224725 \nL 83.675289 126.843978 \nL 93.419468 129.615721 \nL 103.163647 130.555503 \nL 112.907826 131.869253 \nL 122.652006 133.32826 \nL 132.396185 133.802239 \nL 142.140364 135.02824 \nL 151.884543 136.31435 \n\" clip-path=\"url(#p6fa7908537)\" style=\"fill: none; stroke: #1f77b4; stroke-width: 1.5; stroke-linecap: square\"/>\n   </g>\n   <g id=\"line2d_80\">\n    <path d=\"M 49.633125 111.431692 \nL 69.163125 126.822482 \nL 88.693125 129.95382 \nL 108.223125 131.835406 \nL 127.753125 134.194065 \nL 147.283125 136.497127 \n\" clip-path=\"url(#p6fa7908537)\" style=\"fill: none; stroke-dasharray: 5.55,2.4; stroke-dashoffset: 0; stroke: #ff7f0e; stroke-width: 1.5\"/>\n   </g>\n   <g id=\"line2d_81\">\n    <path d=\"M 49.633125 106.803459 \nL 69.163125 100.523261 \nL 88.693125 99.293119 \nL 108.223125 98.724808 \nL 127.753125 97.911907 \nL 147.283125 96.796866 \n\" clip-path=\"url(#p6fa7908537)\" style=\"fill: none; stroke-dasharray: 9.6,2.4,1.5,2.4; stroke-dashoffset: 0; stroke: #2ca02c; stroke-width: 1.5\"/>\n   </g>\n   <g id=\"line2d_82\">\n    <path d=\"M 34.954394 13.5 \nL 44.698573 99.742609 \nL 54.442752 114.069845 \nL 64.186931 121.365035 \nL 73.93111 125.224725 \nL 83.675289 126.843978 \nL 93.419468 129.615721 \nL 103.163647 130.555503 \nL 112.907826 131.869253 \nL 122.652006 133.32826 \nL 132.396185 133.802239 \nL 142.140364 135.02824 \nL 151.884543 136.31435 \nL 161.628722 135.983257 \n\" clip-path=\"url(#p6fa7908537)\" style=\"fill: none; stroke: #1f77b4; stroke-width: 1.5; stroke-linecap: square\"/>\n   </g>\n   <g id=\"line2d_83\">\n    <path d=\"M 49.633125 111.431692 \nL 69.163125 126.822482 \nL 88.693125 129.95382 \nL 108.223125 131.835406 \nL 127.753125 134.194065 \nL 147.283125 136.497127 \n\" clip-path=\"url(#p6fa7908537)\" style=\"fill: none; stroke-dasharray: 5.55,2.4; stroke-dashoffset: 0; stroke: #ff7f0e; stroke-width: 1.5\"/>\n   </g>\n   <g id=\"line2d_84\">\n    <path d=\"M 49.633125 106.803459 \nL 69.163125 100.523261 \nL 88.693125 99.293119 \nL 108.223125 98.724808 \nL 127.753125 97.911907 \nL 147.283125 96.796866 \n\" clip-path=\"url(#p6fa7908537)\" style=\"fill: none; stroke-dasharray: 9.6,2.4,1.5,2.4; stroke-dashoffset: 0; stroke: #2ca02c; stroke-width: 1.5\"/>\n   </g>\n   <g id=\"line2d_85\">\n    <path d=\"M 34.954394 13.5 \nL 44.698573 99.742609 \nL 54.442752 114.069845 \nL 64.186931 121.365035 \nL 73.93111 125.224725 \nL 83.675289 126.843978 \nL 93.419468 129.615721 \nL 103.163647 130.555503 \nL 112.907826 131.869253 \nL 122.652006 133.32826 \nL 132.396185 133.802239 \nL 142.140364 135.02824 \nL 151.884543 136.31435 \nL 161.628722 135.983257 \n\" clip-path=\"url(#p6fa7908537)\" style=\"fill: none; stroke: #1f77b4; stroke-width: 1.5; stroke-linecap: square\"/>\n   </g>\n   <g id=\"line2d_86\">\n    <path d=\"M 49.633125 111.431692 \nL 69.163125 126.822482 \nL 88.693125 129.95382 \nL 108.223125 131.835406 \nL 127.753125 134.194065 \nL 147.283125 136.497127 \nL 166.813125 136.965728 \n\" clip-path=\"url(#p6fa7908537)\" style=\"fill: none; stroke-dasharray: 5.55,2.4; stroke-dashoffset: 0; stroke: #ff7f0e; stroke-width: 1.5\"/>\n   </g>\n   <g id=\"line2d_87\">\n    <path d=\"M 49.633125 106.803459 \nL 69.163125 100.523261 \nL 88.693125 99.293119 \nL 108.223125 98.724808 \nL 127.753125 97.911907 \nL 147.283125 96.796866 \n\" clip-path=\"url(#p6fa7908537)\" style=\"fill: none; stroke-dasharray: 9.6,2.4,1.5,2.4; stroke-dashoffset: 0; stroke: #2ca02c; stroke-width: 1.5\"/>\n   </g>\n   <g id=\"line2d_88\">\n    <path d=\"M 34.954394 13.5 \nL 44.698573 99.742609 \nL 54.442752 114.069845 \nL 64.186931 121.365035 \nL 73.93111 125.224725 \nL 83.675289 126.843978 \nL 93.419468 129.615721 \nL 103.163647 130.555503 \nL 112.907826 131.869253 \nL 122.652006 133.32826 \nL 132.396185 133.802239 \nL 142.140364 135.02824 \nL 151.884543 136.31435 \nL 161.628722 135.983257 \n\" clip-path=\"url(#p6fa7908537)\" style=\"fill: none; stroke: #1f77b4; stroke-width: 1.5; stroke-linecap: square\"/>\n   </g>\n   <g id=\"line2d_89\">\n    <path d=\"M 49.633125 111.431692 \nL 69.163125 126.822482 \nL 88.693125 129.95382 \nL 108.223125 131.835406 \nL 127.753125 134.194065 \nL 147.283125 136.497127 \nL 166.813125 136.965728 \n\" clip-path=\"url(#p6fa7908537)\" style=\"fill: none; stroke-dasharray: 5.55,2.4; stroke-dashoffset: 0; stroke: #ff7f0e; stroke-width: 1.5\"/>\n   </g>\n   <g id=\"line2d_90\">\n    <path d=\"M 49.633125 106.803459 \nL 69.163125 100.523261 \nL 88.693125 99.293119 \nL 108.223125 98.724808 \nL 127.753125 97.911907 \nL 147.283125 96.796866 \nL 166.813125 96.789672 \n\" clip-path=\"url(#p6fa7908537)\" style=\"fill: none; stroke-dasharray: 9.6,2.4,1.5,2.4; stroke-dashoffset: 0; stroke: #2ca02c; stroke-width: 1.5\"/>\n   </g>\n   <g id=\"line2d_91\">\n    <path d=\"M 34.954394 13.5 \nL 44.698573 99.742609 \nL 54.442752 114.069845 \nL 64.186931 121.365035 \nL 73.93111 125.224725 \nL 83.675289 126.843978 \nL 93.419468 129.615721 \nL 103.163647 130.555503 \nL 112.907826 131.869253 \nL 122.652006 133.32826 \nL 132.396185 133.802239 \nL 142.140364 135.02824 \nL 151.884543 136.31435 \nL 161.628722 135.983257 \nL 171.372901 137.011492 \n\" clip-path=\"url(#p6fa7908537)\" style=\"fill: none; stroke: #1f77b4; stroke-width: 1.5; stroke-linecap: square\"/>\n   </g>\n   <g id=\"line2d_92\">\n    <path d=\"M 49.633125 111.431692 \nL 69.163125 126.822482 \nL 88.693125 129.95382 \nL 108.223125 131.835406 \nL 127.753125 134.194065 \nL 147.283125 136.497127 \nL 166.813125 136.965728 \n\" clip-path=\"url(#p6fa7908537)\" style=\"fill: none; stroke-dasharray: 5.55,2.4; stroke-dashoffset: 0; stroke: #ff7f0e; stroke-width: 1.5\"/>\n   </g>\n   <g id=\"line2d_93\">\n    <path d=\"M 49.633125 106.803459 \nL 69.163125 100.523261 \nL 88.693125 99.293119 \nL 108.223125 98.724808 \nL 127.753125 97.911907 \nL 147.283125 96.796866 \nL 166.813125 96.789672 \n\" clip-path=\"url(#p6fa7908537)\" style=\"fill: none; stroke-dasharray: 9.6,2.4,1.5,2.4; stroke-dashoffset: 0; stroke: #2ca02c; stroke-width: 1.5\"/>\n   </g>\n   <g id=\"line2d_94\">\n    <path d=\"M 34.954394 13.5 \nL 44.698573 99.742609 \nL 54.442752 114.069845 \nL 64.186931 121.365035 \nL 73.93111 125.224725 \nL 83.675289 126.843978 \nL 93.419468 129.615721 \nL 103.163647 130.555503 \nL 112.907826 131.869253 \nL 122.652006 133.32826 \nL 132.396185 133.802239 \nL 142.140364 135.02824 \nL 151.884543 136.31435 \nL 161.628722 135.983257 \nL 171.372901 137.011492 \nL 181.11708 137.604616 \n\" clip-path=\"url(#p6fa7908537)\" style=\"fill: none; stroke: #1f77b4; stroke-width: 1.5; stroke-linecap: square\"/>\n   </g>\n   <g id=\"line2d_95\">\n    <path d=\"M 49.633125 111.431692 \nL 69.163125 126.822482 \nL 88.693125 129.95382 \nL 108.223125 131.835406 \nL 127.753125 134.194065 \nL 147.283125 136.497127 \nL 166.813125 136.965728 \n\" clip-path=\"url(#p6fa7908537)\" style=\"fill: none; stroke-dasharray: 5.55,2.4; stroke-dashoffset: 0; stroke: #ff7f0e; stroke-width: 1.5\"/>\n   </g>\n   <g id=\"line2d_96\">\n    <path d=\"M 49.633125 106.803459 \nL 69.163125 100.523261 \nL 88.693125 99.293119 \nL 108.223125 98.724808 \nL 127.753125 97.911907 \nL 147.283125 96.796866 \nL 166.813125 96.789672 \n\" clip-path=\"url(#p6fa7908537)\" style=\"fill: none; stroke-dasharray: 9.6,2.4,1.5,2.4; stroke-dashoffset: 0; stroke: #2ca02c; stroke-width: 1.5\"/>\n   </g>\n   <g id=\"line2d_97\">\n    <path d=\"M 34.954394 13.5 \nL 44.698573 99.742609 \nL 54.442752 114.069845 \nL 64.186931 121.365035 \nL 73.93111 125.224725 \nL 83.675289 126.843978 \nL 93.419468 129.615721 \nL 103.163647 130.555503 \nL 112.907826 131.869253 \nL 122.652006 133.32826 \nL 132.396185 133.802239 \nL 142.140364 135.02824 \nL 151.884543 136.31435 \nL 161.628722 135.983257 \nL 171.372901 137.011492 \nL 181.11708 137.604616 \n\" clip-path=\"url(#p6fa7908537)\" style=\"fill: none; stroke: #1f77b4; stroke-width: 1.5; stroke-linecap: square\"/>\n   </g>\n   <g id=\"line2d_98\">\n    <path d=\"M 49.633125 111.431692 \nL 69.163125 126.822482 \nL 88.693125 129.95382 \nL 108.223125 131.835406 \nL 127.753125 134.194065 \nL 147.283125 136.497127 \nL 166.813125 136.965728 \nL 186.343125 137.326603 \n\" clip-path=\"url(#p6fa7908537)\" style=\"fill: none; stroke-dasharray: 5.55,2.4; stroke-dashoffset: 0; stroke: #ff7f0e; stroke-width: 1.5\"/>\n   </g>\n   <g id=\"line2d_99\">\n    <path d=\"M 49.633125 106.803459 \nL 69.163125 100.523261 \nL 88.693125 99.293119 \nL 108.223125 98.724808 \nL 127.753125 97.911907 \nL 147.283125 96.796866 \nL 166.813125 96.789672 \n\" clip-path=\"url(#p6fa7908537)\" style=\"fill: none; stroke-dasharray: 9.6,2.4,1.5,2.4; stroke-dashoffset: 0; stroke: #2ca02c; stroke-width: 1.5\"/>\n   </g>\n   <g id=\"line2d_100\">\n    <path d=\"M 34.954394 13.5 \nL 44.698573 99.742609 \nL 54.442752 114.069845 \nL 64.186931 121.365035 \nL 73.93111 125.224725 \nL 83.675289 126.843978 \nL 93.419468 129.615721 \nL 103.163647 130.555503 \nL 112.907826 131.869253 \nL 122.652006 133.32826 \nL 132.396185 133.802239 \nL 142.140364 135.02824 \nL 151.884543 136.31435 \nL 161.628722 135.983257 \nL 171.372901 137.011492 \nL 181.11708 137.604616 \n\" clip-path=\"url(#p6fa7908537)\" style=\"fill: none; stroke: #1f77b4; stroke-width: 1.5; stroke-linecap: square\"/>\n   </g>\n   <g id=\"line2d_101\">\n    <path d=\"M 49.633125 111.431692 \nL 69.163125 126.822482 \nL 88.693125 129.95382 \nL 108.223125 131.835406 \nL 127.753125 134.194065 \nL 147.283125 136.497127 \nL 166.813125 136.965728 \nL 186.343125 137.326603 \n\" clip-path=\"url(#p6fa7908537)\" style=\"fill: none; stroke-dasharray: 5.55,2.4; stroke-dashoffset: 0; stroke: #ff7f0e; stroke-width: 1.5\"/>\n   </g>\n   <g id=\"line2d_102\">\n    <path d=\"M 49.633125 106.803459 \nL 69.163125 100.523261 \nL 88.693125 99.293119 \nL 108.223125 98.724808 \nL 127.753125 97.911907 \nL 147.283125 96.796866 \nL 166.813125 96.789672 \nL 186.343125 96.329268 \n\" clip-path=\"url(#p6fa7908537)\" style=\"fill: none; stroke-dasharray: 9.6,2.4,1.5,2.4; stroke-dashoffset: 0; stroke: #2ca02c; stroke-width: 1.5\"/>\n   </g>\n   <g id=\"line2d_103\">\n    <path d=\"M 34.954394 13.5 \nL 44.698573 99.742609 \nL 54.442752 114.069845 \nL 64.186931 121.365035 \nL 73.93111 125.224725 \nL 83.675289 126.843978 \nL 93.419468 129.615721 \nL 103.163647 130.555503 \nL 112.907826 131.869253 \nL 122.652006 133.32826 \nL 132.396185 133.802239 \nL 142.140364 135.02824 \nL 151.884543 136.31435 \nL 161.628722 135.983257 \nL 171.372901 137.011492 \nL 181.11708 137.604616 \nL 190.861259 138.388595 \n\" clip-path=\"url(#p6fa7908537)\" style=\"fill: none; stroke: #1f77b4; stroke-width: 1.5; stroke-linecap: square\"/>\n   </g>\n   <g id=\"line2d_104\">\n    <path d=\"M 49.633125 111.431692 \nL 69.163125 126.822482 \nL 88.693125 129.95382 \nL 108.223125 131.835406 \nL 127.753125 134.194065 \nL 147.283125 136.497127 \nL 166.813125 136.965728 \nL 186.343125 137.326603 \n\" clip-path=\"url(#p6fa7908537)\" style=\"fill: none; stroke-dasharray: 5.55,2.4; stroke-dashoffset: 0; stroke: #ff7f0e; stroke-width: 1.5\"/>\n   </g>\n   <g id=\"line2d_105\">\n    <path d=\"M 49.633125 106.803459 \nL 69.163125 100.523261 \nL 88.693125 99.293119 \nL 108.223125 98.724808 \nL 127.753125 97.911907 \nL 147.283125 96.796866 \nL 166.813125 96.789672 \nL 186.343125 96.329268 \n\" clip-path=\"url(#p6fa7908537)\" style=\"fill: none; stroke-dasharray: 9.6,2.4,1.5,2.4; stroke-dashoffset: 0; stroke: #2ca02c; stroke-width: 1.5\"/>\n   </g>\n   <g id=\"line2d_106\">\n    <path d=\"M 34.954394 13.5 \nL 44.698573 99.742609 \nL 54.442752 114.069845 \nL 64.186931 121.365035 \nL 73.93111 125.224725 \nL 83.675289 126.843978 \nL 93.419468 129.615721 \nL 103.163647 130.555503 \nL 112.907826 131.869253 \nL 122.652006 133.32826 \nL 132.396185 133.802239 \nL 142.140364 135.02824 \nL 151.884543 136.31435 \nL 161.628722 135.983257 \nL 171.372901 137.011492 \nL 181.11708 137.604616 \nL 190.861259 138.388595 \nL 200.605438 138.517568 \n\" clip-path=\"url(#p6fa7908537)\" style=\"fill: none; stroke: #1f77b4; stroke-width: 1.5; stroke-linecap: square\"/>\n   </g>\n   <g id=\"line2d_107\">\n    <path d=\"M 49.633125 111.431692 \nL 69.163125 126.822482 \nL 88.693125 129.95382 \nL 108.223125 131.835406 \nL 127.753125 134.194065 \nL 147.283125 136.497127 \nL 166.813125 136.965728 \nL 186.343125 137.326603 \n\" clip-path=\"url(#p6fa7908537)\" style=\"fill: none; stroke-dasharray: 5.55,2.4; stroke-dashoffset: 0; stroke: #ff7f0e; stroke-width: 1.5\"/>\n   </g>\n   <g id=\"line2d_108\">\n    <path d=\"M 49.633125 106.803459 \nL 69.163125 100.523261 \nL 88.693125 99.293119 \nL 108.223125 98.724808 \nL 127.753125 97.911907 \nL 147.283125 96.796866 \nL 166.813125 96.789672 \nL 186.343125 96.329268 \n\" clip-path=\"url(#p6fa7908537)\" style=\"fill: none; stroke-dasharray: 9.6,2.4,1.5,2.4; stroke-dashoffset: 0; stroke: #2ca02c; stroke-width: 1.5\"/>\n   </g>\n   <g id=\"line2d_109\">\n    <path d=\"M 34.954394 13.5 \nL 44.698573 99.742609 \nL 54.442752 114.069845 \nL 64.186931 121.365035 \nL 73.93111 125.224725 \nL 83.675289 126.843978 \nL 93.419468 129.615721 \nL 103.163647 130.555503 \nL 112.907826 131.869253 \nL 122.652006 133.32826 \nL 132.396185 133.802239 \nL 142.140364 135.02824 \nL 151.884543 136.31435 \nL 161.628722 135.983257 \nL 171.372901 137.011492 \nL 181.11708 137.604616 \nL 190.861259 138.388595 \nL 200.605438 138.517568 \n\" clip-path=\"url(#p6fa7908537)\" style=\"fill: none; stroke: #1f77b4; stroke-width: 1.5; stroke-linecap: square\"/>\n   </g>\n   <g id=\"line2d_110\">\n    <path d=\"M 49.633125 111.431692 \nL 69.163125 126.822482 \nL 88.693125 129.95382 \nL 108.223125 131.835406 \nL 127.753125 134.194065 \nL 147.283125 136.497127 \nL 166.813125 136.965728 \nL 186.343125 137.326603 \nL 205.873125 138.763601 \n\" clip-path=\"url(#p6fa7908537)\" style=\"fill: none; stroke-dasharray: 5.55,2.4; stroke-dashoffset: 0; stroke: #ff7f0e; stroke-width: 1.5\"/>\n   </g>\n   <g id=\"line2d_111\">\n    <path d=\"M 49.633125 106.803459 \nL 69.163125 100.523261 \nL 88.693125 99.293119 \nL 108.223125 98.724808 \nL 127.753125 97.911907 \nL 147.283125 96.796866 \nL 166.813125 96.789672 \nL 186.343125 96.329268 \n\" clip-path=\"url(#p6fa7908537)\" style=\"fill: none; stroke-dasharray: 9.6,2.4,1.5,2.4; stroke-dashoffset: 0; stroke: #2ca02c; stroke-width: 1.5\"/>\n   </g>\n   <g id=\"line2d_112\">\n    <path d=\"M 34.954394 13.5 \nL 44.698573 99.742609 \nL 54.442752 114.069845 \nL 64.186931 121.365035 \nL 73.93111 125.224725 \nL 83.675289 126.843978 \nL 93.419468 129.615721 \nL 103.163647 130.555503 \nL 112.907826 131.869253 \nL 122.652006 133.32826 \nL 132.396185 133.802239 \nL 142.140364 135.02824 \nL 151.884543 136.31435 \nL 161.628722 135.983257 \nL 171.372901 137.011492 \nL 181.11708 137.604616 \nL 190.861259 138.388595 \nL 200.605438 138.517568 \n\" clip-path=\"url(#p6fa7908537)\" style=\"fill: none; stroke: #1f77b4; stroke-width: 1.5; stroke-linecap: square\"/>\n   </g>\n   <g id=\"line2d_113\">\n    <path d=\"M 49.633125 111.431692 \nL 69.163125 126.822482 \nL 88.693125 129.95382 \nL 108.223125 131.835406 \nL 127.753125 134.194065 \nL 147.283125 136.497127 \nL 166.813125 136.965728 \nL 186.343125 137.326603 \nL 205.873125 138.763601 \n\" clip-path=\"url(#p6fa7908537)\" style=\"fill: none; stroke-dasharray: 5.55,2.4; stroke-dashoffset: 0; stroke: #ff7f0e; stroke-width: 1.5\"/>\n   </g>\n   <g id=\"line2d_114\">\n    <path d=\"M 49.633125 106.803459 \nL 69.163125 100.523261 \nL 88.693125 99.293119 \nL 108.223125 98.724808 \nL 127.753125 97.911907 \nL 147.283125 96.796866 \nL 166.813125 96.789672 \nL 186.343125 96.329268 \nL 205.873125 96.063097 \n\" clip-path=\"url(#p6fa7908537)\" style=\"fill: none; stroke-dasharray: 9.6,2.4,1.5,2.4; stroke-dashoffset: 0; stroke: #2ca02c; stroke-width: 1.5\"/>\n   </g>\n   <g id=\"line2d_115\">\n    <path d=\"M 34.954394 13.5 \nL 44.698573 99.742609 \nL 54.442752 114.069845 \nL 64.186931 121.365035 \nL 73.93111 125.224725 \nL 83.675289 126.843978 \nL 93.419468 129.615721 \nL 103.163647 130.555503 \nL 112.907826 131.869253 \nL 122.652006 133.32826 \nL 132.396185 133.802239 \nL 142.140364 135.02824 \nL 151.884543 136.31435 \nL 161.628722 135.983257 \nL 171.372901 137.011492 \nL 181.11708 137.604616 \nL 190.861259 138.388595 \nL 200.605438 138.517568 \nL 210.349618 139.5 \n\" clip-path=\"url(#p6fa7908537)\" style=\"fill: none; stroke: #1f77b4; stroke-width: 1.5; stroke-linecap: square\"/>\n   </g>\n   <g id=\"line2d_116\">\n    <path d=\"M 49.633125 111.431692 \nL 69.163125 126.822482 \nL 88.693125 129.95382 \nL 108.223125 131.835406 \nL 127.753125 134.194065 \nL 147.283125 136.497127 \nL 166.813125 136.965728 \nL 186.343125 137.326603 \nL 205.873125 138.763601 \n\" clip-path=\"url(#p6fa7908537)\" style=\"fill: none; stroke-dasharray: 5.55,2.4; stroke-dashoffset: 0; stroke: #ff7f0e; stroke-width: 1.5\"/>\n   </g>\n   <g id=\"line2d_117\">\n    <path d=\"M 49.633125 106.803459 \nL 69.163125 100.523261 \nL 88.693125 99.293119 \nL 108.223125 98.724808 \nL 127.753125 97.911907 \nL 147.283125 96.796866 \nL 166.813125 96.789672 \nL 186.343125 96.329268 \nL 205.873125 96.063097 \n\" clip-path=\"url(#p6fa7908537)\" style=\"fill: none; stroke-dasharray: 9.6,2.4,1.5,2.4; stroke-dashoffset: 0; stroke: #2ca02c; stroke-width: 1.5\"/>\n   </g>\n   <g id=\"line2d_118\">\n    <path d=\"M 34.954394 13.5 \nL 44.698573 99.742609 \nL 54.442752 114.069845 \nL 64.186931 121.365035 \nL 73.93111 125.224725 \nL 83.675289 126.843978 \nL 93.419468 129.615721 \nL 103.163647 130.555503 \nL 112.907826 131.869253 \nL 122.652006 133.32826 \nL 132.396185 133.802239 \nL 142.140364 135.02824 \nL 151.884543 136.31435 \nL 161.628722 135.983257 \nL 171.372901 137.011492 \nL 181.11708 137.604616 \nL 190.861259 138.388595 \nL 200.605438 138.517568 \nL 210.349618 139.5 \nL 220.093797 139.40277 \n\" clip-path=\"url(#p6fa7908537)\" style=\"fill: none; stroke: #1f77b4; stroke-width: 1.5; stroke-linecap: square\"/>\n   </g>\n   <g id=\"line2d_119\">\n    <path d=\"M 49.633125 111.431692 \nL 69.163125 126.822482 \nL 88.693125 129.95382 \nL 108.223125 131.835406 \nL 127.753125 134.194065 \nL 147.283125 136.497127 \nL 166.813125 136.965728 \nL 186.343125 137.326603 \nL 205.873125 138.763601 \n\" clip-path=\"url(#p6fa7908537)\" style=\"fill: none; stroke-dasharray: 5.55,2.4; stroke-dashoffset: 0; stroke: #ff7f0e; stroke-width: 1.5\"/>\n   </g>\n   <g id=\"line2d_120\">\n    <path d=\"M 49.633125 106.803459 \nL 69.163125 100.523261 \nL 88.693125 99.293119 \nL 108.223125 98.724808 \nL 127.753125 97.911907 \nL 147.283125 96.796866 \nL 166.813125 96.789672 \nL 186.343125 96.329268 \nL 205.873125 96.063097 \n\" clip-path=\"url(#p6fa7908537)\" style=\"fill: none; stroke-dasharray: 9.6,2.4,1.5,2.4; stroke-dashoffset: 0; stroke: #2ca02c; stroke-width: 1.5\"/>\n   </g>\n   <g id=\"line2d_121\">\n    <path d=\"M 34.954394 13.5 \nL 44.698573 99.742609 \nL 54.442752 114.069845 \nL 64.186931 121.365035 \nL 73.93111 125.224725 \nL 83.675289 126.843978 \nL 93.419468 129.615721 \nL 103.163647 130.555503 \nL 112.907826 131.869253 \nL 122.652006 133.32826 \nL 132.396185 133.802239 \nL 142.140364 135.02824 \nL 151.884543 136.31435 \nL 161.628722 135.983257 \nL 171.372901 137.011492 \nL 181.11708 137.604616 \nL 190.861259 138.388595 \nL 200.605438 138.517568 \nL 210.349618 139.5 \nL 220.093797 139.40277 \n\" clip-path=\"url(#p6fa7908537)\" style=\"fill: none; stroke: #1f77b4; stroke-width: 1.5; stroke-linecap: square\"/>\n   </g>\n   <g id=\"line2d_122\">\n    <path d=\"M 49.633125 111.431692 \nL 69.163125 126.822482 \nL 88.693125 129.95382 \nL 108.223125 131.835406 \nL 127.753125 134.194065 \nL 147.283125 136.497127 \nL 166.813125 136.965728 \nL 186.343125 137.326603 \nL 205.873125 138.763601 \nL 225.403125 139.12145 \n\" clip-path=\"url(#p6fa7908537)\" style=\"fill: none; stroke-dasharray: 5.55,2.4; stroke-dashoffset: 0; stroke: #ff7f0e; stroke-width: 1.5\"/>\n   </g>\n   <g id=\"line2d_123\">\n    <path d=\"M 49.633125 106.803459 \nL 69.163125 100.523261 \nL 88.693125 99.293119 \nL 108.223125 98.724808 \nL 127.753125 97.911907 \nL 147.283125 96.796866 \nL 166.813125 96.789672 \nL 186.343125 96.329268 \nL 205.873125 96.063097 \n\" clip-path=\"url(#p6fa7908537)\" style=\"fill: none; stroke-dasharray: 9.6,2.4,1.5,2.4; stroke-dashoffset: 0; stroke: #2ca02c; stroke-width: 1.5\"/>\n   </g>\n   <g id=\"line2d_124\">\n    <path d=\"M 34.954394 13.5 \nL 44.698573 99.742609 \nL 54.442752 114.069845 \nL 64.186931 121.365035 \nL 73.93111 125.224725 \nL 83.675289 126.843978 \nL 93.419468 129.615721 \nL 103.163647 130.555503 \nL 112.907826 131.869253 \nL 122.652006 133.32826 \nL 132.396185 133.802239 \nL 142.140364 135.02824 \nL 151.884543 136.31435 \nL 161.628722 135.983257 \nL 171.372901 137.011492 \nL 181.11708 137.604616 \nL 190.861259 138.388595 \nL 200.605438 138.517568 \nL 210.349618 139.5 \nL 220.093797 139.40277 \n\" clip-path=\"url(#p6fa7908537)\" style=\"fill: none; stroke: #1f77b4; stroke-width: 1.5; stroke-linecap: square\"/>\n   </g>\n   <g id=\"line2d_125\">\n    <path d=\"M 49.633125 111.431692 \nL 69.163125 126.822482 \nL 88.693125 129.95382 \nL 108.223125 131.835406 \nL 127.753125 134.194065 \nL 147.283125 136.497127 \nL 166.813125 136.965728 \nL 186.343125 137.326603 \nL 205.873125 138.763601 \nL 225.403125 139.12145 \n\" clip-path=\"url(#p6fa7908537)\" style=\"fill: none; stroke-dasharray: 5.55,2.4; stroke-dashoffset: 0; stroke: #ff7f0e; stroke-width: 1.5\"/>\n   </g>\n   <g id=\"line2d_126\">\n    <path d=\"M 49.633125 106.803459 \nL 69.163125 100.523261 \nL 88.693125 99.293119 \nL 108.223125 98.724808 \nL 127.753125 97.911907 \nL 147.283125 96.796866 \nL 166.813125 96.789672 \nL 186.343125 96.329268 \nL 205.873125 96.063097 \nL 225.403125 95.825701 \n\" clip-path=\"url(#p6fa7908537)\" style=\"fill: none; stroke-dasharray: 9.6,2.4,1.5,2.4; stroke-dashoffset: 0; stroke: #2ca02c; stroke-width: 1.5\"/>\n   </g>\n   <g id=\"patch_3\">\n    <path d=\"M 30.103125 145.8 \nL 30.103125 7.2 \n\" style=\"fill: none; stroke: #000000; stroke-width: 0.8; stroke-linejoin: miter; stroke-linecap: square\"/>\n   </g>\n   <g id=\"patch_4\">\n    <path d=\"M 225.403125 145.8 \nL 225.403125 7.2 \n\" style=\"fill: none; stroke: #000000; stroke-width: 0.8; stroke-linejoin: miter; stroke-linecap: square\"/>\n   </g>\n   <g id=\"patch_5\">\n    <path d=\"M 30.103125 145.8 \nL 225.403125 145.8 \n\" style=\"fill: none; stroke: #000000; stroke-width: 0.8; stroke-linejoin: miter; stroke-linecap: square\"/>\n   </g>\n   <g id=\"patch_6\">\n    <path d=\"M 30.103125 7.2 \nL 225.403125 7.2 \n\" style=\"fill: none; stroke: #000000; stroke-width: 0.8; stroke-linejoin: miter; stroke-linecap: square\"/>\n   </g>\n   <g id=\"legend_1\">\n    <g id=\"patch_7\">\n     <path d=\"M 138.8125 60.06875 \nL 218.403125 60.06875 \nQ 220.403125 60.06875 220.403125 58.06875 \nL 220.403125 14.2 \nQ 220.403125 12.2 218.403125 12.2 \nL 138.8125 12.2 \nQ 136.8125 12.2 136.8125 14.2 \nL 136.8125 58.06875 \nQ 136.8125 60.06875 138.8125 60.06875 \nz\n\" style=\"fill: #ffffff; opacity: 0.8; stroke: #cccccc; stroke-linejoin: miter\"/>\n    </g>\n    <g id=\"line2d_127\">\n     <path d=\"M 140.8125 20.298438 \nL 150.8125 20.298438 \nL 160.8125 20.298438 \n\" style=\"fill: none; stroke: #1f77b4; stroke-width: 1.5; stroke-linecap: square\"/>\n    </g>\n    <g id=\"text_12\">\n     <!-- train_loss -->\n     <g transform=\"translate(168.8125 23.798438) scale(0.1 -0.1)\">\n      <defs>\n       <path id=\"DejaVuSans-74\" d=\"M 1172 4494 \nL 1172 3500 \nL 2356 3500 \nL 2356 3053 \nL 1172 3053 \nL 1172 1153 \nQ 1172 725 1289 603 \nQ 1406 481 1766 481 \nL 2356 481 \nL 2356 0 \nL 1766 0 \nQ 1100 0 847 248 \nQ 594 497 594 1153 \nL 594 3053 \nL 172 3053 \nL 172 3500 \nL 594 3500 \nL 594 4494 \nL 1172 4494 \nz\n\" transform=\"scale(0.015625)\"/>\n       <path id=\"DejaVuSans-72\" d=\"M 2631 2963 \nQ 2534 3019 2420 3045 \nQ 2306 3072 2169 3072 \nQ 1681 3072 1420 2755 \nQ 1159 2438 1159 1844 \nL 1159 0 \nL 581 0 \nL 581 3500 \nL 1159 3500 \nL 1159 2956 \nQ 1341 3275 1631 3429 \nQ 1922 3584 2338 3584 \nQ 2397 3584 2469 3576 \nQ 2541 3569 2628 3553 \nL 2631 2963 \nz\n\" transform=\"scale(0.015625)\"/>\n       <path id=\"DejaVuSans-61\" d=\"M 2194 1759 \nQ 1497 1759 1228 1600 \nQ 959 1441 959 1056 \nQ 959 750 1161 570 \nQ 1363 391 1709 391 \nQ 2188 391 2477 730 \nQ 2766 1069 2766 1631 \nL 2766 1759 \nL 2194 1759 \nz\nM 3341 1997 \nL 3341 0 \nL 2766 0 \nL 2766 531 \nQ 2569 213 2275 61 \nQ 1981 -91 1556 -91 \nQ 1019 -91 701 211 \nQ 384 513 384 1019 \nQ 384 1609 779 1909 \nQ 1175 2209 1959 2209 \nL 2766 2209 \nL 2766 2266 \nQ 2766 2663 2505 2880 \nQ 2244 3097 1772 3097 \nQ 1472 3097 1187 3025 \nQ 903 2953 641 2809 \nL 641 3341 \nQ 956 3463 1253 3523 \nQ 1550 3584 1831 3584 \nQ 2591 3584 2966 3190 \nQ 3341 2797 3341 1997 \nz\n\" transform=\"scale(0.015625)\"/>\n       <path id=\"DejaVuSans-69\" d=\"M 603 3500 \nL 1178 3500 \nL 1178 0 \nL 603 0 \nL 603 3500 \nz\nM 603 4863 \nL 1178 4863 \nL 1178 4134 \nL 603 4134 \nL 603 4863 \nz\n\" transform=\"scale(0.015625)\"/>\n       <path id=\"DejaVuSans-6e\" d=\"M 3513 2113 \nL 3513 0 \nL 2938 0 \nL 2938 2094 \nQ 2938 2591 2744 2837 \nQ 2550 3084 2163 3084 \nQ 1697 3084 1428 2787 \nQ 1159 2491 1159 1978 \nL 1159 0 \nL 581 0 \nL 581 3500 \nL 1159 3500 \nL 1159 2956 \nQ 1366 3272 1645 3428 \nQ 1925 3584 2291 3584 \nQ 2894 3584 3203 3211 \nQ 3513 2838 3513 2113 \nz\n\" transform=\"scale(0.015625)\"/>\n       <path id=\"DejaVuSans-5f\" d=\"M 3263 -1063 \nL 3263 -1509 \nL -63 -1509 \nL -63 -1063 \nL 3263 -1063 \nz\n\" transform=\"scale(0.015625)\"/>\n       <path id=\"DejaVuSans-6c\" d=\"M 603 4863 \nL 1178 4863 \nL 1178 0 \nL 603 0 \nL 603 4863 \nz\n\" transform=\"scale(0.015625)\"/>\n       <path id=\"DejaVuSans-73\" d=\"M 2834 3397 \nL 2834 2853 \nQ 2591 2978 2328 3040 \nQ 2066 3103 1784 3103 \nQ 1356 3103 1142 2972 \nQ 928 2841 928 2578 \nQ 928 2378 1081 2264 \nQ 1234 2150 1697 2047 \nL 1894 2003 \nQ 2506 1872 2764 1633 \nQ 3022 1394 3022 966 \nQ 3022 478 2636 193 \nQ 2250 -91 1575 -91 \nQ 1294 -91 989 -36 \nQ 684 19 347 128 \nL 347 722 \nQ 666 556 975 473 \nQ 1284 391 1588 391 \nQ 1994 391 2212 530 \nQ 2431 669 2431 922 \nQ 2431 1156 2273 1281 \nQ 2116 1406 1581 1522 \nL 1381 1569 \nQ 847 1681 609 1914 \nQ 372 2147 372 2553 \nQ 372 3047 722 3315 \nQ 1072 3584 1716 3584 \nQ 2034 3584 2315 3537 \nQ 2597 3491 2834 3397 \nz\n\" transform=\"scale(0.015625)\"/>\n      </defs>\n      <use xlink:href=\"#DejaVuSans-74\"/>\n      <use xlink:href=\"#DejaVuSans-72\" x=\"39.208984\"/>\n      <use xlink:href=\"#DejaVuSans-61\" x=\"80.322266\"/>\n      <use xlink:href=\"#DejaVuSans-69\" x=\"141.601562\"/>\n      <use xlink:href=\"#DejaVuSans-6e\" x=\"169.384766\"/>\n      <use xlink:href=\"#DejaVuSans-5f\" x=\"232.763672\"/>\n      <use xlink:href=\"#DejaVuSans-6c\" x=\"282.763672\"/>\n      <use xlink:href=\"#DejaVuSans-6f\" x=\"310.546875\"/>\n      <use xlink:href=\"#DejaVuSans-73\" x=\"371.728516\"/>\n      <use xlink:href=\"#DejaVuSans-73\" x=\"423.828125\"/>\n     </g>\n    </g>\n    <g id=\"line2d_128\">\n     <path d=\"M 140.8125 35.254688 \nL 150.8125 35.254688 \nL 160.8125 35.254688 \n\" style=\"fill: none; stroke-dasharray: 5.55,2.4; stroke-dashoffset: 0; stroke: #ff7f0e; stroke-width: 1.5\"/>\n    </g>\n    <g id=\"text_13\">\n     <!-- val_loss -->\n     <g transform=\"translate(168.8125 38.754688) scale(0.1 -0.1)\">\n      <defs>\n       <path id=\"DejaVuSans-76\" d=\"M 191 3500 \nL 800 3500 \nL 1894 563 \nL 2988 3500 \nL 3597 3500 \nL 2284 0 \nL 1503 0 \nL 191 3500 \nz\n\" transform=\"scale(0.015625)\"/>\n      </defs>\n      <use xlink:href=\"#DejaVuSans-76\"/>\n      <use xlink:href=\"#DejaVuSans-61\" x=\"59.179688\"/>\n      <use xlink:href=\"#DejaVuSans-6c\" x=\"120.458984\"/>\n      <use xlink:href=\"#DejaVuSans-5f\" x=\"148.242188\"/>\n      <use xlink:href=\"#DejaVuSans-6c\" x=\"198.242188\"/>\n      <use xlink:href=\"#DejaVuSans-6f\" x=\"226.025391\"/>\n      <use xlink:href=\"#DejaVuSans-73\" x=\"287.207031\"/>\n      <use xlink:href=\"#DejaVuSans-73\" x=\"339.306641\"/>\n     </g>\n    </g>\n    <g id=\"line2d_129\">\n     <path d=\"M 140.8125 50.210938 \nL 150.8125 50.210938 \nL 160.8125 50.210938 \n\" style=\"fill: none; stroke-dasharray: 9.6,2.4,1.5,2.4; stroke-dashoffset: 0; stroke: #2ca02c; stroke-width: 1.5\"/>\n    </g>\n    <g id=\"text_14\">\n     <!-- val_acc -->\n     <g transform=\"translate(168.8125 53.710938) scale(0.1 -0.1)\">\n      <use xlink:href=\"#DejaVuSans-76\"/>\n      <use xlink:href=\"#DejaVuSans-61\" x=\"59.179688\"/>\n      <use xlink:href=\"#DejaVuSans-6c\" x=\"120.458984\"/>\n      <use xlink:href=\"#DejaVuSans-5f\" x=\"148.242188\"/>\n      <use xlink:href=\"#DejaVuSans-61\" x=\"198.242188\"/>\n      <use xlink:href=\"#DejaVuSans-63\" x=\"259.521484\"/>\n      <use xlink:href=\"#DejaVuSans-63\" x=\"314.501953\"/>\n     </g>\n    </g>\n   </g>\n  </g>\n </g>\n <defs>\n  <clipPath id=\"p6fa7908537\">\n   <rect x=\"30.103125\" y=\"7.2\" width=\"195.3\" height=\"138.6\"/>\n  </clipPath>\n </defs>\n</svg>\n",
            "text/plain": [
              "<Figure size 350x250 with 1 Axes>"
            ]
          },
          "metadata": {},
          "output_type": "display_data"
        }
      ],
      "source": [
        "model = VGG(arch=((1, 16), (1, 32), (2, 64), (2, 128), (2, 128)), lr=0.01)\n",
        "trainer = d2l.Trainer(max_epochs=10, num_gpus=1)\n",
        "data = d2l.FashionMNIST(batch_size=128, resize=(224, 224))\n",
        "model.apply_init([next(iter(data.get_dataloader(True)))[0]], d2l.init_cnn)\n",
        "trainer.fit(model, data)"
      ]
    },
    {
      "cell_type": "markdown",
      "metadata": {
        "id": "VJUHkRSIQo_I"
      },
      "source": [
        "## **Exercises**\n",
        "\n",
        "1. Compared with AlexNet, VGG is much slower in terms of computation, and it also needs more GPU memory.\n",
        "    1. Compare the number of parameters needed for AlexNet and VGG.\n",
        "    1. Compare the number of floating point operations used in the convolutional layers and in the fully connected layers.\n",
        "    1. How could you reduce the computational cost created by the fully connected layers?\n",
        "1. When displaying the dimensions associated with the various layers of the network, we only see the information associated with eight blocks (plus some auxiliary transforms), even though the network has 11 layers. Where did the remaining three layers go?\n",
        "1. Use Table 1 in the VGG paper :cite:`Simonyan.Zisserman.2014` to construct other common models, such as VGG-16 or VGG-19.\n",
        "1. Upsampling the resolution in Fashion-MNIST eight-fold from $28 \\times 28$ to $224 \\times 224$ dimensions is very wasteful. Try modifying the network architecture and resolution conversion, e.g., to 56 or to 84 dimensions for its input instead. Can you do so without reducing the accuracy of the network? Consult the VGG paper :cite:`Simonyan.Zisserman.2014` for ideas on adding more nonlinearities prior to downsampling."
      ]
    },
    {
      "cell_type": "markdown",
      "metadata": {
        "id": "8SziUingI4VZ"
      },
      "source": [
        "## **Exercises Solution**"
      ]
    },
    {
      "cell_type": "markdown",
      "metadata": {
        "id": "wUMUw21bwu-8"
      },
      "source": [
        "1.1"
      ]
    },
    {
      "cell_type": "code",
      "execution_count": null,
      "metadata": {
        "colab": {
          "base_uri": "https://localhost:8080/"
        },
        "id": "2xLvKL_cwuqP",
        "outputId": "262838f4-3668-4282-d90c-9104801d6ee9"
      },
      "outputs": [
        {
          "name": "stdout",
          "output_type": "stream",
          "text": [
            "Number of parameters in AlexNet: 46787978\n",
            "Number of parameters in VGG: 43093610\n"
          ]
        }
      ],
      "source": [
        "alexnet = AlexNet()\n",
        "vgg = VGG(arch=((1, 16), (1, 32), (2, 64), (2, 128), (2, 128)))\n",
        "\n",
        "# Create a dummy input to initialize the parameters (e.g., an image of size 224x224)\n",
        "dummy_input = torch.randn(1, 3, 224, 224)  # 1 sample, 3 channels, 224x224 image\n",
        "\n",
        "# Initialize AlexNet by running a forward pass\n",
        "alexnet(dummy_input)\n",
        "\n",
        "# Initialize VGG by running a forward pass\n",
        "vgg(dummy_input)\n",
        "\n",
        "# Function to count the number of parameters\n",
        "def count_parameters(model):\n",
        "    return sum(p.numel() for p in model.parameters() if p.requires_grad)\n",
        "\n",
        "# Print the number of parameters\n",
        "print(\"Number of parameters in AlexNet:\", count_parameters(alexnet))\n",
        "print(\"Number of parameters in VGG:\", count_parameters(vgg))"
      ]
    },
    {
      "cell_type": "markdown",
      "metadata": {
        "id": "sVjuKYv6x3Lz"
      },
      "source": [
        "1.2"
      ]
    },
    {
      "cell_type": "code",
      "execution_count": null,
      "metadata": {
        "colab": {
          "base_uri": "https://localhost:8080/"
        },
        "id": "81EOqte5x4Oa",
        "outputId": "f49e7731-bfed-4e3c-d554-ce1c5573780b"
      },
      "outputs": [
        {
          "name": "stdout",
          "output_type": "stream",
          "text": [
            "Convolutional FLOPs in AlexNet: 372607097088\n",
            "Fully Connected FLOPs in AlexNet: 86065152\n",
            "Convolutional FLOPs in VGG: 57846104064\n",
            "Fully Connected FLOPs in VGG: 85016576\n"
          ]
        }
      ],
      "source": [
        "def calculate_flops(module, input_size):\n",
        "    \"\"\"Calculate FLOPs for Conv2D and Linear layers.\"\"\"\n",
        "    flops = 0\n",
        "    if isinstance(module, nn.Conv2d):\n",
        "        # Get the input channels, output channels, kernel size, etc.\n",
        "        in_channels = module.in_channels\n",
        "        out_channels = module.out_channels\n",
        "        kernel_size = module.kernel_size[0] * module.kernel_size[1]\n",
        "        stride = module.stride[0]\n",
        "        padding = module.padding[0]\n",
        "\n",
        "        # Calculate output feature map size (H_out, W_out)\n",
        "        # Assume square input for simplicity\n",
        "        input_height = input_size[2]  # from input (N, C, H, W)\n",
        "        input_width = input_size[3]\n",
        "        output_height = (input_height - module.kernel_size[0] + 2 * padding) // stride + 1\n",
        "        output_width = (input_width - module.kernel_size[1] + 2 * padding) // stride + 1\n",
        "\n",
        "        # FLOPs for Conv2D = 2 * C_in * H_out * W_out * K_h * K_w * C_out\n",
        "        flops = 2 * in_channels * output_height * output_width * kernel_size * out_channels\n",
        "\n",
        "    elif isinstance(module, nn.Linear):\n",
        "        # FLOPs for Linear layer = 2 * in_features * out_features\n",
        "        in_features = module.in_features\n",
        "        out_features = module.out_features\n",
        "        flops = 2 * in_features * out_features\n",
        "\n",
        "    return flops\n",
        "\n",
        "dummy_input = torch.randn(1, 3, 224, 224)  # Dummy input to simulate actual input size\n",
        "input_size = dummy_input.size()\n",
        "\n",
        "# FLOP calculations for AlexNet\n",
        "conv_flops_alexnet = 0\n",
        "fc_flops_alexnet = 0\n",
        "for module in alexnet.modules():\n",
        "    if isinstance(module, nn.Conv2d):\n",
        "        conv_flops_alexnet += calculate_flops(module, input_size)\n",
        "    elif isinstance(module, nn.Linear):\n",
        "        fc_flops_alexnet += calculate_flops(module, input_size)\n",
        "\n",
        "# FLOP calculations for VGG\n",
        "conv_flops_vgg = 0\n",
        "fc_flops_vgg = 0\n",
        "for module in vgg.modules():\n",
        "    if isinstance(module, nn.Conv2d):\n",
        "        conv_flops_vgg += calculate_flops(module, input_size)\n",
        "    elif isinstance(module, nn.Linear):\n",
        "        fc_flops_vgg += calculate_flops(module, input_size)\n",
        "\n",
        "# Output the results\n",
        "print(\"Convolutional FLOPs in AlexNet:\", conv_flops_alexnet)\n",
        "print(\"Fully Connected FLOPs in AlexNet:\", fc_flops_alexnet)\n",
        "print(\"Convolutional FLOPs in VGG:\", conv_flops_vgg)\n",
        "print(\"Fully Connected FLOPs in VGG:\", fc_flops_vgg)"
      ]
    },
    {
      "cell_type": "markdown",
      "metadata": {
        "id": "cK8K4NEVyHB1"
      },
      "source": [
        "1.3\n",
        "\n",
        "- Reduce the number of neurons: One way to reduce the computational cost is to reduce the number of neurons in the fully connected layers. This can be done by reducing the number of hidden units or by using a smaller output size.\n",
        "\n",
        "- Use convolutional layers instead: In some cases, fully connected layers can be replaced with convolutional layers. This is particularly useful when the input data has a spatial structure, such as images.\n",
        "\n",
        "- Use sparse connections: Another way to reduce the computational cost is to use sparse connections between neurons. This can be done using sparse matrices or by using sparse neural networks.\n",
        "\n",
        "- Use low-rank approximations: Low-rank approximations can be used to reduce the computational cost of fully connected layers. This involves approximating the weight matrix as a product of two low-rank matrices.\n",
        "\n",
        "- Use knowledge distillation: Knowledge distillation involves training a smaller network (the student) to mimic the behavior of a larger network (the teacher). This can be used to reduce the computational cost of fully connected layers.-"
      ]
    },
    {
      "cell_type": "markdown",
      "metadata": {
        "id": "5JpDJLQ2yqfj"
      },
      "source": [
        "2. The remaining three layers are the ReLU activation functions and the max pooling layers. These layers are not explicitly defined as separate modules in the network, but are instead used as functions within the **forward** method."
      ]
    },
    {
      "cell_type": "code",
      "execution_count": null,
      "metadata": {
        "colab": {
          "base_uri": "https://localhost:8080/"
        },
        "id": "WKhl6-cZyrTY",
        "outputId": "83519cc4-83e9-4c7b-bc0e-b66600dea387"
      },
      "outputs": [
        {
          "name": "stdout",
          "output_type": "stream",
          "text": [
            "net.0 Conv2d(3, 96, kernel_size=(11, 11), stride=(4, 4), padding=(1, 1))\n",
            "net.1 ReLU()\n",
            "net.2 MaxPool2d(kernel_size=3, stride=2, padding=0, dilation=1, ceil_mode=False)\n",
            "net.3 Conv2d(96, 256, kernel_size=(5, 5), stride=(1, 1), padding=(2, 2))\n",
            "net.4 ReLU()\n",
            "net.5 MaxPool2d(kernel_size=3, stride=2, padding=0, dilation=1, ceil_mode=False)\n",
            "net.6 Conv2d(256, 384, kernel_size=(3, 3), stride=(1, 1), padding=(1, 1))\n",
            "net.7 ReLU()\n",
            "net.8 Conv2d(384, 384, kernel_size=(3, 3), stride=(1, 1), padding=(1, 1))\n",
            "net.9 ReLU()\n",
            "net.10 Conv2d(384, 256, kernel_size=(3, 3), stride=(1, 1), padding=(1, 1))\n",
            "net.11 ReLU()\n",
            "net.12 MaxPool2d(kernel_size=3, stride=2, padding=0, dilation=1, ceil_mode=False)\n",
            "net.14 Linear(in_features=6400, out_features=4096, bias=True)\n",
            "net.15 ReLU()\n",
            "net.17 Linear(in_features=4096, out_features=4096, bias=True)\n",
            "net.18 ReLU()\n",
            "net.20 Linear(in_features=4096, out_features=10, bias=True)\n"
          ]
        }
      ],
      "source": [
        "for name, module in alexnet.named_modules():\n",
        "    if isinstance(module, nn.Conv2d) or isinstance(module, nn.MaxPool2d) or isinstance(module, nn.ReLU) or isinstance(module, nn.Linear):\n",
        "        print(name, module)"
      ]
    },
    {
      "cell_type": "markdown",
      "metadata": {
        "id": "Scq6IuuKzFdo"
      },
      "source": [
        "3."
      ]
    },
    {
      "cell_type": "code",
      "execution_count": null,
      "metadata": {
        "id": "7k_EJYfJzFTJ"
      },
      "outputs": [],
      "source": [
        "class VGG(nn.Module):\n",
        "    def __init__(self, num_layers):\n",
        "        super(VGG, self).__init__()\n",
        "        self.conv_layers = nn.ModuleList()\n",
        "        self.fc_layers = nn.ModuleList()\n",
        "\n",
        "        if num_layers == 16:\n",
        "            self.conv_config = [64, 64, 'M', 128, 128, 'M', 256, 256, 256, 'M', 512, 512, 512, 'M', 512, 512, 512, 'M']\n",
        "        elif num_layers == 19:\n",
        "            self.conv_config = [64, 64, 'M', 128, 128, 'M', 256, 256, 256, 256, 'M', 512, 512, 512, 512, 'M', 512, 512, 512, 512, 'M']\n",
        "\n",
        "        for v in self.conv_config:\n",
        "            if v == 'M':\n",
        "                self.conv_layers.append(nn.MaxPool2d(kernel_size=2, stride=2))\n",
        "            else:\n",
        "                self.conv_layers.append(nn.Conv2d(v, v, kernel_size=3, padding=1))\n",
        "\n",
        "        self.fc_config = [4096, 4096, 1000]\n",
        "        for i in range(len(self.fc_config) - 1):\n",
        "            self.fc_layers.append(nn.Linear(self.fc_config[i], self.fc_config[i+1]))\n",
        "\n",
        "    def forward(self, x):\n",
        "        for layer in self.conv_layers:\n",
        "            if isinstance(layer, nn.MaxPool2d):\n",
        "                x = layer(x)\n",
        "            else:\n",
        "                x = nn.functional.relu(layer(x))\n",
        "\n",
        "        x = x.view(-1, 512 * 7 * 7)\n",
        "        for layer in self.fc_layers:\n",
        "            x = nn.functional.relu(layer(x))\n",
        "            if layer != self.fc_layers[-1]:\n",
        "                x = nn.functional.dropout(x, 0.5)\n",
        "\n",
        "        return x\n",
        "\n",
        "# Create VGG-16 model\n",
        "vgg16 = VGG(16)\n",
        "\n",
        "# Create VGG-19 model\n",
        "vgg19 = VGG(19)"
      ]
    },
    {
      "cell_type": "markdown",
      "metadata": {
        "id": "Cyas6BGhzaYM"
      },
      "source": [
        "4."
      ]
    },
    {
      "cell_type": "code",
      "execution_count": 2,
      "metadata": {
        "colab": {
          "base_uri": "https://localhost:8080/"
        },
        "id": "JyXrEbsYzbKR",
        "outputId": "e3c1947a-798f-4909-9f12-b340c94dc0b1"
      },
      "outputs": [
        {
          "output_type": "stream",
          "name": "stdout",
          "text": [
            "Downloading http://fashion-mnist.s3-website.eu-central-1.amazonaws.com/train-images-idx3-ubyte.gz\n",
            "Downloading http://fashion-mnist.s3-website.eu-central-1.amazonaws.com/train-images-idx3-ubyte.gz to ./data/FashionMNIST/raw/train-images-idx3-ubyte.gz\n"
          ]
        },
        {
          "output_type": "stream",
          "name": "stderr",
          "text": [
            "100%|██████████| 26421880/26421880 [00:07<00:00, 3319719.83it/s] \n"
          ]
        },
        {
          "output_type": "stream",
          "name": "stdout",
          "text": [
            "Extracting ./data/FashionMNIST/raw/train-images-idx3-ubyte.gz to ./data/FashionMNIST/raw\n",
            "\n",
            "Downloading http://fashion-mnist.s3-website.eu-central-1.amazonaws.com/train-labels-idx1-ubyte.gz\n",
            "Downloading http://fashion-mnist.s3-website.eu-central-1.amazonaws.com/train-labels-idx1-ubyte.gz to ./data/FashionMNIST/raw/train-labels-idx1-ubyte.gz\n"
          ]
        },
        {
          "output_type": "stream",
          "name": "stderr",
          "text": [
            "100%|██████████| 29515/29515 [00:00<00:00, 302776.17it/s]\n"
          ]
        },
        {
          "output_type": "stream",
          "name": "stdout",
          "text": [
            "Extracting ./data/FashionMNIST/raw/train-labels-idx1-ubyte.gz to ./data/FashionMNIST/raw\n",
            "\n",
            "Downloading http://fashion-mnist.s3-website.eu-central-1.amazonaws.com/t10k-images-idx3-ubyte.gz\n",
            "Downloading http://fashion-mnist.s3-website.eu-central-1.amazonaws.com/t10k-images-idx3-ubyte.gz to ./data/FashionMNIST/raw/t10k-images-idx3-ubyte.gz\n"
          ]
        },
        {
          "output_type": "stream",
          "name": "stderr",
          "text": [
            "100%|██████████| 4422102/4422102 [00:01<00:00, 2502348.20it/s]\n"
          ]
        },
        {
          "output_type": "stream",
          "name": "stdout",
          "text": [
            "Extracting ./data/FashionMNIST/raw/t10k-images-idx3-ubyte.gz to ./data/FashionMNIST/raw\n",
            "\n",
            "Downloading http://fashion-mnist.s3-website.eu-central-1.amazonaws.com/t10k-labels-idx1-ubyte.gz\n",
            "Downloading http://fashion-mnist.s3-website.eu-central-1.amazonaws.com/t10k-labels-idx1-ubyte.gz to ./data/FashionMNIST/raw/t10k-labels-idx1-ubyte.gz\n"
          ]
        },
        {
          "output_type": "stream",
          "name": "stderr",
          "text": [
            "100%|██████████| 5148/5148 [00:00<00:00, 4848928.14it/s]"
          ]
        },
        {
          "output_type": "stream",
          "name": "stdout",
          "text": [
            "Extracting ./data/FashionMNIST/raw/t10k-labels-idx1-ubyte.gz to ./data/FashionMNIST/raw\n",
            "\n"
          ]
        },
        {
          "output_type": "stream",
          "name": "stderr",
          "text": [
            "\n"
          ]
        }
      ],
      "source": [
        "# Define a custom transform to upsample the resolution to 56x56 or 84x84\n",
        "class UpsampleTransform:\n",
        "    def __init__(self, size):\n",
        "        self.size = size\n",
        "\n",
        "    def __call__(self, img):\n",
        "        return transforms.Resize(self.size)(img)\n",
        "\n",
        "# Define the network architecture\n",
        "class VGG(nn.Module):\n",
        "    def __init__(self, num_layers, input_size):\n",
        "        super(VGG, self).__init__()\n",
        "        self.conv_layers = nn.ModuleList()\n",
        "        self.fc_layers = nn.ModuleList()\n",
        "\n",
        "        if num_layers == 16:\n",
        "            self.conv_config = [64, 64, 'M', 128, 128, 'M', 256, 256, 256, 'M', 512, 512, 512, 'M', 512, 512, 512, 'M']\n",
        "        elif num_layers == 19:\n",
        "            self.conv_config = [64, 64, 'M', 128, 128, 'M', 256, 256, 256, 256, 'M', 512, 512, 512, 512, 'M', 512, 512, 512, 512, 'M']\n",
        "\n",
        "        for v in self.conv_config:\n",
        "            if v == 'M':\n",
        "                self.conv_layers.append(nn.MaxPool2d(kernel_size=2, stride=2))\n",
        "            else:\n",
        "                self.conv_layers.append(nn.Conv2d(v, v, kernel_size=3, padding=1))\n",
        "\n",
        "        self.fc_config = [4096, 4096, 1000]\n",
        "        for i in range(len(self.fc_config) - 1):\n",
        "            self.fc_layers.append(nn.Linear(self.fc_config[i], self.fc_config[i+1]))\n",
        "\n",
        "        # Add more nonlinearities prior to downsampling\n",
        "        self.nonlinear_layers = nn.ModuleList()\n",
        "        for i in range(len(self.conv_config)):\n",
        "            if self.conv_config[i] == 'M':\n",
        "                self.nonlinear_layers.append(nn.ReLU())\n",
        "\n",
        "    def forward(self, x):\n",
        "        for i, layer in enumerate(self.conv_layers):\n",
        "            if isinstance(layer, nn.MaxPool2d):\n",
        "                x = layer(x)\n",
        "                x = self.nonlinear_layers[i](x)\n",
        "            else:\n",
        "                x = nn.functional.relu(layer(x))\n",
        "\n",
        "        x = x.view(-1, 512 * (input_size // 32) * (input_size // 32))\n",
        "        for layer in self.fc_layers:\n",
        "            x = nn.functional.relu(layer(x))\n",
        "            if layer != self.fc_layers[-1]:\n",
        "                x = nn.functional.dropout(x, 0.5)\n",
        "\n",
        "        return x\n",
        "\n",
        "# Create a VGG-16 model with input size 56x56\n",
        "vgg16_56 = VGG(16, 56)\n",
        "\n",
        "# Create a VGG-16 model with input size 84x84\n",
        "vgg16_84 = VGG(16, 84)\n",
        "\n",
        "# Load the Fashion-MNIST dataset\n",
        "transform = transforms.Compose([UpsampleTransform(56), transforms.ToTensor()])\n",
        "trainset = torchvision.datasets.FashionMNIST(root='./data', train=True, download=True, transform=transform)\n",
        "trainloader = torch.utils.data.DataLoader(trainset, batch_size=64, shuffle=True)\n",
        "\n",
        "transform = transforms.Compose([UpsampleTransform(84), transforms.ToTensor()])\n",
        "trainset = torchvision.datasets.FashionMNIST(root='./data', train=True, download=True, transform=transform)\n",
        "trainloader = torch.utils.data.DataLoader(trainset, batch_size=64, shuffle=True)"
      ]
    },
    {
      "cell_type": "markdown",
      "metadata": {
        "id": "RAwJskhy4n5f"
      },
      "source": [
        "# **Network in Network (NiN)**"
      ]
    },
    {
      "cell_type": "markdown",
      "metadata": {
        "id": "jowvtKuE46m3"
      },
      "source": [
        "## **NiN Blocks**"
      ]
    },
    {
      "cell_type": "code",
      "execution_count": 3,
      "metadata": {
        "id": "L-H0Dsdx45xu"
      },
      "outputs": [],
      "source": [
        "def nin_block(out_channels, kernel_size, strides, padding):\n",
        "    return nn.Sequential(\n",
        "        nn.LazyConv2d(out_channels, kernel_size, strides, padding), nn.ReLU(),\n",
        "        nn.LazyConv2d(out_channels, kernel_size=1), nn.ReLU(),\n",
        "        nn.LazyConv2d(out_channels, kernel_size=1), nn.ReLU())"
      ]
    },
    {
      "cell_type": "markdown",
      "metadata": {
        "id": "NTnjjXDd5G0S"
      },
      "source": [
        "## **NiN Model**"
      ]
    },
    {
      "cell_type": "code",
      "execution_count": 4,
      "metadata": {
        "id": "7rjYq5ku5Fpi"
      },
      "outputs": [],
      "source": [
        "class NiN(d2l.Classifier):\n",
        "    def __init__(self, lr=0.1, num_classes=10):\n",
        "        super().__init__()\n",
        "        self.save_hyperparameters()\n",
        "        self.net = nn.Sequential(\n",
        "            nin_block(96, kernel_size=11, strides=4, padding=0),\n",
        "            nn.MaxPool2d(3, stride=2),\n",
        "            nin_block(256, kernel_size=5, strides=1, padding=2),\n",
        "            nn.MaxPool2d(3, stride=2),\n",
        "            nin_block(384, kernel_size=3, strides=1, padding=1),\n",
        "            nn.MaxPool2d(3, stride=2),\n",
        "            nn.Dropout(0.5),\n",
        "            nin_block(num_classes, kernel_size=3, strides=1, padding=1),\n",
        "            nn.AdaptiveAvgPool2d((1, 1)),\n",
        "            nn.Flatten())\n",
        "        self.net.apply(d2l.init_cnn)"
      ]
    },
    {
      "cell_type": "code",
      "execution_count": 5,
      "metadata": {
        "id": "bEHbLIyc5J3a",
        "colab": {
          "base_uri": "https://localhost:8080/"
        },
        "outputId": "7c70f714-9cbf-4eec-d2fb-d139bd6e72ae"
      },
      "outputs": [
        {
          "output_type": "stream",
          "name": "stdout",
          "text": [
            "Sequential output shape:\t torch.Size([1, 96, 54, 54])\n",
            "MaxPool2d output shape:\t torch.Size([1, 96, 26, 26])\n",
            "Sequential output shape:\t torch.Size([1, 256, 26, 26])\n",
            "MaxPool2d output shape:\t torch.Size([1, 256, 12, 12])\n",
            "Sequential output shape:\t torch.Size([1, 384, 12, 12])\n",
            "MaxPool2d output shape:\t torch.Size([1, 384, 5, 5])\n",
            "Dropout output shape:\t torch.Size([1, 384, 5, 5])\n",
            "Sequential output shape:\t torch.Size([1, 10, 5, 5])\n",
            "AdaptiveAvgPool2d output shape:\t torch.Size([1, 10, 1, 1])\n",
            "Flatten output shape:\t torch.Size([1, 10])\n"
          ]
        }
      ],
      "source": [
        "NiN().layer_summary((1, 1, 224, 224))"
      ]
    },
    {
      "cell_type": "markdown",
      "metadata": {
        "id": "9bgCD9yF5MRR"
      },
      "source": [
        "## **Training**"
      ]
    },
    {
      "cell_type": "code",
      "execution_count": null,
      "metadata": {
        "colab": {
          "base_uri": "https://localhost:8080/"
        },
        "id": "Hu6H35bi5LeU",
        "outputId": "c1aad9bd-d70e-4d8e-b00d-12d80996405e"
      },
      "outputs": [
        {
          "output_type": "stream",
          "name": "stdout",
          "text": [
            "Downloading http://fashion-mnist.s3-website.eu-central-1.amazonaws.com/train-images-idx3-ubyte.gz\n",
            "Downloading http://fashion-mnist.s3-website.eu-central-1.amazonaws.com/train-images-idx3-ubyte.gz to ../data/FashionMNIST/raw/train-images-idx3-ubyte.gz\n"
          ]
        },
        {
          "output_type": "stream",
          "name": "stderr",
          "text": [
            "100%|██████████| 26421880/26421880 [00:01<00:00, 16536219.93it/s]\n"
          ]
        },
        {
          "output_type": "stream",
          "name": "stdout",
          "text": [
            "Extracting ../data/FashionMNIST/raw/train-images-idx3-ubyte.gz to ../data/FashionMNIST/raw\n",
            "\n",
            "Downloading http://fashion-mnist.s3-website.eu-central-1.amazonaws.com/train-labels-idx1-ubyte.gz\n",
            "Downloading http://fashion-mnist.s3-website.eu-central-1.amazonaws.com/train-labels-idx1-ubyte.gz to ../data/FashionMNIST/raw/train-labels-idx1-ubyte.gz\n"
          ]
        },
        {
          "output_type": "stream",
          "name": "stderr",
          "text": [
            "100%|██████████| 29515/29515 [00:00<00:00, 313308.00it/s]\n"
          ]
        },
        {
          "output_type": "stream",
          "name": "stdout",
          "text": [
            "Extracting ../data/FashionMNIST/raw/train-labels-idx1-ubyte.gz to ../data/FashionMNIST/raw\n",
            "\n",
            "Downloading http://fashion-mnist.s3-website.eu-central-1.amazonaws.com/t10k-images-idx3-ubyte.gz\n",
            "Downloading http://fashion-mnist.s3-website.eu-central-1.amazonaws.com/t10k-images-idx3-ubyte.gz to ../data/FashionMNIST/raw/t10k-images-idx3-ubyte.gz\n"
          ]
        },
        {
          "output_type": "stream",
          "name": "stderr",
          "text": [
            "100%|██████████| 4422102/4422102 [00:00<00:00, 5676824.87it/s]\n"
          ]
        },
        {
          "output_type": "stream",
          "name": "stdout",
          "text": [
            "Extracting ../data/FashionMNIST/raw/t10k-images-idx3-ubyte.gz to ../data/FashionMNIST/raw\n",
            "\n",
            "Downloading http://fashion-mnist.s3-website.eu-central-1.amazonaws.com/t10k-labels-idx1-ubyte.gz\n",
            "Downloading http://fashion-mnist.s3-website.eu-central-1.amazonaws.com/t10k-labels-idx1-ubyte.gz to ../data/FashionMNIST/raw/t10k-labels-idx1-ubyte.gz\n"
          ]
        },
        {
          "output_type": "stream",
          "name": "stderr",
          "text": [
            "100%|██████████| 5148/5148 [00:00<00:00, 10238158.84it/s]"
          ]
        },
        {
          "output_type": "stream",
          "name": "stdout",
          "text": [
            "Extracting ../data/FashionMNIST/raw/t10k-labels-idx1-ubyte.gz to ../data/FashionMNIST/raw\n",
            "\n"
          ]
        },
        {
          "output_type": "stream",
          "name": "stderr",
          "text": [
            "\n",
            "/usr/local/lib/python3.10/dist-packages/torch/utils/data/dataloader.py:557: UserWarning: This DataLoader will create 4 worker processes in total. Our suggested max number of worker in current system is 2, which is smaller than what this DataLoader is going to create. Please be aware that excessive worker creation might get DataLoader running slow or even freeze, lower the worker number to avoid potential slowness/freeze if necessary.\n",
            "  warnings.warn(_create_warning_msg(\n"
          ]
        }
      ],
      "source": [
        "model = NiN(lr=0.05)\n",
        "trainer = d2l.Trainer(max_epochs=10, num_gpus=1)\n",
        "data = d2l.FashionMNIST(batch_size=128, resize=(224, 224))\n",
        "model.apply_init([next(iter(data.get_dataloader(True)))[0]], d2l.init_cnn)\n",
        "trainer.fit(model, data)"
      ]
    },
    {
      "cell_type": "markdown",
      "metadata": {
        "id": "jzDLD3io5REP"
      },
      "source": [
        "## **Exercises**\n",
        "\n",
        "1. Why are there two $1\\times 1$ convolutional layers per NiN block? Increase their number to three. Reduce their number to one. What changes?\n",
        "1. What changes if you replace the $1 \\times 1$ convolutions by $3 \\times 3$ convolutions?\n",
        "1. What happens if you replace the global average pooling by a fully connected layer (speed, accuracy, number of parameters)?\n",
        "1. Calculate the resource usage for NiN.\n",
        "    1. What is the number of parameters?\n",
        "    1. What is the amount of computation?\n",
        "    1. What is the amount of memory needed during training?\n",
        "    1. What is the amount of memory needed during prediction?\n",
        "1. What are possible problems with reducing the $384 \\times 5 \\times 5$ representation to a $10 \\times 5 \\times 5$ representation in one step?\n",
        "1. Use the structural design decisions in VGG that led to VGG-11, VGG-16, and VGG-19 to design a family of NiN-like networks."
      ]
    },
    {
      "cell_type": "markdown",
      "metadata": {
        "id": "DHxN9PC0JF3C"
      },
      "source": [
        "## **Exercises Solution**"
      ]
    },
    {
      "cell_type": "markdown",
      "metadata": {
        "id": "TBixTz-ZAcnm"
      },
      "source": [
        "1.\n",
        "\n",
        "- Increase to Three 1×1 Convolutional Layers:\n",
        "\n",
        "  Impact: Enhance the model's ability to learn deeper and more complex representations. This will likely improve accuracy on more complex tasks, but may lead to overfitting on simpler datasets, and could also slow down the training process due to increased parameters.\n",
        "\n",
        "- Reduce to One 1×1 Convolutional Layer:\n",
        "\n",
        "  Impact: Simplifies the model, lowering its capacity to capture complex patterns. This could speed up training but may reduce the model's ability to generalize on complex datasets."
      ]
    },
    {
      "cell_type": "code",
      "execution_count": null,
      "metadata": {
        "id": "ZpHe55GO_g6V"
      },
      "outputs": [],
      "source": [
        "import torch\n",
        "import torch.nn as nn\n",
        "\n",
        "def nin_block(in_channels, out_channels, kernel_size, strides, padding, num_1x1=2):\n",
        "    layers = [\n",
        "        nn.Conv2d(in_channels, out_channels, kernel_size, strides, padding),\n",
        "        nn.ReLU()\n",
        "    ]\n",
        "    for _ in range(num_1x1):\n",
        "        layers.append(nn.Conv2d(out_channels, out_channels, kernel_size=1))  # 1x1 convolution\n",
        "        layers.append(nn.ReLU())\n",
        "    return nn.Sequential(*layers)\n",
        "\n",
        "class NiN(nn.Module):\n",
        "    def __init__(self, num_classes=10, num_1x1=2):\n",
        "        super(NiN, self).__init__()\n",
        "        self.net = nn.Sequential(\n",
        "            nin_block(3, 96, kernel_size=5, strides=1, padding=2, num_1x1=num_1x1),\n",
        "            nn.MaxPool2d(3, stride=2),\n",
        "            nin_block(96, 256, kernel_size=5, strides=1, padding=2, num_1x1=num_1x1),\n",
        "            nn.MaxPool2d(3, stride=2),\n",
        "            nin_block(256, 384, kernel_size=3, strides=1, padding=1, num_1x1=num_1x1),\n",
        "            nn.MaxPool2d(3, stride=2),\n",
        "            nn.Dropout(0.5),\n",
        "            nin_block(384, num_classes, kernel_size=3, strides=1, padding=1, num_1x1=num_1x1),\n",
        "            nn.AdaptiveAvgPool2d((1, 1)),\n",
        "            nn.Flatten()\n",
        "        )\n",
        "\n",
        "    def forward(self, x):\n",
        "        return self.net(x)\n",
        "\n",
        "# Test different configurations\n",
        "for num_1x1 in [1, 2, 3]:\n",
        "    print(f\"Testing NiN with {num_1x1} 1x1 convolutions per block\")\n",
        "    model = NiN(num_1x1=num_1x1)\n",
        "    dummy_input = torch.randn(1, 3, 28, 28)  # Example input for a 28x28 RGB image\n",
        "    output = model(dummy_input)\n",
        "    print(f\"Output shape: {output.shape}\\n\")  # Should be [1, num_classes]\n"
      ]
    },
    {
      "cell_type": "markdown",
      "metadata": {
        "id": "L419G2vfDZ6W"
      },
      "source": [
        "2. By replacing the 1×1 convolutions with 3×3 convolutions, you may enhance the model's ability to capture spatial relationships but at the cost of increased computational demands and a higher risk of overfitting."
      ]
    },
    {
      "cell_type": "code",
      "execution_count": null,
      "metadata": {
        "id": "cdubDeOLA8C-"
      },
      "outputs": [],
      "source": [
        "def nin_block(in_channels, out_channels, kernel_size, strides, padding):\n",
        "    return nn.Sequential(\n",
        "        nn.Conv2d(in_channels, out_channels, kernel_size, strides, padding),\n",
        "        nn.ReLU(),\n",
        "        nn.Conv2d(out_channels, out_channels, kernel_size=3, padding=1),  # Using 3x3 convolution\n",
        "        nn.ReLU(),\n",
        "        nn.Conv2d(out_channels, out_channels, kernel_size=3, padding=1)   # Using 3x3 convolution\n",
        "    )\n",
        "\n",
        "class NiN(nn.Module):\n",
        "    def __init__(self, num_classes=10):\n",
        "        super(NiN, self).__init__()\n",
        "        self.net = nn.Sequential(\n",
        "            nin_block(3, 96, kernel_size=5, strides=1, padding=2),  # Accept 3-channel input\n",
        "            nn.MaxPool2d(3, stride=2),  # Reduces size\n",
        "            nin_block(96, 256, kernel_size=5, strides=1, padding=2),\n",
        "            nn.MaxPool2d(3, stride=2),\n",
        "            nin_block(256, 384, kernel_size=3, strides=1, padding=1),\n",
        "            nn.MaxPool2d(3, stride=2),\n",
        "            nn.Dropout(0.5),\n",
        "            nin_block(384, num_classes, kernel_size=3, strides=1, padding=1),\n",
        "            nn.AdaptiveAvgPool2d((1, 1)),  # Pools to 1x1\n",
        "            nn.Flatten()\n",
        "        )\n",
        "\n",
        "    def forward(self, x):\n",
        "        return self.net(x)  # Define the forward pass\n",
        "\n",
        "# Example of initializing and using the model\n",
        "model = NiN()\n",
        "dummy_input = torch.randn(1, 3, 28, 28)  # Example input for a 28x28 RGB image\n",
        "output = model(dummy_input)\n",
        "print(\"Output shape:\", output.shape)  # Should be [1, num_classes]\n"
      ]
    },
    {
      "cell_type": "markdown",
      "metadata": {
        "id": "53-pOZh8Er-3"
      },
      "source": [
        "3."
      ]
    },
    {
      "cell_type": "code",
      "execution_count": null,
      "metadata": {
        "id": "drzTbkuAEstr"
      },
      "outputs": [],
      "source": [
        "# Function to create a NiN block\n",
        "def nin_block(in_channels, out_channels, kernel_size=3, strides=1, padding=1):\n",
        "    return nn.Sequential(\n",
        "        nn.Conv2d(in_channels, out_channels, kernel_size, strides, padding), nn.ReLU(),\n",
        "        nn.Conv2d(out_channels, out_channels, kernel_size=1), nn.ReLU(),\n",
        "        nn.Conv2d(out_channels, out_channels, kernel_size=1), nn.ReLU()\n",
        "    )\n",
        "\n",
        "class NiNWithFC(nn.Module):\n",
        "    def __init__(self, num_classes=10):\n",
        "        super(NiNWithFC, self).__init__()\n",
        "        self.net = nn.Sequential(\n",
        "            nin_block(3, 96, kernel_size=5, strides=1, padding=2),\n",
        "            nn.MaxPool2d(3, stride=2),\n",
        "            nin_block(96, 256, kernel_size=5, strides=1, padding=2),\n",
        "            nn.MaxPool2d(3, stride=2),\n",
        "            nin_block(256, 384, kernel_size=3, strides=1, padding=1),\n",
        "            nn.MaxPool2d(3, stride=2),\n",
        "            nn.Dropout(0.5)\n",
        "        )\n",
        "        self.fc_input_size = self._get_fc_input_size()\n",
        "        self.fc = nn.Linear(self.fc_input_size, num_classes)  # Fully Connected Layer\n",
        "\n",
        "    def _get_fc_input_size(self):\n",
        "        # Create a dummy input to determine the size after convolutions\n",
        "        with torch.no_grad():\n",
        "            dummy_input = torch.randn(1, 3, 28, 28)  # Example input for a 28x28 image\n",
        "            output = self.net(dummy_input)\n",
        "            return output.numel()  # Total number of elements\n",
        "\n",
        "    def forward(self, x):\n",
        "        x = self.net(x)\n",
        "        x = x.view(x.size(0), -1)  # Flatten the output for the fully connected layer\n",
        "        return self.fc(x)\n",
        "\n",
        "# Instantiate the NiN model with Fully Connected Layer\n",
        "model_with_fc = NiNWithFC()\n",
        "\n",
        "# Print number of parameters\n",
        "print(f\"Number of parameters in NiN with Fully Connected Layer: {count_parameters(model_with_fc)}\")\n",
        "\n",
        "# Test the output shape for a dummy input\n",
        "dummy_input = torch.randn(1, 3, 28, 28)  # Example input for a 28x28 RGB image\n",
        "output_fc = model_with_fc(dummy_input)\n",
        "\n",
        "print(f\"Output shape with FC: {output_fc.shape}\")    # Should be [1, num_classes]\n"
      ]
    },
    {
      "cell_type": "markdown",
      "metadata": {
        "id": "eAgy08_FFMjG"
      },
      "source": [
        "4."
      ]
    },
    {
      "cell_type": "code",
      "execution_count": null,
      "metadata": {
        "id": "QpOwkVwpFNLT"
      },
      "outputs": [],
      "source": [
        "import numpy as np\n",
        "\n",
        "def calculate_resource_usage(L, K, F, H, W, C, B):\n",
        "    # Calculate number of parameters\n",
        "    num_params = L * (K * F * F + K)\n",
        "\n",
        "    # Calculate amount of computation\n",
        "    num_flops = L * (K * F * F * H * W + K * H * W + K * H * W)\n",
        "\n",
        "    # Calculate amount of memory needed during training\n",
        "    mem_train = L * (B * H * W * C + K * F * F + K + B * K * H * W)\n",
        "\n",
        "    # Calculate amount of memory needed during prediction\n",
        "    mem_pred = L * (H * W * C + K * F * F + K)\n",
        "\n",
        "    return num_params, num_flops, mem_train, mem_pred\n",
        "\n",
        "# Example usage\n",
        "L = 5  # number of layers\n",
        "K = 32  # number of filters\n",
        "F = 3  # filter size\n",
        "H = 224  # input height\n",
        "W = 224  # input width\n",
        "C = 3  # number of channels\n",
        "B = 32  # batch size\n",
        "\n",
        "num_params, num_flops, mem_train, mem_pred = calculate_resource_usage(L, K, F, H, W, C, B)\n",
        "\n",
        "print(\"Number of parameters:\", num_params)\n",
        "print(\"Amount of computation:\", num_flops)\n",
        "print(\"Amount of memory needed during training:\", mem_train)\n",
        "print(\"Amount of memory needed during prediction:\", mem_pred)"
      ]
    },
    {
      "cell_type": "markdown",
      "metadata": {
        "id": "YtEPQvpjI5u-"
      },
      "source": [
        "5.\n",
        "\n",
        "- Loss of Information:\n",
        "\n",
        "  By reducing the number of filters from 384 to 10, we may lose important features and information in the data. This can result in a significant decrease in model performance.\n",
        "\n",
        "- Increased Risk of Overfitting:\n",
        "\n",
        "  With a smaller number of filters, the model may not have enough capacity to learn complex patterns in the data, leading to overfitting.\n",
        "\n",
        "- Difficulty in Learning Hierarchical Representations:\n",
        "\n",
        "  Convolutional neural networks (CNNs) learn hierarchical representations of the data by gradually reducing the spatial dimensions and increasing the number of filters. Reducing the number of filters too quickly can make it difficult for the model to learn these hierarchical representations.\n",
        "\n",
        "- Gradient Explosion or Vanishing:\n",
        "\n",
        "  When reducing the number of filters, the gradients may explode or vanish during backpropagation, making it difficult to train the model.\n",
        "\n",
        "- Increased Computational Cost:\n",
        "\n",
        "  Although reducing the number of filters may reduce the number of parameters, it can also increase the computational cost due to the larger spatial dimensions."
      ]
    },
    {
      "cell_type": "markdown",
      "metadata": {
        "id": "fwVZA1F1JxPb"
      },
      "source": [
        "6."
      ]
    },
    {
      "cell_type": "code",
      "execution_count": null,
      "metadata": {
        "id": "dXZpWe85JyIC"
      },
      "outputs": [],
      "source": [
        "def nin_block(num_filters, kernel_size):\n",
        "    return tf.keras.Sequential([\n",
        "        tf.keras.layers.Conv2D(num_filters, kernel_size, activation='relu'),\n",
        "        tf.keras.layers.Conv2D(num_filters, kernel_size, activation='relu'),\n",
        "        tf.keras.layers.MaxPooling2D((2, 2))\n",
        "    ])\n",
        "\n",
        "def nin_network(num_blocks, num_filters, kernel_size):\n",
        "    model = tf.keras.Sequential()\n",
        "    for _ in range(num_blocks):\n",
        "        model.add(nin_block(num_filters, kernel_size))\n",
        "    return model\n",
        "\n",
        "# NiN-9\n",
        "nin_9 = nin_network(3, 32, 3)\n",
        "\n",
        "# NiN-13\n",
        "nin_13 = nin_network(5, 64, 3)\n",
        "\n",
        "# NiN-17\n",
        "nin_17 = nin_network(7, 128, 3)"
      ]
    },
    {
      "cell_type": "markdown",
      "metadata": {
        "id": "JQ8mrvgf5bJ8"
      },
      "source": [
        "# **Multi-Branch Networks (GoogLeNet)**"
      ]
    },
    {
      "cell_type": "markdown",
      "metadata": {
        "id": "Gjob9-G65ybU"
      },
      "source": [
        "## **Inception Blocks**"
      ]
    },
    {
      "cell_type": "code",
      "execution_count": null,
      "metadata": {
        "id": "rAhPn2hW5PK8"
      },
      "outputs": [],
      "source": [
        "class Inception(nn.Module):\n",
        "    # c1--c4 are the number of output channels for each branch\n",
        "    def __init__(self, c1, c2, c3, c4, **kwargs):\n",
        "        super(Inception, self).__init__(**kwargs)\n",
        "        # Branch 1\n",
        "        self.b1_1 = nn.LazyConv2d(c1, kernel_size=1)\n",
        "        # Branch 2\n",
        "        self.b2_1 = nn.LazyConv2d(c2[0], kernel_size=1)\n",
        "        self.b2_2 = nn.LazyConv2d(c2[1], kernel_size=3, padding=1)\n",
        "        # Branch 3\n",
        "        self.b3_1 = nn.LazyConv2d(c3[0], kernel_size=1)\n",
        "        self.b3_2 = nn.LazyConv2d(c3[1], kernel_size=5, padding=2)\n",
        "        # Branch 4\n",
        "        self.b4_1 = nn.MaxPool2d(kernel_size=3, stride=1, padding=1)\n",
        "        self.b4_2 = nn.LazyConv2d(c4, kernel_size=1)\n",
        "\n",
        "    def forward(self, x):\n",
        "        b1 = F.relu(self.b1_1(x))\n",
        "        b2 = F.relu(self.b2_2(F.relu(self.b2_1(x))))\n",
        "        b3 = F.relu(self.b3_2(F.relu(self.b3_1(x))))\n",
        "        b4 = F.relu(self.b4_2(self.b4_1(x)))\n",
        "        return torch.cat((b1, b2, b3, b4), dim=1)"
      ]
    },
    {
      "cell_type": "markdown",
      "metadata": {
        "id": "TMHdf8vD531A"
      },
      "source": [
        "## **GoogLeNet Model**"
      ]
    },
    {
      "cell_type": "code",
      "execution_count": null,
      "metadata": {
        "id": "oGsJvzRD52H8"
      },
      "outputs": [],
      "source": [
        "class GoogleNet(d2l.Classifier):\n",
        "    def b1(self):\n",
        "        return nn.Sequential(\n",
        "            nn.LazyConv2d(64, kernel_size=7, stride=2, padding=3),\n",
        "            nn.ReLU(), nn.MaxPool2d(kernel_size=3, stride=2, padding=1))"
      ]
    },
    {
      "cell_type": "code",
      "execution_count": null,
      "metadata": {
        "id": "Ves1nSbC57oV"
      },
      "outputs": [],
      "source": [
        "@d2l.add_to_class(GoogleNet)\n",
        "def b2(self):\n",
        "    return nn.Sequential(\n",
        "        nn.LazyConv2d(64, kernel_size=1), nn.ReLU(),\n",
        "        nn.LazyConv2d(192, kernel_size=3, padding=1), nn.ReLU(),\n",
        "        nn.MaxPool2d(kernel_size=3, stride=2, padding=1))"
      ]
    },
    {
      "cell_type": "code",
      "execution_count": null,
      "metadata": {
        "id": "EOxdE2iU5871"
      },
      "outputs": [],
      "source": [
        "@d2l.add_to_class(GoogleNet)\n",
        "def b3(self):\n",
        "    return nn.Sequential(Inception(64, (96, 128), (16, 32), 32),\n",
        "                         Inception(128, (128, 192), (32, 96), 64),\n",
        "                         nn.MaxPool2d(kernel_size=3, stride=2, padding=1))"
      ]
    },
    {
      "cell_type": "code",
      "execution_count": null,
      "metadata": {
        "id": "h0sS6N7P5-WP"
      },
      "outputs": [],
      "source": [
        "@d2l.add_to_class(GoogleNet)\n",
        "def b4(self):\n",
        "    return nn.Sequential(Inception(192, (96, 208), (16, 48), 64),\n",
        "                         Inception(160, (112, 224), (24, 64), 64),\n",
        "                         Inception(128, (128, 256), (24, 64), 64),\n",
        "                         Inception(112, (144, 288), (32, 64), 64),\n",
        "                         Inception(256, (160, 320), (32, 128), 128),\n",
        "                         nn.MaxPool2d(kernel_size=3, stride=2, padding=1))"
      ]
    },
    {
      "cell_type": "code",
      "execution_count": null,
      "metadata": {
        "id": "3nMSP8U36Avi"
      },
      "outputs": [],
      "source": [
        "@d2l.add_to_class(GoogleNet)\n",
        "def b5(self):\n",
        "    return nn.Sequential(Inception(256, (160, 320), (32, 128), 128),\n",
        "                         Inception(384, (192, 384), (48, 128), 128),\n",
        "                         nn.AdaptiveAvgPool2d((1,1)), nn.Flatten())"
      ]
    },
    {
      "cell_type": "code",
      "execution_count": null,
      "metadata": {
        "id": "zwFHDOM56CZS"
      },
      "outputs": [],
      "source": [
        "@d2l.add_to_class(GoogleNet)\n",
        "def __init__(self, lr=0.1, num_classes=10):\n",
        "    super(GoogleNet, self).__init__()\n",
        "    self.save_hyperparameters()\n",
        "    self.net = nn.Sequential(self.b1(), self.b2(), self.b3(), self.b4(),\n",
        "                             self.b5(), nn.LazyLinear(num_classes))\n",
        "    self.net.apply(d2l.init_cnn)"
      ]
    },
    {
      "cell_type": "code",
      "execution_count": null,
      "metadata": {
        "id": "C2sALq-f6Dw3"
      },
      "outputs": [],
      "source": [
        "model = GoogleNet().layer_summary((1, 1, 96, 96))"
      ]
    },
    {
      "cell_type": "markdown",
      "metadata": {
        "id": "vMTAQ4QZ6GnH"
      },
      "source": [
        "## **Training**"
      ]
    },
    {
      "cell_type": "code",
      "execution_count": null,
      "metadata": {
        "id": "EJn8LvoL6FkK"
      },
      "outputs": [],
      "source": [
        "model = GoogleNet(lr=0.01)\n",
        "trainer = d2l.Trainer(max_epochs=10, num_gpus=1)\n",
        "data = d2l.FashionMNIST(batch_size=128, resize=(96, 96))\n",
        "model.apply_init([next(iter(data.get_dataloader(True)))[0]], d2l.init_cnn)\n",
        "trainer.fit(model, data)"
      ]
    },
    {
      "cell_type": "markdown",
      "metadata": {
        "id": "9GVNlyNo6KRx"
      },
      "source": [
        "## **Exercises**\n",
        "\n",
        "1. GoogLeNet was so successful that it went through a number of iterations, progressively improving speed and accuracy. Try to implement and run some of them. They include the following:\n",
        "    1. Add a batch normalization layer :cite:`Ioffe.Szegedy.2015`, as described later in :numref:`sec_batch_norm`.\n",
        "    1. Make adjustments to the Inception block (width, choice and order of convolutions), as described in :citet:`Szegedy.Vanhoucke.Ioffe.ea.2016`.\n",
        "    1. Use label smoothing for model regularization, as described in :citet:`Szegedy.Vanhoucke.Ioffe.ea.2016`.\n",
        "    1. Make further adjustments to the Inception block by adding residual connection :cite:`Szegedy.Ioffe.Vanhoucke.ea.2017`, as described later in :numref:`sec_resnet`.\n",
        "1. What is the minimum image size needed for GoogLeNet to work?\n",
        "1. Can you design a variant of GoogLeNet that works on Fashion-MNIST's native resolution of $28 \\times 28$ pixels? How would you need to change the stem, the body, and the head of the network, if anything at all?\n",
        "1. Compare the model parameter sizes of AlexNet, VGG, NiN, and GoogLeNet. How do the latter two network\n",
        "   architectures significantly reduce the model parameter size?\n",
        "1. Compare the amount of computation needed in GoogLeNet and AlexNet. How does this affect the design of an accelerator chip, e.g., in terms of memory size, memory bandwidth, cache size, the amount of computation, and the benefit of specialized operations?"
      ]
    },
    {
      "cell_type": "markdown",
      "metadata": {
        "id": "gQJp87tCJN0e"
      },
      "source": [
        "## **Exercises Solution**"
      ]
    },
    {
      "cell_type": "markdown",
      "metadata": {
        "id": "7RXTy3XzIxYQ"
      },
      "source": [
        "1."
      ]
    },
    {
      "cell_type": "code",
      "execution_count": null,
      "metadata": {
        "id": "nwgZ1LArKFNr"
      },
      "outputs": [],
      "source": [
        "# Define a basic Inception Block with Batch Normalization\n",
        "class InceptionBlock(nn.Module):\n",
        "    def __init__(self, in_channels, ch1x1, ch3x3_reduce, ch3x3, ch5x5_reduce, ch5x5, pool_proj):\n",
        "        super(InceptionBlock, self).__init__()\n",
        "\n",
        "        # 1x1 convolution branch\n",
        "        self.branch1 = nn.Sequential(\n",
        "            nn.Conv2d(in_channels, ch1x1, kernel_size=1),\n",
        "            nn.BatchNorm2d(ch1x1),\n",
        "            nn.ReLU(inplace=True)\n",
        "        )\n",
        "\n",
        "        # 1x1 convolution followed by 3x3 convolution branch\n",
        "        self.branch2 = nn.Sequential(\n",
        "            nn.Conv2d(in_channels, ch3x3_reduce, kernel_size=1),\n",
        "            nn.BatchNorm2d(ch3x3_reduce),\n",
        "            nn.ReLU(inplace=True),\n",
        "            nn.Conv2d(ch3x3_reduce, ch3x3, kernel_size=3, padding=1),\n",
        "            nn.BatchNorm2d(ch3x3),\n",
        "            nn.ReLU(inplace=True)\n",
        "        )\n",
        "\n",
        "        # 1x1 convolution followed by 5x5 convolution branch\n",
        "        self.branch3 = nn.Sequential(\n",
        "            nn.Conv2d(in_channels, ch5x5_reduce, kernel_size=1),\n",
        "            nn.BatchNorm2d(ch5x5_reduce),\n",
        "            nn.ReLU(inplace=True),\n",
        "            nn.Conv2d(ch5x5_reduce, ch5x5, kernel_size=5, padding=2),\n",
        "            nn.BatchNorm2d(ch5x5),\n",
        "            nn.ReLU(inplace=True)\n",
        "        )\n",
        "\n",
        "        # 3x3 max pooling followed by 1x1 convolution branch\n",
        "        self.branch4 = nn.Sequential(\n",
        "            nn.MaxPool2d(kernel_size=3, stride=1, padding=1),\n",
        "            nn.Conv2d(in_channels, pool_proj, kernel_size=1),\n",
        "            nn.BatchNorm2d(pool_proj),\n",
        "            nn.ReLU(inplace=True)\n",
        "        )\n",
        "\n",
        "    def forward(self, x):\n",
        "        branch1 = self.branch1(x)\n",
        "        branch2 = self.branch2(x)\n",
        "        branch3 = self.branch3(x)\n",
        "        branch4 = self.branch4(x)\n",
        "\n",
        "        # Concatenate all branches along the channel dimension\n",
        "        outputs = torch.cat([branch1, branch2, branch3, branch4], 1)\n",
        "        return outputs\n",
        "\n",
        "# Define the GoogLeNet with Residual connections\n",
        "class InceptionResNetBlock(nn.Module):\n",
        "    def __init__(self, in_channels, out_channels):\n",
        "        super(InceptionResNetBlock, self).__init__()\n",
        "        self.inception = InceptionBlock(in_channels, out_channels // 4, out_channels // 8, out_channels // 4,\n",
        "                                        out_channels // 16, out_channels // 8, out_channels // 4)\n",
        "        self.residual = nn.Conv2d(in_channels, out_channels, kernel_size=1)\n",
        "\n",
        "    def forward(self, x):\n",
        "        return self.inception(x) + self.residual(x)\n",
        "\n",
        "# Define the full GoogLeNet Model\n",
        "class GoogLeNetModified(nn.Module):\n",
        "    def __init__(self, num_classes=1000):\n",
        "        super(GoogLeNetModified, self).__init__()\n",
        "\n",
        "        # Initial convolutional layers\n",
        "        self.conv1 = nn.Sequential(\n",
        "            nn.Conv2d(3, 64, kernel_size=7, stride=2, padding=3),\n",
        "            nn.BatchNorm2d(64),\n",
        "            nn.ReLU(inplace=True),\n",
        "            nn.MaxPool2d(kernel_size=3, stride=2, padding=1)\n",
        "        )\n",
        "\n",
        "        self.conv2 = nn.Sequential(\n",
        "            nn.Conv2d(64, 64, kernel_size=1),\n",
        "            nn.BatchNorm2d(64),\n",
        "            nn.ReLU(inplace=True),\n",
        "            nn.Conv2d(64, 192, kernel_size=3, padding=1),\n",
        "            nn.BatchNorm2d(192),\n",
        "            nn.ReLU(inplace=True),\n",
        "            nn.MaxPool2d(kernel_size=3, stride=2, padding=1)\n",
        "        )\n",
        "\n",
        "        # Inception Blocks\n",
        "        self.inception3a = InceptionBlock(192, 64, 96, 128, 16, 32, 32)\n",
        "        self.inception3b = InceptionResNetBlock(256, 480)  # Residual Block\n",
        "\n",
        "        self.maxpool = nn.MaxPool2d(kernel_size=3, stride=2, padding=1)\n",
        "\n",
        "        self.inception4a = InceptionBlock(480, 192, 96, 208, 16, 48, 64)\n",
        "        self.inception4b = InceptionResNetBlock(512, 512)  # Residual Block\n",
        "\n",
        "        self.inception4c = InceptionBlock(512, 160, 112, 224, 24, 64, 64)\n",
        "        self.inception4d = InceptionResNetBlock(512, 512)  # Residual Block\n",
        "\n",
        "        self.inception4e = InceptionBlock(512, 256, 160, 320, 32, 128, 128)\n",
        "\n",
        "        # Final Inception Block with residual connection\n",
        "        self.inception5a = InceptionResNetBlock(832, 832)\n",
        "        self.inception5b = InceptionBlock(832, 256, 160, 320, 32, 128, 128)\n",
        "\n",
        "        # Average Pooling Layer\n",
        "        self.avgpool = nn.AdaptiveAvgPool2d((1, 1))\n",
        "        self.dropout = nn.Dropout(0.4)\n",
        "        self.fc = nn.Linear(832, num_classes)\n",
        "\n",
        "    def forward(self, x):\n",
        "        # Pass through initial convolutional layers\n",
        "        x = self.conv1(x)\n",
        "        x = self.conv2(x)\n",
        "\n",
        "        # Pass through Inception and Residual blocks\n",
        "        x = self.inception3a(x)\n",
        "        x = self.inception3b(x)\n",
        "        x = self.maxpool(x)\n",
        "\n",
        "        x = self.inception4a(x)\n",
        "        x = self.inception4b(x)\n",
        "        x = self.inception4c(x)\n",
        "        x = self.inception4d(x)\n",
        "        x = self.inception4e(x)\n",
        "\n",
        "        x = self.inception5a(x)\n",
        "        x = self.inception5b(x)\n",
        "\n",
        "        # Final layers\n",
        "        x = self.avgpool(x)\n",
        "        x = torch.flatten(x, 1)\n",
        "        x = self.dropout(x)\n",
        "        x = self.fc(x)\n",
        "        return x\n",
        "\n",
        "# Label Smoothing Loss Function\n",
        "def label_smoothing_loss(predictions, targets, smoothing=0.1):\n",
        "    num_classes = predictions.size(1)\n",
        "    confidence = 1.0 - smoothing\n",
        "    smoothed_labels = torch.full(size=(targets.size(0), num_classes), fill_value=smoothing / (num_classes - 1)).to(predictions.device)\n",
        "    smoothed_labels.scatter_(1, targets.unsqueeze(1), confidence)\n",
        "    return F.kl_div(F.log_softmax(predictions, dim=1), smoothed_labels, reduction='batchmean')\n",
        "\n",
        "# Instantiate the model and print its architecture\n",
        "model = GoogLeNetModified(num_classes=10)\n",
        "print(model)\n"
      ]
    },
    {
      "cell_type": "markdown",
      "metadata": {
        "id": "QzUdyOD1KLV5"
      },
      "source": [
        "2. The minimum input image size for GoogLeNet is 224 x 224 pixels.\n",
        "If a smaller input size is needed, you must modify the network architecture, such as removing or adjusting some pooling or convolutional layers to accommodate the smaller input."
      ]
    },
    {
      "cell_type": "markdown",
      "metadata": {
        "id": "yjuNlJqhKh-k"
      },
      "source": [
        "3."
      ]
    },
    {
      "cell_type": "code",
      "execution_count": null,
      "metadata": {
        "id": "qm1gf2W-Kipp"
      },
      "outputs": [],
      "source": [
        "# Define a smaller Inception block tailored for Fashion-MNIST\n",
        "class SmallInceptionBlock(nn.Module):\n",
        "    def __init__(self, in_channels, ch1x1, ch3x3_reduce, ch3x3, ch5x5_reduce, ch5x5, pool_proj):\n",
        "        super(SmallInceptionBlock, self).__init__()\n",
        "\n",
        "        # 1x1 convolution branch\n",
        "        self.branch1 = nn.Sequential(\n",
        "            nn.Conv2d(in_channels, ch1x1, kernel_size=1),\n",
        "            nn.BatchNorm2d(ch1x1),\n",
        "            nn.ReLU(inplace=True)\n",
        "        )\n",
        "\n",
        "        # 1x1 convolution followed by 3x3 convolution branch\n",
        "        self.branch2 = nn.Sequential(\n",
        "            nn.Conv2d(in_channels, ch3x3_reduce, kernel_size=1),\n",
        "            nn.BatchNorm2d(ch3x3_reduce),\n",
        "            nn.ReLU(inplace=True),\n",
        "            nn.Conv2d(ch3x3_reduce, ch3x3, kernel_size=3, padding=1),\n",
        "            nn.BatchNorm2d(ch3x3),\n",
        "            nn.ReLU(inplace=True)\n",
        "        )\n",
        "\n",
        "        # 1x1 convolution followed by 5x5 convolution branch\n",
        "        self.branch3 = nn.Sequential(\n",
        "            nn.Conv2d(in_channels, ch5x5_reduce, kernel_size=1),\n",
        "            nn.BatchNorm2d(ch5x5_reduce),\n",
        "            nn.ReLU(inplace=True),\n",
        "            nn.Conv2d(ch5x5_reduce, ch5x5, kernel_size=5, padding=2),\n",
        "            nn.BatchNorm2d(ch5x5),\n",
        "            nn.ReLU(inplace=True)\n",
        "        )\n",
        "\n",
        "        # 3x3 max pooling followed by 1x1 convolution branch\n",
        "        self.branch4 = nn.Sequential(\n",
        "            nn.MaxPool2d(kernel_size=3, stride=1, padding=1),\n",
        "            nn.Conv2d(in_channels, pool_proj, kernel_size=1),\n",
        "            nn.BatchNorm2d(pool_proj),\n",
        "            nn.ReLU(inplace=True)\n",
        "        )\n",
        "\n",
        "    def forward(self, x):\n",
        "        branch1 = self.branch1(x)\n",
        "        branch2 = self.branch2(x)\n",
        "        branch3 = self.branch3(x)\n",
        "        branch4 = self.branch4(x)\n",
        "\n",
        "        # Concatenate all branches along the channel dimension\n",
        "        outputs = torch.cat([branch1, branch2, branch3, branch4], 1)\n",
        "        return outputs\n",
        "\n",
        "# Define the GoogLeNet variant for Fashion-MNIST\n",
        "class FashionMNISTGoogLeNet(nn.Module):\n",
        "    def __init__(self, num_classes=10):\n",
        "        super(FashionMNISTGoogLeNet, self).__init__()\n",
        "\n",
        "        # Stem: Modify initial layers to handle 28x28 input size\n",
        "        self.conv1 = nn.Sequential(\n",
        "            nn.Conv2d(1, 64, kernel_size=3, stride=1, padding=1),  # Changed kernel size and stride\n",
        "            nn.BatchNorm2d(64),\n",
        "            nn.ReLU(inplace=True),\n",
        "            nn.MaxPool2d(kernel_size=2, stride=2, padding=0)  # 14x14 feature map after pooling\n",
        "        )\n",
        "\n",
        "        # Inception blocks with fewer channels\n",
        "        self.inception3a = SmallInceptionBlock(64, 32, 16, 32, 4, 8, 8)  # Output channels: 32 + 32 + 8 + 8 = 80\n",
        "        self.inception3b = SmallInceptionBlock(80, 64, 32, 64, 8, 16, 16)  # Output channels: 64 + 64 + 16 + 16 = 160\n",
        "\n",
        "        self.maxpool = nn.MaxPool2d(kernel_size=2, stride=2, padding=0)  # 7x7 feature map after pooling\n",
        "\n",
        "        # Final Inception blocks with fewer channels\n",
        "        self.inception4a = SmallInceptionBlock(160, 128, 64, 128, 16, 32, 32)  # Output channels: 128 + 128 + 32 + 32 = 320\n",
        "\n",
        "        # Head: Global average pooling and final classifier\n",
        "        self.avgpool = nn.AdaptiveAvgPool2d((1, 1))  # 1x1 feature map\n",
        "        self.dropout = nn.Dropout(0.4)\n",
        "        self.fc = nn.Linear(320, num_classes)  # Final classification layer\n",
        "\n",
        "    def forward(self, x):\n",
        "        # Forward pass through modified GoogLeNet for 28x28 inputs\n",
        "        x = self.conv1(x)\n",
        "        x = self.inception3a(x)\n",
        "        x = self.inception3b(x)\n",
        "        x = self.maxpool(x)\n",
        "        x = self.inception4a(x)\n",
        "\n",
        "        # Average pooling, flatten, and pass through classifier\n",
        "        x = self.avgpool(x)\n",
        "        x = torch.flatten(x, 1)\n",
        "        x = self.dropout(x)\n",
        "        x = self.fc(x)\n",
        "        return x\n",
        "\n",
        "# Test the model with a random Fashion-MNIST size input\n",
        "model = FashionMNISTGoogLeNet(num_classes=10)\n",
        "print(model)\n",
        "\n",
        "# Create a random 28x28 grayscale image (batch_size=1, channels=1, height=28, width=28)\n",
        "test_input = torch.randn(1, 1, 28, 28)\n",
        "output = model(test_input)\n",
        "print(f\"Output shape: {output.shape}\")\n"
      ]
    },
    {
      "cell_type": "markdown",
      "metadata": {
        "id": "kp9VTSIjKsEN"
      },
      "source": [
        "4."
      ]
    },
    {
      "cell_type": "code",
      "execution_count": null,
      "metadata": {
        "id": "V7pQAVLgKuYW"
      },
      "outputs": [],
      "source": [
        "import torch\n",
        "import torch.nn as nn\n",
        "\n",
        "# Define Network in Network (NiN)\n",
        "class NiN(nn.Module):\n",
        "    def __init__(self, num_classes=10):\n",
        "        super(NiN, self).__init__()\n",
        "        self.features = nn.Sequential(\n",
        "            nn.Conv2d(3, 192, kernel_size=5, stride=1, padding=2), nn.ReLU(inplace=True),\n",
        "            nn.Conv2d(192, 160, kernel_size=1), nn.ReLU(inplace=True),\n",
        "            nn.Conv2d(160, 96, kernel_size=1), nn.ReLU(inplace=True),\n",
        "            nn.MaxPool2d(kernel_size=3, stride=2),\n",
        "\n",
        "            nn.Conv2d(96, 192, kernel_size=5, padding=2), nn.ReLU(inplace=True),\n",
        "            nn.Conv2d(192, 192, kernel_size=1), nn.ReLU(inplace=True),\n",
        "            nn.Conv2d(192, 192, kernel_size=1), nn.ReLU(inplace=True),\n",
        "            nn.MaxPool2d(kernel_size=3, stride=2),\n",
        "\n",
        "            nn.Conv2d(192, 192, kernel_size=3, padding=1), nn.ReLU(inplace=True),\n",
        "            nn.Conv2d(192, 192, kernel_size=1), nn.ReLU(inplace=True),\n",
        "            nn.Conv2d(192, 10, kernel_size=1), nn.ReLU(inplace=True),\n",
        "            nn.AdaptiveAvgPool2d((1, 1))\n",
        "        )\n",
        "\n",
        "        self.classifier = nn.Linear(10, num_classes)\n",
        "\n",
        "    def forward(self, x):\n",
        "        x = self.features(x)\n",
        "        x = torch.flatten(x, 1)\n",
        "        x = self.classifier(x)\n",
        "        return x\n",
        "\n",
        "# Create instances of the models\n",
        "alexnet = models.alexnet(pretrained=False)\n",
        "vgg16 = models.vgg16(pretrained=False)\n",
        "nin = NiN(num_classes=10)\n",
        "googlenet = models.googlenet(pretrained=False)\n",
        "\n",
        "# Function to count total parameters\n",
        "def count_parameters(model):\n",
        "    return sum(p.numel() for p in model.parameters() if p.requires_grad)\n",
        "\n",
        "# Print parameter counts for each model\n",
        "print(f\"AlexNet parameters: {count_parameters(alexnet):,}\")\n",
        "print(f\"VGG-16 parameters: {count_parameters(vgg16):,}\")\n",
        "print(f\"NiN parameters: {count_parameters(nin):,}\")\n",
        "print(f\"GoogLeNet parameters: {count_parameters(googlenet):,}\")\n"
      ]
    },
    {
      "cell_type": "markdown",
      "metadata": {
        "id": "TEzfN3h6LBOE"
      },
      "source": [
        "5."
      ]
    },
    {
      "cell_type": "code",
      "execution_count": null,
      "metadata": {
        "id": "nAHU-EXULCoe"
      },
      "outputs": [],
      "source": [
        "import torch\n",
        "from torchvision import models\n",
        "\n",
        "# Create AlexNet and GoogLeNet models\n",
        "alexnet = models.alexnet(pretrained=False)\n",
        "googlenet = models.googlenet(pretrained=False)\n",
        "\n",
        "# Use summary to display the number of parameters and shapes\n",
        "print(\"AlexNet Summary:\")\n",
        "summary(alexnet, (3, 224, 224))\n",
        "\n",
        "print(\"\\nGoogLeNet Summary:\")\n",
        "summary(googlenet, (3, 224, 224))"
      ]
    },
    {
      "cell_type": "markdown",
      "metadata": {
        "id": "1lCHY9Tc6My8"
      },
      "source": [
        "# **Batch Normalization**"
      ]
    },
    {
      "cell_type": "markdown",
      "metadata": {
        "id": "voo33lEY6Tfm"
      },
      "source": [
        "## **Implementation from Scratch**"
      ]
    },
    {
      "cell_type": "code",
      "execution_count": null,
      "metadata": {
        "id": "nOA_eXSZ6I_L"
      },
      "outputs": [],
      "source": [
        "def batch_norm(X, gamma, beta, moving_mean, moving_var, eps, momentum):\n",
        "    # Use is_grad_enabled to determine whether we are in training mode\n",
        "    if not torch.is_grad_enabled():\n",
        "        # In prediction mode, use mean and variance obtained by moving average\n",
        "        X_hat = (X - moving_mean) / torch.sqrt(moving_var + eps)\n",
        "    else:\n",
        "        assert len(X.shape) in (2, 4)\n",
        "        if len(X.shape) == 2:\n",
        "            # When using a fully connected layer, calculate the mean and\n",
        "            # variance on the feature dimension\n",
        "            mean = X.mean(dim=0)\n",
        "            var = ((X - mean) ** 2).mean(dim=0)\n",
        "        else:\n",
        "            # When using a two-dimensional convolutional layer, calculate the\n",
        "            # mean and variance on the channel dimension (axis=1). Here we\n",
        "            # need to maintain the shape of X, so that the broadcasting\n",
        "            # operation can be carried out later\n",
        "            mean = X.mean(dim=(0, 2, 3), keepdim=True)\n",
        "            var = ((X - mean) ** 2).mean(dim=(0, 2, 3), keepdim=True)\n",
        "        # In training mode, the current mean and variance are used\n",
        "        X_hat = (X - mean) / torch.sqrt(var + eps)\n",
        "        # Update the mean and variance using moving average\n",
        "        moving_mean = (1.0 - momentum) * moving_mean + momentum * mean\n",
        "        moving_var = (1.0 - momentum) * moving_var + momentum * var\n",
        "    Y = gamma * X_hat + beta  # Scale and shift\n",
        "    return Y, moving_mean.data, moving_var.data"
      ]
    },
    {
      "cell_type": "code",
      "execution_count": null,
      "metadata": {
        "id": "GXHjY3gU6XZS"
      },
      "outputs": [],
      "source": [
        "class BatchNorm(nn.Module):\n",
        "    # num_features: the number of outputs for a fully connected layer or the\n",
        "    # number of output channels for a convolutional layer. num_dims: 2 for a\n",
        "    # fully connected layer and 4 for a convolutional layer\n",
        "    def __init__(self, num_features, num_dims):\n",
        "        super().__init__()\n",
        "        if num_dims == 2:\n",
        "            shape = (1, num_features)\n",
        "        else:\n",
        "            shape = (1, num_features, 1, 1)\n",
        "        # The scale parameter and the shift parameter (model parameters) are\n",
        "        # initialized to 1 and 0, respectively\n",
        "        self.gamma = nn.Parameter(torch.ones(shape))\n",
        "        self.beta = nn.Parameter(torch.zeros(shape))\n",
        "        # The variables that are not model parameters are initialized to 0 and\n",
        "        # 1\n",
        "        self.moving_mean = torch.zeros(shape)\n",
        "        self.moving_var = torch.ones(shape)\n",
        "\n",
        "    def forward(self, X):\n",
        "        # If X is not on the main memory, copy moving_mean and moving_var to\n",
        "        # the device where X is located\n",
        "        if self.moving_mean.device != X.device:\n",
        "            self.moving_mean = self.moving_mean.to(X.device)\n",
        "            self.moving_var = self.moving_var.to(X.device)\n",
        "        # Save the updated moving_mean and moving_var\n",
        "        Y, self.moving_mean, self.moving_var = batch_norm(\n",
        "            X, self.gamma, self.beta, self.moving_mean,\n",
        "            self.moving_var, eps=1e-5, momentum=0.1)\n",
        "        return Y"
      ]
    },
    {
      "cell_type": "markdown",
      "metadata": {
        "id": "KEdQtWna6ac7"
      },
      "source": [
        "## **LeNet with Batch Normalization**"
      ]
    },
    {
      "cell_type": "code",
      "execution_count": null,
      "metadata": {
        "id": "TL8tS4av6Yrn"
      },
      "outputs": [],
      "source": [
        "class BNLeNetScratch(d2l.Classifier):\n",
        "    def __init__(self, lr=0.1, num_classes=10):\n",
        "        super().__init__()\n",
        "        self.save_hyperparameters()\n",
        "        self.net = nn.Sequential(\n",
        "            nn.LazyConv2d(6, kernel_size=5), BatchNorm(6, num_dims=4),\n",
        "            nn.Sigmoid(), nn.AvgPool2d(kernel_size=2, stride=2),\n",
        "            nn.LazyConv2d(16, kernel_size=5), BatchNorm(16, num_dims=4),\n",
        "            nn.Sigmoid(), nn.AvgPool2d(kernel_size=2, stride=2),\n",
        "            nn.Flatten(), nn.LazyLinear(120),\n",
        "            BatchNorm(120, num_dims=2), nn.Sigmoid(), nn.LazyLinear(84),\n",
        "            BatchNorm(84, num_dims=2), nn.Sigmoid(),\n",
        "            nn.LazyLinear(num_classes))"
      ]
    },
    {
      "cell_type": "code",
      "execution_count": null,
      "metadata": {
        "id": "8hB7ZzR26exS"
      },
      "outputs": [],
      "source": [
        "trainer = d2l.Trainer(max_epochs=10, num_gpus=1)\n",
        "data = d2l.FashionMNIST(batch_size=128)\n",
        "model = BNLeNetScratch(lr=0.1)\n",
        "model.apply_init([next(iter(data.get_dataloader(True)))[0]], d2l.init_cnn)\n",
        "trainer.fit(model, data)"
      ]
    },
    {
      "cell_type": "code",
      "execution_count": null,
      "metadata": {
        "id": "iGsqJqYU6gCr"
      },
      "outputs": [],
      "source": [
        "model.net[1].gamma.reshape((-1,)), model.net[1].beta.reshape((-1,))"
      ]
    },
    {
      "cell_type": "markdown",
      "metadata": {
        "id": "Fk_Lvk__6h7i"
      },
      "source": [
        "## **Concise Implementation**"
      ]
    },
    {
      "cell_type": "code",
      "execution_count": null,
      "metadata": {
        "id": "lhXGBJq06hOz"
      },
      "outputs": [],
      "source": [
        "class BNLeNet(d2l.Classifier):\n",
        "    def __init__(self, lr=0.1, num_classes=10):\n",
        "        super().__init__()\n",
        "        self.save_hyperparameters()\n",
        "        self.net = nn.Sequential(\n",
        "            nn.LazyConv2d(6, kernel_size=5), nn.LazyBatchNorm2d(),\n",
        "            nn.Sigmoid(), nn.AvgPool2d(kernel_size=2, stride=2),\n",
        "            nn.LazyConv2d(16, kernel_size=5), nn.LazyBatchNorm2d(),\n",
        "            nn.Sigmoid(), nn.AvgPool2d(kernel_size=2, stride=2),\n",
        "            nn.Flatten(), nn.LazyLinear(120), nn.LazyBatchNorm1d(),\n",
        "            nn.Sigmoid(), nn.LazyLinear(84), nn.LazyBatchNorm1d(),\n",
        "            nn.Sigmoid(), nn.LazyLinear(num_classes))"
      ]
    },
    {
      "cell_type": "code",
      "execution_count": null,
      "metadata": {
        "id": "45MZI0xP6nGH"
      },
      "outputs": [],
      "source": [
        "trainer = d2l.Trainer(max_epochs=10, num_gpus=1)\n",
        "data = d2l.FashionMNIST(batch_size=128)\n",
        "model = BNLeNet(lr=0.1)\n",
        "model.apply_init([next(iter(data.get_dataloader(True)))[0]], d2l.init_cnn)\n",
        "trainer.fit(model, data)"
      ]
    },
    {
      "cell_type": "markdown",
      "metadata": {
        "id": "6cZZmZPn6qSd"
      },
      "source": [
        "## **Exercises**\n",
        "\n",
        "1. Should we remove the bias parameter from the fully connected layer or the convolutional layer before the batch normalization? Why?\n",
        "1. Compare the learning rates for LeNet with and without batch normalization.\n",
        "    1. Plot the increase in validation accuracy.\n",
        "    1. How large can you make the learning rate before the optimization fails in both cases?\n",
        "1. Do we need batch normalization in every layer? Experiment with it.\n",
        "1. Implement a \"lite\" version of batch normalization that only removes the mean, or alternatively one that\n",
        "   only removes the variance. How does it behave?\n",
        "1. Fix the parameters `beta` and `gamma`. Observe and analyze the results.\n",
        "1. Can you replace dropout by batch normalization? How does the behavior change?\n",
        "1. Research ideas: think of other normalization transforms that you can apply:\n",
        "    1. Can you apply the probability integral transform?\n",
        "    1. Can you use a full-rank covariance estimate? Why should you probably not do that?\n",
        "    1. Can you use other compact matrix variants (block-diagonal, low-displacement rank, Monarch, etc.)?\n",
        "    1. Does a sparsification compression act as a regularizer?\n",
        "    1. Are there other projections (e.g., convex cone, symmetry group-specific transforms) that you can use?"
      ]
    },
    {
      "cell_type": "markdown",
      "metadata": {
        "id": "cemYo1YBJlMI"
      },
      "source": [
        "## **Exercises Solution**"
      ]
    },
    {
      "cell_type": "markdown",
      "metadata": {
        "id": "sr-quPh3Lasn"
      },
      "source": [
        "1. - Remove Bias Parameter: Set bias=False in convolutional and fully connected layers when using batch normalization.\n",
        "  - Reason: The bias becomes redundant because batch normalization subtracts the mean, effectively neutralizing the effect of the bias parameter."
      ]
    },
    {
      "cell_type": "markdown",
      "metadata": {
        "id": "uhkXIHcjLqft"
      },
      "source": [
        "2."
      ]
    },
    {
      "cell_type": "code",
      "execution_count": null,
      "metadata": {
        "id": "lDBEah5WLsTy"
      },
      "outputs": [],
      "source": [
        "# Define LeNet without Batch Normalization\n",
        "class LeNet(nn.Module):\n",
        "    def __init__(self):\n",
        "        super(LeNet, self).__init__()\n",
        "        self.conv1 = nn.Conv2d(1, 6, kernel_size=5, stride=1, padding=2)\n",
        "        self.conv2 = nn.Conv2d(6, 16, kernel_size=5)\n",
        "        self.fc1 = nn.Linear(16*5*5, 120)\n",
        "        self.fc2 = nn.Linear(120, 84)\n",
        "        self.fc3 = nn.Linear(84, 10)\n",
        "\n",
        "    def forward(self, x):\n",
        "        x = torch.relu(self.conv1(x))\n",
        "        x = torch.max_pool2d(x, 2)\n",
        "        x = torch.relu(self.conv2(x))\n",
        "        x = torch.max_pool2d(x, 2)\n",
        "        x = x.view(-1, 16*5*5)\n",
        "        x = torch.relu(self.fc1(x))\n",
        "        x = torch.relu(self.fc2(x))\n",
        "        x = self.fc3(x)\n",
        "        return x\n",
        "\n",
        "# Define LeNet with Batch Normalization\n",
        "class LeNetBN(nn.Module):\n",
        "    def __init__(self):\n",
        "        super(LeNetBN, self).__init__()\n",
        "        self.conv1 = nn.Conv2d(1, 6, kernel_size=5, stride=1, padding=2, bias=False)\n",
        "        self.bn1 = nn.BatchNorm2d(6)\n",
        "        self.conv2 = nn.Conv2d(6, 16, kernel_size=5, bias=False)\n",
        "        self.bn2 = nn.BatchNorm2d(16)\n",
        "        self.fc1 = nn.Linear(16*5*5, 120, bias=False)\n",
        "        self.bn3 = nn.BatchNorm1d(120)\n",
        "        self.fc2 = nn.Linear(120, 84, bias=False)\n",
        "        self.bn4 = nn.BatchNorm1d(84)\n",
        "        self.fc3 = nn.Linear(84, 10)\n",
        "\n",
        "    def forward(self, x):\n",
        "        x = torch.relu(self.bn1(self.conv1(x)))\n",
        "        x = torch.max_pool2d(x, 2)\n",
        "        x = torch.relu(self.bn2(self.conv2(x)))\n",
        "        x = torch.max_pool2d(x, 2)\n",
        "        x = x.view(-1, 16*5*5)\n",
        "        x = torch.relu(self.bn3(self.fc1(x)))\n",
        "        x = torch.relu(self.bn4(self.fc2(x)))\n",
        "        x = self.fc3(x)\n",
        "        return x\n",
        "\n",
        "# Define training and evaluation functions\n",
        "def train(model, device, train_loader, optimizer, criterion):\n",
        "    model.train()\n",
        "    for data, target in train_loader:\n",
        "        data, target = data.to(device), target.to(device)\n",
        "        optimizer.zero_grad()\n",
        "        output = model(data)\n",
        "        loss = criterion(output, target)\n",
        "        loss.backward()\n",
        "        optimizer.step()\n",
        "\n",
        "def evaluate(model, device, test_loader, criterion):\n",
        "    model.eval()\n",
        "    test_loss = 0\n",
        "    correct = 0\n",
        "    with torch.no_grad():\n",
        "        for data, target in test_loader:\n",
        "            data, target = data.to(device), target.to(device)\n",
        "            output = model(data)\n",
        "            test_loss += criterion(output, target).item()  # Sum up batch loss\n",
        "            pred = output.argmax(dim=1, keepdim=True)  # Get the index of the max log-probability\n",
        "            correct += pred.eq(target.view_as(pred)).sum().item()\n",
        "\n",
        "    test_loss /= len(test_loader.dataset)\n",
        "    accuracy = 100. * correct / len(test_loader.dataset)\n",
        "    return test_loss, accuracy\n",
        "\n",
        "# Define hyperparameters and dataset\n",
        "batch_size = 32  # Reduced batch size for faster testing\n",
        "epochs = 2       # Reduced number of epochs for faster testing\n",
        "device = torch.device(\"cuda\" if torch.cuda.is_available() else \"cpu\")\n",
        "\n",
        "# Load the Fashion-MNIST dataset\n",
        "transform = transforms.Compose([transforms.ToTensor(), transforms.Normalize((0.5,), (0.5,))])\n",
        "train_dataset = datasets.FashionMNIST('./data', train=True, download=True, transform=transform)\n",
        "test_dataset = datasets.FashionMNIST('./data', train=False, download=True, transform=transform)\n",
        "train_loader = DataLoader(train_dataset, batch_size=batch_size, shuffle=True, num_workers=2)\n",
        "test_loader = DataLoader(test_dataset, batch_size=batch_size, shuffle=False, num_workers=2)\n",
        "\n",
        "# Define learning rates to test\n",
        "learning_rates = [0.001, 0.01, 0.1, 0.5]  # Limited range of learning rates for quick testing\n",
        "results_no_bn = []\n",
        "results_bn = []\n",
        "\n",
        "# Train and evaluate LeNet without Batch Normalization\n",
        "for lr in learning_rates:\n",
        "    model = LeNet().to(device)\n",
        "    optimizer = optim.SGD(model.parameters(), lr=lr)\n",
        "    criterion = nn.CrossEntropyLoss()\n",
        "\n",
        "    print(f\"Training LeNet without BN with learning rate: {lr}\")\n",
        "    for epoch in range(epochs):\n",
        "        train(model, device, train_loader, optimizer, criterion)\n",
        "    _, val_acc = evaluate(model, device, test_loader, criterion)\n",
        "    results_no_bn.append(val_acc)\n",
        "\n",
        "# Train and evaluate LeNet with Batch Normalization\n",
        "for lr in learning_rates:\n",
        "    model_bn = LeNetBN().to(device)\n",
        "    optimizer = optim.SGD(model_bn.parameters(), lr=lr)\n",
        "    criterion = nn.CrossEntropyLoss()\n",
        "\n",
        "    print(f\"Training LeNet with BN with learning rate: {lr}\")\n",
        "    for epoch in range(epochs):\n",
        "        train(model_bn, device, train_loader, optimizer, criterion)\n",
        "    _, val_acc = evaluate(model_bn, device, test_loader, criterion)\n",
        "    results_bn.append(val_acc)\n",
        "\n",
        "# Plot the results\n",
        "plt.figure(figsize=(10, 5))\n",
        "plt.plot(learning_rates, results_no_bn, label='LeNet without BN', marker='o')\n",
        "plt.plot(learning_rates, results_bn, label='LeNet with BN', marker='o')\n",
        "plt.xscale('log')\n",
        "plt.xlabel('Learning Rate')\n",
        "plt.ylabel('Validation Accuracy (%)')\n",
        "plt.title('Validation Accuracy vs Learning Rate for LeNet with and without Batch Normalization')\n",
        "plt.legend()\n",
        "plt.grid(True)\n",
        "plt.show()"
      ]
    },
    {
      "cell_type": "markdown",
      "metadata": {
        "id": "gGKI1qyXUzNJ"
      },
      "source": [
        "3. using batch normalization in every layer may not always be necessary or beneficial. Overusing batch normalization can increase the computational overhead and memory usage without providing additional performance benefits."
      ]
    },
    {
      "cell_type": "code",
      "execution_count": null,
      "metadata": {
        "id": "x13n7Q4xUnjs"
      },
      "outputs": [],
      "source": [
        "# Define LeNet without Batch Normalization (Baseline)\n",
        "class LeNet(nn.Module):\n",
        "    def __init__(self):\n",
        "        super(LeNet, self).__init__()\n",
        "        self.conv1 = nn.Conv2d(1, 6, kernel_size=5, stride=1, padding=2)\n",
        "        self.conv2 = nn.Conv2d(6, 16, kernel_size=5)\n",
        "        self.fc1 = nn.Linear(16*5*5, 120)\n",
        "        self.fc2 = nn.Linear(120, 84)\n",
        "        self.fc3 = nn.Linear(84, 10)\n",
        "\n",
        "    def forward(self, x):\n",
        "        x = torch.relu(self.conv1(x))\n",
        "        x = torch.max_pool2d(x, 2)\n",
        "        x = torch.relu(self.conv2(x))\n",
        "        x = torch.max_pool2d(x, 2)\n",
        "        x = x.view(-1, 16*5*5)\n",
        "        x = torch.relu(self.fc1(x))\n",
        "        x = torch.relu(self.fc2(x))\n",
        "        x = self.fc3(x)\n",
        "        return x\n",
        "\n",
        "# LeNet with Batch Normalization on Convolutional Layers\n",
        "class LeNetConvBN(nn.Module):\n",
        "    def __init__(self):\n",
        "        super(LeNetConvBN, self).__init__()\n",
        "        self.conv1 = nn.Conv2d(1, 6, kernel_size=5, stride=1, padding=2, bias=False)\n",
        "        self.bn1 = nn.BatchNorm2d(6)\n",
        "        self.conv2 = nn.Conv2d(6, 16, kernel_size=5, bias=False)\n",
        "        self.bn2 = nn.BatchNorm2d(16)\n",
        "        self.fc1 = nn.Linear(16*5*5, 120)\n",
        "        self.fc2 = nn.Linear(120, 84)\n",
        "        self.fc3 = nn.Linear(84, 10)\n",
        "\n",
        "    def forward(self, x):\n",
        "        x = torch.relu(self.bn1(self.conv1(x)))\n",
        "        x = torch.max_pool2d(x, 2)\n",
        "        x = torch.relu(self.bn2(self.conv2(x)))\n",
        "        x = torch.max_pool2d(x, 2)\n",
        "        x = x.view(-1, 16*5*5)\n",
        "        x = torch.relu(self.fc1(x))\n",
        "        x = torch.relu(self.fc2(x))\n",
        "        x = self.fc3(x)\n",
        "        return x\n",
        "\n",
        "# LeNet with Batch Normalization on Fully Connected Layers\n",
        "class LeNetFCBN(nn.Module):\n",
        "    def __init__(self):\n",
        "        super(LeNetFCBN, self).__init__()\n",
        "        self.conv1 = nn.Conv2d(1, 6, kernel_size=5, stride=1, padding=2)\n",
        "        self.conv2 = nn.Conv2d(6, 16, kernel_size=5)\n",
        "        self.fc1 = nn.Linear(16*5*5, 120, bias=False)\n",
        "        self.bn1 = nn.BatchNorm1d(120)\n",
        "        self.fc2 = nn.Linear(120, 84, bias=False)\n",
        "        self.bn2 = nn.BatchNorm1d(84)\n",
        "        self.fc3 = nn.Linear(84, 10)\n",
        "\n",
        "    def forward(self, x):\n",
        "        x = torch.relu(self.conv1(x))\n",
        "        x = torch.max_pool2d(x, 2)\n",
        "        x = torch.relu(self.conv2(x))\n",
        "        x = torch.max_pool2d(x, 2)\n",
        "        x = x.view(-1, 16*5*5)\n",
        "        x = torch.relu(self.bn1(self.fc1(x)))\n",
        "        x = torch.relu(self.bn2(self.fc2(x)))\n",
        "        x = self.fc3(x)\n",
        "        return x\n",
        "\n",
        "# LeNet with Batch Normalization on All Layers\n",
        "class LeNetAllBN(nn.Module):\n",
        "    def __init__(self):\n",
        "        super(LeNetAllBN, self).__init__()\n",
        "        self.conv1 = nn.Conv2d(1, 6, kernel_size=5, stride=1, padding=2, bias=False)\n",
        "        self.bn1 = nn.BatchNorm2d(6)\n",
        "        self.conv2 = nn.Conv2d(6, 16, kernel_size=5, bias=False)\n",
        "        self.bn2 = nn.BatchNorm2d(16)\n",
        "        self.fc1 = nn.Linear(16*5*5, 120, bias=False)\n",
        "        self.bn3 = nn.BatchNorm1d(120)\n",
        "        self.fc2 = nn.Linear(120, 84, bias=False)\n",
        "        self.bn4 = nn.BatchNorm1d(84)\n",
        "        self.fc3 = nn.Linear(84, 10)\n",
        "\n",
        "    def forward(self, x):\n",
        "        x = torch.relu(self.bn1(self.conv1(x)))\n",
        "        x = torch.max_pool2d(x, 2)\n",
        "        x = torch.relu(self.bn2(self.conv2(x)))\n",
        "        x = torch.max_pool2d(x, 2)\n",
        "        x = x.view(-1, 16*5*5)\n",
        "        x = torch.relu(self.bn3(self.fc1(x)))\n",
        "        x = torch.relu(self.bn4(self.fc2(x)))\n",
        "        x = self.fc3(x)\n",
        "        return x\n",
        "\n",
        "# Training and evaluation functions (same as before)\n",
        "def train(model, device, train_loader, optimizer, criterion):\n",
        "    model.train()\n",
        "    for data, target in train_loader:\n",
        "        data, target = data.to(device), target.to(device)\n",
        "        optimizer.zero_grad()\n",
        "        output = model(data)\n",
        "        loss = criterion(output, target)\n",
        "        loss.backward()\n",
        "        optimizer.step()\n",
        "\n",
        "def evaluate(model, device, test_loader, criterion):\n",
        "    model.eval()\n",
        "    test_loss = 0\n",
        "    correct = 0\n",
        "    with torch.no_grad():\n",
        "        for data, target in test_loader:\n",
        "            data, target = data.to(device), target.to(device)\n",
        "            output = model(data)\n",
        "            test_loss += criterion(output, target).item()  # Sum up batch loss\n",
        "            pred = output.argmax(dim=1, keepdim=True)  # Get the index of the max log-probability\n",
        "            correct += pred.eq(target.view_as(pred)).sum().item()\n",
        "    accuracy = 100. * correct / len(test_loader.dataset)\n",
        "    return accuracy\n",
        "\n",
        "# Dataset and DataLoader setup\n",
        "batch_size = 32\n",
        "epochs = 2  # Shortened for quick testing\n",
        "device = torch.device(\"cuda\" if torch.cuda.is_available() else \"cpu\")\n",
        "\n",
        "# Load the Fashion-MNIST dataset\n",
        "transform = transforms.Compose([transforms.ToTensor(), transforms.Normalize((0.5,), (0.5,))])\n",
        "train_dataset = datasets.FashionMNIST('./data', train=True, download=True, transform=transform)\n",
        "test_dataset = datasets.FashionMNIST('./data', train=False, download=True, transform=transform)\n",
        "train_loader = DataLoader(train_dataset, batch_size=batch_size, shuffle=True, num_workers=2)\n",
        "test_loader = DataLoader(test_dataset, batch_size=batch_size, shuffle=False, num_workers=2)\n",
        "\n",
        "# Test various configurations\n",
        "configs = {\n",
        "    'No BN': LeNet(),\n",
        "    'Conv BN': LeNetConvBN(),\n",
        "    'FC BN': LeNetFCBN(),\n",
        "    'All BN': LeNetAllBN()\n",
        "}\n",
        "\n",
        "learning_rate = 0.01\n",
        "results = {}\n",
        "\n",
        "# Training and evaluation\n",
        "for config_name, model in configs.items():\n",
        "    print(f\"\\nTraining {config_name} model...\")\n",
        "    model = model.to(device)\n",
        "    optimizer = optim.SGD(model.parameters(), lr=learning_rate)\n",
        "    criterion = nn.CrossEntropyLoss()\n",
        "\n",
        "    start_time = time.time()\n",
        "    for epoch in range(epochs):\n",
        "        train(model, device, train_loader, optimizer, criterion)\n",
        "    accuracy = evaluate(model, device, test_loader, criterion)\n",
        "    end_time = time.time()\n",
        "\n",
        "    training_time = end_time - start_time\n",
        "    print(f\"Accuracy for {config_name}: {accuracy:.2f}%, Training time: {training_time:.2f} seconds\")\n",
        "    results[config_name] = accuracy\n",
        "\n",
        "# Plot the results\n",
        "plt.bar(results.keys(), results.values())\n",
        "plt.xlabel('Model Configuration')\n",
        "plt.ylabel('Validation Accuracy (%)')\n",
        "plt.title('Validation Accuracy of Different Batch Normalization Configurations')\n",
        "plt.show()\n"
      ]
    },
    {
      "cell_type": "markdown",
      "metadata": {
        "id": "EK7MmDdSVhh3"
      },
      "source": [
        "4."
      ]
    },
    {
      "cell_type": "code",
      "execution_count": null,
      "metadata": {
        "id": "k_DJDg_RVgae"
      },
      "outputs": [],
      "source": [
        "# Define a \"lite\" version of batch normalization that only removes the mean\n",
        "class MeanOnlyNormalization(nn.Module):\n",
        "    def __init__(self, num_features, eps=1e-5):\n",
        "        super(MeanOnlyNormalization, self).__init__()\n",
        "        self.eps = eps  # Small constant to prevent division by zero\n",
        "        self.gamma = nn.Parameter(torch.ones(num_features))  # Scale parameter (optional)\n",
        "        self.beta = nn.Parameter(torch.zeros(num_features))  # Shift parameter (optional)\n",
        "\n",
        "    def forward(self, x):\n",
        "        # Determine if the input is from a convolutional or fully connected layer\n",
        "        if len(x.shape) == 4:  # Convolutional layer input (batch_size, channels, height, width)\n",
        "            mean = x.mean(dim=(0, 2, 3), keepdim=True)\n",
        "            x = x - mean  # Subtract mean\n",
        "            # Reshape gamma and beta to match the input shape (1, channels, 1, 1)\n",
        "            return self.gamma.view(1, -1, 1, 1) * x + self.beta.view(1, -1, 1, 1)\n",
        "        elif len(x.shape) == 2:  # Fully connected layer input (batch_size, features)\n",
        "            mean = x.mean(dim=0, keepdim=True)\n",
        "            x = x - mean  # Subtract mean\n",
        "            # Use gamma and beta as is for fully connected layer\n",
        "            return self.gamma * x + self.beta\n",
        "        else:\n",
        "            raise ValueError(\"Unsupported input shape for MeanOnlyNormalization.\")\n",
        "\n",
        "# Define a \"lite\" version of batch normalization that only removes the variance\n",
        "class VarianceOnlyNormalization(nn.Module):\n",
        "    def __init__(self, num_features, eps=1e-5):\n",
        "        super(VarianceOnlyNormalization, self).__init__()\n",
        "        self.eps = eps  # Small constant to prevent division by zero\n",
        "        self.gamma = nn.Parameter(torch.ones(num_features))  # Scale parameter (optional)\n",
        "        self.beta = nn.Parameter(torch.zeros(num_features))  # Shift parameter (optional)\n",
        "\n",
        "    def forward(self, x):\n",
        "        # Determine if the input is from a convolutional or fully connected layer\n",
        "        if len(x.shape) == 4:  # Convolutional layer input (batch_size, channels, height, width)\n",
        "            var = x.var(dim=(0, 2, 3), keepdim=True, unbiased=False)\n",
        "            x = x / torch.sqrt(var + self.eps)  # Scale by variance\n",
        "            # Reshape gamma and beta to match the input shape (1, channels, 1, 1)\n",
        "            return self.gamma.view(1, -1, 1, 1) * x + self.beta.view(1, -1, 1, 1)\n",
        "        elif len(x.shape) == 2:  # Fully connected layer input (batch_size, features)\n",
        "            var = x.var(dim=0, keepdim=True, unbiased=False)\n",
        "            x = x / torch.sqrt(var + self.eps)  # Scale by variance\n",
        "            # Use gamma and beta as is for fully connected layer\n",
        "            return self.gamma * x + self.beta\n",
        "        else:\n",
        "            raise ValueError(\"Unsupported input shape for VarianceOnlyNormalization.\")\n",
        "\n",
        "# LeNet model using Mean-Only Normalization\n",
        "class LeNetMeanOnlyBN(nn.Module):\n",
        "    def __init__(self):\n",
        "        super(LeNetMeanOnlyBN, self).__init__()\n",
        "        self.conv1 = nn.Conv2d(1, 6, kernel_size=5, stride=1, padding=2, bias=False)\n",
        "        self.mean_bn1 = MeanOnlyNormalization(6)\n",
        "        self.conv2 = nn.Conv2d(6, 16, kernel_size=5, bias=False)\n",
        "        self.mean_bn2 = MeanOnlyNormalization(16)\n",
        "        self.fc1 = nn.Linear(16*5*5, 120, bias=False)\n",
        "        self.mean_bn3 = MeanOnlyNormalization(120)\n",
        "        self.fc2 = nn.Linear(120, 84, bias=False)\n",
        "        self.mean_bn4 = MeanOnlyNormalization(84)\n",
        "        self.fc3 = nn.Linear(84, 10)\n",
        "\n",
        "    def forward(self, x):\n",
        "        x = torch.relu(self.mean_bn1(self.conv1(x)))\n",
        "        x = torch.max_pool2d(x, 2)\n",
        "        x = torch.relu(self.mean_bn2(self.conv2(x)))\n",
        "        x = torch.max_pool2d(x, 2)\n",
        "        x = x.view(-1, 16*5*5)\n",
        "        x = torch.relu(self.mean_bn3(self.fc1(x)))\n",
        "        x = torch.relu(self.mean_bn4(self.fc2(x)))\n",
        "        x = self.fc3(x)\n",
        "        return x\n",
        "\n",
        "# LeNet model using Variance-Only Normalization\n",
        "class LeNetVarianceOnlyBN(nn.Module):\n",
        "    def __init__(self):\n",
        "        super(LeNetVarianceOnlyBN, self).__init__()\n",
        "        self.conv1 = nn.Conv2d(1, 6, kernel_size=5, stride=1, padding=2, bias=False)\n",
        "        self.var_bn1 = VarianceOnlyNormalization(6)\n",
        "        self.conv2 = nn.Conv2d(6, 16, kernel_size=5, bias=False)\n",
        "        self.var_bn2 = VarianceOnlyNormalization(16)\n",
        "        self.fc1 = nn.Linear(16*5*5, 120, bias=False)\n",
        "        self.var_bn3 = VarianceOnlyNormalization(120)\n",
        "        self.fc2 = nn.Linear(120, 84, bias=False)\n",
        "        self.var_bn4 = VarianceOnlyNormalization(84)\n",
        "        self.fc3 = nn.Linear(84, 10)\n",
        "\n",
        "    def forward(self, x):\n",
        "        x = torch.relu(self.var_bn1(self.conv1(x)))\n",
        "        x = torch.max_pool2d(x, 2)\n",
        "        x = torch.relu(self.var_bn2(self.conv2(x)))\n",
        "        x = torch.max_pool2d(x, 2)\n",
        "        x = x.view(-1, 16*5*5)\n",
        "        x = torch.relu(self.var_bn3(self.fc1(x)))\n",
        "        x = torch.relu(self.var_bn4(self.fc2(x)))\n",
        "        x = self.fc3(x)\n",
        "        return x\n",
        "\n",
        "# Training and evaluation functions (same as before)\n",
        "def train(model, device, train_loader, optimizer, criterion):\n",
        "    model.train()\n",
        "    for data, target in train_loader:\n",
        "        data, target = data.to(device), target.to(device)\n",
        "        optimizer.zero_grad()\n",
        "        output = model(data)\n",
        "        loss = criterion(output, target)\n",
        "        loss.backward()\n",
        "        optimizer.step()\n",
        "\n",
        "def evaluate(model, device, test_loader, criterion):\n",
        "    model.eval()\n",
        "    test_loss = 0\n",
        "    correct = 0\n",
        "    with torch.no_grad():\n",
        "        for data, target in test_loader:\n",
        "            data, target = data.to(device), target.to(device)\n",
        "            output = model(data)\n",
        "            test_loss += criterion(output, target).item()  # Sum up batch loss\n",
        "            pred = output.argmax(dim=1, keepdim=True)  # Get the index of the max log-probability\n",
        "            correct += pred.eq(target.view_as(pred)).sum().item()\n",
        "    accuracy = 100. * correct / len(test_loader.dataset)\n",
        "    return accuracy\n",
        "\n",
        "# Dataset and DataLoader setup\n",
        "batch_size = 32\n",
        "epochs = 2  # Shortened for quick testing\n",
        "device = torch.device(\"cuda\" if torch.cuda.is_available() else \"cpu\")\n",
        "\n",
        "# Load the Fashion-MNIST dataset\n",
        "transform = transforms.Compose([transforms.ToTensor(), transforms.Normalize((0.5,), (0.5,))])\n",
        "train_dataset = datasets.FashionMNIST('./data', train=True, download=True, transform=transform)\n",
        "test_dataset = datasets.FashionMNIST('./data', train=False, download=True, transform=transform)\n",
        "train_loader = DataLoader(train_dataset, batch_size=batch_size, shuffle=True, num_workers=2)\n",
        "test_loader = DataLoader(test_dataset, batch_size=batch_size, shuffle=False, num_workers=2)\n",
        "\n",
        "# Test different batch normalization configurations\n",
        "configs = {\n",
        "    'Mean-Only Normalization': LeNetMeanOnlyBN(),\n",
        "    'Variance-Only Normalization': LeNetVarianceOnlyBN()\n",
        "}\n",
        "\n",
        "learning_rate = 0.01\n",
        "results = {}\n",
        "\n",
        "# Training and evaluation\n",
        "for config_name, model in configs.items():\n",
        "    print(f\"\\nTraining {config_name} model...\")\n",
        "    model = model.to(device)\n",
        "    optimizer = optim.SGD(model.parameters(), lr=learning_rate)\n",
        "    criterion = nn.CrossEntropyLoss()\n",
        "\n",
        "    start_time = time.time()\n",
        "    for epoch in range(epochs):\n",
        "        train(model, device, train_loader, optimizer, criterion)\n",
        "    accuracy = evaluate(model, device, test_loader, criterion)\n",
        "    end_time = time.time()\n",
        "\n",
        "    training_time = end_time - start_time\n",
        "    print(f\"Accuracy for {config_name}: {accuracy:.2f}%, Training time: {training_time:.2f} seconds\")\n",
        "    results[config_name] = accuracy\n",
        "\n",
        "# Plot the results\n",
        "plt.bar(results.keys(), results.values())\n",
        "plt.xlabel('Model Configuration')\n",
        "plt.ylabel('Validation Accuracy (%)')\n",
        "plt.title('Validation Accuracy of Mean-Only vs Variance-Only Normalization')\n",
        "plt.show()\n"
      ]
    },
    {
      "cell_type": "markdown",
      "metadata": {
        "id": "6g9yPRXcXW0f"
      },
      "source": [
        "5."
      ]
    },
    {
      "cell_type": "code",
      "execution_count": null,
      "metadata": {
        "id": "EJg8itQNXfIm"
      },
      "outputs": [],
      "source": [
        "# Define a \"lite\" version of batch normalization that only removes the mean\n",
        "# Here, `gamma` is fixed to 1 and `beta` is fixed to 0.\n",
        "class MeanOnlyNormalization(nn.Module):\n",
        "    def __init__(self, num_features, eps=1e-5):\n",
        "        super(MeanOnlyNormalization, self).__init__()\n",
        "        self.eps = eps  # Small constant to prevent division by zero\n",
        "\n",
        "    def forward(self, x):\n",
        "        # Determine if the input is from a convolutional or fully connected layer\n",
        "        if len(x.shape) == 4:  # Convolutional layer input (batch_size, channels, height, width)\n",
        "            mean = x.mean(dim=(0, 2, 3), keepdim=True)\n",
        "            x = x - mean  # Subtract mean\n",
        "        elif len(x.shape) == 2:  # Fully connected layer input (batch_size, features)\n",
        "            mean = x.mean(dim=0, keepdim=True)\n",
        "            x = x - mean  # Subtract mean\n",
        "        else:\n",
        "            raise ValueError(\"Unsupported input shape for MeanOnlyNormalization.\")\n",
        "        return x  # No scaling or shifting (gamma=1, beta=0)\n",
        "\n",
        "# Define a \"lite\" version of batch normalization that only removes the variance\n",
        "# Here, `gamma` is fixed to 1 and `beta` is fixed to 0.\n",
        "class VarianceOnlyNormalization(nn.Module):\n",
        "    def __init__(self, num_features, eps=1e-5):\n",
        "        super(VarianceOnlyNormalization, self).__init__()\n",
        "        self.eps = eps  # Small constant to prevent division by zero\n",
        "\n",
        "    def forward(self, x):\n",
        "        # Determine if the input is from a convolutional or fully connected layer\n",
        "        if len(x.shape) == 4:  # Convolutional layer input (batch_size, channels, height, width)\n",
        "            var = x.var(dim=(0, 2, 3), keepdim=True, unbiased=False)\n",
        "            x = x / torch.sqrt(var + self.eps)  # Scale by variance\n",
        "        elif len(x.shape) == 2:  # Fully connected layer input (batch_size, features)\n",
        "            var = x.var(dim=0, keepdim=True, unbiased=False)\n",
        "            x = x / torch.sqrt(var + self.eps)  # Scale by variance\n",
        "        else:\n",
        "            raise ValueError(\"Unsupported input shape for VarianceOnlyNormalization.\")\n",
        "        return x  # No shifting (beta=0)\n",
        "\n",
        "# LeNet model using Mean-Only Normalization (Fixed Parameters)\n",
        "class LeNetMeanOnlyBN(nn.Module):\n",
        "    def __init__(self):\n",
        "        super(LeNetMeanOnlyBN, self).__init__()\n",
        "        self.conv1 = nn.Conv2d(1, 6, kernel_size=5, stride=1, padding=2, bias=False)\n",
        "        self.mean_bn1 = MeanOnlyNormalization(6)\n",
        "        self.conv2 = nn.Conv2d(6, 16, kernel_size=5, bias=False)\n",
        "        self.mean_bn2 = MeanOnlyNormalization(16)\n",
        "        self.fc1 = nn.Linear(16*5*5, 120, bias=False)\n",
        "        self.mean_bn3 = MeanOnlyNormalization(120)\n",
        "        self.fc2 = nn.Linear(120, 84, bias=False)\n",
        "        self.mean_bn4 = MeanOnlyNormalization(84)\n",
        "        self.fc3 = nn.Linear(84, 10)\n",
        "\n",
        "    def forward(self, x):\n",
        "        x = torch.relu(self.mean_bn1(self.conv1(x)))\n",
        "        x = torch.max_pool2d(x, 2)\n",
        "        x = torch.relu(self.mean_bn2(self.conv2(x)))\n",
        "        x = torch.max_pool2d(x, 2)\n",
        "        x = x.view(-1, 16*5*5)\n",
        "        x = torch.relu(self.mean_bn3(self.fc1(x)))\n",
        "        x = torch.relu(self.mean_bn4(self.fc2(x)))\n",
        "        x = self.fc3(x)\n",
        "        return x\n",
        "\n",
        "# LeNet model using Variance-Only Normalization (Fixed Parameters)\n",
        "class LeNetVarianceOnlyBN(nn.Module):\n",
        "    def __init__(self):\n",
        "        super(LeNetVarianceOnlyBN, self).__init__()\n",
        "        self.conv1 = nn.Conv2d(1, 6, kernel_size=5, stride=1, padding=2, bias=False)\n",
        "        self.var_bn1 = VarianceOnlyNormalization(6)\n",
        "        self.conv2 = nn.Conv2d(6, 16, kernel_size=5, bias=False)\n",
        "        self.var_bn2 = VarianceOnlyNormalization(16)\n",
        "        self.fc1 = nn.Linear(16*5*5, 120, bias=False)\n",
        "        self.var_bn3 = VarianceOnlyNormalization(120)\n",
        "        self.fc2 = nn.Linear(120, 84, bias=False)\n",
        "        self.var_bn4 = VarianceOnlyNormalization(84)\n",
        "        self.fc3 = nn.Linear(84, 10)\n",
        "\n",
        "    def forward(self, x):\n",
        "        x = torch.relu(self.var_bn1(self.conv1(x)))\n",
        "        x = torch.max_pool2d(x, 2)\n",
        "        x = torch.relu(self.var_bn2(self.conv2(x)))\n",
        "        x = torch.max_pool2d(x, 2)\n",
        "        x = x.view(-1, 16*5*5)\n",
        "        x = torch.relu(self.var_bn3(self.fc1(x)))\n",
        "        x = torch.relu(self.var_bn4(self.fc2(x)))\n",
        "        x = self.fc3(x)\n",
        "        return x\n",
        "\n",
        "# Training and evaluation functions (same as before)\n",
        "def train(model, device, train_loader, optimizer, criterion):\n",
        "    model.train()\n",
        "    for data, target in train_loader:\n",
        "        data, target = data.to(device), target.to(device)\n",
        "        optimizer.zero_grad()\n",
        "        output = model(data)\n",
        "        loss = criterion(output, target)\n",
        "        loss.backward()\n",
        "        optimizer.step()\n",
        "\n",
        "def evaluate(model, device, test_loader, criterion):\n",
        "    model.eval()\n",
        "    test_loss = 0\n",
        "    correct = 0\n",
        "    with torch.no_grad():\n",
        "        for data, target in test_loader:\n",
        "            data, target = data.to(device), target.to(device)\n",
        "            output = model(data)\n",
        "            test_loss += criterion(output, target).item()  # Sum up batch loss\n",
        "            pred = output.argmax(dim=1, keepdim=True)  # Get the index of the max log-probability\n",
        "            correct += pred.eq(target.view_as(pred)).sum().item()\n",
        "    accuracy = 100. * correct / len(test_loader.dataset)\n",
        "    return accuracy\n",
        "\n",
        "# Dataset and DataLoader setup\n",
        "batch_size = 32\n",
        "epochs = 2  # Shortened for quick testing\n",
        "device = torch.device(\"cuda\" if torch.cuda.is_available() else \"cpu\")\n",
        "\n",
        "# Load the Fashion-MNIST dataset\n",
        "transform = transforms.Compose([transforms.ToTensor(), transforms.Normalize((0.5,), (0.5,))])\n",
        "train_dataset = datasets.FashionMNIST('./data', train=True, download=True, transform=transform)\n",
        "test_dataset = datasets.FashionMNIST('./data', train=False, download=True, transform=transform)\n",
        "train_loader = DataLoader(train_dataset, batch_size=batch_size, shuffle=True, num_workers=2)\n",
        "test_loader = DataLoader(test_dataset, batch_size=batch_size, shuffle=False, num_workers=2)\n",
        "\n",
        "# Test different batch normalization configurations\n",
        "configs = {\n",
        "    'Mean-Only Normalization (Fixed)': LeNetMeanOnlyBN(),\n",
        "    'Variance-Only Normalization (Fixed)': LeNetVarianceOnlyBN()\n",
        "}\n",
        "\n",
        "learning_rate = 0.01\n",
        "results = {}\n",
        "\n",
        "# Training and evaluation\n",
        "for config_name, model in configs.items():\n",
        "    print(f\"\\nTraining {config_name} model...\")\n",
        "    model = model.to(device)\n",
        "    optimizer = optim.SGD(model.parameters(), lr=learning_rate)\n",
        "    criterion = nn.CrossEntropyLoss()\n",
        "\n",
        "    start_time = time.time()\n",
        "    for epoch in range(epochs):\n",
        "        train(model, device, train_loader, optimizer, criterion)\n",
        "    accuracy = evaluate(model, device, test_loader, criterion)\n",
        "    end_time = time.time()\n",
        "\n",
        "    training_time = end_time - start_time\n",
        "    print(f\"Accuracy for {config_name}: {accuracy:.2f}%, Training time: {training_time:.2f} seconds\")\n",
        "    results[config_name] = accuracy\n",
        "\n",
        "# Plot the results\n",
        "plt.bar(results.keys(), results.values())\n",
        "plt.xlabel('Model Configuration')\n",
        "plt.ylabel('Validation Accuracy (%)')\n",
        "plt.title('Validation Accuracy of Mean-Only vs Variance-Only Normalization (Fixed Parameters)')\n",
        "plt.show()\n"
      ]
    },
    {
      "cell_type": "markdown",
      "metadata": {
        "id": "1KhoGWwwbOnM"
      },
      "source": [
        "7. The Probability Integral Transform (PIT) can be applied to normalize activations by mapping them to a uniform distribution based on their cumulative distribution function (CDF), but it requires accurate PDF or CDF estimation, which is computationally intensive and may introduce instability for high-dimensional data. Using a full-rank covariance estimate for normalization provides complete whitening of features, but it is typically avoided due to its high computational cost, numerical instability, and excessive memory requirements, especially for large models. Instead, compact matrix variants like block-diagonal, low-displacement rank, and Monarch matrices can approximate full-rank covariance matrices while being more efficient and scalable. Sparsification techniques, where a subset of weights or activations are set to zero, can serve as a form of regularization by reducing model complexity and overfitting, but they require careful handling during normalization. Other approaches, such as projections onto convex cones or using group-specific symmetry transforms, can enforce desired properties in activations, such as non-negativity or rotational invariance, and may enhance performance for certain types of data. However, these methods need to be chosen based on the specific model architecture and dataset properties to be effective."
      ]
    },
    {
      "cell_type": "markdown",
      "metadata": {
        "id": "kBXQdT7o6wjG"
      },
      "source": [
        "# **Residual Networks (ResNet) and ResNext**"
      ]
    },
    {
      "cell_type": "markdown",
      "metadata": {
        "id": "vzNy_lDQ64pj"
      },
      "source": [
        "## **Residual Blocks**"
      ]
    },
    {
      "cell_type": "code",
      "execution_count": null,
      "metadata": {
        "id": "9HL7-_7E6oRg"
      },
      "outputs": [],
      "source": [
        "class Residual(nn.Module):\n",
        "    \"\"\"The Residual block of ResNet models.\"\"\"\n",
        "    def __init__(self, num_channels, use_1x1conv=False, strides=1):\n",
        "        super().__init__()\n",
        "        self.conv1 = nn.LazyConv2d(num_channels, kernel_size=3, padding=1,\n",
        "                                   stride=strides)\n",
        "        self.conv2 = nn.LazyConv2d(num_channels, kernel_size=3, padding=1)\n",
        "        if use_1x1conv:\n",
        "            self.conv3 = nn.LazyConv2d(num_channels, kernel_size=1,\n",
        "                                       stride=strides)\n",
        "        else:\n",
        "            self.conv3 = None\n",
        "        self.bn1 = nn.LazyBatchNorm2d()\n",
        "        self.bn2 = nn.LazyBatchNorm2d()\n",
        "\n",
        "    def forward(self, X):\n",
        "        Y = F.relu(self.bn1(self.conv1(X)))\n",
        "        Y = self.bn2(self.conv2(Y))\n",
        "        if self.conv3:\n",
        "            X = self.conv3(X)\n",
        "        Y += X\n",
        "        return F.relu(Y)"
      ]
    },
    {
      "cell_type": "code",
      "execution_count": null,
      "metadata": {
        "id": "B5dZCN2o68gF"
      },
      "outputs": [],
      "source": [
        "blk = Residual(3)\n",
        "X = torch.randn(4, 3, 6, 6)\n",
        "blk(X).shape"
      ]
    },
    {
      "cell_type": "code",
      "execution_count": null,
      "metadata": {
        "id": "epFq4EXE7Ldl"
      },
      "outputs": [],
      "source": [
        "blk = Residual(6, use_1x1conv=True, strides=2)\n",
        "blk(X).shape"
      ]
    },
    {
      "cell_type": "markdown",
      "metadata": {
        "id": "gt8-HNVk7N1M"
      },
      "source": [
        "## **ResNet Model**"
      ]
    },
    {
      "cell_type": "code",
      "execution_count": null,
      "metadata": {
        "id": "MFH4CKkI7Mp4"
      },
      "outputs": [],
      "source": [
        "class ResNet(d2l.Classifier):\n",
        "    def b1(self):\n",
        "        return nn.Sequential(\n",
        "            nn.LazyConv2d(64, kernel_size=7, stride=2, padding=3),\n",
        "            nn.LazyBatchNorm2d(), nn.ReLU(),\n",
        "            nn.MaxPool2d(kernel_size=3, stride=2, padding=1))"
      ]
    },
    {
      "cell_type": "code",
      "execution_count": null,
      "metadata": {
        "id": "wcKc1PbU7QSr"
      },
      "outputs": [],
      "source": [
        "@d2l.add_to_class(ResNet)\n",
        "def block(self, num_residuals, num_channels, first_block=False):\n",
        "    blk = []\n",
        "    for i in range(num_residuals):\n",
        "        if i == 0 and not first_block:\n",
        "            blk.append(Residual(num_channels, use_1x1conv=True, strides=2))\n",
        "        else:\n",
        "            blk.append(Residual(num_channels))\n",
        "    return nn.Sequential(*blk)"
      ]
    },
    {
      "cell_type": "code",
      "execution_count": null,
      "metadata": {
        "id": "UZyWkmCW7Reh"
      },
      "outputs": [],
      "source": [
        "@d2l.add_to_class(ResNet)\n",
        "def __init__(self, arch, lr=0.1, num_classes=10):\n",
        "    super(ResNet, self).__init__()\n",
        "    self.save_hyperparameters()\n",
        "    self.net = nn.Sequential(self.b1())\n",
        "    for i, b in enumerate(arch):\n",
        "        self.net.add_module(f'b{i+2}', self.block(*b, first_block=(i==0)))\n",
        "    self.net.add_module('last', nn.Sequential(\n",
        "        nn.AdaptiveAvgPool2d((1, 1)), nn.Flatten(),\n",
        "        nn.LazyLinear(num_classes)))\n",
        "    self.net.apply(d2l.init_cnn)"
      ]
    },
    {
      "cell_type": "code",
      "execution_count": null,
      "metadata": {
        "id": "7LH7kRck7TCQ"
      },
      "outputs": [],
      "source": [
        "class ResNet18(ResNet):\n",
        "    def __init__(self, lr=0.1, num_classes=10):\n",
        "        super().__init__(((2, 64), (2, 128), (2, 256), (2, 512)),\n",
        "                       lr, num_classes)\n",
        "\n",
        "ResNet18().layer_summary((1, 1, 96, 96))"
      ]
    },
    {
      "cell_type": "markdown",
      "metadata": {
        "id": "m-Xn5c9j7dL-"
      },
      "source": [
        "## **Training**"
      ]
    },
    {
      "cell_type": "code",
      "execution_count": null,
      "metadata": {
        "id": "Ucj4FBjo7bM7"
      },
      "outputs": [],
      "source": [
        "model = ResNet18(lr=0.01)\n",
        "trainer = d2l.Trainer(max_epochs=10, num_gpus=1)\n",
        "data = d2l.FashionMNIST(batch_size=128, resize=(96, 96))\n",
        "model.apply_init([next(iter(data.get_dataloader(True)))[0]], d2l.init_cnn)\n",
        "trainer.fit(model, data)"
      ]
    },
    {
      "cell_type": "markdown",
      "metadata": {
        "id": "PEPs4GNK7iO3"
      },
      "source": [
        "## **ResNeXt**"
      ]
    },
    {
      "cell_type": "code",
      "execution_count": null,
      "metadata": {
        "id": "K8Q5NtSS7f2z"
      },
      "outputs": [],
      "source": [
        "class ResNeXtBlock(nn.Module):\n",
        "    \"\"\"The ResNeXt block.\"\"\"\n",
        "    def __init__(self, num_channels, groups, bot_mul, use_1x1conv=False,\n",
        "                 strides=1):\n",
        "        super().__init__()\n",
        "        bot_channels = int(round(num_channels * bot_mul))\n",
        "        self.conv1 = nn.LazyConv2d(bot_channels, kernel_size=1, stride=1)\n",
        "        self.conv2 = nn.LazyConv2d(bot_channels, kernel_size=3,\n",
        "                                   stride=strides, padding=1,\n",
        "                                   groups=bot_channels//groups)\n",
        "        self.conv3 = nn.LazyConv2d(num_channels, kernel_size=1, stride=1)\n",
        "        self.bn1 = nn.LazyBatchNorm2d()\n",
        "        self.bn2 = nn.LazyBatchNorm2d()\n",
        "        self.bn3 = nn.LazyBatchNorm2d()\n",
        "        if use_1x1conv:\n",
        "            self.conv4 = nn.LazyConv2d(num_channels, kernel_size=1,\n",
        "                                       stride=strides)\n",
        "            self.bn4 = nn.LazyBatchNorm2d()\n",
        "        else:\n",
        "            self.conv4 = None\n",
        "\n",
        "    def forward(self, X):\n",
        "        Y = F.relu(self.bn1(self.conv1(X)))\n",
        "        Y = F.relu(self.bn2(self.conv2(Y)))\n",
        "        Y = self.bn3(self.conv3(Y))\n",
        "        if self.conv4:\n",
        "            X = self.bn4(self.conv4(X))\n",
        "        return F.relu(Y + X)"
      ]
    },
    {
      "cell_type": "code",
      "execution_count": null,
      "metadata": {
        "id": "Z4GlsCXZ7lYg"
      },
      "outputs": [],
      "source": [
        "blk = ResNeXtBlock(32, 16, 1)\n",
        "X = torch.randn(4, 32, 96, 96)\n",
        "blk(X).shape"
      ]
    },
    {
      "cell_type": "markdown",
      "metadata": {
        "id": "2pTSKJVkJvwS"
      },
      "source": [
        "## **Exercises**\n",
        "\n",
        "1. What are the major differences between the Inception block in :numref:`fig_inception` and the residual block? How do they compare in terms of computation, accuracy, and the classes of functions they can describe?\n",
        "1. Refer to Table 1 in the ResNet paper :cite:`He.Zhang.Ren.ea.2016` to implement different variants of the network.\n",
        "1. For deeper networks, ResNet introduces a \"bottleneck\" architecture to reduce model complexity. Try to implement it.\n",
        "1. In subsequent versions of ResNet, the authors changed the \"convolution, batch normalization, and activation\" structure to the \"batch normalization, activation, and convolution\" structure. Make this improvement yourself. See Figure 1 in :citet:`He.Zhang.Ren.ea.2016*1` for details.\n",
        "1. Why can't we just increase the complexity of functions without bound, even if the function classes are nested?\n"
      ]
    },
    {
      "cell_type": "markdown",
      "metadata": {
        "id": "ZQ4vMMhsJ5vI"
      },
      "source": [
        "## **Exercises Solution**"
      ]
    },
    {
      "cell_type": "markdown",
      "metadata": {
        "id": "1thO9dxSbXnk"
      },
      "source": [
        "1. the Inception block and the residual block have different design philosophies: the Inception block focuses on capturing multi-scale information through parallel convolutions, while the residual block aims to address the vanishing gradient problem and facilitate the learning of deep networks by preserving information through skip connections. In terms of computation, the Inception block can be more computationally intensive, but it provides flexibility in feature extraction, while the residual block is more efficient and suitable for very deep architectures. In terms of the functions they can describe, the Inception block is better at capturing diverse spatial features, whereas the residual block excels at learning refined features and deep representations."
      ]
    },
    {
      "cell_type": "markdown",
      "metadata": {
        "id": "8UlLyF1Wbtuy"
      },
      "source": [
        "2."
      ]
    },
    {
      "cell_type": "code",
      "execution_count": null,
      "metadata": {
        "id": "AuZ-IJwpbuTB"
      },
      "outputs": [],
      "source": [
        "# Define the Basic Block used for ResNet-18 and ResNet-34\n",
        "class BasicBlock(nn.Module):\n",
        "    expansion = 1  # No expansion in basic block\n",
        "\n",
        "    def __init__(self, in_channels, out_channels, stride=1, downsample=None):\n",
        "        super(BasicBlock, self).__init__()\n",
        "        # First 3x3 convolution\n",
        "        self.conv1 = nn.Conv2d(in_channels, out_channels, kernel_size=3, stride=stride, padding=1, bias=False)\n",
        "        self.bn1 = nn.BatchNorm2d(out_channels)\n",
        "        # Second 3x3 convolution\n",
        "        self.conv2 = nn.Conv2d(out_channels, out_channels, kernel_size=3, padding=1, bias=False)\n",
        "        self.bn2 = nn.BatchNorm2d(out_channels)\n",
        "        self.relu = nn.ReLU(inplace=True)\n",
        "        self.downsample = downsample  # Optional downsample for residual connection\n",
        "\n",
        "    def forward(self, x):\n",
        "        identity = x\n",
        "        if self.downsample is not None:\n",
        "            identity = self.downsample(x)\n",
        "\n",
        "        out = self.conv1(x)\n",
        "        out = self.bn1(out)\n",
        "        out = self.relu(out)\n",
        "\n",
        "        out = self.conv2(out)\n",
        "        out = self.bn2(out)\n",
        "\n",
        "        out += identity\n",
        "        out = self.relu(out)\n",
        "        return out\n",
        "\n",
        "# Define the Bottleneck Block used for deeper ResNet architectures\n",
        "class BottleneckBlock(nn.Module):\n",
        "    expansion = 4  # Expansion factor for the output channels\n",
        "\n",
        "    def __init__(self, in_channels, out_channels, stride=1, downsample=None):\n",
        "        super(BottleneckBlock, self).__init__()\n",
        "        # 1x1 convolution for reduction\n",
        "        self.conv1 = nn.Conv2d(in_channels, out_channels, kernel_size=1, bias=False)\n",
        "        self.bn1 = nn.BatchNorm2d(out_channels)\n",
        "        # 3x3 convolution for spatial feature extraction\n",
        "        self.conv2 = nn.Conv2d(out_channels, out_channels, kernel_size=3, stride=stride, padding=1, bias=False)\n",
        "        self.bn2 = nn.BatchNorm2d(out_channels)\n",
        "        # 1x1 convolution for restoring channel depth\n",
        "        self.conv3 = nn.Conv2d(out_channels, out_channels * self.expansion, kernel_size=1, bias=False)\n",
        "        self.bn3 = nn.BatchNorm2d(out_channels * self.expansion)\n",
        "        self.relu = nn.ReLU(inplace=True)\n",
        "        self.downsample = downsample  # Optional downsample for residual connection\n",
        "\n",
        "    def forward(self, x):\n",
        "        identity = x\n",
        "        if self.downsample is not None:\n",
        "            identity = self.downsample(x)\n",
        "\n",
        "        out = self.conv1(x)\n",
        "        out = self.bn1(out)\n",
        "        out = self.relu(out)\n",
        "\n",
        "        out = self.conv2(out)\n",
        "        out = self.bn2(out)\n",
        "        out = self.relu(out)\n",
        "\n",
        "        out = self.conv3(out)\n",
        "        out = self.bn3(out)\n",
        "\n",
        "        out += identity\n",
        "        out = self.relu(out)\n",
        "        return out\n",
        "\n",
        "# Define the ResNet model class that combines the blocks into layers\n",
        "class ResNet(nn.Module):\n",
        "    def __init__(self, block, layers, num_classes=1000):\n",
        "        super(ResNet, self).__init__()\n",
        "        self.in_channels = 64\n",
        "\n",
        "        # Initial convolution and pooling layers\n",
        "        self.conv1 = nn.Conv2d(3, self.in_channels, kernel_size=7, stride=2, padding=3, bias=False)\n",
        "        self.bn1 = nn.BatchNorm2d(self.in_channels)\n",
        "        self.relu = nn.ReLU(inplace=True)\n",
        "        self.maxpool = nn.MaxPool2d(kernel_size=3, stride=2, padding=1)\n",
        "\n",
        "        # Create ResNet layers\n",
        "        self.layer1 = self._make_layer(block, 64, layers[0])   # conv2_x\n",
        "        self.layer2 = self._make_layer(block, 128, layers[1], stride=2)  # conv3_x\n",
        "        self.layer3 = self._make_layer(block, 256, layers[2], stride=2)  # conv4_x\n",
        "        self.layer4 = self._make_layer(block, 512, layers[3], stride=2)  # conv5_x\n",
        "\n",
        "        # Final pooling and fully connected layer\n",
        "        self.avgpool = nn.AdaptiveAvgPool2d((1, 1))\n",
        "        self.fc = nn.Linear(512 * block.expansion, num_classes)\n",
        "\n",
        "    def _make_layer(self, block, out_channels, blocks, stride=1):\n",
        "        # Create a ResNet layer with the given number of blocks\n",
        "        downsample = None\n",
        "        if stride != 1 or self.in_channels != out_channels * block.expansion:\n",
        "            downsample = nn.Sequential(\n",
        "                nn.Conv2d(self.in_channels, out_channels * block.expansion, kernel_size=1, stride=stride, bias=False),\n",
        "                nn.BatchNorm2d(out_channels * block.expansion),\n",
        "            )\n",
        "\n",
        "        layers = []\n",
        "        layers.append(block(self.in_channels, out_channels, stride, downsample))  # First block\n",
        "        self.in_channels = out_channels * block.expansion  # Update in_channels\n",
        "\n",
        "        for _ in range(1, blocks):\n",
        "            layers.append(block(self.in_channels, out_channels))  # Remaining blocks\n",
        "\n",
        "        return nn.Sequential(*layers)\n",
        "\n",
        "    def forward(self, x):\n",
        "        x = self.conv1(x)\n",
        "        x = self.bn1(x)\n",
        "        x = self.relu(x)\n",
        "        x = self.maxpool(x)\n",
        "\n",
        "        x = self.layer1(x)\n",
        "        x = self.layer2(x)\n",
        "        x = self.layer3(x)\n",
        "        x = self.layer4(x)\n",
        "\n",
        "        x = self.avgpool(x)\n",
        "        x = torch.flatten(x, 1)\n",
        "        x = self.fc(x)\n",
        "        return x\n",
        "\n",
        "# Functions to create different ResNet variants\n",
        "def resnet18(num_classes=1000):\n",
        "    return ResNet(BasicBlock, [2, 2, 2, 2], num_classes)\n",
        "\n",
        "def resnet34(num_classes=1000):\n",
        "    return ResNet(BasicBlock, [3, 4, 6, 3], num_classes)\n",
        "\n",
        "def resnet50(num_classes=1000):\n",
        "    return ResNet(BottleneckBlock, [3, 4, 6, 3], num_classes)\n",
        "\n",
        "def resnet101(num_classes=1000):\n",
        "    return ResNet(BottleneckBlock, [3, 4, 23, 3], num_classes)\n",
        "\n",
        "def resnet152(num_classes=1000):\n",
        "    return ResNet(BottleneckBlock, [3, 8, 36, 3], num_classes)\n",
        "\n",
        "# Testing the implementation with a dummy input\n",
        "if __name__ == \"__main__\":\n",
        "    # Create ResNet-50 and print the architecture\n",
        "    model = resnet50()\n",
        "    print(model)\n",
        "\n",
        "    # Test with a dummy input tensor of shape [1, 3, 224, 224]\n",
        "    dummy_input = torch.randn(1, 3, 224, 224)\n",
        "    output = model(dummy_input)\n",
        "    print(f\"Output shape: {output.shape}\")  # Should be [1, 1000] for 1000 ImageNet\n"
      ]
    },
    {
      "cell_type": "markdown",
      "metadata": {
        "id": "Nfk92-Wlb6hL"
      },
      "source": [
        "3."
      ]
    },
    {
      "cell_type": "code",
      "execution_count": null,
      "metadata": {
        "id": "aAb0eS9Xb7Cw"
      },
      "outputs": [],
      "source": [
        "# Define the Bottleneck Block used in deeper ResNet variants like ResNet-50, ResNet-101, and ResNet-152\n",
        "class BottleneckBlock(nn.Module):\n",
        "    # Each bottleneck block has an expansion factor of 4\n",
        "    expansion = 4\n",
        "\n",
        "    def __init__(self, in_channels, out_channels, stride=1, downsample=None):\n",
        "        \"\"\"\n",
        "        Initializes a bottleneck block.\n",
        "\n",
        "        Parameters:\n",
        "        - in_channels: Number of input channels.\n",
        "        - out_channels: Number of output channels.\n",
        "        - stride: Stride for the first convolutional layer in the block.\n",
        "        - downsample: Downsample layer to match dimensions of the input and output (if necessary).\n",
        "        \"\"\"\n",
        "        super(BottleneckBlock, self).__init__()\n",
        "        # 1x1 Convolution (Dimensionality Reduction)\n",
        "        self.conv1 = nn.Conv2d(in_channels, out_channels, kernel_size=1, bias=False)\n",
        "        self.bn1 = nn.BatchNorm2d(out_channels)\n",
        "\n",
        "        # 3x3 Convolution (Feature Extraction)\n",
        "        self.conv2 = nn.Conv2d(out_channels, out_channels, kernel_size=3, stride=stride, padding=1, bias=False)\n",
        "        self.bn2 = nn.BatchNorm2d(out_channels)\n",
        "\n",
        "        # 1x1 Convolution (Dimensionality Restoration)\n",
        "        self.conv3 = nn.Conv2d(out_channels, out_channels * self.expansion, kernel_size=1, bias=False)\n",
        "        self.bn3 = nn.BatchNorm2d(out_channels * self.expansion)\n",
        "\n",
        "        self.relu = nn.ReLU(inplace=True)\n",
        "        self.downsample = downsample  # Downsample layer for matching input-output dimensions\n",
        "\n",
        "    def forward(self, x):\n",
        "        identity = x\n",
        "\n",
        "        # 1x1 Convolution (Reduction)\n",
        "        out = self.conv1(x)\n",
        "        out = self.bn1(out)\n",
        "        out = self.relu(out)\n",
        "\n",
        "        # 3x3 Convolution (Spatial Feature Extraction)\n",
        "        out = self.conv2(out)\n",
        "        out = self.bn2(out)\n",
        "        out = self.relu(out)\n",
        "\n",
        "        # 1x1 Convolution (Restoration)\n",
        "        out = self.conv3(out)\n",
        "        out = self.bn3(out)\n",
        "\n",
        "        # If downsample is specified, apply it to match dimensions\n",
        "        if self.downsample is not None:\n",
        "            identity = self.downsample(x)\n",
        "\n",
        "        # Add the skip connection (identity mapping)\n",
        "        out += identity\n",
        "        out = self.relu(out)\n",
        "        return out\n",
        "\n",
        "# Example Usage: Implement a ResNet Layer using Bottleneck Blocks\n",
        "class ResNetBottleneck(nn.Module):\n",
        "    def __init__(self, layers, num_classes=1000):\n",
        "        \"\"\"\n",
        "        Initializes a simple ResNet architecture using Bottleneck blocks.\n",
        "\n",
        "        Parameters:\n",
        "        - layers: List defining the number of blocks in each layer (e.g., [3, 4, 6, 3] for ResNet-50).\n",
        "        - num_classes: Number of output classes.\n",
        "        \"\"\"\n",
        "        super(ResNetBottleneck, self).__init__()\n",
        "        self.in_channels = 64  # Initial number of channels after the first convolution\n",
        "\n",
        "        # Initial convolution and pooling layers\n",
        "        self.conv1 = nn.Conv2d(3, self.in_channels, kernel_size=7, stride=2, padding=3, bias=False)\n",
        "        self.bn1 = nn.BatchNorm2d(self.in_channels)\n",
        "        self.relu = nn.ReLU(inplace=True)\n",
        "        self.maxpool = nn.MaxPool2d(kernel_size=3, stride=2, padding=1)\n",
        "\n",
        "        # ResNet layers using Bottleneck blocks\n",
        "        self.layer1 = self._make_layer(BottleneckBlock, 64, layers[0])   # conv2_x\n",
        "        self.layer2 = self._make_layer(BottleneckBlock, 128, layers[1], stride=2)  # conv3_x\n",
        "        self.layer3 = self._make_layer(BottleneckBlock, 256, layers[2], stride=2)  # conv4_x\n",
        "        self.layer4 = self._make_layer(BottleneckBlock, 512, layers[3], stride=2)  # conv5_x\n",
        "\n",
        "        # Average pooling and fully connected layer for classification\n",
        "        self.avgpool = nn.AdaptiveAvgPool2d((1, 1))\n",
        "        self.fc = nn.Linear(512 * BottleneckBlock.expansion, num_classes)\n",
        "\n",
        "    def _make_layer(self, block, out_channels, blocks, stride=1):\n",
        "        \"\"\"Creates a ResNet layer with multiple Bottleneck blocks.\"\"\"\n",
        "        downsample = None\n",
        "        # Define downsample layer if input and output dimensions differ\n",
        "        if stride != 1 or self.in_channels != out_channels * BottleneckBlock.expansion:\n",
        "            downsample = nn.Sequential(\n",
        "                nn.Conv2d(self.in_channels, out_channels * BottleneckBlock.expansion, kernel_size=1, stride=stride, bias=False),\n",
        "                nn.BatchNorm2d(out_channels * BottleneckBlock.expansion),\n",
        "            )\n",
        "\n",
        "        # First block of the layer, applying stride and downsample if needed\n",
        "        layers = [block(self.in_channels, out_channels, stride, downsample)]\n",
        "        self.in_channels = out_channels * BottleneckBlock.expansion  # Update in_channels\n",
        "\n",
        "        # Add remaining blocks in the layer\n",
        "        for _ in range(1, blocks):\n",
        "            layers.append(block(self.in_channels, out_channels))\n",
        "\n",
        "        return nn.Sequential(*layers)\n",
        "\n",
        "    def forward(self, x):\n",
        "        x = self.conv1(x)\n",
        "        x = self.bn1(x)\n",
        "        x = self.relu(x)\n",
        "        x = self.maxpool(x)\n",
        "\n",
        "        x = self.layer1(x)\n",
        "        x = self.layer2(x)\n",
        "        x = self.layer3(x)\n",
        "        x = self.layer4(x)\n",
        "\n",
        "        x = self.avgpool(x)\n",
        "        x = torch.flatten(x, 1)\n",
        "        x = self.fc(x)\n",
        "        return x\n",
        "\n",
        "# Define ResNet-50, ResNet-101, and ResNet-152 using Bottleneck blocks\n",
        "def resnet50(num_classes=1000):\n",
        "    \"\"\"ResNet-50 configuration: [3, 4, 6, 3]\"\"\"\n",
        "    return ResNetBottleneck([3, 4, 6, 3], num_classes)\n",
        "\n",
        "def resnet101(num_classes=1000):\n",
        "    \"\"\"ResNet-101 configuration: [3, 4, 23, 3]\"\"\"\n",
        "    return ResNetBottleneck([3, 4, 23, 3], num_classes)\n",
        "\n",
        "def resnet152(num_classes=1000):\n",
        "    \"\"\"ResNet-152 configuration: [3, 8, 36, 3]\"\"\"\n",
        "    return ResNetBottleneck([3, 8, 36, 3], num_classes)\n",
        "\n",
        "# Testing the implementation with a dummy input\n",
        "if __name__ == \"__main__\":\n",
        "    # Create ResNet-50 and print the architecture\n",
        "    model = resnet50()\n",
        "    print(model)\n",
        "\n",
        "    # Test with a dummy input tensor of shape [1, 3, 224, 224]\n",
        "    dummy_input = torch.randn(1, 3, 224, 224)\n",
        "    output = model(dummy_input)\n",
        "    print(f\"Output shape: {output.shape}\")  # Should be [1, 1000] for 1000 ImageNet classes\n"
      ]
    },
    {
      "cell_type": "markdown",
      "metadata": {
        "id": "exVV96nPcXhx"
      },
      "source": [
        "4."
      ]
    },
    {
      "cell_type": "code",
      "execution_count": null,
      "metadata": {
        "id": "97mc1JqHcYWO"
      },
      "outputs": [],
      "source": [
        "import torch\n",
        "import torch.nn as nn\n",
        "\n",
        "# Define the Pre-activation Basic Block used in newer ResNet architectures (e.g., ResNet-18, ResNet-34)\n",
        "class PreActBasicBlock(nn.Module):\n",
        "    expansion = 1  # No expansion in basic block\n",
        "\n",
        "    def __init__(self, in_channels, out_channels, stride=1, downsample=None):\n",
        "        super(PreActBasicBlock, self).__init__()\n",
        "        # Pre-activation layers: batchnorm → relu → conv\n",
        "        self.bn1 = nn.BatchNorm2d(in_channels)\n",
        "        self.relu = nn.ReLU(inplace=True)\n",
        "        self.conv1 = nn.Conv2d(in_channels, out_channels, kernel_size=3, stride=stride, padding=1, bias=False)\n",
        "\n",
        "        # Second pre-activation: batchnorm → relu → conv\n",
        "        self.bn2 = nn.BatchNorm2d(out_channels)\n",
        "        self.conv2 = nn.Conv2d(out_channels, out_channels, kernel_size=3, padding=1, bias=False)\n",
        "\n",
        "        self.downsample = downsample  # Optional downsample for residual connection\n",
        "\n",
        "    def forward(self, x):\n",
        "        identity = x\n",
        "\n",
        "        # Pre-activation before the first convolution\n",
        "        out = self.bn1(x)\n",
        "        out = self.relu(out)\n",
        "\n",
        "        # If downsampling exists, apply it to identity first (note: position changed)\n",
        "        if self.downsample is not None:\n",
        "            identity = self.downsample(out)\n",
        "\n",
        "        out = self.conv1(out)\n",
        "\n",
        "        # Pre-activation before the second convolution\n",
        "        out = self.bn2(out)\n",
        "        out = self.relu(out)\n",
        "        out = self.conv2(out)\n",
        "\n",
        "        # Add the residual (identity mapping)\n",
        "        out += identity\n",
        "        return out\n",
        "\n",
        "# Define the Pre-activation Bottleneck Block used for deeper ResNet variants\n",
        "class PreActBottleneckBlock(nn.Module):\n",
        "    expansion = 4  # Expansion factor for output channels\n",
        "\n",
        "    def __init__(self, in_channels, out_channels, stride=1, downsample=None):\n",
        "        super(PreActBottleneckBlock, self).__init__()\n",
        "        # Pre-activation: batchnorm → relu → conv (1x1 reduction)\n",
        "        self.bn1 = nn.BatchNorm2d(in_channels)\n",
        "        self.relu = nn.ReLU(inplace=True)\n",
        "        self.conv1 = nn.Conv2d(in_channels, out_channels, kernel_size=1, bias=False)\n",
        "\n",
        "        # Pre-activation: batchnorm → relu → conv (3x3 spatial feature extraction)\n",
        "        self.bn2 = nn.BatchNorm2d(out_channels)\n",
        "        self.conv2 = nn.Conv2d(out_channels, out_channels, kernel_size=3, stride=stride, padding=1, bias=False)\n",
        "\n",
        "        # Pre-activation: batchnorm → relu → conv (1x1 restoration)\n",
        "        self.bn3 = nn.BatchNorm2d(out_channels)\n",
        "        self.conv3 = nn.Conv2d(out_channels, out_channels * self.expansion, kernel_size=1, bias=False)\n",
        "\n",
        "        self.downsample = downsample  # Optional downsample for residual connection\n",
        "\n",
        "    def forward(self, x):\n",
        "        identity = x\n",
        "\n",
        "        # Pre-activation before the first convolution\n",
        "        out = self.bn1(x)\n",
        "        out = self.relu(out)\n",
        "\n",
        "        # If downsampling exists, apply it to identity first (note: position changed)\n",
        "        if self.downsample is not None:\n",
        "            identity = self.downsample(out)\n",
        "\n",
        "        out = self.conv1(out)\n",
        "\n",
        "        # Pre-activation before the second convolution\n",
        "        out = self.bn2(out)\n",
        "        out = self.relu(out)\n",
        "        out = self.conv2(out)\n",
        "\n",
        "        # Pre-activation before the third convolution\n",
        "        out = self.bn3(out)\n",
        "        out = self.relu(out)\n",
        "        out = self.conv3(out)\n",
        "\n",
        "        # Add the residual (identity mapping)\n",
        "        out += identity\n",
        "        return out\n",
        "\n",
        "# Define the ResNet model with Pre-activation blocks\n",
        "class PreActResNet(nn.Module):\n",
        "    def __init__(self, block, layers, num_classes=1000):\n",
        "        super(PreActResNet, self).__init__()\n",
        "        self.in_channels = 64\n",
        "\n",
        "        # Initial convolution and pooling layers\n",
        "        self.conv1 = nn.Conv2d(3, self.in_channels, kernel_size=7, stride=2, padding=3, bias=False)\n",
        "        self.bn1 = nn.BatchNorm2d(self.in_channels)\n",
        "        self.relu = nn.ReLU(inplace=True)\n",
        "        self.maxpool = nn.MaxPool2d(kernel_size=3, stride=2, padding=1)\n",
        "\n",
        "        # Create the Pre-activation ResNet layers\n",
        "        self.layer1 = self._make_layer(block, 64, layers[0])   # conv2_x\n",
        "        self.layer2 = self._make_layer(block, 128, layers[1], stride=2)  # conv3_x\n",
        "        self.layer3 = self._make_layer(block, 256, layers[2], stride=2)  # conv4_x\n",
        "        self.layer4 = self._make_layer(block, 512, layers[3], stride=2)  # conv5_x\n",
        "\n",
        "        # Final pooling and fully connected layer\n",
        "        self.avgpool = nn.AdaptiveAvgPool2d((1, 1))\n",
        "        self.fc = nn.Linear(512 * block.expansion, num_classes)\n",
        "\n",
        "    def _make_layer(self, block, out_channels, blocks, stride=1):\n",
        "        # Create a ResNet layer with the given number of blocks\n",
        "        downsample = None\n",
        "        if stride != 1 or self.in_channels != out_channels * block.expansion:\n",
        "            downsample = nn.Sequential(\n",
        "                nn.Conv2d(self.in_channels, out_channels * block.expansion, kernel_size=1, stride=stride, bias=False),\n",
        "                nn.BatchNorm2d(out_channels * block.expansion),\n",
        "            )\n",
        "\n",
        "        layers = []\n",
        "        layers.append(block(self.in_channels, out_channels, stride, downsample))  # First block\n",
        "        self.in_channels = out_channels * block.expansion  # Update in_channels\n",
        "\n",
        "        for _ in range(1, blocks):\n",
        "            layers.append(block(self.in_channels, out_channels))  # Remaining blocks\n",
        "\n",
        "        return nn.Sequential(*layers)\n",
        "\n",
        "    def forward(self, x):\n",
        "        x = self.conv1(x)\n",
        "        x = self.bn1(x)\n",
        "        x = self.relu(x)\n",
        "        x = self.maxpool(x)\n",
        "\n",
        "        x = self.layer1(x)\n",
        "        x = self.layer2(x)\n",
        "        x = self.layer3(x)\n",
        "        x = self.layer4(x)\n",
        "\n",
        "        x = self.avgpool(x)\n",
        "        x = torch.flatten(x, 1)\n",
        "        x = self.fc(x)\n",
        "        return x\n",
        "\n",
        "# Functions to create different Pre-activation ResNet variants\n",
        "def preact_resnet18(num_classes=1000):\n",
        "    return PreActResNet(PreActBasicBlock, [2, 2, 2, 2], num_classes)\n",
        "\n",
        "def preact_resnet34(num_classes=1000):\n",
        "    return PreActResNet(PreActBasicBlock, [3, 4, 6, 3], num_classes)\n",
        "\n",
        "def preact_resnet50(num_classes=1000):\n",
        "    return PreActResNet(PreActBottleneckBlock, [3, 4, 6, 3], num_classes)\n",
        "\n",
        "def preact_resnet101(num_classes=1000):\n",
        "    return PreActResNet(PreActBottleneckBlock, [3, 4, 23, 3], num_classes)\n",
        "\n",
        "def preact_resnet152(num_classes=1000):\n",
        "    return PreActResNet(PreActBottleneckBlock, [3, 8, 36, 3], num_classes)\n",
        "\n",
        "# Testing the implementation with a dummy input\n",
        "if __name__ == \"__main__\":\n",
        "    # Create Pre-activation ResNet-50 and print the architecture\n",
        "    model = preact_resnet50()\n",
        "    print(model)\n",
        "\n",
        "    # Test with a dummy input tensor of shape [1, 3, 224, 224]\n",
        "    dummy_input = torch.randn(1, 3, 224, 224)\n",
        "    output = model(dummy_input)\n",
        "    print(f\"Output shape: {output.shape}\")  # Should be [1, 1000] for 1000 ImageNet classes\n"
      ]
    },
    {
      "cell_type": "markdown",
      "metadata": {
        "id": "rIqKz6EtcifK"
      },
      "source": [
        "5. Even if function classes are nested, increasing complexity without bound leads to overfitting, optimization issues, and practical computational constraints. Therefore, while nested function classes provide more expressive power, in practice, it’s crucial to balance complexity with model generalization and training stability. Regularization techniques, constraints on model size, and careful design are necessary to ensure the model performs well in both training and deployment scenarios."
      ]
    },
    {
      "cell_type": "markdown",
      "metadata": {
        "id": "ISsZ2po570Ex"
      },
      "source": [
        "# **Densely Connected Networks (DenseNet)**"
      ]
    },
    {
      "cell_type": "markdown",
      "metadata": {
        "id": "mju7N-5_75-H"
      },
      "source": [
        "## **Dense Blocks**"
      ]
    },
    {
      "cell_type": "code",
      "execution_count": null,
      "metadata": {
        "id": "YmdOo9Sz7pVn"
      },
      "outputs": [],
      "source": [
        "def conv_block(num_channels):\n",
        "    return nn.Sequential(\n",
        "        nn.LazyBatchNorm2d(), nn.ReLU(),\n",
        "        nn.LazyConv2d(num_channels, kernel_size=3, padding=1))"
      ]
    },
    {
      "cell_type": "code",
      "execution_count": null,
      "metadata": {
        "id": "_VLi6iSk78wi"
      },
      "outputs": [],
      "source": [
        "class DenseBlock(nn.Module):\n",
        "    def __init__(self, num_convs, num_channels):\n",
        "        super(DenseBlock, self).__init__()\n",
        "        layer = []\n",
        "        for i in range(num_convs):\n",
        "            layer.append(conv_block(num_channels))\n",
        "        self.net = nn.Sequential(*layer)\n",
        "\n",
        "    def forward(self, X):\n",
        "        for blk in self.net:\n",
        "            Y = blk(X)\n",
        "            # Concatenate input and output of each block along the channels\n",
        "            X = torch.cat((X, Y), dim=1)\n",
        "        return X"
      ]
    },
    {
      "cell_type": "code",
      "execution_count": null,
      "metadata": {
        "id": "ZssXenSB7-By"
      },
      "outputs": [],
      "source": [
        "blk = DenseBlock(2, 10)\n",
        "X = torch.randn(4, 3, 8, 8)\n",
        "Y = blk(X)\n",
        "Y.shape"
      ]
    },
    {
      "cell_type": "markdown",
      "metadata": {
        "id": "XjRBBsS98A12"
      },
      "source": [
        "## **Transition Layers**"
      ]
    },
    {
      "cell_type": "code",
      "execution_count": null,
      "metadata": {
        "id": "QedT35JX7_oY"
      },
      "outputs": [],
      "source": [
        "def transition_block(num_channels):\n",
        "    return nn.Sequential(\n",
        "        nn.LazyBatchNorm2d(), nn.ReLU(),\n",
        "        nn.LazyConv2d(num_channels, kernel_size=1),\n",
        "        nn.AvgPool2d(kernel_size=2, stride=2))"
      ]
    },
    {
      "cell_type": "code",
      "execution_count": null,
      "metadata": {
        "id": "LINbdKGw8Ena"
      },
      "outputs": [],
      "source": [
        "blk = transition_block(10)\n",
        "blk(Y).shape"
      ]
    },
    {
      "cell_type": "markdown",
      "metadata": {
        "id": "H9O4iJf38Gfg"
      },
      "source": [
        "## **DenseNet Model**"
      ]
    },
    {
      "cell_type": "code",
      "execution_count": null,
      "metadata": {
        "id": "pmZSqh_A8Fw9"
      },
      "outputs": [],
      "source": [
        "class DenseNet(d2l.Classifier):\n",
        "    def b1(self):\n",
        "        return nn.Sequential(\n",
        "            nn.LazyConv2d(64, kernel_size=7, stride=2, padding=3),\n",
        "            nn.LazyBatchNorm2d(), nn.ReLU(),\n",
        "            nn.MaxPool2d(kernel_size=3, stride=2, padding=1))"
      ]
    },
    {
      "cell_type": "code",
      "execution_count": null,
      "metadata": {
        "id": "CyNPdBAd8JJ3"
      },
      "outputs": [],
      "source": [
        "@d2l.add_to_class(DenseNet)\n",
        "def __init__(self, num_channels=64, growth_rate=32, arch=(4, 4, 4, 4),\n",
        "             lr=0.1, num_classes=10):\n",
        "    super(DenseNet, self).__init__()\n",
        "    self.save_hyperparameters()\n",
        "    self.net = nn.Sequential(self.b1())\n",
        "    for i, num_convs in enumerate(arch):\n",
        "        self.net.add_module(f'dense_blk{i+1}', DenseBlock(num_convs,\n",
        "                                                          growth_rate))\n",
        "        # The number of output channels in the previous dense block\n",
        "        num_channels += num_convs * growth_rate\n",
        "        # A transition layer that halves the number of channels is added\n",
        "        # between the dense blocks\n",
        "        if i != len(arch) - 1:\n",
        "            num_channels //= 2\n",
        "            self.net.add_module(f'tran_blk{i+1}', transition_block(\n",
        "                num_channels))\n",
        "    self.net.add_module('last', nn.Sequential(\n",
        "        nn.LazyBatchNorm2d(), nn.ReLU(),\n",
        "        nn.AdaptiveAvgPool2d((1, 1)), nn.Flatten(),\n",
        "        nn.LazyLinear(num_classes)))\n",
        "    self.net.apply(d2l.init_cnn)"
      ]
    },
    {
      "cell_type": "markdown",
      "metadata": {
        "id": "SRMfcE4X8L3Q"
      },
      "source": [
        "## **Training**"
      ]
    },
    {
      "cell_type": "code",
      "execution_count": null,
      "metadata": {
        "id": "6HZUiUj78Kdn"
      },
      "outputs": [],
      "source": [
        "model = DenseNet(lr=0.01)\n",
        "trainer = d2l.Trainer(max_epochs=10, num_gpus=1)\n",
        "data = d2l.FashionMNIST(batch_size=128, resize=(96, 96))\n",
        "trainer.fit(model, data)"
      ]
    },
    {
      "cell_type": "markdown",
      "metadata": {
        "id": "3QUWcVsP8Oy1"
      },
      "source": [
        "## **Exercises**\n",
        "\n",
        "1. Why do we use average pooling rather than max-pooling in the transition layer?\n",
        "1. One of the advantages mentioned in the DenseNet paper is that its model parameters are smaller than those of ResNet. Why is this the case?\n",
        "1. One problem for which DenseNet has been criticized is its high memory consumption.\n",
        "    1. Is this really the case? Try to change the input shape to $224\\times 224$ to compare the actual GPU memory consumption empirically.\n",
        "    1. Can you think of an alternative means of reducing the memory consumption? How would you need to change the framework?\n",
        "1. Implement the various DenseNet versions presented in Table 1 of the DenseNet paper :cite:`Huang.Liu.Van-Der-Maaten.ea.2017`.\n",
        "1. Design an MLP-based model by applying the DenseNet idea. Apply it to the housing price prediction task in :numref:`sec_kaggle_house`.\n"
      ]
    },
    {
      "cell_type": "markdown",
      "metadata": {
        "id": "elCF_8EjKEeT"
      },
      "source": [
        "## **Exercises Solution**"
      ]
    },
    {
      "cell_type": "markdown",
      "metadata": {
        "id": "Wj3LzABUcokp"
      },
      "source": [
        "1. average pooling is used in transition layers to achieve a more stable, consistent, and smooth representation of the feature maps, which helps in effective dimensionality reduction and prevents overfitting. It maintains global context, reduces variance, and ensures smoother gradient flow, making it more suitable for transition layers than max-pooling, which can introduce abrupt changes and information loss."
      ]
    },
    {
      "cell_type": "markdown",
      "metadata": {
        "id": "KUsXUUAycya4"
      },
      "source": [
        "2. DenseNet achieves parameter efficiency through:\n",
        "\n",
        "- Dense Connectivity, which encourages feature reuse and reduces redundancy.\n",
        "- Controlled Growth Rate, which limits the number of new features each layer generates.\n",
        "- Efficient Use of Transition Layers, which reduce the number of channels and prevent parameter explosion."
      ]
    },
    {
      "cell_type": "markdown",
      "metadata": {
        "id": "8qt-mWbUdEoN"
      },
      "source": [
        "3. DenseNet’s high memory consumption results from its dense connectivity pattern and the rapid increase in the number of feature maps as layers are concatenated. To reduce memory usage, consider using bottleneck layers, gradient checkpointing, or compressing transition layers. These strategies help balance memory efficiency with model performance, making DenseNet more suitable for deployment in memory-constrained environments."
      ]
    },
    {
      "cell_type": "code",
      "execution_count": null,
      "metadata": {
        "id": "blRbX6M-dFdw"
      },
      "outputs": [],
      "source": [
        "# Function to measure memory usage in MB\n",
        "def get_memory_usage():\n",
        "    process = psutil.Process(os.getpid())\n",
        "    return process.memory_info().rss / 1024 / 1024  # in MB\n",
        "\n",
        "# Initialize a DenseNet model\n",
        "model = models.densenet121(pretrained=False)\n",
        "\n",
        "# Define input shape 224x224 with 3 channels (RGB)\n",
        "input_shape = (1, 3, 224, 224)  # Batch size = 1\n",
        "input_tensor = torch.randn(input_shape)\n",
        "\n",
        "# Measure memory before the model\n",
        "memory_before = get_memory_usage()\n",
        "\n",
        "# Run a forward pass without torch.no_grad() to track full memory usage\n",
        "output = model(input_tensor)\n",
        "\n",
        "# Measure memory after the model\n",
        "memory_after = get_memory_usage()\n",
        "\n",
        "print(f\"Memory usage before model: {memory_before:.2f} MB\")\n",
        "print(f\"Memory usage after model: {memory_after:.2f} MB\")\n",
        "print(f\"Total memory used by the model: {memory_after - memory_before:.2f} MB\")\n"
      ]
    },
    {
      "cell_type": "markdown",
      "metadata": {
        "id": "vE3Jj_qTeq-H"
      },
      "source": [
        "4."
      ]
    },
    {
      "cell_type": "code",
      "execution_count": null,
      "metadata": {
        "id": "ZIbOTnxBeuCt"
      },
      "outputs": [],
      "source": [
        "import torch\n",
        "import torch.nn as nn\n",
        "import torch.nn.functional as F\n",
        "\n",
        "# Basic Dense Layer\n",
        "class _DenseLayer(nn.Module):\n",
        "    def __init__(self, in_channels, growth_rate):\n",
        "        super(_DenseLayer, self).__init__()\n",
        "        self.bn1 = nn.BatchNorm2d(in_channels)\n",
        "        self.relu = nn.ReLU(inplace=True)\n",
        "        self.conv1 = nn.Conv2d(in_channels, 4 * growth_rate, kernel_size=1, bias=False)\n",
        "        self.bn2 = nn.BatchNorm2d(4 * growth_rate)\n",
        "        self.conv2 = nn.Conv2d(4 * growth_rate, growth_rate, kernel_size=3, padding=1, bias=False)\n",
        "\n",
        "    def forward(self, x):\n",
        "        new_features = self.conv2(self.bn2(self.relu(self.conv1(self.bn1(self.relu(x))))))\n",
        "        return torch.cat([x, new_features], 1)\n",
        "\n",
        "# Dense Block\n",
        "class _DenseBlock(nn.Module):\n",
        "    def __init__(self, num_layers, in_channels, growth_rate):\n",
        "        super(_DenseBlock, self).__init__()\n",
        "        self.layers = nn.ModuleList([_DenseLayer(in_channels + i * growth_rate, growth_rate) for i in range(num_layers)])\n",
        "\n",
        "    def forward(self, x):\n",
        "        for layer in self.layers:\n",
        "            x = layer(x)\n",
        "        return x\n",
        "\n",
        "# Transition Layer\n",
        "class _Transition(nn.Module):\n",
        "    def __init__(self, in_channels, out_channels):\n",
        "        super(_Transition, self).__init__()\n",
        "        self.bn = nn.BatchNorm2d(in_channels)\n",
        "        self.relu = nn.ReLU(inplace=True)\n",
        "        self.conv = nn.Conv2d(in_channels, out_channels, kernel_size=1, bias=False)\n",
        "        self.pool = nn.AvgPool2d(kernel_size=2, stride=2)\n",
        "\n",
        "    def forward(self, x):\n",
        "        x = self.pool(self.conv(self.relu(self.bn(x))))\n",
        "        return x\n",
        "\n",
        "# Main DenseNet Model\n",
        "class DenseNet(nn.Module):\n",
        "    def __init__(self, block_config, growth_rate=32, num_init_features=64, num_classes=1000):\n",
        "        super(DenseNet, self).__init__()\n",
        "\n",
        "        # Initial Convolution and Pooling\n",
        "        self.features = nn.Sequential(\n",
        "            nn.Conv2d(3, num_init_features, kernel_size=7, stride=2, padding=3, bias=False),\n",
        "            nn.BatchNorm2d(num_init_features),\n",
        "            nn.ReLU(inplace=True),\n",
        "            nn.MaxPool2d(kernel_size=3, stride=2, padding=1)\n",
        "        )\n",
        "\n",
        "        # Dense Blocks and Transition Layers\n",
        "        num_features = num_init_features\n",
        "        for i, num_layers in enumerate(block_config):\n",
        "            self.features.add_module(f'denseblock{i+1}', _DenseBlock(num_layers, num_features, growth_rate))\n",
        "            num_features = num_features + num_layers * growth_rate\n",
        "            if i != len(block_config) - 1:\n",
        "                self.features.add_module(f'transition{i+1}', _Transition(num_features, num_features // 2))\n",
        "                num_features = num_features // 2\n",
        "\n",
        "        # Final BatchNorm and Linear Layer\n",
        "        self.features.add_module('bn5', nn.BatchNorm2d(num_features))\n",
        "        self.classifier = nn.Linear(num_features, num_classes)\n",
        "\n",
        "    def forward(self, x):\n",
        "        features = self.features(x)\n",
        "        out = F.relu(features, inplace=True)\n",
        "        out = F.adaptive_avg_pool2d(out, (1, 1))\n",
        "        out = torch.flatten(out, 1)\n",
        "        out = self.classifier(out)\n",
        "        return out\n",
        "\n",
        "# Dictionary to hold the configurations for different DenseNet models\n",
        "densenet_configs = {\n",
        "    'densenet121': [6, 12, 24, 16],\n",
        "    'densenet169': [6, 12, 32, 32],\n",
        "    'densenet201': [6, 12, 48, 32],\n",
        "    'densenet264': [6, 12, 64, 48]\n",
        "}\n",
        "\n",
        "# Function to create DenseNet model based on the chosen configuration\n",
        "def get_densenet(model_name='densenet121', num_classes=1000):\n",
        "    config = densenet_configs[model_name]\n",
        "    return DenseNet(config, growth_rate=32, num_init_features=64, num_classes=num_classes)\n",
        "\n",
        "# Example usage\n",
        "model = get_densenet('densenet121')\n",
        "print(model)\n"
      ]
    },
    {
      "cell_type": "markdown",
      "metadata": {
        "id": "fZvcZHtUfDpe"
      },
      "source": [
        "5."
      ]
    },
    {
      "cell_type": "code",
      "execution_count": null,
      "metadata": {
        "id": "s6ek47XcfEZq"
      },
      "outputs": [],
      "source": [
        "# Step 1: Load and preprocess the dataset\n",
        "# Load the dataset\n",
        "url = \"https://raw.githubusercontent.com/ageron/handson-ml2/master/datasets/housing/housing.csv\"\n",
        "housing = pd.read_csv(url)\n",
        "\n",
        "# Preprocessing\n",
        "housing[\"rooms_per_household\"] = housing[\"total_rooms\"] / housing[\"households\"]\n",
        "housing[\"bedrooms_per_room\"] = housing[\"total_bedrooms\"] / housing[\"total_rooms\"]\n",
        "housing[\"population_per_household\"] = housing[\"population\"] / housing[\"households\"]\n",
        "housing = housing.dropna()  # Remove missing values for simplicity\n",
        "\n",
        "# One-hot encoding for categorical features\n",
        "housing = pd.get_dummies(housing, columns=[\"ocean_proximity\"])\n",
        "\n",
        "# Split into features and labels\n",
        "X = housing.drop(\"median_house_value\", axis=1)\n",
        "y = housing[\"median_house_value\"]\n",
        "\n",
        "# Split into training and test sets\n",
        "X_train, X_test, y_train, y_test = train_test_split(X, y, test_size=0.2, random_state=42)\n",
        "\n",
        "# Standardize the data\n",
        "scaler = StandardScaler()\n",
        "X_train = scaler.fit_transform(X_train)\n",
        "X_test = scaler.transform(X_test)\n",
        "\n",
        "# Convert to tensors\n",
        "X_train_tensor = torch.tensor(X_train, dtype=torch.float32)\n",
        "y_train_tensor = torch.tensor(y_train.values, dtype=torch.float32).unsqueeze(1)\n",
        "X_test_tensor = torch.tensor(X_test, dtype=torch.float32)\n",
        "y_test_tensor = torch.tensor(y_test.values, dtype=torch.float32).unsqueeze(1)\n",
        "\n",
        "# Step 2: Define the MLP DenseNet-inspired Model\n",
        "class MLPDenseNet(nn.Module):\n",
        "    def __init__(self, input_dim, growth_rate=32, num_layers=4):\n",
        "        super(MLPDenseNet, self).__init__()\n",
        "        self.growth_rate = growth_rate\n",
        "        self.num_layers = num_layers\n",
        "        self.dense_layers = nn.ModuleList()\n",
        "\n",
        "        # First dense layer\n",
        "        self.dense_layers.append(nn.Linear(input_dim, growth_rate))\n",
        "\n",
        "        # Create subsequent dense layers\n",
        "        for i in range(1, num_layers):\n",
        "            self.dense_layers.append(nn.Linear(growth_rate * i + input_dim, growth_rate))\n",
        "\n",
        "        # Final regression layer\n",
        "        self.output_layer = nn.Linear(growth_rate * num_layers + input_dim, 1)\n",
        "\n",
        "    def forward(self, x):\n",
        "        # Initial input\n",
        "        concat_features = x\n",
        "        for layer in self.dense_layers:\n",
        "            new_features = torch.relu(layer(concat_features))\n",
        "            concat_features = torch.cat([concat_features, new_features], dim=1)  # Concatenate input and new features\n",
        "        # Final prediction\n",
        "        output = self.output_layer(concat_features)\n",
        "        return output\n",
        "\n",
        "# Step 3: Initialize and train the model\n",
        "input_dim = X_train.shape[1]\n",
        "model = MLPDenseNet(input_dim=input_dim, growth_rate=32, num_layers=4)\n",
        "criterion = nn.MSELoss()\n",
        "optimizer = optim.Adam(model.parameters(), lr=0.001)\n",
        "\n",
        "# Training loop\n",
        "num_epochs = 100\n",
        "for epoch in range(num_epochs):\n",
        "    model.train()\n",
        "    optimizer.zero_grad()\n",
        "    outputs = model(X_train_tensor)\n",
        "    loss = criterion(outputs, y_train_tensor)\n",
        "    loss.backward()\n",
        "    optimizer.step()\n",
        "\n",
        "    # Print loss every 10 epochs\n",
        "    if (epoch+1) % 10 == 0:\n",
        "        print(f'Epoch [{epoch+1}/{num_epochs}], Loss: {loss.item():.4f}')\n",
        "\n",
        "# Step 4: Evaluate the model\n",
        "model.eval()\n",
        "with torch.no_grad():\n",
        "    predictions = model(X_test_tensor)\n",
        "    test_loss = mean_squared_error(y_test_tensor, predictions)\n",
        "    print(f'Test MSE: {test_loss:.4f}')\n"
      ]
    },
    {
      "cell_type": "markdown",
      "metadata": {
        "id": "7a57ylbp8aRX"
      },
      "source": [
        "# **Designing Convolution Networks Architectures**"
      ]
    },
    {
      "cell_type": "markdown",
      "metadata": {
        "id": "fBRsDzgc8j2G"
      },
      "source": [
        "## **The AnyNet Design Space**"
      ]
    },
    {
      "cell_type": "code",
      "execution_count": null,
      "metadata": {
        "id": "ckBuVcRl8Oaz"
      },
      "outputs": [],
      "source": [
        "class AnyNet(d2l.Classifier):\n",
        "    def stem(self, num_channels):\n",
        "        return nn.Sequential(\n",
        "            nn.LazyConv2d(num_channels, kernel_size=3, stride=2, padding=1),\n",
        "            nn.LazyBatchNorm2d(), nn.ReLU())"
      ]
    },
    {
      "cell_type": "code",
      "execution_count": null,
      "metadata": {
        "id": "0Gsiq2fq8qez"
      },
      "outputs": [],
      "source": [
        "@d2l.add_to_class(AnyNet)\n",
        "def stage(self, depth, num_channels, groups, bot_mul):\n",
        "    blk = []\n",
        "    for i in range(depth):\n",
        "        if i == 0:\n",
        "            blk.append(d2l.ResNeXtBlock(num_channels, groups, bot_mul,\n",
        "                use_1x1conv=True, strides=2))\n",
        "        else:\n",
        "            blk.append(d2l.ResNeXtBlock(num_channels, groups, bot_mul))\n",
        "    return nn.Sequential(*blk)"
      ]
    },
    {
      "cell_type": "code",
      "execution_count": null,
      "metadata": {
        "id": "Tdn2CEqN8siX"
      },
      "outputs": [],
      "source": [
        "@d2l.add_to_class(AnyNet)\n",
        "def __init__(self, arch, stem_channels, lr=0.1, num_classes=10):\n",
        "    super(AnyNet, self).__init__()\n",
        "    self.save_hyperparameters()\n",
        "    self.net = nn.Sequential(self.stem(stem_channels))\n",
        "    for i, s in enumerate(arch):\n",
        "        self.net.add_module(f'stage{i+1}', self.stage(*s))\n",
        "    self.net.add_module('head', nn.Sequential(\n",
        "        nn.AdaptiveAvgPool2d((1, 1)), nn.Flatten(),\n",
        "        nn.LazyLinear(num_classes)))\n",
        "    self.net.apply(d2l.init_cnn)"
      ]
    },
    {
      "cell_type": "markdown",
      "metadata": {
        "id": "Mc_gb1Dm8xAE"
      },
      "source": [
        "## **RegNet**"
      ]
    },
    {
      "cell_type": "code",
      "execution_count": null,
      "metadata": {
        "id": "oDRYKseB8tnm"
      },
      "outputs": [],
      "source": [
        "class RegNetX32(AnyNet):\n",
        "    def __init__(self, lr=0.1, num_classes=10):\n",
        "        stem_channels, groups, bot_mul = 32, 16, 1\n",
        "        depths, channels = (4, 6), (32, 80)\n",
        "        super().__init__(\n",
        "            ((depths[0], channels[0], groups, bot_mul),\n",
        "             (depths[1], channels[1], groups, bot_mul)),\n",
        "            stem_channels, lr, num_classes)"
      ]
    },
    {
      "cell_type": "code",
      "execution_count": null,
      "metadata": {
        "id": "8IlyNdtp80IP"
      },
      "outputs": [],
      "source": [
        "RegNetX32().layer_summary((1, 1, 96, 96))"
      ]
    },
    {
      "cell_type": "markdown",
      "metadata": {
        "id": "clHDIwOU85-G"
      },
      "source": [
        "## **Training**"
      ]
    },
    {
      "cell_type": "code",
      "execution_count": null,
      "metadata": {
        "id": "dKwAGE5e81I5"
      },
      "outputs": [],
      "source": [
        "model = RegNetX32(lr=0.05)\n",
        "trainer = d2l.Trainer(max_epochs=10, num_gpus=1)\n",
        "data = d2l.FashionMNIST(batch_size=128, resize=(96, 96))\n",
        "trainer.fit(model, data)"
      ]
    },
    {
      "cell_type": "markdown",
      "metadata": {
        "id": "k-Hla-dN9CcT"
      },
      "source": [
        "## **Exercises**\n",
        "\n",
        "1. Increase the number of stages to four. Can you design a deeper RegNetX that performs better?\n",
        "1. De-ResNeXt-ify RegNets by replacing the ResNeXt block with the ResNet block. How does your new model perform?\n",
        "1. Implement multiple instances of a \"VioNet\" family by *violating* the design principles of RegNetX. How do they perform? Which of ($d_i$, $c_i$, $g_i$, $b_i$) is the most important factor?\n",
        "1. Your goal is to design the \"perfect\" MLP. Can you use the design principles introduced above to find good architectures? Is it possible to extrapolate from small to large networks?"
      ]
    },
    {
      "cell_type": "markdown",
      "metadata": {
        "id": "uE5atglvfPdm"
      },
      "source": [
        "## **Exercises Solution**"
      ]
    },
    {
      "cell_type": "markdown",
      "metadata": {
        "id": "B6Ky3aorfbve"
      },
      "source": [
        "1."
      ]
    },
    {
      "cell_type": "code",
      "execution_count": null,
      "metadata": {
        "id": "yTEPy90EKN3v"
      },
      "outputs": [],
      "source": [
        "class RegNetX(nn.Module):\n",
        "    def __init__(self, num_classes=1000):\n",
        "        super(RegNetX, self).__init__()\n",
        "\n",
        "        # Stem layer\n",
        "        self.stem = nn.Conv2d(3, 32, kernel_size=3, stride=2, padding=1, bias=False)\n",
        "        self.stem_bn = nn.BatchNorm2d(32)\n",
        "        self.stem_relu = nn.ReLU(inplace=True)\n",
        "\n",
        "        # Stage 1\n",
        "        self.stage1 = self._make_stage(32, 48, num_blocks=2, stride=2, bottleneck_ratio=1/4)\n",
        "\n",
        "        # Stage 2\n",
        "        self.stage2 = self._make_stage(48, 96, num_blocks=4, stride=2, bottleneck_ratio=1/4)\n",
        "\n",
        "        # Stage 3\n",
        "        self.stage3 = self._make_stage(96, 192, num_blocks=6, stride=2, bottleneck_ratio=1/4)\n",
        "\n",
        "        # Stage 4\n",
        "        self.stage4 = self._make_stage(192, 384, num_blocks=8, stride=2, bottleneck_ratio=1/4)\n",
        "\n",
        "        # Global Average Pooling & Fully Connected\n",
        "        self.avgpool = nn.AdaptiveAvgPool2d((1, 1))\n",
        "        self.fc = nn.Linear(384, num_classes)\n",
        "\n",
        "    def _make_stage(self, in_channels, out_channels, num_blocks, stride, bottleneck_ratio):\n",
        "        layers = []\n",
        "        layers.append(self._make_block(in_channels, out_channels, stride, bottleneck_ratio))\n",
        "        for _ in range(1, num_blocks):\n",
        "            layers.append(self._make_block(out_channels, out_channels, stride=1, bottleneck_ratio=bottleneck_ratio))\n",
        "        return nn.Sequential(*layers)\n",
        "\n",
        "    def _make_block(self, in_channels, out_channels, stride, bottleneck_ratio):\n",
        "        bottleneck_channels = int(out_channels * bottleneck_ratio)\n",
        "        return nn.Sequential(\n",
        "            nn.Conv2d(in_channels, bottleneck_channels, kernel_size=1, stride=1, bias=False),\n",
        "            nn.BatchNorm2d(bottleneck_channels),\n",
        "            nn.ReLU(inplace=True),\n",
        "            nn.Conv2d(bottleneck_channels, bottleneck_channels, kernel_size=3, stride=stride, padding=1, bias=False),\n",
        "            nn.BatchNorm2d(bottleneck_channels),\n",
        "            nn.ReLU(inplace=True),\n",
        "            nn.Conv2d(bottleneck_channels, out_channels, kernel_size=1, stride=1, bias=False),\n",
        "            nn.BatchNorm2d(out_channels),\n",
        "            nn.ReLU(inplace=True)\n",
        "        )\n",
        "\n",
        "    def forward(self, x):\n",
        "        x = self.stem_relu(self.stem_bn(self.stem(x)))\n",
        "        x = self.stage1(x)\n",
        "        x = self.stage2(x)\n",
        "        x = self.stage3(x)\n",
        "        x = self.stage4(x)\n",
        "        x = self.avgpool(x)\n",
        "        x = torch.flatten(x, 1)\n",
        "        x = self.fc(x)\n",
        "        return x\n"
      ]
    },
    {
      "cell_type": "markdown",
      "metadata": {
        "id": "PF4gvB-5fgTZ"
      },
      "source": [
        "2."
      ]
    },
    {
      "cell_type": "code",
      "execution_count": null,
      "metadata": {
        "id": "oaIkIUeEfVyd"
      },
      "outputs": [],
      "source": [
        "class ResNetBlock(nn.Module):\n",
        "    def __init__(self, in_channels, out_channels, stride=1, bottleneck_ratio=1/4):\n",
        "        super(ResNetBlock, self).__init__()\n",
        "        bottleneck_channels = int(out_channels * bottleneck_ratio)\n",
        "\n",
        "        # First 1x1 Convolution\n",
        "        self.conv1 = nn.Conv2d(in_channels, bottleneck_channels, kernel_size=1, stride=1, bias=False)\n",
        "        self.bn1 = nn.BatchNorm2d(bottleneck_channels)\n",
        "\n",
        "        # Standard 3x3 Convolution\n",
        "        self.conv2 = nn.Conv2d(bottleneck_channels, bottleneck_channels, kernel_size=3, stride=stride, padding=1, bias=False)\n",
        "        self.bn2 = nn.BatchNorm2d(bottleneck_channels)\n",
        "\n",
        "        # Second 1x1 Convolution\n",
        "        self.conv3 = nn.Conv2d(bottleneck_channels, out_channels, kernel_size=1, stride=1, bias=False)\n",
        "        self.bn3 = nn.BatchNorm2d(out_channels)\n",
        "\n",
        "        # Skip connection\n",
        "        self.shortcut = nn.Sequential()\n",
        "        if stride != 1 or in_channels != out_channels:\n",
        "            self.shortcut = nn.Sequential(\n",
        "                nn.Conv2d(in_channels, out_channels, kernel_size=1, stride=stride, bias=False),\n",
        "                nn.BatchNorm2d(out_channels)\n",
        "            )\n",
        "\n",
        "        self.relu = nn.ReLU(inplace=True)\n",
        "\n",
        "    def forward(self, x):\n",
        "        out = self.relu(self.bn1(self.conv1(x)))\n",
        "        out = self.relu(self.bn2(self.conv2(out)))\n",
        "        out = self.bn3(self.conv3(out))\n",
        "        out += self.shortcut(x)\n",
        "        out = self.relu(out)\n",
        "        return out\n",
        "\n",
        "class DeResNeXtifiedRegNet(nn.Module):\n",
        "    def __init__(self, num_classes=1000):\n",
        "        super(DeResNeXtifiedRegNet, self).__init__()\n",
        "\n",
        "        # Stem layer\n",
        "        self.stem = nn.Conv2d(3, 32, kernel_size=3, stride=2, padding=1, bias=False)\n",
        "        self.stem_bn = nn.BatchNorm2d(32)\n",
        "        self.stem_relu = nn.ReLU(inplace=True)\n",
        "\n",
        "        # Stage 1\n",
        "        self.stage1 = self._make_stage(32, 48, num_blocks=2, stride=2)\n",
        "\n",
        "        # Stage 2\n",
        "        self.stage2 = self._make_stage(48, 96, num_blocks=4, stride=2)\n",
        "\n",
        "        # Stage 3\n",
        "        self.stage3 = self._make_stage(96, 192, num_blocks=6, stride=2)\n",
        "\n",
        "        # Stage 4\n",
        "        self.stage4 = self._make_stage(192, 384, num_blocks=8, stride=2)\n",
        "\n",
        "        # Global Average Pooling & Fully Connected\n",
        "        self.avgpool = nn.AdaptiveAvgPool2d((1, 1))\n",
        "        self.fc = nn.Linear(384, num_classes)\n",
        "\n",
        "    def _make_stage(self, in_channels, out_channels, num_blocks, stride):\n",
        "        layers = []\n",
        "        layers.append(ResNetBlock(in_channels, out_channels, stride))\n",
        "        for _ in range(1, num_blocks):\n",
        "            layers.append(ResNetBlock(out_channels, out_channels, stride=1))\n",
        "        return nn.Sequential(*layers)\n",
        "\n",
        "    def forward(self, x):\n",
        "        x = self.stem_relu(self.stem_bn(self.stem(x)))\n",
        "        x = self.stage1(x)\n",
        "        x = self.stage2(x)\n",
        "        x = self.stage3(x)\n",
        "        x = self.stage4(x)\n",
        "        x = self.avgpool(x)\n",
        "        x = torch.flatten(x, 1)\n",
        "        x = self.fc(x)\n",
        "        return x\n"
      ]
    },
    {
      "cell_type": "markdown",
      "metadata": {
        "id": "K286Pmmzj_Gv"
      },
      "source": [
        "3."
      ]
    },
    {
      "cell_type": "code",
      "execution_count": null,
      "metadata": {
        "id": "03nfUXcakCod"
      },
      "outputs": [],
      "source": [
        "# Define the custom VioNet block\n",
        "class VioNetBlock(nn.Module):\n",
        "    def __init__(self, in_channels, out_channels, group_width, bottleneck_ratio):\n",
        "        super(VioNetBlock, self).__init__()\n",
        "        # Implement bottleneck block structure with variable group width and bottleneck ratio\n",
        "        mid_channels = int(out_channels * bottleneck_ratio)\n",
        "        self.conv1 = nn.Conv2d(in_channels, mid_channels, kernel_size=1, bias=False)\n",
        "        self.bn1 = nn.BatchNorm2d(mid_channels)\n",
        "        self.conv2 = nn.Conv2d(mid_channels, mid_channels, kernel_size=3, stride=1, padding=1, groups=group_width, bias=False)\n",
        "        self.bn2 = nn.BatchNorm2d(mid_channels)\n",
        "        self.conv3 = nn.Conv2d(mid_channels, out_channels, kernel_size=1, bias=False)\n",
        "        self.bn3 = nn.BatchNorm2d(out_channels)\n",
        "\n",
        "        self.shortcut = nn.Sequential()\n",
        "        if in_channels != out_channels:\n",
        "            self.shortcut = nn.Sequential(\n",
        "                nn.Conv2d(in_channels, out_channels, kernel_size=1, stride=1, bias=False),\n",
        "                nn.BatchNorm2d(out_channels)\n",
        "            )\n",
        "\n",
        "    def forward(self, x):\n",
        "        out = F.relu(self.bn1(self.conv1(x)))\n",
        "        out = F.relu(self.bn2(self.conv2(out)))\n",
        "        out = self.bn3(self.conv3(out))\n",
        "        out += self.shortcut(x)\n",
        "        return F.relu(out)\n",
        "\n",
        "# Define VioNet model with flexible architecture parameters\n",
        "class VioNet(nn.Module):\n",
        "    def __init__(self, num_classes=10, depths=[2, 2, 2], widths=[64, 128, 256], group_widths=[8, 16, 32], bottleneck_ratios=[0.5, 0.5, 0.5]):\n",
        "        super(VioNet, self).__init__()\n",
        "        self.stem = nn.Sequential(\n",
        "            nn.Conv2d(3, widths[0], kernel_size=3, stride=1, padding=1, bias=False),\n",
        "            nn.BatchNorm2d(widths[0]),\n",
        "            nn.ReLU()\n",
        "        )\n",
        "\n",
        "        self.layers = self._make_layers(depths, widths, group_widths, bottleneck_ratios)\n",
        "        self.fc = nn.Linear(widths[-1], num_classes)\n",
        "\n",
        "    def _make_layers(self, depths, widths, group_widths, bottleneck_ratios):\n",
        "        layers = []\n",
        "        in_channels = widths[0]\n",
        "        for i, depth in enumerate(depths):\n",
        "            for _ in range(depth):\n",
        "                layers.append(VioNetBlock(in_channels, widths[i], group_widths[i], bottleneck_ratios[i]))\n",
        "                in_channels = widths[i]\n",
        "        return nn.Sequential(*layers)\n",
        "\n",
        "    def forward(self, x):\n",
        "        out = self.stem(x)\n",
        "        out = self.layers(out)\n",
        "        out = F.avg_pool2d(out, 4)\n",
        "        out = out.view(out.size(0), -1)\n",
        "        out = self.fc(out)\n",
        "        return out\n",
        "\n",
        "# Create multiple instances of VioNet with varying configurations\n",
        "def create_vionet_instances():\n",
        "    # Define configurations violating RegNetX principles\n",
        "    configs = [\n",
        "        {'depths': [1, 3, 4], 'widths': [64, 128, 256], 'group_widths': [16, 32, 64], 'bottleneck_ratios': [0.5, 0.5, 0.5]},\n",
        "        {'depths': [2, 2, 2], 'widths': [32, 128, 512], 'group_widths': [8, 16, 32], 'bottleneck_ratios': [1.0, 1.0, 1.0]},\n",
        "        {'depths': [4, 4, 4], 'widths': [128, 256, 512], 'group_widths': [32, 32, 32], 'bottleneck_ratios': [0.25, 0.25, 0.25]}\n",
        "    ]\n",
        "\n",
        "    models = []\n",
        "    for config in configs:\n",
        "        model = VioNet(depths=config['depths'], widths=config['widths'], group_widths=config['group_widths'], bottleneck_ratios=config['bottleneck_ratios'])\n",
        "        models.append(model)\n",
        "\n",
        "    return models\n",
        "\n",
        "# Example usage: create multiple VioNet models\n",
        "vionet_models = create_vionet_instances()\n",
        "\n",
        "# Print model summaries to verify configurations\n",
        "for i, model in enumerate(vionet_models):\n",
        "    print(f\"VioNet Model {i+1} Configuration:\")\n",
        "    print(model)\n"
      ]
    },
    {
      "cell_type": "markdown",
      "metadata": {
        "id": "UcqtHbehk0ss"
      },
      "source": [
        "4."
      ]
    },
    {
      "cell_type": "code",
      "execution_count": null,
      "metadata": {
        "id": "exE7kGEPkzPh"
      },
      "outputs": [],
      "source": [
        "# Create a simple synthetic dataset for testing purposes\n",
        "def create_synthetic_data(n_samples=1000, input_dim=100, num_classes=10):\n",
        "    X = np.random.randn(n_samples, input_dim).astype(np.float32)\n",
        "    y = np.random.randint(0, num_classes, size=n_samples).astype(np.int64)\n",
        "    return torch.tensor(X), torch.tensor(y)\n",
        "\n",
        "# Define the MLP architecture with customizable depth and width\n",
        "class CustomMLP(nn.Module):\n",
        "    def __init__(self, input_dim=100, num_classes=10, depths=[3], widths=[256], bottleneck_ratios=None, dropout=0.1):\n",
        "        super(CustomMLP, self).__init__()\n",
        "\n",
        "        if len(depths) != len(widths):\n",
        "            raise ValueError(\"Length of depths and widths must be the same\")\n",
        "\n",
        "        self.layers = nn.ModuleList()\n",
        "        current_dim = input_dim\n",
        "\n",
        "        for i in range(len(depths)):\n",
        "            depth = depths[i]\n",
        "            width = widths[i]\n",
        "\n",
        "            for _ in range(depth):\n",
        "                self.layers.append(nn.Linear(current_dim, width))\n",
        "                self.layers.append(nn.ReLU())\n",
        "                self.layers.append(nn.Dropout(dropout))\n",
        "                current_dim = width\n",
        "\n",
        "            if bottleneck_ratios:\n",
        "                bottleneck_dim = int(width * bottleneck_ratios[i])\n",
        "                self.layers.append(nn.Linear(width, bottleneck_dim))\n",
        "                self.layers.append(nn.ReLU())\n",
        "                self.layers.append(nn.Linear(bottleneck_dim, width))\n",
        "                current_dim = width\n",
        "\n",
        "        self.output_layer = nn.Linear(current_dim, num_classes)\n",
        "\n",
        "    def forward(self, x):\n",
        "        for layer in self.layers:\n",
        "            x = layer(x)\n",
        "        x = self.output_layer(x)\n",
        "        return x\n",
        "\n",
        "# Training and evaluation function\n",
        "def train_and_evaluate(model, train_loader, val_loader, num_epochs=10, lr=0.001):\n",
        "    optimizer = optim.Adam(model.parameters(), lr=lr)\n",
        "    criterion = nn.CrossEntropyLoss()\n",
        "\n",
        "    for epoch in range(num_epochs):\n",
        "        model.train()\n",
        "        for X, y in train_loader:\n",
        "            optimizer.zero_grad()\n",
        "            outputs = model(X)\n",
        "            loss = criterion(outputs, y)\n",
        "            loss.backward()\n",
        "            optimizer.step()\n",
        "\n",
        "        # Validation\n",
        "        model.eval()\n",
        "        correct, total = 0, 0\n",
        "        with torch.no_grad():\n",
        "            for X, y in val_loader:\n",
        "                outputs = model(X)\n",
        "                _, predicted = torch.max(outputs, 1)\n",
        "                total += y.size(0)\n",
        "                correct += (predicted == y).sum().item()\n",
        "\n",
        "        val_acc = correct / total\n",
        "        print(f'Epoch {epoch + 1}/{num_epochs}, Validation Accuracy: {val_acc:.4f}')\n",
        "\n",
        "# Create a dataset and dataloader\n",
        "X, y = create_synthetic_data()\n",
        "dataset = TensorDataset(X, y)\n",
        "train_loader = DataLoader(dataset, batch_size=32, shuffle=True)\n",
        "val_loader = DataLoader(dataset, batch_size=32)\n",
        "\n",
        "# Test a few MLP models with varying configurations\n",
        "mlp_model_1 = CustomMLP(depths=[3, 3, 3], widths=[64, 128, 256], bottleneck_ratios=[0.5, 0.5, 0.5])\n",
        "mlp_model_2 = CustomMLP(depths=[6, 6, 6], widths=[128, 256, 512], bottleneck_ratios=[0.25, 0.25, 0.25])\n",
        "mlp_model_3 = CustomMLP(depths=[4, 4, 4], widths=[256, 512, 1024], bottleneck_ratios=[0.75, 0.75, 0.75])\n",
        "\n",
        "# Evaluate the models\n",
        "for model in [mlp_model_1, mlp_model_2, mlp_model_3]:\n",
        "    print(f\"Training model with configuration: {model}\")\n",
        "    train_and_evaluate(model, train_loader, val_loader)\n"
      ]
    }
  ],
  "metadata": {
    "accelerator": "GPU",
    "colab": {
      "collapsed_sections": [
        "egQD-nMUT9jZ",
        "5UqltslyTgSV",
        "p34UsqJyUWdg",
        "q0ri2-NFH54o",
        "UdCFfO8qI2cE",
        "jowvtKuE46m3",
        "JQ8mrvgf5bJ8",
        "1lCHY9Tc6My8",
        "kBXQdT7o6wjG",
        "ISsZ2po570Ex",
        "7a57ylbp8aRX"
      ],
      "gpuType": "T4",
      "provenance": [],
      "toc_visible": true,
      "authorship_tag": "ABX9TyNzxHfsbJ3lP0Pb/CwLn6uL",
      "include_colab_link": true
    },
    "kernelspec": {
      "display_name": "Python 3",
      "name": "python3"
    },
    "language_info": {
      "name": "python"
    }
  },
  "nbformat": 4,
  "nbformat_minor": 0
}
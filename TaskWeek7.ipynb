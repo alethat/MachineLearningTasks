{
  "nbformat": 4,
  "nbformat_minor": 0,
  "metadata": {
    "colab": {
      "provenance": [],
      "include_colab_link": true
    },
    "kernelspec": {
      "name": "python3",
      "display_name": "Python 3"
    },
    "language_info": {
      "name": "python"
    }
  },
  "cells": [
    {
      "cell_type": "markdown",
      "metadata": {
        "id": "view-in-github",
        "colab_type": "text"
      },
      "source": [
        "<a href=\"https://colab.research.google.com/github/alethat/MachineLearningTasks/blob/main/TaskWeek7.ipynb\" target=\"_parent\"><img src=\"https://colab.research.google.com/assets/colab-badge.svg\" alt=\"Open In Colab\"/></a>"
      ]
    },
    {
      "cell_type": "markdown",
      "source": [
        " # Load the Model Using Both Pipeline and Tokenizer + Model"
      ],
      "metadata": {
        "id": "naylOoMSMStU"
      }
    },
    {
      "cell_type": "code",
      "source": [
        "# Use pipeline as high-level helper\n",
        "from transformers import pipeline\n",
        "\n",
        "# Initialize the pipeline for text classification\n",
        "pipe = pipeline(\"text-classification\", model=\"mrm8488/distilroberta-finetuned-financial-news-sentiment-analysis\")\n",
        "\n",
        "# Predict a sentence\n",
        "sentence = \"The company has announced significant growth in its quarterly earnings.\"\n",
        "result = pipe(sentence)\n",
        "print(f\"Prediction using pipeline: {result}\")\n",
        "\n",
        "# Load model and tokenizer directly\n",
        "from transformers import AutoTokenizer, AutoModelForSequenceClassification\n",
        "\n",
        "tokenizer = AutoTokenizer.from_pretrained(\"mrm8488/distilroberta-finetuned-financial-news-sentiment-analysis\")\n",
        "model = AutoModelForSequenceClassification.from_pretrained(\"mrm8488/distilroberta-finetuned-financial-news-sentiment-analysis\")\n"
      ],
      "metadata": {
        "colab": {
          "base_uri": "https://localhost:8080/"
        },
        "id": "WzBsbRuaHjT_",
        "outputId": "6d85856b-5a3b-4a9c-f7a9-1f19ff9c5430"
      },
      "execution_count": null,
      "outputs": [
        {
          "output_type": "stream",
          "name": "stdout",
          "text": [
            "Prediction using pipeline: [{'label': 'positive', 'score': 0.9996548891067505}]\n"
          ]
        }
      ]
    },
    {
      "cell_type": "markdown",
      "source": [
        "# Create a Synthetic Dataset"
      ],
      "metadata": {
        "id": "EhoI9P9RMZhK"
      }
    },
    {
      "cell_type": "code",
      "source": [
        "# Create a synthetic dataset with predefined sentiment labels\n",
        "synthetic_dataset = [\n",
        "    (\"The company’s profits have exceeded expectations for the second quarter.\", \"positive\"),\n",
        "    (\"The stock market crashed today, causing panic among investors.\", \"negative\"),\n",
        "    (\"The earnings report showed mixed results, leaving investors uncertain.\", \"neutral\"),\n",
        "    (\"The CEO resigned amid financial controversy, causing a drop in stock prices.\", \"negative\"),\n",
        "    (\"The company has announced record growth in its sales this year.\", \"positive\"),\n",
        "    (\"The economic outlook remains unclear as inflation continues to rise.\", \"neutral\")\n",
        "]"
      ],
      "metadata": {
        "id": "I5-CsQKMHo8F"
      },
      "execution_count": null,
      "outputs": []
    },
    {
      "cell_type": "markdown",
      "source": [
        "# Evaluate the Model on Synthetic Dataset"
      ],
      "metadata": {
        "id": "x9Rk-qNXMdab"
      }
    },
    {
      "cell_type": "code",
      "source": [
        "# Evaluate model using the pipeline and synthetic dataset\n",
        "correct_predictions = 0\n",
        "total_samples = len(synthetic_dataset)\n",
        "\n",
        "for sentence, true_label in synthetic_dataset:\n",
        "    # Get prediction from the pipeline\n",
        "    result = pipe(sentence)\n",
        "    predicted_label = result[0]['label'].lower()\n",
        "\n",
        "    # Check if prediction matches the true label\n",
        "    if predicted_label == true_label:\n",
        "        correct_predictions += 1\n",
        "\n",
        "# Calculate accuracy\n",
        "accuracy = correct_predictions / total_samples\n",
        "print(f\"Model accuracy on synthetic dataset: {accuracy * 100:.2f}%\")"
      ],
      "metadata": {
        "colab": {
          "base_uri": "https://localhost:8080/"
        },
        "id": "_f8qd1VCHqoV",
        "outputId": "8e7c787d-caa7-4b98-d979-a67ad04eca0f"
      },
      "execution_count": null,
      "outputs": [
        {
          "output_type": "stream",
          "name": "stdout",
          "text": [
            "Model accuracy on synthetic dataset: 66.67%\n"
          ]
        }
      ]
    },
    {
      "cell_type": "markdown",
      "source": [
        "#  Implement Attention Transformer"
      ],
      "metadata": {
        "id": "1aLmopBlMibx"
      }
    },
    {
      "cell_type": "code",
      "source": [
        "import torch\n",
        "\n",
        "# Example sentence from the synthetic dataset\n",
        "sentence = \"The company’s profits have exceeded expectations for the second quarter.\"\n",
        "\n",
        "# Tokenize the input\n",
        "inputs = tokenizer(sentence, return_tensors=\"pt\", truncation=True, max_length=512)\n",
        "\n",
        "# Pass the input through the model and enable outputting attention scores\n",
        "outputs = model(**inputs, output_attentions=True)\n",
        "\n",
        "# Extract the attentions from the outputs\n",
        "attentions = outputs.attentions\n",
        "logits = outputs.logits\n",
        "\n",
        "# Check predicted label\n",
        "predicted_label = torch.argmax(logits).item()\n",
        "\n",
        "labels = [\"negative\", \"neutral\", \"positive\"]\n",
        "print(f\"Predicted sentiment: {labels[predicted_label]}\")\n",
        "\n",
        "# Visualize the attention from the last layer\n",
        "last_layer_attentions = attentions[-1]\n",
        "attention_head_0 = last_layer_attentions[0, 0].detach().numpy()\n",
        "\n",
        "import matplotlib.pyplot as plt\n",
        "import seaborn as sns\n",
        "\n",
        "# Plot attention heatmap for the first attention head\n",
        "plt.figure(figsize=(10, 8))\n",
        "sns.heatmap(attention_head_0, cmap=\"viridis\")\n",
        "plt.title(\"Attention Scores for Head 0 (Last Layer)\")\n",
        "plt.show()"
      ],
      "metadata": {
        "colab": {
          "base_uri": "https://localhost:8080/",
          "height": 717
        },
        "id": "VkxZjthEHr_c",
        "outputId": "4161736f-c928-4325-bcbb-8794b54cbf6e"
      },
      "execution_count": null,
      "outputs": [
        {
          "output_type": "stream",
          "name": "stdout",
          "text": [
            "Predicted sentiment: positive\n"
          ]
        },
        {
          "output_type": "display_data",
          "data": {
            "text/plain": [
              "<Figure size 1000x800 with 2 Axes>"
            ],
            "image/png": "[encoded data removed]"
          },
          "metadata": {}
        }
      ]
    },
    {
      "cell_type": "markdown",
      "source": [
        "# Evaluate Accuracy After Using Attention"
      ],
      "metadata": {
        "id": "_b_OUkUBMlJm"
      }
    },
    {
      "cell_type": "code",
      "source": [
        "correct_predictions_attention = 0\n",
        "\n",
        "for sentence, true_label in synthetic_dataset:\n",
        "    # Tokenize the input\n",
        "    inputs = tokenizer(sentence, return_tensors=\"pt\", truncation=True, max_length=512)\n",
        "\n",
        "    # Use the model to predict the sentiment with attention\n",
        "    outputs = model(**inputs, output_attentions=True)\n",
        "    logits = outputs.logits\n",
        "\n",
        "    # Get predicted label\n",
        "    predicted_label = 'positive' if torch.argmax(logits) == 1 else 'negative'\n",
        "\n",
        "    if predicted_label == true_label:\n",
        "        correct_predictions_attention += 1\n",
        "\n",
        "# Calculate accuracy after using attention\n",
        "attention_accuracy = correct_predictions_attention / total_samples\n",
        "print(f\"Model accuracy with attention on synthetic dataset: {attention_accuracy * 100:.2f}%\")"
      ],
      "metadata": {
        "colab": {
          "base_uri": "https://localhost:8080/"
        },
        "id": "uY0O-PUhHvvE",
        "outputId": "98c7bc5d-3201-4f58-9719-74eda8cb5964"
      },
      "execution_count": null,
      "outputs": [
        {
          "output_type": "stream",
          "name": "stdout",
          "text": [
            "Model accuracy with attention on synthetic dataset: 33.33%\n"
          ]
        }
      ]
    },
    {
      "cell_type": "markdown",
      "source": [
        "# Compare Results"
      ],
      "metadata": {
        "id": "e6hX68OMMnia"
      }
    },
    {
      "cell_type": "code",
      "source": [
        "print(f\"Original Model Accuracy: {accuracy * 100:.2f}%\")\n",
        "print(f\"Model Accuracy with Attention: {attention_accuracy * 100:.2f}%\")\n",
        "\n",
        "if accuracy == attention_accuracy:\n",
        "    print(\"The model's accuracy is unchanged with or without attention extraction.\")\n",
        "else:\n",
        "    print(\"The model's accuracy has changed after extracting attention.\")"
      ],
      "metadata": {
        "colab": {
          "base_uri": "https://localhost:8080/"
        },
        "id": "2hCyJ8axMBwt",
        "outputId": "18b59bfa-3238-4ac7-9ffd-b4c98ab53738"
      },
      "execution_count": null,
      "outputs": [
        {
          "output_type": "stream",
          "name": "stdout",
          "text": [
            "Original Model Accuracy: 66.67%\n",
            "Model Accuracy with Attention: 33.33%\n",
            "The model's accuracy has changed after extracting attention.\n"
          ]
        }
      ]
    }
  ]
}